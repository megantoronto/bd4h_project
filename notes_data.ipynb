{
 "cells": [
  {
   "cell_type": "markdown",
   "id": "infectious-statement",
   "metadata": {},
   "source": [
    "# Creating a Notes Sentiment Score"
   ]
  },
  {
   "cell_type": "markdown",
   "id": "adequate-concert",
   "metadata": {},
   "source": [
    "#### Configure Spark and import all necessary libraries"
   ]
  },
  {
   "cell_type": "code",
   "execution_count": 171,
   "id": "successful-thermal",
   "metadata": {},
   "outputs": [
    {
     "name": "stdout",
     "output_type": "stream",
     "text": [
      "Starting Spark application\n"
     ]
    },
    {
     "data": {
      "text/html": [
       "<table>\n",
       "<tr><th>ID</th><th>YARN Application ID</th><th>Kind</th><th>State</th><th>Spark UI</th><th>Driver log</th><th>User</th><th>Current session?</th></tr><tr><td>1</td><td>application_1618550986815_0002</td><td>pyspark</td><td>idle</td><td><a target=\"_blank\" href=\"http://ip-172-31-52-74.ec2.internal:20888/proxy/application_1618550986815_0002/\">Link</a></td><td><a target=\"_blank\" href=\"http://ip-172-31-55-28.ec2.internal:8042/node/containerlogs/container_1618550986815_0002_01_000001/livy\">Link</a></td><td>None</td><td>✔</td></tr></table>"
      ],
      "text/plain": [
       "<IPython.core.display.HTML object>"
      ]
     },
     "metadata": {},
     "output_type": "display_data"
    },
    {
     "data": {
      "application/vnd.jupyter.widget-view+json": {
       "model_id": "f4c2abdb5f104e0184041ecd44b632aa",
       "version_major": 2,
       "version_minor": 0
      },
      "text/plain": [
       "FloatProgress(value=0.0, bar_style='info', description='Progress:', layout=Layout(height='25px', width='50%'),…"
      ]
     },
     "metadata": {},
     "output_type": "display_data"
    },
    {
     "name": "stdout",
     "output_type": "stream",
     "text": [
      "SparkSession available as 'spark'.\n"
     ]
    },
    {
     "data": {
      "text/html": [
       "Current session configs: <tt>{'conf': {'spark.pyspark.python': 'python3', 'spark.pyspark.virtualenv.enabled': 'true', 'spark.pyspark.virtualenv.type': 'native', 'spark.pyspark.virtualenv.bin.path': '/usr/bin/virtualenv'}, 'kind': 'pyspark'}</tt><br>"
      ],
      "text/plain": [
       "<IPython.core.display.HTML object>"
      ]
     },
     "metadata": {},
     "output_type": "display_data"
    },
    {
     "data": {
      "text/html": [
       "<table>\n",
       "<tr><th>ID</th><th>YARN Application ID</th><th>Kind</th><th>State</th><th>Spark UI</th><th>Driver log</th><th>User</th><th>Current session?</th></tr><tr><td>1</td><td>application_1618550986815_0002</td><td>pyspark</td><td>idle</td><td><a target=\"_blank\" href=\"http://ip-172-31-52-74.ec2.internal:20888/proxy/application_1618550986815_0002/\">Link</a></td><td><a target=\"_blank\" href=\"http://ip-172-31-55-28.ec2.internal:8042/node/containerlogs/container_1618550986815_0002_01_000001/livy\">Link</a></td><td>None</td><td>✔</td></tr></table>"
      ],
      "text/plain": [
       "<IPython.core.display.HTML object>"
      ]
     },
     "metadata": {},
     "output_type": "display_data"
    }
   ],
   "source": [
    "%%configure -f\n",
    "{ \"conf\":{\n",
    "          \"spark.pyspark.python\": \"python3\",\n",
    "          \"spark.pyspark.virtualenv.enabled\": \"true\",\n",
    "          \"spark.pyspark.virtualenv.type\":\"native\",\n",
    "          \"spark.pyspark.virtualenv.bin.path\":\"/usr/bin/virtualenv\"\n",
    "         }\n",
    "}"
   ]
  },
  {
   "cell_type": "code",
   "execution_count": 173,
   "id": "wound-renaissance",
   "metadata": {},
   "outputs": [
    {
     "data": {
      "application/vnd.jupyter.widget-view+json": {
       "model_id": "9c738ed2d61e4f5dafe9aee3e7d8d4e4",
       "version_major": 2,
       "version_minor": 0
      },
      "text/plain": [
       "FloatProgress(value=0.0, bar_style='info', description='Progress:', layout=Layout(height='25px', width='50%'),…"
      ]
     },
     "metadata": {},
     "output_type": "display_data"
    },
    {
     "name": "stderr",
     "output_type": "stream",
     "text": [
      "An error was encountered:\n",
      "Package already installed for current Spark context!\n",
      "Traceback (most recent call last):\n",
      "  File \"/usr/lib/spark/python/lib/pyspark.zip/pyspark/context.py\", line 1110, in install_pypi_package\n",
      "    raise ValueError(\"Package already installed for current Spark context!\")\n",
      "ValueError: Package already installed for current Spark context!\n",
      "\n"
     ]
    }
   ],
   "source": [
    "sc.install_pypi_package(\"vaderSentiment\")\n",
    "sc.install_pypi_package(\"pandas\")"
   ]
  },
  {
   "cell_type": "code",
   "execution_count": 3,
   "id": "conditional-simple",
   "metadata": {},
   "outputs": [
    {
     "data": {
      "application/vnd.jupyter.widget-view+json": {
       "model_id": "8da7f7ab175e41f481a57aab86540b11",
       "version_major": 2,
       "version_minor": 0
      },
      "text/plain": [
       "FloatProgress(value=0.0, bar_style='info', description='Progress:', layout=Layout(height='25px', width='50%'),…"
      ]
     },
     "metadata": {},
     "output_type": "display_data"
    },
    {
     "name": "stdout",
     "output_type": "stream",
     "text": [
      "Uninstalling setuptools-28.8.0:\n",
      "  Successfully uninstalled setuptools-28.8.0\n",
      "\n",
      "Collecting setuptools==54.0.0\n",
      "  Downloading https://files.pythonhosted.org/packages/70/06/849cc805ac6332210083f2114a95b22ee252ce81ed4e1be4f1d2b87c9108/setuptools-54.0.0-py3-none-any.whl (784kB)\n",
      "Installing collected packages: setuptools\n",
      "  Found existing installation: setuptools 38.4.0\n",
      "    Not uninstalling setuptools at /usr/lib/python3.7/site-packages, outside environment /tmp/1618553487780-0\n",
      "Successfully installed setuptools-54.0.0"
     ]
    }
   ],
   "source": [
    "sc.uninstall_package(\"setuptools\")\n",
    "sc.install_pypi_package(\"setuptools==54.0.0\")"
   ]
  },
  {
   "cell_type": "code",
   "execution_count": 184,
   "id": "intelligent-excerpt",
   "metadata": {},
   "outputs": [
    {
     "data": {
      "application/vnd.jupyter.widget-view+json": {
       "model_id": "5a55b233065a41c1953d5fdc7d50c5b4",
       "version_major": 2,
       "version_minor": 0
      },
      "text/plain": [
       "FloatProgress(value=0.0, bar_style='info', description='Progress:', layout=Layout(height='25px', width='50%'),…"
      ]
     },
     "metadata": {},
     "output_type": "display_data"
    },
    {
     "name": "stdout",
     "output_type": "stream",
     "text": [
      "Collecting pyarrow==0.14.1\n",
      "  Using cached https://files.pythonhosted.org/packages/48/ab/8691c96c81e8a8493e26314a99efcdde97b9ed9c1e5cd705e97d15e79502/pyarrow-0.14.1-cp37-cp37m-manylinux1_x86_64.whl\n",
      "Requirement already satisfied: numpy>=1.14 in /usr/local/lib64/python3.7/site-packages (from pyarrow==0.14.1)\n",
      "Requirement already satisfied: six>=1.0.0 in /usr/local/lib/python3.7/site-packages (from pyarrow==0.14.1)\n",
      "Installing collected packages: pyarrow\n",
      "Successfully installed pyarrow-0.14.1"
     ]
    }
   ],
   "source": [
    "sc.install_pypi_package(\"pyarrow==0.14.1\")"
   ]
  },
  {
   "cell_type": "code",
   "execution_count": 185,
   "id": "intensive-defense",
   "metadata": {},
   "outputs": [
    {
     "data": {
      "application/vnd.jupyter.widget-view+json": {
       "model_id": "fde8012114184f3889fa3800f19f6a8f",
       "version_major": 2,
       "version_minor": 0
      },
      "text/plain": [
       "FloatProgress(value=0.0, bar_style='info', description='Progress:', layout=Layout(height='25px', width='50%'),…"
      ]
     },
     "metadata": {},
     "output_type": "display_data"
    },
    {
     "name": "stdout",
     "output_type": "stream",
     "text": [
      "Collecting boto3\n",
      "  Using cached https://files.pythonhosted.org/packages/62/b3/8c889dd3d5ae47a9c4468cc20ef980adc4a16f06f0937ab33f78b58b5eda/boto3-1.17.53-py2.py3-none-any.whl\n",
      "Collecting botocore<1.21.0,>=1.20.53 (from boto3)\n",
      "  Using cached https://files.pythonhosted.org/packages/92/4e/232e261b739534e216f28d935a06c44840221c3476ebcdb411cd0fc2bf16/botocore-1.20.53-py2.py3-none-any.whl\n",
      "Requirement already satisfied: jmespath<1.0.0,>=0.7.1 in /usr/local/lib/python3.7/site-packages (from boto3)\n",
      "Collecting s3transfer<0.4.0,>=0.3.0 (from boto3)\n",
      "  Using cached https://files.pythonhosted.org/packages/00/89/0cb4e92c239e6425b9b0035227b8cdf9d3d098a5c9e95632c3815df63a09/s3transfer-0.3.7-py2.py3-none-any.whl\n",
      "Requirement already satisfied: urllib3<1.27,>=1.25.4 in /mnt/tmp/1618571000232-0/lib/python3.7/site-packages (from botocore<1.21.0,>=1.20.53->boto3)\n",
      "Requirement already satisfied: python-dateutil<3.0.0,>=2.1 in /mnt/tmp/1618571000232-0/lib/python3.7/site-packages (from botocore<1.21.0,>=1.20.53->boto3)\n",
      "Requirement already satisfied: six>=1.5 in /usr/local/lib/python3.7/site-packages (from python-dateutil<3.0.0,>=2.1->botocore<1.21.0,>=1.20.53->boto3)\n",
      "Installing collected packages: botocore, s3transfer, boto3\n",
      "Successfully installed boto3-1.17.53 botocore-1.20.53 s3transfer-0.3.7"
     ]
    }
   ],
   "source": [
    "sc.install_pypi_package('boto3')"
   ]
  },
  {
   "cell_type": "code",
   "execution_count": 239,
   "id": "polar-influence",
   "metadata": {},
   "outputs": [
    {
     "data": {
      "application/vnd.jupyter.widget-view+json": {
       "model_id": "8c99a06eaf394b7dbc9a44ccce7b1253",
       "version_major": 2,
       "version_minor": 0
      },
      "text/plain": [
       "FloatProgress(value=0.0, bar_style='info', description='Progress:', layout=Layout(height='25px', width='50%'),…"
      ]
     },
     "metadata": {},
     "output_type": "display_data"
    },
    {
     "name": "stdout",
     "output_type": "stream",
     "text": [
      "Collecting matplotlib\n",
      "  Downloading https://files.pythonhosted.org/packages/ce/63/74c0b6184b6b169b121bb72458818ee60a7d7c436d7b1907bd5874188c55/matplotlib-3.4.1-cp37-cp37m-manylinux1_x86_64.whl (10.3MB)\n",
      "Requirement already satisfied: numpy>=1.16 in /usr/local/lib64/python3.7/site-packages (from matplotlib)\n",
      "Collecting pyparsing>=2.2.1 (from matplotlib)\n",
      "  Downloading https://files.pythonhosted.org/packages/8a/bb/488841f56197b13700afd5658fc279a2025a39e22449b7cf29864669b15d/pyparsing-2.4.7-py2.py3-none-any.whl (67kB)\n",
      "Requirement already satisfied: python-dateutil>=2.7 in /mnt/tmp/1618571000232-0/lib/python3.7/site-packages (from matplotlib)\n",
      "Collecting pillow>=6.2.0 (from matplotlib)\n",
      "  Downloading https://files.pythonhosted.org/packages/33/34/542152297dcc6c47a9dcb0685eac6d652d878ed3cea83bf2b23cb988e857/Pillow-8.2.0-cp37-cp37m-manylinux1_x86_64.whl (3.0MB)\n",
      "Collecting cycler>=0.10 (from matplotlib)\n",
      "  Downloading https://files.pythonhosted.org/packages/f7/d2/e07d3ebb2bd7af696440ce7e754c59dd546ffe1bbe732c8ab68b9c834e61/cycler-0.10.0-py2.py3-none-any.whl\n",
      "Collecting kiwisolver>=1.0.1 (from matplotlib)\n",
      "  Downloading https://files.pythonhosted.org/packages/d2/46/231de802ade4225b76b96cffe419cf3ce52bbe92e3b092cf12db7d11c207/kiwisolver-1.3.1-cp37-cp37m-manylinux1_x86_64.whl (1.1MB)\n",
      "Requirement already satisfied: six>=1.5 in /usr/local/lib/python3.7/site-packages (from python-dateutil>=2.7->matplotlib)\n",
      "Installing collected packages: pyparsing, pillow, cycler, kiwisolver, matplotlib\n",
      "Successfully installed cycler-0.10.0 kiwisolver-1.3.1 matplotlib-3.4.1 pillow-8.2.0 pyparsing-2.4.7"
     ]
    }
   ],
   "source": [
    "sc.install_pypi_package(\"matplotlib\")"
   ]
  },
  {
   "cell_type": "code",
   "execution_count": 240,
   "id": "arranged-rebound",
   "metadata": {},
   "outputs": [
    {
     "data": {
      "application/vnd.jupyter.widget-view+json": {
       "model_id": "bfd55a8ef8524705945fd0e7b2a8dae0",
       "version_major": 2,
       "version_minor": 0
      },
      "text/plain": [
       "FloatProgress(value=0.0, bar_style='info', description='Progress:', layout=Layout(height='25px', width='50%'),…"
      ]
     },
     "metadata": {},
     "output_type": "display_data"
    }
   ],
   "source": [
    "import pandas as pd\n",
    "import matplotlib.pyplot as plt\n",
    "import matplotlib\n",
    "import boto3\n",
    "from pyspark.sql import functions as F\n",
    "from pyspark.sql.functions import pandas_udf, PandasUDFType\n",
    "from pyspark.sql.window import Window\n",
    "from vaderSentiment.vaderSentiment import SentimentIntensityAnalyzer\n",
    "analyzer= SentimentIntensityAnalyzer()"
   ]
  },
  {
   "cell_type": "markdown",
   "id": "thirty-frederick",
   "metadata": {},
   "source": [
    "#### Pull the Data"
   ]
  },
  {
   "cell_type": "code",
   "execution_count": 176,
   "id": "authorized-premises",
   "metadata": {},
   "outputs": [
    {
     "data": {
      "application/vnd.jupyter.widget-view+json": {
       "model_id": "14738bf0534841ddae8b6b3b91390842",
       "version_major": 2,
       "version_minor": 0
      },
      "text/plain": [
       "FloatProgress(value=0.0, bar_style='info', description='Progress:', layout=Layout(height='25px', width='50%'),…"
      ]
     },
     "metadata": {},
     "output_type": "display_data"
    }
   ],
   "source": [
    "df_notes=spark.read.parquet('s3://mimic-iii-physionet/parquet/NOTEEVENTS/')\n",
    "df_admissions=spark.read.parquet('s3://mimic-iii-physionet/parquet/ADMISSIONS/')"
   ]
  },
  {
   "cell_type": "code",
   "execution_count": 177,
   "id": "upper-philosophy",
   "metadata": {},
   "outputs": [
    {
     "data": {
      "application/vnd.jupyter.widget-view+json": {
       "model_id": "19c41cc0d306410fbe49c2bd157cffa2",
       "version_major": 2,
       "version_minor": 0
      },
      "text/plain": [
       "FloatProgress(value=0.0, bar_style='info', description='Progress:', layout=Layout(height='25px', width='50%'),…"
      ]
     },
     "metadata": {},
     "output_type": "display_data"
    },
    {
     "name": "stdout",
     "output_type": "stream",
     "text": [
      "58976"
     ]
    }
   ],
   "source": [
    "df_admissions.select('subject_id','hadm_id').distinct().count()"
   ]
  },
  {
   "cell_type": "code",
   "execution_count": 178,
   "id": "valid-interference",
   "metadata": {},
   "outputs": [
    {
     "data": {
      "application/vnd.jupyter.widget-view+json": {
       "model_id": "76757d30132b47c38c47c0316e0a3993",
       "version_major": 2,
       "version_minor": 0
      },
      "text/plain": [
       "FloatProgress(value=0.0, bar_style='info', description='Progress:', layout=Layout(height='25px', width='50%'),…"
      ]
     },
     "metadata": {},
     "output_type": "display_data"
    }
   ],
   "source": [
    "df_notes_admin=df_notes.join(df_admissions,[\"hadm_id\",\"subject_id\"])"
   ]
  },
  {
   "cell_type": "code",
   "execution_count": 179,
   "id": "graduate-company",
   "metadata": {},
   "outputs": [
    {
     "data": {
      "application/vnd.jupyter.widget-view+json": {
       "model_id": "26226f2c8cb04f9e838fa626c1618dd2",
       "version_major": 2,
       "version_minor": 0
      },
      "text/plain": [
       "FloatProgress(value=0.0, bar_style='info', description='Progress:', layout=Layout(height='25px', width='50%'),…"
      ]
     },
     "metadata": {},
     "output_type": "display_data"
    },
    {
     "name": "stdout",
     "output_type": "stream",
     "text": [
      "['hadm_id', 'subject_id', 'row_id', 'chartdate', 'charttime', 'storetime', 'category', 'description', 'cgid', 'iserror', 'text', 'row_id', 'admittime', 'dischtime', 'deathtime', 'admission_type', 'admission_location', 'discharge_location', 'insurance', 'language', 'religion', 'marital_status', 'ethnicity', 'edregtime', 'edouttime', 'diagnosis', 'hospital_expire_flag', 'has_chartevents_data']"
     ]
    }
   ],
   "source": [
    "df_notes_admin.columns"
   ]
  },
  {
   "cell_type": "code",
   "execution_count": 180,
   "id": "particular-survivor",
   "metadata": {},
   "outputs": [
    {
     "data": {
      "application/vnd.jupyter.widget-view+json": {
       "model_id": "9f35c1bdacc34ecf91003d9f9dd827f0",
       "version_major": 2,
       "version_minor": 0
      },
      "text/plain": [
       "FloatProgress(value=0.0, bar_style='info', description='Progress:', layout=Layout(height='25px', width='50%'),…"
      ]
     },
     "metadata": {},
     "output_type": "display_data"
    },
    {
     "name": "stdout",
     "output_type": "stream",
     "text": [
      "1851344"
     ]
    }
   ],
   "source": [
    "df_notes_admin.count()"
   ]
  },
  {
   "cell_type": "code",
   "execution_count": 181,
   "id": "south-north",
   "metadata": {},
   "outputs": [
    {
     "data": {
      "application/vnd.jupyter.widget-view+json": {
       "model_id": "6a633705f2da4b51a938e6461fd54864",
       "version_major": 2,
       "version_minor": 0
      },
      "text/plain": [
       "FloatProgress(value=0.0, bar_style='info', description='Progress:', layout=Layout(height='25px', width='50%'),…"
      ]
     },
     "metadata": {},
     "output_type": "display_data"
    },
    {
     "name": "stdout",
     "output_type": "stream",
     "text": [
      "58361"
     ]
    }
   ],
   "source": [
    "df_notes_admin.select('subject_id','hadm_id').distinct().count()"
   ]
  },
  {
   "cell_type": "markdown",
   "id": "discrete-pizza",
   "metadata": {},
   "source": [
    "#### Filter Data for Relevant HADM Stays"
   ]
  },
  {
   "cell_type": "code",
   "execution_count": 186,
   "id": "absolute-retirement",
   "metadata": {},
   "outputs": [
    {
     "data": {
      "application/vnd.jupyter.widget-view+json": {
       "model_id": "b882e70f203e46c5baa35c4432947e99",
       "version_major": 2,
       "version_minor": 0
      },
      "text/plain": [
       "FloatProgress(value=0.0, bar_style='info', description='Progress:', layout=Layout(height='25px', width='50%'),…"
      ]
     },
     "metadata": {},
     "output_type": "display_data"
    }
   ],
   "source": [
    "bucket='allstays' # Or whatever you called your bucket\n",
    "data_key = 'all_stays.csv' # Where the file is within your bucket\n",
    "data_location = 's3://{}/{}'.format(bucket, data_key)\n",
    "df = spark.read.option(\"header\",True).csv(data_location)"
   ]
  },
  {
   "cell_type": "code",
   "execution_count": 187,
   "id": "happy-destruction",
   "metadata": {},
   "outputs": [
    {
     "data": {
      "application/vnd.jupyter.widget-view+json": {
       "model_id": "d0414fde1d9949af816b41bb90ca3313",
       "version_major": 2,
       "version_minor": 0
      },
      "text/plain": [
       "FloatProgress(value=0.0, bar_style='info', description='Progress:', layout=Layout(height='25px', width='50%'),…"
      ]
     },
     "metadata": {},
     "output_type": "display_data"
    },
    {
     "name": "stdout",
     "output_type": "stream",
     "text": [
      "['SUBJECT_ID', 'HADM_ID', 'ICUSTAY_ID', 'LAST_CAREUNIT', 'DBSOURCE', 'INTIME', 'OUTTIME', 'LOS', 'ADMITTIME', 'DISCHTIME', 'DEATHTIME', 'ETHNICITY', 'DIAGNOSIS', 'GENDER', 'DOB', 'DOD', 'AGE', 'MORTALITY_INUNIT', 'MORTALITY', 'MORTALITY_INHOSPITAL']"
     ]
    }
   ],
   "source": [
    "df.columns"
   ]
  },
  {
   "cell_type": "code",
   "execution_count": 188,
   "id": "negative-tension",
   "metadata": {},
   "outputs": [
    {
     "data": {
      "application/vnd.jupyter.widget-view+json": {
       "model_id": "aba1da51373e43dcbeadea25d83e8e44",
       "version_major": 2,
       "version_minor": 0
      },
      "text/plain": [
       "FloatProgress(value=0.0, bar_style='info', description='Progress:', layout=Layout(height='25px', width='50%'),…"
      ]
     },
     "metadata": {},
     "output_type": "display_data"
    }
   ],
   "source": [
    "df_hadm = df.select(\"SUBJECT_ID\",\"HADM_ID\").withColumnRenamed(\"SUBJECT_ID\",\"subject_id\").withColumnRenamed(\"HADM_ID\",\"hadm_id\")"
   ]
  },
  {
   "cell_type": "code",
   "execution_count": 189,
   "id": "vertical-representative",
   "metadata": {},
   "outputs": [
    {
     "data": {
      "application/vnd.jupyter.widget-view+json": {
       "model_id": "7f0eaef8249e40918ab5606a5900bd1a",
       "version_major": 2,
       "version_minor": 0
      },
      "text/plain": [
       "FloatProgress(value=0.0, bar_style='info', description='Progress:', layout=Layout(height='25px', width='50%'),…"
      ]
     },
     "metadata": {},
     "output_type": "display_data"
    }
   ],
   "source": [
    "df_notes_admin=df_notes_admin.select(\"*\").join(df_hadm,[\"hadm_id\",\"subject_id\"])"
   ]
  },
  {
   "cell_type": "code",
   "execution_count": 190,
   "id": "elementary-authority",
   "metadata": {},
   "outputs": [
    {
     "data": {
      "application/vnd.jupyter.widget-view+json": {
       "model_id": "d192cc19566840b69eab56c808aacfa7",
       "version_major": 2,
       "version_minor": 0
      },
      "text/plain": [
       "FloatProgress(value=0.0, bar_style='info', description='Progress:', layout=Layout(height='25px', width='50%'),…"
      ]
     },
     "metadata": {},
     "output_type": "display_data"
    },
    {
     "name": "stdout",
     "output_type": "stream",
     "text": [
      "1040922"
     ]
    }
   ],
   "source": [
    "df_notes_admin.count()"
   ]
  },
  {
   "cell_type": "code",
   "execution_count": 191,
   "id": "departmental-column",
   "metadata": {},
   "outputs": [
    {
     "data": {
      "application/vnd.jupyter.widget-view+json": {
       "model_id": "8aa5c5670a974181bca045bf1f5f012d",
       "version_major": 2,
       "version_minor": 0
      },
      "text/plain": [
       "FloatProgress(value=0.0, bar_style='info', description='Progress:', layout=Layout(height='25px', width='50%'),…"
      ]
     },
     "metadata": {},
     "output_type": "display_data"
    }
   ],
   "source": [
    "w2 = Window.partitionBy([F.col(\"subject_id\"),F.col(\"hadm_id\")]).orderBy([F.col(\"subject_id\").asc_nulls_last(),F.col(\"hadm_id\").asc_nulls_last(),F.col('chartdate').asc_nulls_last(),F.col(\"charttime\").asc_nulls_last(),F.col('storetime').asc_nulls_last()])\n",
    "df_notes_admin_filt=df_notes_admin.withColumn(\"row\",F.row_number().over(w2)).where(F.col(\"row\") == 1).drop(F.col(\"row\"))"
   ]
  },
  {
   "cell_type": "code",
   "execution_count": null,
   "id": "necessary-closure",
   "metadata": {},
   "outputs": [],
   "source": [
    "df_notes_admin.select('subject_id','hadm_id').distinct().count()"
   ]
  },
  {
   "cell_type": "markdown",
   "id": "integrated-savage",
   "metadata": {},
   "source": [
    "#### Create Sentiment Column"
   ]
  },
  {
   "cell_type": "code",
   "execution_count": 192,
   "id": "honey-collins",
   "metadata": {},
   "outputs": [
    {
     "data": {
      "application/vnd.jupyter.widget-view+json": {
       "model_id": "6821f23db4c5419f9ae6fbaf77526779",
       "version_major": 2,
       "version_minor": 0
      },
      "text/plain": [
       "FloatProgress(value=0.0, bar_style='info', description='Progress:', layout=Layout(height='25px', width='50%'),…"
      ]
     },
     "metadata": {},
     "output_type": "display_data"
    }
   ],
   "source": [
    "@pandas_udf('double',PandasUDFType.SCALAR)\n",
    "def sentiment_create(x: pd.Series)->pd.Series:\n",
    "    return x.map(lambda v: analyzer.polarity_scores(v)['compound'])"
   ]
  },
  {
   "cell_type": "code",
   "execution_count": 193,
   "id": "sexual-digit",
   "metadata": {},
   "outputs": [
    {
     "data": {
      "application/vnd.jupyter.widget-view+json": {
       "model_id": "25bda2a0f2314eb9a4d323b2e9d8a27b",
       "version_major": 2,
       "version_minor": 0
      },
      "text/plain": [
       "FloatProgress(value=0.0, bar_style='info', description='Progress:', layout=Layout(height='25px', width='50%'),…"
      ]
     },
     "metadata": {},
     "output_type": "display_data"
    }
   ],
   "source": [
    "df_notes_admin_filt = df_notes_admin_filt.withColumn(\"notes_sentiment\",sentiment_create(F.col(\"text\")))"
   ]
  },
  {
   "cell_type": "code",
   "execution_count": 235,
   "id": "comfortable-lodge",
   "metadata": {},
   "outputs": [
    {
     "data": {
      "application/vnd.jupyter.widget-view+json": {
       "model_id": "57964de00c6943d5aafdf900975aa8f3",
       "version_major": 2,
       "version_minor": 0
      },
      "text/plain": [
       "FloatProgress(value=0.0, bar_style='info', description='Progress:', layout=Layout(height='25px', width='50%'),…"
      ]
     },
     "metadata": {},
     "output_type": "display_data"
    }
   ],
   "source": [
    "df_notes_admin_filt = df_notes_admin_filt.withColumn(\"notes_sentiment_grouped\",F.when(F.col(\"notes_sentiment\")>.05,\"Positive\")\n",
    "                                .when(F.col(\"notes_sentiment\")<-.05,\"Negative\")\n",
    "                                .otherwise(\"Neutral\"))"
   ]
  },
  {
   "cell_type": "markdown",
   "id": "italian-inflation",
   "metadata": {},
   "source": [
    "**Note:** Something to come back to - do we want to keep only a certain type of note? For now just keep first recorded note."
   ]
  },
  {
   "cell_type": "code",
   "execution_count": 167,
   "id": "polish-operator",
   "metadata": {},
   "outputs": [
    {
     "data": {
      "application/vnd.jupyter.widget-view+json": {
       "model_id": "b463b98a4b0846e7b66b8b74e8d312c5",
       "version_major": 2,
       "version_minor": 0
      },
      "text/plain": [
       "FloatProgress(value=0.0, bar_style='info', description='Progress:', layout=Layout(height='25px', width='50%'),…"
      ]
     },
     "metadata": {},
     "output_type": "display_data"
    },
    {
     "name": "stdout",
     "output_type": "stream",
     "text": [
      "+--------------------+\n",
      "|         description|\n",
      "+--------------------+\n",
      "|Physical Therapy ...|\n",
      "|Physician Residen...|\n",
      "|Overnight Intensi...|\n",
      "|Physical Therapy ...|\n",
      "|Critical Care Att...|\n",
      "|Critical Care Att...|\n",
      "|    HCP Phone number|\n",
      "|MICU Attending Ad...|\n",
      "|  Cardioversion note|\n",
      "|MICU staff progre...|\n",
      "|Resident Progress...|\n",
      "| PGY 1 progress note|\n",
      "|Cancelled Video S...|\n",
      "|Case Management D...|\n",
      "|Green Dye Bedside...|\n",
      "|Respiratory Care ...|\n",
      "|      Resp.Care note|\n",
      "|Communication Eva...|\n",
      "|Right knee aspira...|\n",
      "|    Respiratory CAre|\n",
      "+--------------------+\n",
      "only showing top 20 rows"
     ]
    }
   ],
   "source": [
    "df_notes_admin.select(\"description\").distinct().show()"
   ]
  },
  {
   "cell_type": "markdown",
   "id": "interior-channel",
   "metadata": {},
   "source": [
    "#### Notes Sentiment Basic EDA"
   ]
  },
  {
   "cell_type": "code",
   "execution_count": 243,
   "id": "synthetic-metro",
   "metadata": {},
   "outputs": [
    {
     "data": {
      "application/vnd.jupyter.widget-view+json": {
       "model_id": "1933061b7d0f4907adc38cc97ad92920",
       "version_major": 2,
       "version_minor": 0
      },
      "text/plain": [
       "FloatProgress(value=0.0, bar_style='info', description='Progress:', layout=Layout(height='25px', width='50%'),…"
      ]
     },
     "metadata": {},
     "output_type": "display_data"
    }
   ],
   "source": [
    "x=df_notes_admin_filt.groupBy('hadm_id',\"notes_sentiment_grouped\").count().select('notes_sentiment_grouped').toPandas()\n",
    "plt.cla()\n",
    "ax=x.value_counts().plot(kind='bar',legend=False)\n",
    "ax.set_xlabel(\"Notes Sentiment Type\", fontsize=12)\n",
    "ax.set_ylabel(\"Count\", fontsize=12)\n",
    "ax.get_yaxis().set_major_formatter(matplotlib.ticker.StrMethodFormatter('{x:,.0f}'))\n",
    "#ax.get_legend().remove()\n",
    "rects = ax.patches[:6]\n",
    "ax.set_xticklabels(['Positive','Negative','Neutral'],rotation=45)\n",
    "\n",
    "#print(rects)\n",
    "\n",
    "# Make some labels.\n",
    "labels = [\"{:,d}\".format(i) for i in x.value_counts()]\n",
    "\n",
    "for rect, label in zip(rects, labels):\n",
    "    height = rect.get_height()\n",
    "    ax.text(rect.get_x() + rect.get_width() / 2, height + 5, label,\n",
    "            ha='center', va='bottom')\n",
    "plt.title(\"Count of Notes Sentiment Type per Admission\")\n",
    "plt.tight_layout()\n",
    "plt.show()"
   ]
  },
  {
   "cell_type": "code",
   "execution_count": 244,
   "id": "overhead-structure",
   "metadata": {},
   "outputs": [
    {
     "data": {
      "application/vnd.jupyter.widget-view+json": {
       "model_id": "eecf00eb192847bab7324e58a43c56e4",
       "version_major": 2,
       "version_minor": 0
      },
      "text/plain": [
       "FloatProgress(value=0.0, bar_style='info', description='Progress:', layout=Layout(height='25px', width='50%'),…"
      ]
     },
     "metadata": {},
     "output_type": "display_data"
    },
    {
     "data": {
      "image/png": "[encoded data removed]",
      "text/plain": [
       "<IPython.core.display.Image object>"
      ]
     },
     "metadata": {},
     "output_type": "display_data"
    }
   ],
   "source": [
    "%matplot plt"
   ]
  },
  {
   "cell_type": "markdown",
   "id": "private-motel",
   "metadata": {},
   "source": [
    "#### Notes Sentiment Data to CSV"
   ]
  },
  {
   "cell_type": "code",
   "execution_count": 245,
   "id": "lesser-honduras",
   "metadata": {},
   "outputs": [
    {
     "data": {
      "application/vnd.jupyter.widget-view+json": {
       "model_id": "62c0c3575045452a9344b6893c4eb27c",
       "version_major": 2,
       "version_minor": 0
      },
      "text/plain": [
       "FloatProgress(value=0.0, bar_style='info', description='Progress:', layout=Layout(height='25px', width='50%'),…"
      ]
     },
     "metadata": {},
     "output_type": "display_data"
    }
   ],
   "source": [
    "df_csv = df_notes_admin_filt.select(\"subject_id\",\"hadm_id\",\"notes_sentiment\",\"notes_sentiment_grouped\",\"chartdate\").toPandas()"
   ]
  },
  {
   "cell_type": "code",
   "execution_count": 246,
   "id": "searching-noise",
   "metadata": {},
   "outputs": [
    {
     "data": {
      "application/vnd.jupyter.widget-view+json": {
       "model_id": "209c4ce43b6e43cca97b250affcdf42e",
       "version_major": 2,
       "version_minor": 0
      },
      "text/plain": [
       "FloatProgress(value=0.0, bar_style='info', description='Progress:', layout=Layout(height='25px', width='50%'),…"
      ]
     },
     "metadata": {},
     "output_type": "display_data"
    }
   ],
   "source": [
    "df_csv['episode_count']=df_csv.groupby([\"subject_id\"])['chartdate'].rank()"
   ]
  },
  {
   "cell_type": "code",
   "execution_count": 249,
   "id": "moral-retro",
   "metadata": {},
   "outputs": [
    {
     "data": {
      "application/vnd.jupyter.widget-view+json": {
       "model_id": "7dddd40de9564baeb124b0797876f076",
       "version_major": 2,
       "version_minor": 0
      },
      "text/plain": [
       "FloatProgress(value=0.0, bar_style='info', description='Progress:', layout=Layout(height='25px', width='50%'),…"
      ]
     },
     "metadata": {},
     "output_type": "display_data"
    }
   ],
   "source": [
    "df_csv['filename']=df_csv.apply(lambda x: str(x[\"subject_id\"])+\"_episode\"+str(int(x['episode_count']))+\"_timeseries.csv\",axis=1)"
   ]
  },
  {
   "cell_type": "code",
   "execution_count": 250,
   "id": "gross-collect",
   "metadata": {},
   "outputs": [
    {
     "data": {
      "application/vnd.jupyter.widget-view+json": {
       "model_id": "449e37994caa43b9b91399f1c3897691",
       "version_major": 2,
       "version_minor": 0
      },
      "text/plain": [
       "FloatProgress(value=0.0, bar_style='info', description='Progress:', layout=Layout(height='25px', width='50%'),…"
      ]
     },
     "metadata": {},
     "output_type": "display_data"
    },
    {
     "name": "stdout",
     "output_type": "stream",
     "text": [
      "       subject_id  hadm_id  ...  episode_count                       filename\n",
      "0              36   182104  ...            1.0     36_episode1_timeseries.csv\n",
      "1              44   181750  ...            1.0     44_episode1_timeseries.csv\n",
      "2              95   160891  ...            1.0     95_episode1_timeseries.csv\n",
      "3             100   153952  ...            1.0    100_episode1_timeseries.csv\n",
      "4             136   184644  ...            1.0    136_episode1_timeseries.csv\n",
      "...           ...      ...  ...            ...                            ...\n",
      "42052       98342   103844  ...            2.0  98342_episode2_timeseries.csv\n",
      "42053       98588   129749  ...            1.0  98588_episode1_timeseries.csv\n",
      "42054       98724   186754  ...            1.0  98724_episode1_timeseries.csv\n",
      "42055       99085   178854  ...            3.0  99085_episode3_timeseries.csv\n",
      "42056       99781   147562  ...            2.0  99781_episode2_timeseries.csv\n",
      "\n",
      "[42057 rows x 7 columns]"
     ]
    }
   ],
   "source": [
    "df_csv"
   ]
  },
  {
   "cell_type": "code",
   "execution_count": 252,
   "id": "present-demographic",
   "metadata": {},
   "outputs": [
    {
     "data": {
      "application/vnd.jupyter.widget-view+json": {
       "model_id": "ff43680f22604f4ba687c5bb7755e218",
       "version_major": 2,
       "version_minor": 0
      },
      "text/plain": [
       "FloatProgress(value=0.0, bar_style='info', description='Progress:', layout=Layout(height='25px', width='50%'),…"
      ]
     },
     "metadata": {},
     "output_type": "display_data"
    },
    {
     "name": "stdout",
     "output_type": "stream",
     "text": [
      "{'ResponseMetadata': {'RequestId': 'KEW9GA7JRRM52CW2', 'HostId': '37XjPBSemgNhXAyZfAASw2bZs7CG1Qz/rrc/WIzWmTHt8B6hVAhTl8yZcGbc7ZGoUzpGEwDVcT0=', 'HTTPStatusCode': 200, 'HTTPHeaders': {'x-amz-id-2': '37XjPBSemgNhXAyZfAASw2bZs7CG1Qz/rrc/WIzWmTHt8B6hVAhTl8yZcGbc7ZGoUzpGEwDVcT0=', 'x-amz-request-id': 'KEW9GA7JRRM52CW2', 'date': 'Fri, 16 Apr 2021 12:04:28 GMT', 'etag': '\"457b132d8407624ea9045333d48e2743\"', 'content-length': '0', 'server': 'AmazonS3'}, 'RetryAttempts': 0}, 'ETag': '\"457b132d8407624ea9045333d48e2743\"'}"
     ]
    }
   ],
   "source": [
    "from io import StringIO # python3; python2: BytesIO \n",
    "\n",
    "bucket = 'allstays' # already created on S3\n",
    "csv_buffer = StringIO()\n",
    "df_csv.to_csv(csv_buffer)\n",
    "s3_resource = boto3.resource('s3')\n",
    "s3_resource.Object(bucket, 'notes_sentiment_data.csv').put(Body=csv_buffer.getvalue())"
   ]
  },
  {
   "cell_type": "code",
   "execution_count": null,
   "id": "foster-asset",
   "metadata": {},
   "outputs": [],
   "source": []
  }
 ],
 "metadata": {
  "kernelspec": {
   "display_name": "Sparkmagic (PySpark)",
   "language": "python",
   "name": "pysparkkernel"
  },
  "language_info": {
   "codemirror_mode": {
    "name": "python",
    "version": 3
   },
   "file_extension": ".py",
   "mimetype": "text/x-python",
   "name": "pyspark",
   "pygments_lexer": "python3"
  }
 },
 "nbformat": 4,
 "nbformat_minor": 5
}
