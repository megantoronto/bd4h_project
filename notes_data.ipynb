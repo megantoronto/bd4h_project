{
 "cells": [
  {
   "cell_type": "code",
   "execution_count": null,
   "id": "round-characteristic",
   "metadata": {},
   "outputs": [],
   "source": [
    "%%configure -f\n",
    "{ \"conf\":{\n",
    "          \"spark.pyspark.python\": \"python3\",\n",
    "          \"spark.pyspark.virtualenv.enabled\": \"true\",\n",
    "          \"spark.pyspark.virtualenv.type\":\"native\",\n",
    "          \"spark.pyspark.virtualenv.bin.path\":\"/usr/bin/virtualenv\"\n",
    "         }\n",
    "}"
   ]
  },
  {
   "cell_type": "code",
   "execution_count": null,
   "id": "eligible-waterproof",
   "metadata": {},
   "outputs": [],
   "source": [
    "sc.install_pypi_package(\"vaderSentiment\")\n",
    "sc.install_pypi_package(\"pandas\")"
   ]
  },
  {
   "cell_type": "code",
   "execution_count": null,
   "id": "thick-indianapolis",
   "metadata": {},
   "outputs": [],
   "source": [
    "df_notes=spark.read.parquet('s3://mimic-iii-physionet/parquet/NOTEEVENTS/')\n",
    "df_admissions=spark.read.parquet('s3://mimic-iii-physionet/parquet/ADMISSIONS/')"
   ]
  },
  {
   "cell_type": "code",
   "execution_count": null,
   "id": "threatened-ocean",
   "metadata": {},
   "outputs": [],
   "source": [
    "df_notes_admin=df_notes.join(df_admissions,\"subject_id\")"
   ]
  },
  {
   "cell_type": "code",
   "execution_count": null,
   "id": "essential-breathing",
   "metadata": {},
   "outputs": [],
   "source": [
    "from vaderSentiment.vaderSentiment import SentimentIntensityAnalyzer\n",
    "analyzer= SentimentIntensityAnalyzer()\n",
    "sentence = \"This is a great VADER Example\"\n",
    "analyzer.polarity_scores(sentence)"
   ]
  },
  {
   "cell_type": "code",
   "execution_count": null,
   "id": "confused-blogger",
   "metadata": {},
   "outputs": [],
   "source": [
    "for i in df_notes_pd['text'].values:\n",
    "    x=analyzer.polarity_scores(i)['compound']\n",
    "    if x>.05:\n",
    "        print(\"Positive\",analyzer.polarity_scores(i))\n",
    "    elif x<-.05:\n",
    "        print(\"Negative\",analyzer.polarity_scores(i))\n",
    "    else:\n",
    "        print(\"Neutral\",analyzer.polarity_scores(i))\n",
    "    "
   ]
  }
 ],
 "metadata": {
  "kernelspec": {
   "display_name": "Sparkmagic (PySpark)",
   "language": "python",
   "name": "pysparkkernel"
  },
  "language_info": {
   "codemirror_mode": {
    "name": "python",
    "version": 3
   },
   "file_extension": ".py",
   "mimetype": "text/x-python",
   "name": "pyspark",
   "pygments_lexer": "python3"
  }
 },
 "nbformat": 4,
 "nbformat_minor": 5
}
