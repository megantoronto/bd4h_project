{
 "cells": [
  {
   "cell_type": "code",
   "execution_count": 1,
   "id": "contrary-proceeding",
   "metadata": {},
   "outputs": [
    {
     "name": "stdout",
     "output_type": "stream",
     "text": [
      "Collecting PyAthena\n",
      "  Downloading PyAthena-2.2.0-py3-none-any.whl (37 kB)\n",
      "Requirement already satisfied: boto3>=1.4.4 in /home/ec2-user/anaconda3/envs/amazonei_mxnet_p36/lib/python3.6/site-packages (from PyAthena) (1.17.34)\n",
      "Collecting tenacity>=4.1.0\n",
      "  Using cached tenacity-7.0.0-py2.py3-none-any.whl (23 kB)\n",
      "Requirement already satisfied: botocore>=1.5.52 in /home/ec2-user/anaconda3/envs/amazonei_mxnet_p36/lib/python3.6/site-packages (from PyAthena) (1.20.34)\n",
      "Requirement already satisfied: s3transfer<0.4.0,>=0.3.0 in /home/ec2-user/anaconda3/envs/amazonei_mxnet_p36/lib/python3.6/site-packages (from boto3>=1.4.4->PyAthena) (0.3.4)\n",
      "Requirement already satisfied: jmespath<1.0.0,>=0.7.1 in /home/ec2-user/anaconda3/envs/amazonei_mxnet_p36/lib/python3.6/site-packages (from boto3>=1.4.4->PyAthena) (0.10.0)\n",
      "Requirement already satisfied: python-dateutil<3.0.0,>=2.1 in /home/ec2-user/anaconda3/envs/amazonei_mxnet_p36/lib/python3.6/site-packages (from botocore>=1.5.52->PyAthena) (2.8.1)\n",
      "Requirement already satisfied: urllib3<1.27,>=1.25.4 in /home/ec2-user/anaconda3/envs/amazonei_mxnet_p36/lib/python3.6/site-packages (from botocore>=1.5.52->PyAthena) (1.26.3)\n",
      "Requirement already satisfied: six>=1.5 in /home/ec2-user/anaconda3/envs/amazonei_mxnet_p36/lib/python3.6/site-packages (from python-dateutil<3.0.0,>=2.1->botocore>=1.5.52->PyAthena) (1.15.0)\n",
      "Installing collected packages: tenacity, PyAthena\n",
      "Successfully installed PyAthena-2.2.0 tenacity-7.0.0\n"
     ]
    }
   ],
   "source": [
    "# Install OS dependencies.  This only needs to be run once for each new notebook instance.\n",
    "!pip install PyAthena"
   ]
  },
  {
   "cell_type": "code",
   "execution_count": 4,
   "id": "incorporated-ground",
   "metadata": {},
   "outputs": [
    {
     "name": "stdout",
     "output_type": "stream",
     "text": [
      "Creating bucket aws-athena-query-results-530388612227-us-east-1\n"
     ]
    }
   ],
   "source": [
    "from pyathena import connect\n",
    "#from pyathena.util import as_pandas\n",
    "#from __future__ import print_function\n",
    "\n",
    "# Import libraries\n",
    "import datetime\n",
    "import numpy as np\n",
    "import pandas as pd\n",
    "import matplotlib.pyplot as plt\n",
    "import os\n",
    "import boto3\n",
    "from botocore.client import ClientError\n",
    "# below is used to print out pretty pandas dataframes\n",
    "from IPython.display import display, HTML\n",
    "%matplotlib inline\n",
    "\n",
    "\n",
    "s3 = boto3.resource('s3')\n",
    "client = boto3.client(\"sts\")\n",
    "account_id = client.get_caller_identity()[\"Account\"]\n",
    "my_session = boto3.session.Session()\n",
    "region = my_session.region_name\n",
    "athena_query_results_bucket = 'aws-athena-query-results-'+account_id+'-'+region\n",
    "\n",
    "try:\n",
    "    s3.meta.client.head_bucket(Bucket=athena_query_results_bucket)\n",
    "except ClientError:\n",
    "    bucket = s3.create_bucket(Bucket=athena_query_results_bucket)\n",
    "    print('Creating bucket '+athena_query_results_bucket)\n",
    "cursor = connect(s3_staging_dir='s3://'+athena_query_results_bucket+'/athena/temp').cursor()\n",
    "\n",
    "\n",
    "# The Glue database name of your MIMIC-III parquet data\n",
    "gluedatabase=\"mimiciii\"\n",
    "\n",
    "# location of the queries to generate aline specific materialized views\n",
    "aline_path = './'\n",
    "\n",
    "# location of the queries to generate materialized views from the MIMIC code repository\n",
    "concepts_path = './concepts/'"
   ]
  },
  {
   "cell_type": "code",
   "execution_count": 9,
   "id": "worse-nicaragua",
   "metadata": {},
   "outputs": [],
   "source": [
    "conn = connect(s3_staging_dir='s3://'+athena_query_results_bucket+'/athena/temp')"
   ]
  },
  {
   "cell_type": "code",
   "execution_count": 7,
   "id": "ignored-tuition",
   "metadata": {},
   "outputs": [],
   "source": [
    "query = '''\n",
    "SELECT * FROM mimiciii.noteevents LIMIT 5\n",
    "'''"
   ]
  },
  {
   "cell_type": "code",
   "execution_count": 10,
   "id": "recreational-cuisine",
   "metadata": {},
   "outputs": [
    {
     "data": {
      "text/html": [
       "<div>\n",
       "<style scoped>\n",
       "    .dataframe tbody tr th:only-of-type {\n",
       "        vertical-align: middle;\n",
       "    }\n",
       "\n",
       "    .dataframe tbody tr th {\n",
       "        vertical-align: top;\n",
       "    }\n",
       "\n",
       "    .dataframe thead th {\n",
       "        text-align: right;\n",
       "    }\n",
       "</style>\n",
       "<table border=\"1\" class=\"dataframe\">\n",
       "  <thead>\n",
       "    <tr style=\"text-align: right;\">\n",
       "      <th></th>\n",
       "      <th>row_id</th>\n",
       "      <th>subject_id</th>\n",
       "      <th>hadm_id</th>\n",
       "      <th>chartdate</th>\n",
       "      <th>charttime</th>\n",
       "      <th>storetime</th>\n",
       "      <th>category</th>\n",
       "      <th>description</th>\n",
       "      <th>cgid</th>\n",
       "      <th>iserror</th>\n",
       "      <th>text</th>\n",
       "    </tr>\n",
       "  </thead>\n",
       "  <tbody>\n",
       "    <tr>\n",
       "      <th>0</th>\n",
       "      <td>2004671</td>\n",
       "      <td>24291</td>\n",
       "      <td>148229</td>\n",
       "      <td>2163-01-19</td>\n",
       "      <td>2163-01-19 18:39:00</td>\n",
       "      <td>2163-01-19 18:41:00</td>\n",
       "      <td>Nursing/other</td>\n",
       "      <td>Report</td>\n",
       "      <td>15522</td>\n",
       "      <td>None</td>\n",
       "      <td>Nursing NICU note Addendum.\\nMother in this ev...</td>\n",
       "    </tr>\n",
       "    <tr>\n",
       "      <th>1</th>\n",
       "      <td>2004672</td>\n",
       "      <td>24291</td>\n",
       "      <td>148229</td>\n",
       "      <td>2163-01-20</td>\n",
       "      <td>2163-01-20 06:45:00</td>\n",
       "      <td>2163-01-20 07:00:00</td>\n",
       "      <td>Nursing/other</td>\n",
       "      <td>Report</td>\n",
       "      <td>16024</td>\n",
       "      <td>None</td>\n",
       "      <td>NPN  1900-0700\\n\\n\\n1.  FEN:  TF=130cc/k/day B...</td>\n",
       "    </tr>\n",
       "    <tr>\n",
       "      <th>2</th>\n",
       "      <td>2005856</td>\n",
       "      <td>24416</td>\n",
       "      <td>197351</td>\n",
       "      <td>2117-11-20</td>\n",
       "      <td>2117-11-20 01:48:00</td>\n",
       "      <td>2117-11-20 02:07:00</td>\n",
       "      <td>Nursing/other</td>\n",
       "      <td>Report</td>\n",
       "      <td>21222</td>\n",
       "      <td>None</td>\n",
       "      <td>Admission Note\\nOb- [**Month (only) 910**]\\nPe...</td>\n",
       "    </tr>\n",
       "    <tr>\n",
       "      <th>3</th>\n",
       "      <td>2005857</td>\n",
       "      <td>24416</td>\n",
       "      <td>197351</td>\n",
       "      <td>2117-11-20</td>\n",
       "      <td>2117-11-20 02:14:00</td>\n",
       "      <td>2117-11-20 02:17:00</td>\n",
       "      <td>Nursing/other</td>\n",
       "      <td>Report</td>\n",
       "      <td>16024</td>\n",
       "      <td>None</td>\n",
       "      <td>Nursing Triage Note\\nInfant is a full term mal...</td>\n",
       "    </tr>\n",
       "    <tr>\n",
       "      <th>4</th>\n",
       "      <td>2002347</td>\n",
       "      <td>24131</td>\n",
       "      <td>117291</td>\n",
       "      <td>2174-10-11</td>\n",
       "      <td>2174-10-11 08:08:00</td>\n",
       "      <td>2174-10-11 08:12:00</td>\n",
       "      <td>Nursing/other</td>\n",
       "      <td>Report</td>\n",
       "      <td>20888</td>\n",
       "      <td>None</td>\n",
       "      <td>[**Location (un) 369**]/NEON DOL 5 CGA 34 [**5...</td>\n",
       "    </tr>\n",
       "  </tbody>\n",
       "</table>\n",
       "</div>"
      ],
      "text/plain": [
       "    row_id  subject_id  hadm_id  chartdate           charttime  \\\n",
       "0  2004671       24291   148229 2163-01-19 2163-01-19 18:39:00   \n",
       "1  2004672       24291   148229 2163-01-20 2163-01-20 06:45:00   \n",
       "2  2005856       24416   197351 2117-11-20 2117-11-20 01:48:00   \n",
       "3  2005857       24416   197351 2117-11-20 2117-11-20 02:14:00   \n",
       "4  2002347       24131   117291 2174-10-11 2174-10-11 08:08:00   \n",
       "\n",
       "            storetime       category description   cgid iserror  \\\n",
       "0 2163-01-19 18:41:00  Nursing/other      Report  15522    None   \n",
       "1 2163-01-20 07:00:00  Nursing/other      Report  16024    None   \n",
       "2 2117-11-20 02:07:00  Nursing/other      Report  21222    None   \n",
       "3 2117-11-20 02:17:00  Nursing/other      Report  16024    None   \n",
       "4 2174-10-11 08:12:00  Nursing/other      Report  20888    None   \n",
       "\n",
       "                                                text  \n",
       "0  Nursing NICU note Addendum.\\nMother in this ev...  \n",
       "1  NPN  1900-0700\\n\\n\\n1.  FEN:  TF=130cc/k/day B...  \n",
       "2  Admission Note\\nOb- [**Month (only) 910**]\\nPe...  \n",
       "3  Nursing Triage Note\\nInfant is a full term mal...  \n",
       "4  [**Location (un) 369**]/NEON DOL 5 CGA 34 [**5...  "
      ]
     },
     "execution_count": 10,
     "metadata": {},
     "output_type": "execute_result"
    }
   ],
   "source": [
    "pd.read_sql(query,conn)"
   ]
  },
  {
   "cell_type": "code",
   "execution_count": 1,
   "id": "super-synthetic",
   "metadata": {},
   "outputs": [
    {
     "name": "stdout",
     "output_type": "stream",
     "text": [
      "Starting Spark application\n"
     ]
    },
    {
     "data": {
      "text/html": [
       "<table>\n",
       "<tr><th>ID</th><th>YARN Application ID</th><th>Kind</th><th>State</th><th>Spark UI</th><th>Driver log</th><th>User</th><th>Current session?</th></tr><tr><td>1</td><td>application_1617148978868_0002</td><td>pyspark</td><td>idle</td><td><a target=\"_blank\" href=\"http://ip-172-31-94-78.ec2.internal:20888/proxy/application_1617148978868_0002/\">Link</a></td><td><a target=\"_blank\" href=\"http://ip-172-31-83-3.ec2.internal:8042/node/containerlogs/container_1617148978868_0002_01_000001/livy\">Link</a></td><td>None</td><td>✔</td></tr></table>"
      ],
      "text/plain": [
       "<IPython.core.display.HTML object>"
      ]
     },
     "metadata": {},
     "output_type": "display_data"
    },
    {
     "data": {
      "application/vnd.jupyter.widget-view+json": {
       "model_id": "4105ac2537454e6bab1761e94a4233cf",
       "version_major": 2,
       "version_minor": 0
      },
      "text/plain": [
       "FloatProgress(value=0.0, bar_style='info', description='Progress:', layout=Layout(height='25px', width='50%'),…"
      ]
     },
     "metadata": {},
     "output_type": "display_data"
    },
    {
     "name": "stdout",
     "output_type": "stream",
     "text": [
      "SparkSession available as 'spark'.\n"
     ]
    },
    {
     "data": {
      "application/vnd.jupyter.widget-view+json": {
       "model_id": "118d8c35c15f40d68bfac428bf97c590",
       "version_major": 2,
       "version_minor": 0
      },
      "text/plain": [
       "FloatProgress(value=0.0, bar_style='info', description='Progress:', layout=Layout(height='25px', width='50%'),…"
      ]
     },
     "metadata": {},
     "output_type": "display_data"
    }
   ],
   "source": [
    "import sys\n",
    "from awsglue.transforms import *\n",
    "from awsglue.utils import getResolvedOptions\n",
    "from pyspark.context import SparkContext\n",
    "from awsglue.context import GlueContext\n",
    "from awsglue.job import Job\n",
    "from pyspark.sql.functions import *\n",
    "from pyspark.sql.types import *\n",
    "import os.path\n",
    "from os import path\n",
    "import boto3\n",
    "\n",
    "s3 = boto3.resource('s3')\n",
    "glueContext = GlueContext(SparkContext.getOrCreate())\n",
    "spark = glueContext.spark_session\n",
    "\n",
    "# Specify MIMIC data input and output S3 buckets\n",
    "mimiccsvinputbucket='mimic-iii-physionet'\n",
    "mimicparquetoutputbucket='mimic-iii-physionet'\n",
    "mimicparquetoutputprefix='parquet/'"
   ]
  },
  {
   "cell_type": "code",
   "execution_count": null,
   "id": "generic-controversy",
   "metadata": {},
   "outputs": [],
   "source": []
  }
 ],
 "metadata": {
  "kernelspec": {
   "display_name": "Sparkmagic (PySpark)",
   "language": "python",
   "name": "pysparkkernel"
  },
  "language_info": {
   "codemirror_mode": {
    "name": "python",
    "version": 3
   },
   "file_extension": ".py",
   "mimetype": "text/x-python",
   "name": "pyspark",
   "pygments_lexer": "python3"
  }
 },
 "nbformat": 4,
 "nbformat_minor": 5
}
