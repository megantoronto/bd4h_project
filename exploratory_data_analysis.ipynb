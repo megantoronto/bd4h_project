{
 "cells": [
  {
   "cell_type": "markdown",
   "id": "pregnant-healing",
   "metadata": {},
   "source": [
    "# Exploratory Data Analysis: Demographic Variables"
   ]
  },
  {
   "cell_type": "markdown",
   "id": "warming-potential",
   "metadata": {},
   "source": [
    "Configure Spark and load necessary packages:"
   ]
  },
  {
   "cell_type": "code",
   "execution_count": 1,
   "id": "married-party",
   "metadata": {},
   "outputs": [
    {
     "data": {
      "text/html": [
       "Current session configs: <tt>{'conf': {'spark.pyspark.python': 'python3', 'spark.pyspark.virtualenv.enabled': 'true', 'spark.pyspark.virtualenv.type': 'native', 'spark.pyspark.virtualenv.bin.path': '/usr/bin/virtualenv'}, 'kind': 'pyspark'}</tt><br>"
      ],
      "text/plain": [
       "<IPython.core.display.HTML object>"
      ]
     },
     "metadata": {},
     "output_type": "display_data"
    },
    {
     "data": {
      "text/html": [
       "<table>\n",
       "<tr><th>ID</th><th>YARN Application ID</th><th>Kind</th><th>State</th><th>Spark UI</th><th>Driver log</th><th>User</th><th>Current session?</th></tr><tr><td>0</td><td>application_1618096443965_0001</td><td>pyspark</td><td>idle</td><td><a target=\"_blank\" href=\"http://ip-172-31-92-219.ec2.internal:20888/proxy/application_1618096443965_0001/\">Link</a></td><td><a target=\"_blank\" href=\"http://ip-172-31-87-152.ec2.internal:8042/node/containerlogs/container_1618096443965_0001_01_000001/livy\">Link</a></td><td>None</td><td></td></tr></table>"
      ],
      "text/plain": [
       "<IPython.core.display.HTML object>"
      ]
     },
     "metadata": {},
     "output_type": "display_data"
    }
   ],
   "source": [
    "%%configure -f\n",
    "{ \"conf\":{\n",
    "          \"spark.pyspark.python\": \"python3\",\n",
    "          \"spark.pyspark.virtualenv.enabled\": \"true\",\n",
    "          \"spark.pyspark.virtualenv.type\":\"native\",\n",
    "          \"spark.pyspark.virtualenv.bin.path\":\"/usr/bin/virtualenv\"\n",
    "         }\n",
    "}"
   ]
  },
  {
   "cell_type": "code",
   "execution_count": 3,
   "id": "centered-boundary",
   "metadata": {},
   "outputs": [
    {
     "data": {
      "application/vnd.jupyter.widget-view+json": {
       "model_id": "7b14a877ccf14f82bd7f225567e48e57",
       "version_major": 2,
       "version_minor": 0
      },
      "text/plain": [
       "FloatProgress(value=0.0, bar_style='info', description='Progress:', layout=Layout(height='25px', width='50%'),…"
      ]
     },
     "metadata": {},
     "output_type": "display_data"
    },
    {
     "name": "stdout",
     "output_type": "stream",
     "text": [
      "Collecting pandas\n",
      "  Using cached https://files.pythonhosted.org/packages/f3/d4/3fe3b5bf9886912b64ef040040aec356fa48825e5a829a84c2667afdf952/pandas-1.2.3-cp37-cp37m-manylinux1_x86_64.whl\n",
      "Requirement already satisfied: numpy>=1.16.5 in /usr/local/lib64/python3.7/site-packages (from pandas)\n",
      "Requirement already satisfied: pytz>=2017.3 in /usr/local/lib/python3.7/site-packages (from pandas)\n",
      "Collecting python-dateutil>=2.7.3 (from pandas)\n",
      "  Using cached https://files.pythonhosted.org/packages/d4/70/d60450c3dd48ef87586924207ae8907090de0b306af2bce5d134d78615cb/python_dateutil-2.8.1-py2.py3-none-any.whl\n",
      "Requirement already satisfied: six>=1.5 in /usr/local/lib/python3.7/site-packages (from python-dateutil>=2.7.3->pandas)\n",
      "Installing collected packages: python-dateutil, pandas\n",
      "Successfully installed pandas-1.2.3 python-dateutil-2.8.1"
     ]
    }
   ],
   "source": [
    "sc.install_pypi_package(\"pandas\")"
   ]
  },
  {
   "cell_type": "code",
   "execution_count": 5,
   "id": "orange-resistance",
   "metadata": {},
   "outputs": [
    {
     "data": {
      "application/vnd.jupyter.widget-view+json": {
       "model_id": "7e2655b009724792b9c91a2a6468b6e4",
       "version_major": 2,
       "version_minor": 0
      },
      "text/plain": [
       "FloatProgress(value=0.0, bar_style='info', description='Progress:', layout=Layout(height='25px', width='50%'),…"
      ]
     },
     "metadata": {},
     "output_type": "display_data"
    },
    {
     "name": "stdout",
     "output_type": "stream",
     "text": [
      "Collecting matplotlib\n",
      "  Using cached https://files.pythonhosted.org/packages/ce/63/74c0b6184b6b169b121bb72458818ee60a7d7c436d7b1907bd5874188c55/matplotlib-3.4.1-cp37-cp37m-manylinux1_x86_64.whl\n",
      "Requirement already satisfied: numpy>=1.16 in /usr/local/lib64/python3.7/site-packages (from matplotlib)\n",
      "Collecting pyparsing>=2.2.1 (from matplotlib)\n",
      "  Using cached https://files.pythonhosted.org/packages/8a/bb/488841f56197b13700afd5658fc279a2025a39e22449b7cf29864669b15d/pyparsing-2.4.7-py2.py3-none-any.whl\n",
      "Requirement already satisfied: python-dateutil>=2.7 in /mnt/tmp/1618099429015-0/lib/python3.7/site-packages (from matplotlib)\n",
      "Collecting pillow>=6.2.0 (from matplotlib)\n",
      "  Using cached https://files.pythonhosted.org/packages/33/34/542152297dcc6c47a9dcb0685eac6d652d878ed3cea83bf2b23cb988e857/Pillow-8.2.0-cp37-cp37m-manylinux1_x86_64.whl\n",
      "Collecting cycler>=0.10 (from matplotlib)\n",
      "  Using cached https://files.pythonhosted.org/packages/f7/d2/e07d3ebb2bd7af696440ce7e754c59dd546ffe1bbe732c8ab68b9c834e61/cycler-0.10.0-py2.py3-none-any.whl\n",
      "Collecting kiwisolver>=1.0.1 (from matplotlib)\n",
      "  Using cached https://files.pythonhosted.org/packages/d2/46/231de802ade4225b76b96cffe419cf3ce52bbe92e3b092cf12db7d11c207/kiwisolver-1.3.1-cp37-cp37m-manylinux1_x86_64.whl\n",
      "Requirement already satisfied: six>=1.5 in /usr/local/lib/python3.7/site-packages (from python-dateutil>=2.7->matplotlib)\n",
      "Installing collected packages: pyparsing, pillow, cycler, kiwisolver, matplotlib\n",
      "Successfully installed cycler-0.10.0 kiwisolver-1.3.1 matplotlib-3.4.1 pillow-8.2.0 pyparsing-2.4.7"
     ]
    }
   ],
   "source": [
    "sc.install_pypi_package(\"matplotlib\")"
   ]
  },
  {
   "cell_type": "markdown",
   "id": "certified-coverage",
   "metadata": {},
   "source": [
    "Import necessary Python libraries:"
   ]
  },
  {
   "cell_type": "code",
   "execution_count": 15,
   "id": "developmental-vinyl",
   "metadata": {},
   "outputs": [
    {
     "data": {
      "application/vnd.jupyter.widget-view+json": {
       "model_id": "734b6d203a084c299504b7eb27e3b6c9",
       "version_major": 2,
       "version_minor": 0
      },
      "text/plain": [
       "FloatProgress(value=0.0, bar_style='info', description='Progress:', layout=Layout(height='25px', width='50%'),…"
      ]
     },
     "metadata": {},
     "output_type": "display_data"
    }
   ],
   "source": [
    "import matplotlib.pyplot as plt\n",
    "import matplotlib\n",
    "import pandas as pd\n",
    "from pyspark.sql import functions as F"
   ]
  },
  {
   "cell_type": "markdown",
   "id": "different-bailey",
   "metadata": {},
   "source": [
    "Read in data:"
   ]
  },
  {
   "cell_type": "code",
   "execution_count": 6,
   "id": "chronic-castle",
   "metadata": {},
   "outputs": [
    {
     "data": {
      "application/vnd.jupyter.widget-view+json": {
       "model_id": "ae57e053a5584f55a33292e5d4c518d1",
       "version_major": 2,
       "version_minor": 0
      },
      "text/plain": [
       "FloatProgress(value=0.0, bar_style='info', description='Progress:', layout=Layout(height='25px', width='50%'),…"
      ]
     },
     "metadata": {},
     "output_type": "display_data"
    }
   ],
   "source": [
    "df_notes=spark.read.parquet('s3://mimic-iii-physionet/parquet/NOTEEVENTS/')\n",
    "df_admissions=spark.read.parquet('s3://mimic-iii-physionet/parquet/ADMISSIONS/')\n",
    "df_patients=spark.read.parquet('s3://mimic-iii-physionet/parquet/PATIENTS/')"
   ]
  },
  {
   "cell_type": "code",
   "execution_count": 7,
   "id": "spatial-promotion",
   "metadata": {},
   "outputs": [
    {
     "data": {
      "application/vnd.jupyter.widget-view+json": {
       "model_id": "075a179cf9c74d59b140dbd44e53b79b",
       "version_major": 2,
       "version_minor": 0
      },
      "text/plain": [
       "FloatProgress(value=0.0, bar_style='info', description='Progress:', layout=Layout(height='25px', width='50%'),…"
      ]
     },
     "metadata": {},
     "output_type": "display_data"
    },
    {
     "name": "stdout",
     "output_type": "stream",
     "text": [
      "58976"
     ]
    }
   ],
   "source": [
    "df_admissions.count()"
   ]
  },
  {
   "cell_type": "code",
   "execution_count": 12,
   "id": "earned-publication",
   "metadata": {},
   "outputs": [
    {
     "data": {
      "application/vnd.jupyter.widget-view+json": {
       "model_id": "30a0c44f541d4becb59aded3221532e1",
       "version_major": 2,
       "version_minor": 0
      },
      "text/plain": [
       "FloatProgress(value=0.0, bar_style='info', description='Progress:', layout=Layout(height='25px', width='50%'),…"
      ]
     },
     "metadata": {},
     "output_type": "display_data"
    },
    {
     "name": "stdout",
     "output_type": "stream",
     "text": [
      "46520"
     ]
    }
   ],
   "source": [
    "df_admissions.select(\"subject_id\").distinct().count()"
   ]
  },
  {
   "cell_type": "code",
   "execution_count": 13,
   "id": "finished-phrase",
   "metadata": {},
   "outputs": [
    {
     "data": {
      "application/vnd.jupyter.widget-view+json": {
       "model_id": "27a01ed70d5f408f919bfb7d34ac402e",
       "version_major": 2,
       "version_minor": 0
      },
      "text/plain": [
       "FloatProgress(value=0.0, bar_style='info', description='Progress:', layout=Layout(height='25px', width='50%'),…"
      ]
     },
     "metadata": {},
     "output_type": "display_data"
    },
    {
     "name": "stdout",
     "output_type": "stream",
     "text": [
      "46520"
     ]
    }
   ],
   "source": [
    "df_patients.count()"
   ]
  },
  {
   "cell_type": "code",
   "execution_count": 14,
   "id": "curious-citizenship",
   "metadata": {},
   "outputs": [
    {
     "data": {
      "application/vnd.jupyter.widget-view+json": {
       "model_id": "d83afb866822424fbb188ebcc0b6be74",
       "version_major": 2,
       "version_minor": 0
      },
      "text/plain": [
       "FloatProgress(value=0.0, bar_style='info', description='Progress:', layout=Layout(height='25px', width='50%'),…"
      ]
     },
     "metadata": {},
     "output_type": "display_data"
    },
    {
     "name": "stdout",
     "output_type": "stream",
     "text": [
      "47449"
     ]
    }
   ],
   "source": [
    "df_admissions.groupBy(\"subject_id\",\"insurance\").count().select(\"subject_id\",\"insurance\").count()"
   ]
  },
  {
   "cell_type": "code",
   "execution_count": 16,
   "id": "necessary-february",
   "metadata": {},
   "outputs": [
    {
     "data": {
      "application/vnd.jupyter.widget-view+json": {
       "model_id": "9395f9e289374b12831a460bc41af81b",
       "version_major": 2,
       "version_minor": 0
      },
      "text/plain": [
       "FloatProgress(value=0.0, bar_style='info', description='Progress:', layout=Layout(height='25px', width='50%'),…"
      ]
     },
     "metadata": {},
     "output_type": "display_data"
    },
    {
     "name": "stdout",
     "output_type": "stream",
     "text": [
      "['row_id', 'subject_id', 'hadm_id', 'admittime', 'dischtime', 'deathtime', 'admission_type', 'admission_location', 'discharge_location', 'insurance', 'language', 'religion', 'marital_status', 'ethnicity', 'edregtime', 'edouttime', 'diagnosis', 'hospital_expire_flag', 'has_chartevents_data']"
     ]
    }
   ],
   "source": [
    "df_admissions.columns"
   ]
  },
  {
   "cell_type": "code",
   "execution_count": 17,
   "id": "recognized-fortune",
   "metadata": {},
   "outputs": [
    {
     "data": {
      "application/vnd.jupyter.widget-view+json": {
       "model_id": "2533ae90af0047b8a5ee99391616e34d",
       "version_major": 2,
       "version_minor": 0
      },
      "text/plain": [
       "FloatProgress(value=0.0, bar_style='info', description='Progress:', layout=Layout(height='25px', width='50%'),…"
      ]
     },
     "metadata": {},
     "output_type": "display_data"
    },
    {
     "name": "stdout",
     "output_type": "stream",
     "text": [
      "58976"
     ]
    }
   ],
   "source": [
    "df_admissions.groupBy('hadm_id',\"subject_id\",\"insurance\").count().count()"
   ]
  },
  {
   "cell_type": "markdown",
   "id": "built-kidney",
   "metadata": {},
   "source": [
    "### Insurance Type"
   ]
  },
  {
   "cell_type": "code",
   "execution_count": 18,
   "id": "otherwise-fishing",
   "metadata": {},
   "outputs": [
    {
     "data": {
      "application/vnd.jupyter.widget-view+json": {
       "model_id": "6d1bc7885c7c490597ac2db4d1dc8577",
       "version_major": 2,
       "version_minor": 0
      },
      "text/plain": [
       "FloatProgress(value=0.0, bar_style='info', description='Progress:', layout=Layout(height='25px', width='50%'),…"
      ]
     },
     "metadata": {},
     "output_type": "display_data"
    }
   ],
   "source": [
    "x=df_admissions.groupBy('hadm_id',\"insurance\").count().select('insurance').toPandas()\n",
    "plt.cla()\n",
    "ax=x.value_counts().plot(kind='bar',legend=False)\n",
    "ax.set_xlabel(\"Insurance Type\", fontsize=12)\n",
    "ax.set_ylabel(\"Count\", fontsize=12)\n",
    "ax.get_yaxis().set_major_formatter(matplotlib.ticker.StrMethodFormatter('{x:,.0f}'))\n",
    "#ax.get_legend().remove()\n",
    "rects = ax.patches[:6]\n",
    "ax.set_xticklabels(['Medicare','Private',\"Medicaid\",'Government',\"Self Pay\"],rotation=45)\n",
    "\n",
    "#print(rects)\n",
    "\n",
    "# Make some labels.\n",
    "labels = [\"{:,d}\".format(i) for i in x.value_counts()]\n",
    "\n",
    "for rect, label in zip(rects, labels):\n",
    "    height = rect.get_height()\n",
    "    ax.text(rect.get_x() + rect.get_width() / 2, height + 5, label,\n",
    "            ha='center', va='bottom')\n",
    "plt.title(\"Count of Insurance Typer per Admission\")\n",
    "plt.tight_layout()\n",
    "plt.show()"
   ]
  },
  {
   "cell_type": "code",
   "execution_count": 19,
   "id": "liable-powell",
   "metadata": {},
   "outputs": [
    {
     "data": {
      "application/vnd.jupyter.widget-view+json": {
       "model_id": "28c2616816ae4460b78246a857c4ea53",
       "version_major": 2,
       "version_minor": 0
      },
      "text/plain": [
       "FloatProgress(value=0.0, bar_style='info', description='Progress:', layout=Layout(height='25px', width='50%'),…"
      ]
     },
     "metadata": {},
     "output_type": "display_data"
    },
    {
     "data": {
      "image/png": "[encoded data removed]",
      "text/plain": [
       "<IPython.core.display.Image object>"
      ]
     },
     "metadata": {},
     "output_type": "display_data"
    }
   ],
   "source": [
    "%matplot plt"
   ]
  },
  {
   "cell_type": "markdown",
   "id": "cutting-jacket",
   "metadata": {},
   "source": [
    "### Ethnicity"
   ]
  },
  {
   "cell_type": "code",
   "execution_count": 21,
   "id": "fourth-irrigation",
   "metadata": {},
   "outputs": [
    {
     "data": {
      "application/vnd.jupyter.widget-view+json": {
       "model_id": "a2594bbcaffc42259b322c0b799ba239",
       "version_major": 2,
       "version_minor": 0
      },
      "text/plain": [
       "FloatProgress(value=0.0, bar_style='info', description='Progress:', layout=Layout(height='25px', width='50%'),…"
      ]
     },
     "metadata": {},
     "output_type": "display_data"
    },
    {
     "name": "stdout",
     "output_type": "stream",
     "text": [
      "                                            ethnicity  count\n",
      "0                                               WHITE  40996\n",
      "1                              BLACK/AFRICAN AMERICAN   5440\n",
      "2                               UNKNOWN/NOT SPECIFIED   4523\n",
      "3                                  HISPANIC OR LATINO   1696\n",
      "4                                               OTHER   1512\n",
      "5                                               ASIAN   1509\n",
      "6                                    UNABLE TO OBTAIN    814\n",
      "7                          PATIENT DECLINED TO ANSWER    559\n",
      "8                                     ASIAN - CHINESE    277\n",
      "9                      HISPANIC/LATINO - PUERTO RICAN    232\n",
      "10                                 BLACK/CAPE VERDEAN    200\n",
      "11                                    WHITE - RUSSIAN    164\n",
      "12                               MULTI RACE ETHNICITY    130\n",
      "13                                      BLACK/HAITIAN    101\n",
      "14                               ASIAN - ASIAN INDIAN     85\n",
      "15                             WHITE - OTHER EUROPEAN     81\n",
      "16                        HISPANIC/LATINO - DOMINICAN     78\n",
      "17                                         PORTUGUESE     61\n",
      "18                                  WHITE - BRAZILIAN     59\n",
      "19                                 ASIAN - VIETNAMESE     53\n",
      "20                      AMERICAN INDIAN/ALASKA NATIVE     51\n",
      "21                                      BLACK/AFRICAN     44\n",
      "22                                     MIDDLE EASTERN     43\n",
      "23                       HISPANIC/LATINO - GUATEMALAN     40\n",
      "24                                   ASIAN - FILIPINO     25\n",
      "25                           WHITE - EASTERN EUROPEAN     25\n",
      "26                            HISPANIC/LATINO - CUBAN     24\n",
      "27                       HISPANIC/LATINO - SALVADORAN     19\n",
      "28          NATIVE HAWAIIAN OR OTHER PACIFIC ISLANDER     18\n",
      "29                                      ASIAN - OTHER     17\n",
      "30                                  ASIAN - CAMBODIAN     17\n",
      "31                                     ASIAN - KOREAN     13\n",
      "32                          HISPANIC/LATINO - MEXICAN     13\n",
      "33         HISPANIC/LATINO - CENTRAL AMERICAN (OTHER)     13\n",
      "34                        HISPANIC/LATINO - COLOMBIAN      9\n",
      "35                                   CARIBBEAN ISLAND      9\n",
      "36                                     SOUTH AMERICAN      8\n",
      "37                                   ASIAN - JAPANESE      7\n",
      "38                                       ASIAN - THAI      4\n",
      "39                         HISPANIC/LATINO - HONDURAN      4\n",
      "40  AMERICAN INDIAN/ALASKA NATIVE FEDERALLY RECOGN...      3"
     ]
    }
   ],
   "source": [
    "x=df_admissions.groupBy(\"ethnicity\").count().orderBy(F.col(\"count\").desc()).toPandas()\n",
    "x"
   ]
  },
  {
   "cell_type": "code",
   "execution_count": 26,
   "id": "municipal-slovakia",
   "metadata": {},
   "outputs": [
    {
     "data": {
      "application/vnd.jupyter.widget-view+json": {
       "model_id": "3782eea8efbd40c5905fbf14e8275d1a",
       "version_major": 2,
       "version_minor": 0
      },
      "text/plain": [
       "FloatProgress(value=0.0, bar_style='info', description='Progress:', layout=Layout(height='25px', width='50%'),…"
      ]
     },
     "metadata": {},
     "output_type": "display_data"
    }
   ],
   "source": [
    "df_admissions=df_admissions.withColumn(\"ethnicity_group\",F.when(F.col(\"ethnicity\").like(\"%WHITE%\"),\"White\")\n",
    "                      .when(F.col(\"ethnicity\").like(\"%ASIAN%\"),\"Asian\")\n",
    "                      .when(F.col(\"ethnicity\").like(\"%BLACK%\"),\"Black\")\n",
    "                      .when(F.col(\"ethnicity\").like(\"%HISPANIC%\"),\"Hispanic\")\n",
    "                      .when(F.col(\"ethnicity\").like(\"%UNKNOWN%\"),\"Unknown\")\n",
    "                      .when(F.col(\"ethnicity\").like(\"%UNABLE%\"),\"Unknown\")\n",
    "                      .when(F.col(\"ethnicity\").like(\"%DECLINED%\"),\"Unknown\")\n",
    "                      .otherwise(\"Other\"))"
   ]
  },
  {
   "cell_type": "code",
   "execution_count": 28,
   "id": "bacterial-gauge",
   "metadata": {},
   "outputs": [
    {
     "data": {
      "application/vnd.jupyter.widget-view+json": {
       "model_id": "77201702ab384e498b35ffd5d261a0f5",
       "version_major": 2,
       "version_minor": 0
      },
      "text/plain": [
       "FloatProgress(value=0.0, bar_style='info', description='Progress:', layout=Layout(height='25px', width='50%'),…"
      ]
     },
     "metadata": {},
     "output_type": "display_data"
    },
    {
     "name": "stdout",
     "output_type": "stream",
     "text": [
      "+---------------+-----+\n",
      "|ethnicity_group|count|\n",
      "+---------------+-----+\n",
      "|          WHITE|41325|\n",
      "|        Unknown| 5896|\n",
      "|          Black| 5785|\n",
      "|       Hispanic| 2128|\n",
      "|          Asian| 2007|\n",
      "|          Other| 1835|\n",
      "+---------------+-----+"
     ]
    }
   ],
   "source": [
    "df_admissions.groupBy(\"ethnicity_group\").count().orderBy(F.col(\"count\").desc()).show()"
   ]
  },
  {
   "cell_type": "code",
   "execution_count": 38,
   "id": "official-essence",
   "metadata": {},
   "outputs": [
    {
     "data": {
      "application/vnd.jupyter.widget-view+json": {
       "model_id": "0b05e6983f434adfa8ba647ae23ce0ef",
       "version_major": 2,
       "version_minor": 0
      },
      "text/plain": [
       "FloatProgress(value=0.0, bar_style='info', description='Progress:', layout=Layout(height='25px', width='50%'),…"
      ]
     },
     "metadata": {},
     "output_type": "display_data"
    }
   ],
   "source": [
    "x=df_admissions.groupBy('hadm_id',\"ethnicity_group\").count().select('ethnicity_group').toPandas()\n",
    "plt.cla()\n",
    "ax=x.value_counts().plot(kind='bar',legend=False)\n",
    "ax.set_xlabel(\"Ethnicity Type\", fontsize=12)\n",
    "ax.set_ylabel(\"Count\", fontsize=12)\n",
    "ax.get_yaxis().set_major_formatter(matplotlib.ticker.StrMethodFormatter('{x:,.0f}'))\n",
    "#ax.get_legend().remove()\n",
    "rects = ax.patches[:6]\n",
    "ax.set_xticklabels(['White','Unknown',\"Black\",'Hispanic',\"Asian\",\"Other\"],rotation=45)\n",
    "\n",
    "#print(rects)\n",
    "\n",
    "# Make some labels.\n",
    "labels = [\"{:,d}\".format(i) for i in x.value_counts()]\n",
    "\n",
    "for rect, label in zip(rects, labels):\n",
    "    height = rect.get_height()\n",
    "    ax.text(rect.get_x() + rect.get_width() / 2, height + 5, label,\n",
    "            ha='center', va='bottom')\n",
    "plt.title(\"Count of Ethnicity Type per Admission\")\n",
    "plt.tight_layout()\n",
    "plt.show()"
   ]
  },
  {
   "cell_type": "code",
   "execution_count": 39,
   "id": "leading-terror",
   "metadata": {},
   "outputs": [
    {
     "data": {
      "application/vnd.jupyter.widget-view+json": {
       "model_id": "67e3d5d4635e432ba00856f5916250da",
       "version_major": 2,
       "version_minor": 0
      },
      "text/plain": [
       "FloatProgress(value=0.0, bar_style='info', description='Progress:', layout=Layout(height='25px', width='50%'),…"
      ]
     },
     "metadata": {},
     "output_type": "display_data"
    },
    {
     "data": {
      "image/png": "[encoded data removed]",
      "text/plain": [
       "<IPython.core.display.Image object>"
      ]
     },
     "metadata": {},
     "output_type": "display_data"
    }
   ],
   "source": [
    "%matplot plt"
   ]
  },
  {
   "cell_type": "markdown",
   "id": "executed-judges",
   "metadata": {},
   "source": [
    "### Religion"
   ]
  },
  {
   "cell_type": "code",
   "execution_count": 36,
   "id": "modern-beverage",
   "metadata": {},
   "outputs": [
    {
     "data": {
      "application/vnd.jupyter.widget-view+json": {
       "model_id": "20b73f7f544947c1821f4b13bbcd69f8",
       "version_major": 2,
       "version_minor": 0
      },
      "text/plain": [
       "FloatProgress(value=0.0, bar_style='info', description='Progress:', layout=Layout(height='25px', width='50%'),…"
      ]
     },
     "metadata": {},
     "output_type": "display_data"
    },
    {
     "name": "stdout",
     "output_type": "stream",
     "text": [
      "                  religion  count\n",
      "0                 CATHOLIC  20606\n",
      "1            NOT SPECIFIED  11753\n",
      "2             UNOBTAINABLE   8269\n",
      "3        PROTESTANT QUAKER   7134\n",
      "4                   JEWISH   5314\n",
      "5                    OTHER   2696\n",
      "6             EPISCOPALIAN    774\n",
      "7           GREEK ORTHODOX    459\n",
      "8                     None    458\n",
      "9      CHRISTIAN SCIENTIST    429\n",
      "10                BUDDHIST    267\n",
      "11                  MUSLIM    225\n",
      "12       JEHOVAH'S WITNESS    139\n",
      "13  UNITARIAN-UNIVERSALIST    124\n",
      "14                   HINDU    113\n",
      "15     ROMANIAN EAST. ORTH     83\n",
      "16       7TH DAY ADVENTIST     81\n",
      "17                 BAPTIST     28\n",
      "18                  HEBREW     16\n",
      "19               METHODIST      7\n",
      "20                LUTHERAN      1"
     ]
    }
   ],
   "source": [
    "x=df_admissions.groupBy(\"religion\").count().orderBy(F.col(\"count\").desc()).toPandas()\n",
    "x"
   ]
  },
  {
   "cell_type": "code",
   "execution_count": 42,
   "id": "grave-stanley",
   "metadata": {},
   "outputs": [
    {
     "data": {
      "application/vnd.jupyter.widget-view+json": {
       "model_id": "14235d377ab846818f7e7f8579ce3af5",
       "version_major": 2,
       "version_minor": 0
      },
      "text/plain": [
       "FloatProgress(value=0.0, bar_style='info', description='Progress:', layout=Layout(height='25px', width='50%'),…"
      ]
     },
     "metadata": {},
     "output_type": "display_data"
    }
   ],
   "source": [
    "df_admissions=df_admissions.withColumn(\"religion_group\",F.when(F.col(\"religion\").like(\"%NOT%\"),\"Unknown\")\n",
    "                      .when(F.col(\"religion\").like(\"%UNOBTAINABLE%\"),\"Unknown\")\n",
    "                      .when(F.col(\"religion\").like(\"%CATHOLIC%\"),\"Catholic\")\n",
    "                      .when(F.col(\"religion\").like(\"%PROTESTANT%\"),\"Protestant Quaker\")\n",
    "                      .when(F.col(\"religion\").like(\"%JEWISH%\"),\"Jewish\")\n",
    "                      .when(F.col(\"religion\").like(\"%EPISCOPALIAN%\"),\"Episcopalian\")\n",
    "                      .otherwise(\"Other\"))"
   ]
  },
  {
   "cell_type": "code",
   "execution_count": 43,
   "id": "medieval-scottish",
   "metadata": {},
   "outputs": [
    {
     "data": {
      "application/vnd.jupyter.widget-view+json": {
       "model_id": "384001ebd75348ebacfd9ef51c2c11b4",
       "version_major": 2,
       "version_minor": 0
      },
      "text/plain": [
       "FloatProgress(value=0.0, bar_style='info', description='Progress:', layout=Layout(height='25px', width='50%'),…"
      ]
     },
     "metadata": {},
     "output_type": "display_data"
    },
    {
     "name": "stdout",
     "output_type": "stream",
     "text": [
      "+-----------------+-----+\n",
      "|   religion_group|count|\n",
      "+-----------------+-----+\n",
      "|         Catholic|20606|\n",
      "|          Unknown|20022|\n",
      "|Protestant Quaker| 7134|\n",
      "|           Jewish| 5314|\n",
      "|            Other| 5126|\n",
      "|     Episcopalian|  774|\n",
      "+-----------------+-----+"
     ]
    }
   ],
   "source": [
    "df_admissions.groupBy(\"religion_group\").count().orderBy(F.col(\"count\").desc()).show()"
   ]
  },
  {
   "cell_type": "code",
   "execution_count": 46,
   "id": "suspended-elephant",
   "metadata": {},
   "outputs": [
    {
     "data": {
      "application/vnd.jupyter.widget-view+json": {
       "model_id": "1e361cd1ba094d9d9eeff2006d2b2867",
       "version_major": 2,
       "version_minor": 0
      },
      "text/plain": [
       "FloatProgress(value=0.0, bar_style='info', description='Progress:', layout=Layout(height='25px', width='50%'),…"
      ]
     },
     "metadata": {},
     "output_type": "display_data"
    }
   ],
   "source": [
    "x=df_admissions.groupBy('hadm_id',\"religion_group\").count().select('religion_group').toPandas()\n",
    "plt.cla()\n",
    "ax=x.value_counts().plot(kind='bar',legend=False)\n",
    "ax.set_xlabel(\"Religion Type\", fontsize=12)\n",
    "ax.set_ylabel(\"Count\", fontsize=12)\n",
    "ax.get_yaxis().set_major_formatter(matplotlib.ticker.StrMethodFormatter('{x:,.0f}'))\n",
    "#ax.get_legend().remove()\n",
    "rects = ax.patches[:6]\n",
    "ax.set_xticklabels(['Catholic','Unknown',\"Protestant Quaker\",'Jewish',\"Other\",\"Episcopalian\"],rotation=45)\n",
    "\n",
    "#print(rects)\n",
    "\n",
    "# Make some labels.\n",
    "labels = [\"{:,d}\".format(i) for i in x.value_counts()]\n",
    "\n",
    "for rect, label in zip(rects, labels):\n",
    "    height = rect.get_height()\n",
    "    ax.text(rect.get_x() + rect.get_width() / 2, height + 5, label,\n",
    "            ha='center', va='bottom')\n",
    "plt.title(\"Count of Religion Type per Admission\")\n",
    "plt.tight_layout()\n",
    "plt.show()"
   ]
  },
  {
   "cell_type": "code",
   "execution_count": 47,
   "id": "thirty-passion",
   "metadata": {},
   "outputs": [
    {
     "data": {
      "application/vnd.jupyter.widget-view+json": {
       "model_id": "8b99abdb288a487581dc3560fabb387f",
       "version_major": 2,
       "version_minor": 0
      },
      "text/plain": [
       "FloatProgress(value=0.0, bar_style='info', description='Progress:', layout=Layout(height='25px', width='50%'),…"
      ]
     },
     "metadata": {},
     "output_type": "display_data"
    },
    {
     "data": {
      "image/png": "[encoded data removed]",
      "text/plain": [
       "<IPython.core.display.Image object>"
      ]
     },
     "metadata": {},
     "output_type": "display_data"
    }
   ],
   "source": [
    "%matplot plt"
   ]
  },
  {
   "cell_type": "markdown",
   "id": "reflected-composition",
   "metadata": {},
   "source": [
    "### Marital Status"
   ]
  },
  {
   "cell_type": "code",
   "execution_count": 48,
   "id": "dressed-occasion",
   "metadata": {},
   "outputs": [
    {
     "data": {
      "application/vnd.jupyter.widget-view+json": {
       "model_id": "5b6fe4a55f1a42b9ab510512b8c2d39d",
       "version_major": 2,
       "version_minor": 0
      },
      "text/plain": [
       "FloatProgress(value=0.0, bar_style='info', description='Progress:', layout=Layout(height='25px', width='50%'),…"
      ]
     },
     "metadata": {},
     "output_type": "display_data"
    },
    {
     "name": "stdout",
     "output_type": "stream",
     "text": [
      "      marital_status  count\n",
      "0            MARRIED  24239\n",
      "1             SINGLE  13254\n",
      "2               None  10128\n",
      "3            WIDOWED   7211\n",
      "4           DIVORCED   3213\n",
      "5          SEPARATED    571\n",
      "6  UNKNOWN (DEFAULT)    345\n",
      "7       LIFE PARTNER     15"
     ]
    }
   ],
   "source": [
    "x=df_admissions.groupBy(\"marital_status\").count().orderBy(F.col(\"count\").desc()).toPandas()\n",
    "x"
   ]
  },
  {
   "cell_type": "code",
   "execution_count": 54,
   "id": "incoming-parliament",
   "metadata": {},
   "outputs": [
    {
     "data": {
      "application/vnd.jupyter.widget-view+json": {
       "model_id": "ab3890b64e90411fb92a0e71a096106d",
       "version_major": 2,
       "version_minor": 0
      },
      "text/plain": [
       "FloatProgress(value=0.0, bar_style='info', description='Progress:', layout=Layout(height='25px', width='50%'),…"
      ]
     },
     "metadata": {},
     "output_type": "display_data"
    }
   ],
   "source": [
    "df_admissions=df_admissions.withColumn(\"marital_status_group\",F.when(F.col(\"marital_status\").like(\"%MARRIED%\"),\"Married\")\n",
    "                      .when(F.col(\"marital_status\").like(\"%SINGLE%\"),\"Single\")\n",
    "                      .when(F.col(\"marital_status\").like(\"%WIDOW%\"),\"Widowed\")\n",
    "                      .when(F.col(\"marital_status\").like(\"%DIVORCE%\"),\"Divorced\")\n",
    "                      .when(F.col(\"marital_status\").like(\"%SEPARATE%\"),\"Separated\")\n",
    "                      .otherwise(\"Other\"))"
   ]
  },
  {
   "cell_type": "code",
   "execution_count": 55,
   "id": "automated-directory",
   "metadata": {},
   "outputs": [
    {
     "data": {
      "application/vnd.jupyter.widget-view+json": {
       "model_id": "13ff08698eeb4bda93665470394a726f",
       "version_major": 2,
       "version_minor": 0
      },
      "text/plain": [
       "FloatProgress(value=0.0, bar_style='info', description='Progress:', layout=Layout(height='25px', width='50%'),…"
      ]
     },
     "metadata": {},
     "output_type": "display_data"
    },
    {
     "name": "stdout",
     "output_type": "stream",
     "text": [
      "+--------------------+-----+\n",
      "|marital_status_group|count|\n",
      "+--------------------+-----+\n",
      "|             Married|24239|\n",
      "|              Single|13254|\n",
      "|               Other|10488|\n",
      "|             Widowed| 7211|\n",
      "|            Divorced| 3213|\n",
      "|           Separated|  571|\n",
      "+--------------------+-----+"
     ]
    }
   ],
   "source": [
    "df_admissions.groupBy(\"marital_status_group\").count().orderBy(F.col(\"count\").desc()).show()"
   ]
  },
  {
   "cell_type": "code",
   "execution_count": 58,
   "id": "governmental-there",
   "metadata": {},
   "outputs": [
    {
     "data": {
      "application/vnd.jupyter.widget-view+json": {
       "model_id": "d6071431eeed434498eeca5db58aee0a",
       "version_major": 2,
       "version_minor": 0
      },
      "text/plain": [
       "FloatProgress(value=0.0, bar_style='info', description='Progress:', layout=Layout(height='25px', width='50%'),…"
      ]
     },
     "metadata": {},
     "output_type": "display_data"
    }
   ],
   "source": [
    "x=df_admissions.groupBy('hadm_id',\"marital_status_group\").count().select('marital_status_group').toPandas()\n",
    "plt.cla()\n",
    "ax=x.value_counts().plot(kind='bar',legend=False)\n",
    "ax.set_xlabel(\"Marital Status Type\", fontsize=12)\n",
    "ax.set_ylabel(\"Count\", fontsize=12)\n",
    "ax.get_yaxis().set_major_formatter(matplotlib.ticker.StrMethodFormatter('{x:,.0f}'))\n",
    "#ax.get_legend().remove()\n",
    "rects = ax.patches[:6]\n",
    "ax.set_xticklabels(['Married','Single',\"Other\",'Widowed',\"Divorced\",\"Separated\"],rotation=45)\n",
    "\n",
    "#print(rects)\n",
    "\n",
    "# Make some labels.\n",
    "labels = [\"{:,d}\".format(i) for i in x.value_counts()]\n",
    "\n",
    "for rect, label in zip(rects, labels):\n",
    "    height = rect.get_height()\n",
    "    ax.text(rect.get_x() + rect.get_width() / 2, height + 5, label,\n",
    "            ha='center', va='bottom')\n",
    "plt.title(\"Count of Marital Status Type per Admission\")\n",
    "plt.tight_layout()\n",
    "plt.show()"
   ]
  },
  {
   "cell_type": "code",
   "execution_count": 59,
   "id": "referenced-medicaid",
   "metadata": {},
   "outputs": [
    {
     "data": {
      "application/vnd.jupyter.widget-view+json": {
       "model_id": "609f36d99fbf4e92850fca102ba40520",
       "version_major": 2,
       "version_minor": 0
      },
      "text/plain": [
       "FloatProgress(value=0.0, bar_style='info', description='Progress:', layout=Layout(height='25px', width='50%'),…"
      ]
     },
     "metadata": {},
     "output_type": "display_data"
    },
    {
     "data": {
      "image/png": "[encoded data removed]",
      "text/plain": [
       "<IPython.core.display.Image object>"
      ]
     },
     "metadata": {},
     "output_type": "display_data"
    }
   ],
   "source": [
    "%matplot plt"
   ]
  }
 ],
 "metadata": {
  "kernelspec": {
   "display_name": "Sparkmagic (PySpark)",
   "language": "python",
   "name": "pysparkkernel"
  },
  "language_info": {
   "codemirror_mode": {
    "name": "python",
    "version": 3
   },
   "file_extension": ".py",
   "mimetype": "text/x-python",
   "name": "pyspark",
   "pygments_lexer": "python3"
  }
 },
 "nbformat": 4,
 "nbformat_minor": 5
}
