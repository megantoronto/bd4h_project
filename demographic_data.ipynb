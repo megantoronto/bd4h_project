{
 "cells": [
  {
   "cell_type": "markdown",
   "id": "phantom-alert",
   "metadata": {},
   "source": [
    "# Create Demographic Features"
   ]
  },
  {
   "cell_type": "markdown",
   "id": "unable-actor",
   "metadata": {},
   "source": [
    "#### Configure Spark and import all necessary libraries"
   ]
  },
  {
   "cell_type": "code",
   "execution_count": 1,
   "id": "sophisticated-preliminary",
   "metadata": {},
   "outputs": [
    {
     "data": {
      "text/html": [
       "Current session configs: <tt>{'conf': {'spark.pyspark.python': 'python3', 'spark.pyspark.virtualenv.enabled': 'true', 'spark.pyspark.virtualenv.type': 'native', 'spark.pyspark.virtualenv.bin.path': '/usr/bin/virtualenv'}, 'kind': 'pyspark'}</tt><br>"
      ],
      "text/plain": [
       "<IPython.core.display.HTML object>"
      ]
     },
     "metadata": {},
     "output_type": "display_data"
    },
    {
     "data": {
      "text/html": [
       "No active sessions."
      ],
      "text/plain": [
       "<IPython.core.display.HTML object>"
      ]
     },
     "metadata": {},
     "output_type": "display_data"
    }
   ],
   "source": [
    "%%configure -f\n",
    "{ \"conf\":{\n",
    "          \"spark.pyspark.python\": \"python3\",\n",
    "          \"spark.pyspark.virtualenv.enabled\": \"true\",\n",
    "          \"spark.pyspark.virtualenv.type\":\"native\",\n",
    "          \"spark.pyspark.virtualenv.bin.path\":\"/usr/bin/virtualenv\"\n",
    "         }\n",
    "}"
   ]
  },
  {
   "cell_type": "code",
   "execution_count": 2,
   "id": "changing-timing",
   "metadata": {},
   "outputs": [
    {
     "name": "stdout",
     "output_type": "stream",
     "text": [
      "Starting Spark application\n"
     ]
    },
    {
     "data": {
      "text/html": [
       "<table>\n",
       "<tr><th>ID</th><th>YARN Application ID</th><th>Kind</th><th>State</th><th>Spark UI</th><th>Driver log</th><th>User</th><th>Current session?</th></tr><tr><td>0</td><td>application_1618618538590_0001</td><td>pyspark</td><td>idle</td><td><a target=\"_blank\" href=\"http://ip-172-31-51-132.ec2.internal:20888/proxy/application_1618618538590_0001/\">Link</a></td><td><a target=\"_blank\" href=\"http://ip-172-31-49-200.ec2.internal:8042/node/containerlogs/container_1618618538590_0001_01_000001/livy\">Link</a></td><td>None</td><td>✔</td></tr></table>"
      ],
      "text/plain": [
       "<IPython.core.display.HTML object>"
      ]
     },
     "metadata": {},
     "output_type": "display_data"
    },
    {
     "data": {
      "application/vnd.jupyter.widget-view+json": {
       "model_id": "b4ebea89456d41ed84db60578b329b6f",
       "version_major": 2,
       "version_minor": 0
      },
      "text/plain": [
       "FloatProgress(value=0.0, bar_style='info', description='Progress:', layout=Layout(height='25px', width='50%'),…"
      ]
     },
     "metadata": {},
     "output_type": "display_data"
    },
    {
     "name": "stdout",
     "output_type": "stream",
     "text": [
      "SparkSession available as 'spark'.\n"
     ]
    },
    {
     "data": {
      "application/vnd.jupyter.widget-view+json": {
       "model_id": "1dbadf13483a4c059eb40ed58865565a",
       "version_major": 2,
       "version_minor": 0
      },
      "text/plain": [
       "FloatProgress(value=0.0, bar_style='info', description='Progress:', layout=Layout(height='25px', width='50%'),…"
      ]
     },
     "metadata": {},
     "output_type": "display_data"
    },
    {
     "name": "stdout",
     "output_type": "stream",
     "text": [
      "Collecting pandas\n",
      "  Downloading https://files.pythonhosted.org/packages/51/51/48f3fc47c4e2144da2806dfb6629c4dd1fa3d5a143f9652b141e979a8ca9/pandas-1.2.4-cp37-cp37m-manylinux1_x86_64.whl (9.9MB)\n",
      "Requirement already satisfied: numpy>=1.16.5 in /usr/local/lib64/python3.7/site-packages (from pandas)\n",
      "Requirement already satisfied: pytz>=2017.3 in /usr/local/lib/python3.7/site-packages (from pandas)\n",
      "Collecting python-dateutil>=2.7.3 (from pandas)\n",
      "  Downloading https://files.pythonhosted.org/packages/d4/70/d60450c3dd48ef87586924207ae8907090de0b306af2bce5d134d78615cb/python_dateutil-2.8.1-py2.py3-none-any.whl (227kB)\n",
      "Requirement already satisfied: six>=1.5 in /usr/local/lib/python3.7/site-packages (from python-dateutil>=2.7.3->pandas)\n",
      "Installing collected packages: python-dateutil, pandas\n",
      "Successfully installed pandas-1.2.4 python-dateutil-2.8.1\n",
      "\n",
      "Collecting boto3\n",
      "  Downloading https://files.pythonhosted.org/packages/62/b3/8c889dd3d5ae47a9c4468cc20ef980adc4a16f06f0937ab33f78b58b5eda/boto3-1.17.53-py2.py3-none-any.whl (131kB)\n",
      "Collecting botocore<1.21.0,>=1.20.53 (from boto3)\n",
      "  Downloading https://files.pythonhosted.org/packages/92/4e/232e261b739534e216f28d935a06c44840221c3476ebcdb411cd0fc2bf16/botocore-1.20.53-py2.py3-none-any.whl (7.4MB)\n",
      "Requirement already satisfied: jmespath<1.0.0,>=0.7.1 in /usr/local/lib/python3.7/site-packages (from boto3)\n",
      "Collecting s3transfer<0.4.0,>=0.3.0 (from boto3)\n",
      "  Downloading https://files.pythonhosted.org/packages/00/89/0cb4e92c239e6425b9b0035227b8cdf9d3d098a5c9e95632c3815df63a09/s3transfer-0.3.7-py2.py3-none-any.whl (73kB)\n",
      "Collecting urllib3<1.27,>=1.25.4 (from botocore<1.21.0,>=1.20.53->boto3)\n",
      "  Downloading https://files.pythonhosted.org/packages/09/c6/d3e3abe5b4f4f16cf0dfc9240ab7ce10c2baa0e268989a4e3ec19e90c84e/urllib3-1.26.4-py2.py3-none-any.whl (153kB)\n",
      "Requirement already satisfied: python-dateutil<3.0.0,>=2.1 in /mnt/tmp/1618619234170-0/lib/python3.7/site-packages (from botocore<1.21.0,>=1.20.53->boto3)\n",
      "Requirement already satisfied: six>=1.5 in /usr/local/lib/python3.7/site-packages (from python-dateutil<3.0.0,>=2.1->botocore<1.21.0,>=1.20.53->boto3)\n",
      "Installing collected packages: urllib3, botocore, s3transfer, boto3\n",
      "Successfully installed boto3-1.17.53 botocore-1.20.53 s3transfer-0.3.7 urllib3-1.26.4"
     ]
    }
   ],
   "source": [
    "sc.install_pypi_package(\"pandas\")\n",
    "sc.install_pypi_package('boto3')"
   ]
  },
  {
   "cell_type": "code",
   "execution_count": 5,
   "id": "owned-geometry",
   "metadata": {},
   "outputs": [
    {
     "data": {
      "application/vnd.jupyter.widget-view+json": {
       "model_id": "aba5860c87904c28a28e0d5be3ac2a62",
       "version_major": 2,
       "version_minor": 0
      },
      "text/plain": [
       "FloatProgress(value=0.0, bar_style='info', description='Progress:', layout=Layout(height='25px', width='50%'),…"
      ]
     },
     "metadata": {},
     "output_type": "display_data"
    }
   ],
   "source": [
    "import pandas as pd\n",
    "import boto3\n",
    "from pyspark.sql import functions as F\n",
    "from pyspark.sql.window import Window"
   ]
  },
  {
   "cell_type": "markdown",
   "id": "provincial-genius",
   "metadata": {},
   "source": [
    "#### Pull the Data"
   ]
  },
  {
   "cell_type": "code",
   "execution_count": 25,
   "id": "funded-manner",
   "metadata": {},
   "outputs": [
    {
     "data": {
      "application/vnd.jupyter.widget-view+json": {
       "model_id": "6e88e0a9e1194a04a0a1003c93a9916b",
       "version_major": 2,
       "version_minor": 0
      },
      "text/plain": [
       "FloatProgress(value=0.0, bar_style='info', description='Progress:', layout=Layout(height='25px', width='50%'),…"
      ]
     },
     "metadata": {},
     "output_type": "display_data"
    }
   ],
   "source": [
    "df_admissions=spark.read.parquet('s3://mimic-iii-physionet/parquet/ADMISSIONS/')"
   ]
  },
  {
   "cell_type": "code",
   "execution_count": 26,
   "id": "healthy-biology",
   "metadata": {},
   "outputs": [
    {
     "data": {
      "application/vnd.jupyter.widget-view+json": {
       "model_id": "675ec85deeaa4691a4f6b8a7c29e1108",
       "version_major": 2,
       "version_minor": 0
      },
      "text/plain": [
       "FloatProgress(value=0.0, bar_style='info', description='Progress:', layout=Layout(height='25px', width='50%'),…"
      ]
     },
     "metadata": {},
     "output_type": "display_data"
    },
    {
     "name": "stdout",
     "output_type": "stream",
     "text": [
      "['row_id', 'subject_id', 'hadm_id', 'admittime', 'dischtime', 'deathtime', 'admission_type', 'admission_location', 'discharge_location', 'insurance', 'language', 'religion', 'marital_status', 'ethnicity', 'edregtime', 'edouttime', 'diagnosis', 'hospital_expire_flag', 'has_chartevents_data']"
     ]
    }
   ],
   "source": [
    "df_admissions.columns"
   ]
  },
  {
   "cell_type": "code",
   "execution_count": 27,
   "id": "waiting-threshold",
   "metadata": {},
   "outputs": [
    {
     "data": {
      "application/vnd.jupyter.widget-view+json": {
       "model_id": "87c26dd360de4899aa1d80d0b45c0870",
       "version_major": 2,
       "version_minor": 0
      },
      "text/plain": [
       "FloatProgress(value=0.0, bar_style='info', description='Progress:', layout=Layout(height='25px', width='50%'),…"
      ]
     },
     "metadata": {},
     "output_type": "display_data"
    },
    {
     "name": "stdout",
     "output_type": "stream",
     "text": [
      "58976"
     ]
    }
   ],
   "source": [
    "df_admissions.count()"
   ]
  },
  {
   "cell_type": "code",
   "execution_count": 12,
   "id": "dress-mountain",
   "metadata": {},
   "outputs": [
    {
     "data": {
      "application/vnd.jupyter.widget-view+json": {
       "model_id": "83b6567b9524456d8b0f51c4a78c057f",
       "version_major": 2,
       "version_minor": 0
      },
      "text/plain": [
       "FloatProgress(value=0.0, bar_style='info', description='Progress:', layout=Layout(height='25px', width='50%'),…"
      ]
     },
     "metadata": {},
     "output_type": "display_data"
    }
   ],
   "source": [
    "df_patients=spark.read.parquet('s3://mimic-iii-physionet/parquet/PATIENTS/')"
   ]
  },
  {
   "cell_type": "code",
   "execution_count": 13,
   "id": "norman-excitement",
   "metadata": {},
   "outputs": [
    {
     "data": {
      "application/vnd.jupyter.widget-view+json": {
       "model_id": "191a299d19254f97946f598ff1beaa64",
       "version_major": 2,
       "version_minor": 0
      },
      "text/plain": [
       "FloatProgress(value=0.0, bar_style='info', description='Progress:', layout=Layout(height='25px', width='50%'),…"
      ]
     },
     "metadata": {},
     "output_type": "display_data"
    },
    {
     "name": "stdout",
     "output_type": "stream",
     "text": [
      "['row_id', 'subject_id', 'gender', 'dob', 'dod', 'dod_hosp', 'dod_ssn', 'expire_flag']"
     ]
    }
   ],
   "source": [
    "df_patients.columns"
   ]
  },
  {
   "cell_type": "markdown",
   "id": "angry-pasta",
   "metadata": {},
   "source": [
    "#### Filter the Data for Relevant HADM IDs"
   ]
  },
  {
   "cell_type": "code",
   "execution_count": 21,
   "id": "horizontal-making",
   "metadata": {},
   "outputs": [
    {
     "data": {
      "application/vnd.jupyter.widget-view+json": {
       "model_id": "bc001a01b27748fd996ba39276fb60c7",
       "version_major": 2,
       "version_minor": 0
      },
      "text/plain": [
       "FloatProgress(value=0.0, bar_style='info', description='Progress:', layout=Layout(height='25px', width='50%'),…"
      ]
     },
     "metadata": {},
     "output_type": "display_data"
    }
   ],
   "source": [
    "bucket='allstays' # Or whatever you called your bucket\n",
    "data_key = 'all_stays.csv' # Where the file is within your bucket\n",
    "data_location = 's3://{}/{}'.format(bucket, data_key)\n",
    "df = spark.read.option(\"header\",True).csv(data_location)"
   ]
  },
  {
   "cell_type": "code",
   "execution_count": 22,
   "id": "eleven-gardening",
   "metadata": {},
   "outputs": [
    {
     "data": {
      "application/vnd.jupyter.widget-view+json": {
       "model_id": "93f4ab32a3e14d25999096f1931cba4a",
       "version_major": 2,
       "version_minor": 0
      },
      "text/plain": [
       "FloatProgress(value=0.0, bar_style='info', description='Progress:', layout=Layout(height='25px', width='50%'),…"
      ]
     },
     "metadata": {},
     "output_type": "display_data"
    }
   ],
   "source": [
    "df_hadm = df.select(\"SUBJECT_ID\",\"HADM_ID\").withColumnRenamed(\"SUBJECT_ID\",\"subject_id\").withColumnRenamed(\"HADM_ID\",\"hadm_id\")"
   ]
  },
  {
   "cell_type": "code",
   "execution_count": 28,
   "id": "renewable-unemployment",
   "metadata": {},
   "outputs": [
    {
     "data": {
      "application/vnd.jupyter.widget-view+json": {
       "model_id": "40e233298fa444adb1b4d65bae1671fb",
       "version_major": 2,
       "version_minor": 0
      },
      "text/plain": [
       "FloatProgress(value=0.0, bar_style='info', description='Progress:', layout=Layout(height='25px', width='50%'),…"
      ]
     },
     "metadata": {},
     "output_type": "display_data"
    }
   ],
   "source": [
    "df_admissions=df_admissions.select(\"*\").join(df_hadm,[\"hadm_id\",\"subject_id\"])"
   ]
  },
  {
   "cell_type": "code",
   "execution_count": 29,
   "id": "consistent-detective",
   "metadata": {},
   "outputs": [
    {
     "data": {
      "application/vnd.jupyter.widget-view+json": {
       "model_id": "d07181f30130458db8991af5d4f8421f",
       "version_major": 2,
       "version_minor": 0
      },
      "text/plain": [
       "FloatProgress(value=0.0, bar_style='info', description='Progress:', layout=Layout(height='25px', width='50%'),…"
      ]
     },
     "metadata": {},
     "output_type": "display_data"
    },
    {
     "name": "stdout",
     "output_type": "stream",
     "text": [
      "42276"
     ]
    }
   ],
   "source": [
    "df_admissions.count()"
   ]
  },
  {
   "cell_type": "markdown",
   "id": "rough-location",
   "metadata": {},
   "source": [
    "#### Add Grouped Columns"
   ]
  },
  {
   "cell_type": "code",
   "execution_count": 30,
   "id": "partial-carolina",
   "metadata": {},
   "outputs": [
    {
     "data": {
      "application/vnd.jupyter.widget-view+json": {
       "model_id": "b5844127207b495389f00d34454c4cf9",
       "version_major": 2,
       "version_minor": 0
      },
      "text/plain": [
       "FloatProgress(value=0.0, bar_style='info', description='Progress:', layout=Layout(height='25px', width='50%'),…"
      ]
     },
     "metadata": {},
     "output_type": "display_data"
    }
   ],
   "source": [
    "df_admissions=df_admissions.withColumn(\"ethnicity_group\",F.when(F.col(\"ethnicity\").like(\"%WHITE%\"),\"White\")\n",
    "                      .when(F.col(\"ethnicity\").like(\"%ASIAN%\"),\"Asian\")\n",
    "                      .when(F.col(\"ethnicity\").like(\"%BLACK%\"),\"Black\")\n",
    "                      .when(F.col(\"ethnicity\").like(\"%HISPANIC%\"),\"Hispanic\")\n",
    "                      .when(F.col(\"ethnicity\").like(\"%UNKNOWN%\"),\"Unknown\")\n",
    "                      .when(F.col(\"ethnicity\").like(\"%UNABLE%\"),\"Unknown\")\n",
    "                      .when(F.col(\"ethnicity\").like(\"%DECLINED%\"),\"Unknown\")\n",
    "                      .otherwise(\"Other\"))"
   ]
  },
  {
   "cell_type": "code",
   "execution_count": 31,
   "id": "ambient-potential",
   "metadata": {},
   "outputs": [
    {
     "data": {
      "application/vnd.jupyter.widget-view+json": {
       "model_id": "c59740eb432a423d918eee05269dfe65",
       "version_major": 2,
       "version_minor": 0
      },
      "text/plain": [
       "FloatProgress(value=0.0, bar_style='info', description='Progress:', layout=Layout(height='25px', width='50%'),…"
      ]
     },
     "metadata": {},
     "output_type": "display_data"
    }
   ],
   "source": [
    "df_admissions=df_admissions.withColumn(\"religion_group\",F.when(F.col(\"religion\").like(\"%NOT%\"),\"Unknown\")\n",
    "                      .when(F.col(\"religion\").like(\"%UNOBTAINABLE%\"),\"Unknown\")\n",
    "                      .when(F.col(\"religion\").like(\"%CATHOLIC%\"),\"Catholic\")\n",
    "                      .when(F.col(\"religion\").like(\"%PROTESTANT%\"),\"Protestant Quaker\")\n",
    "                      .when(F.col(\"religion\").like(\"%JEWISH%\"),\"Jewish\")\n",
    "                      .when(F.col(\"religion\").like(\"%EPISCOPALIAN%\"),\"Episcopalian\")\n",
    "                      .otherwise(\"Other\"))"
   ]
  },
  {
   "cell_type": "code",
   "execution_count": 32,
   "id": "annoying-termination",
   "metadata": {},
   "outputs": [
    {
     "data": {
      "application/vnd.jupyter.widget-view+json": {
       "model_id": "592aa294719642e68b523ff451c55498",
       "version_major": 2,
       "version_minor": 0
      },
      "text/plain": [
       "FloatProgress(value=0.0, bar_style='info', description='Progress:', layout=Layout(height='25px', width='50%'),…"
      ]
     },
     "metadata": {},
     "output_type": "display_data"
    }
   ],
   "source": [
    "df_admissions=df_admissions.withColumn(\"marital_status_group\",F.when(F.col(\"marital_status\").like(\"%MARRIED%\"),\"Married\")\n",
    "                      .when(F.col(\"marital_status\").like(\"%SINGLE%\"),\"Single\")\n",
    "                      .when(F.col(\"marital_status\").like(\"%WIDOW%\"),\"Widowed\")\n",
    "                      .when(F.col(\"marital_status\").like(\"%DIVORCE%\"),\"Divorced\")\n",
    "                      .when(F.col(\"marital_status\").like(\"%SEPARATE%\"),\"Separated\")\n",
    "                      .otherwise(\"Other\"))"
   ]
  },
  {
   "cell_type": "code",
   "execution_count": 33,
   "id": "proprietary-henry",
   "metadata": {},
   "outputs": [
    {
     "data": {
      "application/vnd.jupyter.widget-view+json": {
       "model_id": "5157da0d622f4cd487b4ff3c3c047117",
       "version_major": 2,
       "version_minor": 0
      },
      "text/plain": [
       "FloatProgress(value=0.0, bar_style='info', description='Progress:', layout=Layout(height='25px', width='50%'),…"
      ]
     },
     "metadata": {},
     "output_type": "display_data"
    }
   ],
   "source": [
    "#Join with patients table to get gender\n",
    "df_admin_patients = df_admissions.join(df_patients,['subject_id'])"
   ]
  },
  {
   "cell_type": "markdown",
   "id": "advised-electron",
   "metadata": {},
   "source": [
    "#### Create Final CSV"
   ]
  },
  {
   "cell_type": "code",
   "execution_count": 34,
   "id": "vulnerable-input",
   "metadata": {},
   "outputs": [
    {
     "data": {
      "application/vnd.jupyter.widget-view+json": {
       "model_id": "0568fc5c0a484b128cdd9d4016ed3502",
       "version_major": 2,
       "version_minor": 0
      },
      "text/plain": [
       "FloatProgress(value=0.0, bar_style='info', description='Progress:', layout=Layout(height='25px', width='50%'),…"
      ]
     },
     "metadata": {},
     "output_type": "display_data"
    }
   ],
   "source": [
    "df_csv=df_admin_patients.select('subject_id','hadm_id','insurance','ethnicity_group','marital_status_group','gender','admittime').toPandas()"
   ]
  },
  {
   "cell_type": "code",
   "execution_count": 35,
   "id": "elementary-former",
   "metadata": {},
   "outputs": [
    {
     "data": {
      "application/vnd.jupyter.widget-view+json": {
       "model_id": "8ecefd4e06b44c8bbc0ab904e1de2f86",
       "version_major": 2,
       "version_minor": 0
      },
      "text/plain": [
       "FloatProgress(value=0.0, bar_style='info', description='Progress:', layout=Layout(height='25px', width='50%'),…"
      ]
     },
     "metadata": {},
     "output_type": "display_data"
    }
   ],
   "source": [
    "df_csv['episode_count']=df_csv.groupby([\"subject_id\"])['admittime'].rank()"
   ]
  },
  {
   "cell_type": "code",
   "execution_count": 36,
   "id": "annual-soldier",
   "metadata": {},
   "outputs": [
    {
     "data": {
      "application/vnd.jupyter.widget-view+json": {
       "model_id": "af4705d1b70b41a7a9552c10a2afaf2e",
       "version_major": 2,
       "version_minor": 0
      },
      "text/plain": [
       "FloatProgress(value=0.0, bar_style='info', description='Progress:', layout=Layout(height='25px', width='50%'),…"
      ]
     },
     "metadata": {},
     "output_type": "display_data"
    }
   ],
   "source": [
    "df_csv['filename']=df_csv.apply(lambda x: str(x[\"subject_id\"])+\"_episode\"+str(int(x['episode_count']))+\"_timeseries.csv\",axis=1)"
   ]
  },
  {
   "cell_type": "code",
   "execution_count": 37,
   "id": "drawn-platform",
   "metadata": {},
   "outputs": [
    {
     "data": {
      "application/vnd.jupyter.widget-view+json": {
       "model_id": "974c668d21f84b8ca2e2dfc035b086e1",
       "version_major": 2,
       "version_minor": 0
      },
      "text/plain": [
       "FloatProgress(value=0.0, bar_style='info', description='Progress:', layout=Layout(height='25px', width='50%'),…"
      ]
     },
     "metadata": {},
     "output_type": "display_data"
    },
    {
     "name": "stdout",
     "output_type": "stream",
     "text": [
      "       subject_id  hadm_id  ... episode_count                       filename\n",
      "0              22   165315  ...           1.0     22_episode1_timeseries.csv\n",
      "1              23   152223  ...           1.0     23_episode1_timeseries.csv\n",
      "2              23   124321  ...           2.0     23_episode2_timeseries.csv\n",
      "3              24   161859  ...           1.0     24_episode1_timeseries.csv\n",
      "4              25   129635  ...           1.0     25_episode1_timeseries.csv\n",
      "...           ...      ...  ...           ...                            ...\n",
      "42271       98800   191113  ...           1.0  98800_episode1_timeseries.csv\n",
      "42272       98802   101071  ...           1.0  98802_episode1_timeseries.csv\n",
      "42273       98805   122631  ...           1.0  98805_episode1_timeseries.csv\n",
      "42274       98813   170407  ...           1.0  98813_episode1_timeseries.csv\n",
      "42275       98813   190264  ...           2.0  98813_episode2_timeseries.csv\n",
      "\n",
      "[42276 rows x 9 columns]"
     ]
    }
   ],
   "source": [
    "df_csv"
   ]
  },
  {
   "cell_type": "code",
   "execution_count": 38,
   "id": "spatial-framework",
   "metadata": {},
   "outputs": [
    {
     "data": {
      "application/vnd.jupyter.widget-view+json": {
       "model_id": "4c15182e15d94d0ca3203d72f8aeed1e",
       "version_major": 2,
       "version_minor": 0
      },
      "text/plain": [
       "FloatProgress(value=0.0, bar_style='info', description='Progress:', layout=Layout(height='25px', width='50%'),…"
      ]
     },
     "metadata": {},
     "output_type": "display_data"
    },
    {
     "name": "stdout",
     "output_type": "stream",
     "text": [
      "{'ResponseMetadata': {'RequestId': 'TR545EQ3Y4XYD837', 'HostId': 'u6KGk4KN2l+y5UaQ9VUER1i1cb+82di//p2VeUXf8wRgP3sUFw9lvC0sIhsbRqj86jGdl2FrR9k=', 'HTTPStatusCode': 200, 'HTTPHeaders': {'x-amz-id-2': 'u6KGk4KN2l+y5UaQ9VUER1i1cb+82di//p2VeUXf8wRgP3sUFw9lvC0sIhsbRqj86jGdl2FrR9k=', 'x-amz-request-id': 'TR545EQ3Y4XYD837', 'date': 'Sat, 17 Apr 2021 00:41:33 GMT', 'etag': '\"a89d18c7a5e457d0eccc698940683674\"', 'content-length': '0', 'server': 'AmazonS3'}, 'RetryAttempts': 0}, 'ETag': '\"a89d18c7a5e457d0eccc698940683674\"'}"
     ]
    }
   ],
   "source": [
    "from io import StringIO # python3; python2: BytesIO \n",
    "\n",
    "bucket = 'allstays' # already created on S3\n",
    "csv_buffer = StringIO()\n",
    "df_csv.to_csv(csv_buffer)\n",
    "s3_resource = boto3.resource('s3')\n",
    "s3_resource.Object(bucket, 'demographic_data.csv').put(Body=csv_buffer.getvalue())"
   ]
  },
  {
   "cell_type": "code",
   "execution_count": null,
   "id": "indonesian-brazil",
   "metadata": {},
   "outputs": [],
   "source": []
  }
 ],
 "metadata": {
  "kernelspec": {
   "display_name": "Sparkmagic (PySpark)",
   "language": "python",
   "name": "pysparkkernel"
  },
  "language_info": {
   "codemirror_mode": {
    "name": "python",
    "version": 3
   },
   "file_extension": ".py",
   "mimetype": "text/x-python",
   "name": "pyspark",
   "pygments_lexer": "python3"
  }
 },
 "nbformat": 4,
 "nbformat_minor": 5
}
