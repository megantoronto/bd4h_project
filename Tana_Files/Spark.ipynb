{
 "cells": [
  {
   "cell_type": "code",
   "execution_count": 1,
   "id": "proprietary-proportion",
   "metadata": {},
   "outputs": [
    {
     "data": {
      "text/html": [
       "Current session configs: <tt>{'conf': {'spark.pyspark.python': 'python3', 'spark.pyspark.virtualenv.enabled': 'true', 'spark.pyspark.virtualenv.type': 'native', 'spark.pyspark.virtualenv.bin.path': '/usr/bin/virtualenv'}, 'kind': 'pyspark'}</tt><br>"
      ],
      "text/plain": [
       "<IPython.core.display.HTML object>"
      ]
     },
     "metadata": {},
     "output_type": "display_data"
    },
    {
     "data": {
      "text/html": [
       "No active sessions."
      ],
      "text/plain": [
       "<IPython.core.display.HTML object>"
      ]
     },
     "metadata": {},
     "output_type": "display_data"
    }
   ],
   "source": [
    "%%configure -f\n",
    "{ \"conf\":{\n",
    "          \"spark.pyspark.python\": \"python3\",\n",
    "          \"spark.pyspark.virtualenv.enabled\": \"true\",\n",
    "          \"spark.pyspark.virtualenv.type\":\"native\",\n",
    "          \"spark.pyspark.virtualenv.bin.path\":\"/usr/bin/virtualenv\"\n",
    "         }\n",
    "}"
   ]
  },
  {
   "cell_type": "code",
   "execution_count": 2,
   "id": "anonymous-pharmacy",
   "metadata": {},
   "outputs": [
    {
     "name": "stdout",
     "output_type": "stream",
     "text": [
      "Starting Spark application\n"
     ]
    },
    {
     "data": {
      "text/html": [
       "<table>\n",
       "<tr><th>ID</th><th>YARN Application ID</th><th>Kind</th><th>State</th><th>Spark UI</th><th>Driver log</th><th>User</th><th>Current session?</th></tr><tr><td>0</td><td>application_1618069408444_0001</td><td>pyspark</td><td>idle</td><td><a target=\"_blank\" href=\"http://ip-172-31-57-9.ec2.internal:20888/proxy/application_1618069408444_0001/\">Link</a></td><td><a target=\"_blank\" href=\"http://ip-172-31-48-156.ec2.internal:8042/node/containerlogs/container_1618069408444_0001_01_000001/livy\">Link</a></td><td>None</td><td>✔</td></tr></table>"
      ],
      "text/plain": [
       "<IPython.core.display.HTML object>"
      ]
     },
     "metadata": {},
     "output_type": "display_data"
    },
    {
     "data": {
      "application/vnd.jupyter.widget-view+json": {
       "model_id": "aa67a59ec29547c68ebeb0192d2e8b9a",
       "version_major": 2,
       "version_minor": 0
      },
      "text/plain": [
       "FloatProgress(value=0.0, bar_style='info', description='Progress:', layout=Layout(height='25px', width='50%'),…"
      ]
     },
     "metadata": {},
     "output_type": "display_data"
    },
    {
     "name": "stdout",
     "output_type": "stream",
     "text": [
      "SparkSession available as 'spark'.\n"
     ]
    },
    {
     "data": {
      "application/vnd.jupyter.widget-view+json": {
       "model_id": "db8711cf38f043d4aafc91ce17f1fab5",
       "version_major": 2,
       "version_minor": 0
      },
      "text/plain": [
       "FloatProgress(value=0.0, bar_style='info', description='Progress:', layout=Layout(height='25px', width='50%'),…"
      ]
     },
     "metadata": {},
     "output_type": "display_data"
    },
    {
     "name": "stdout",
     "output_type": "stream",
     "text": [
      "Collecting pandas\n",
      "  Downloading https://files.pythonhosted.org/packages/f3/d4/3fe3b5bf9886912b64ef040040aec356fa48825e5a829a84c2667afdf952/pandas-1.2.3-cp37-cp37m-manylinux1_x86_64.whl (9.9MB)\n",
      "Requirement already satisfied: numpy>=1.16.5 in /usr/local/lib64/python3.7/site-packages (from pandas)\n",
      "Requirement already satisfied: pytz>=2017.3 in /usr/local/lib/python3.7/site-packages (from pandas)\n",
      "Collecting python-dateutil>=2.7.3 (from pandas)\n",
      "  Downloading https://files.pythonhosted.org/packages/d4/70/d60450c3dd48ef87586924207ae8907090de0b306af2bce5d134d78615cb/python_dateutil-2.8.1-py2.py3-none-any.whl (227kB)\n",
      "Requirement already satisfied: six>=1.5 in /usr/local/lib/python3.7/site-packages (from python-dateutil>=2.7.3->pandas)\n",
      "Installing collected packages: python-dateutil, pandas\n",
      "Successfully installed pandas-1.2.3 python-dateutil-2.8.1"
     ]
    }
   ],
   "source": [
    "sc.install_pypi_package(\"pandas\")"
   ]
  },
  {
   "cell_type": "code",
   "execution_count": 29,
   "id": "widespread-validity",
   "metadata": {},
   "outputs": [
    {
     "data": {
      "application/vnd.jupyter.widget-view+json": {
       "model_id": "6967d015fd284e558784d65d977566c7",
       "version_major": 2,
       "version_minor": 0
      },
      "text/plain": [
       "FloatProgress(value=0.0, bar_style='info', description='Progress:', layout=Layout(height='25px', width='50%'),…"
      ]
     },
     "metadata": {},
     "output_type": "display_data"
    }
   ],
   "source": [
    "from pyspark.sql import functions as F\n"
   ]
  },
  {
   "cell_type": "code",
   "execution_count": 30,
   "id": "effective-verification",
   "metadata": {},
   "outputs": [
    {
     "data": {
      "application/vnd.jupyter.widget-view+json": {
       "model_id": "95243fdccdf448e2a155cf569ce318e9",
       "version_major": 2,
       "version_minor": 0
      },
      "text/plain": [
       "FloatProgress(value=0.0, bar_style='info', description='Progress:', layout=Layout(height='25px', width='50%'),…"
      ]
     },
     "metadata": {},
     "output_type": "display_data"
    },
    {
     "name": "stdout",
     "output_type": "stream",
     "text": [
      "DataFrame[ROW_ID: int, SUBJECT_ID: int, HADM_ID: int, ICUSTAY_ID: int, ITEMID: int, CHARTTIME: timestamp, STORETIME: timestamp, CGID: int, VALUE: string, VALUENUM: double, VALUEUOM: string, WARNING: int, ERROR: int, RESULTSTATUS: string, STOPPED: string]"
     ]
    }
   ],
   "source": [
    "charts = spark.read.parquet('s3://mimic-iii-physionet/parquet/CHARTEVENTS/')\n",
    "charts = charts.select([F.col(x).alias(x.upper()) for x in charts.columns])\n",
    "charts"
   ]
  },
  {
   "cell_type": "code",
   "execution_count": 4,
   "id": "olympic-plate",
   "metadata": {},
   "outputs": [
    {
     "data": {
      "application/vnd.jupyter.widget-view+json": {
       "model_id": "382500925b0e43a69778063f706236e6",
       "version_major": 2,
       "version_minor": 0
      },
      "text/plain": [
       "FloatProgress(value=0.0, bar_style='info', description='Progress:', layout=Layout(height='25px', width='50%'),…"
      ]
     },
     "metadata": {},
     "output_type": "display_data"
    },
    {
     "name": "stdout",
     "output_type": "stream",
     "text": [
      "(330712483, 15)"
     ]
    }
   ],
   "source": [
    "print((charts.count(), len(charts.columns)))"
   ]
  },
  {
   "cell_type": "code",
   "execution_count": 31,
   "id": "false-douglas",
   "metadata": {},
   "outputs": [
    {
     "data": {
      "application/vnd.jupyter.widget-view+json": {
       "model_id": "7df35e0db781407f85dd5d836e7e4573",
       "version_major": 2,
       "version_minor": 0
      },
      "text/plain": [
       "FloatProgress(value=0.0, bar_style='info', description='Progress:', layout=Layout(height='25px', width='50%'),…"
      ]
     },
     "metadata": {},
     "output_type": "display_data"
    },
    {
     "name": "stdout",
     "output_type": "stream",
     "text": [
      "DataFrame[ROW_ID: int, SUBJECT_ID: int, GENDER: string, DOB: timestamp, DOD: timestamp, DOD_HOSP: timestamp, DOD_SSN: timestamp, EXPIRE_FLAG: int]"
     ]
    }
   ],
   "source": [
    "patients = spark.read.parquet('s3://mimic-iii-physionet/parquet/PATIENTS/')\n",
    "patients = patients.select([F.col(x).alias(x.upper()) for x in patients.columns])\n",
    "patients"
   ]
  },
  {
   "cell_type": "code",
   "execution_count": 32,
   "id": "encouraging-graph",
   "metadata": {},
   "outputs": [
    {
     "data": {
      "application/vnd.jupyter.widget-view+json": {
       "model_id": "240200c03df749b8b9a5a90241137af3",
       "version_major": 2,
       "version_minor": 0
      },
      "text/plain": [
       "FloatProgress(value=0.0, bar_style='info', description='Progress:', layout=Layout(height='25px', width='50%'),…"
      ]
     },
     "metadata": {},
     "output_type": "display_data"
    },
    {
     "name": "stdout",
     "output_type": "stream",
     "text": [
      "DataFrame[ROW_ID: int, SUBJECT_ID: int, HADM_ID: int, ADMITTIME: timestamp, DISCHTIME: timestamp, DEATHTIME: timestamp, ADMISSION_TYPE: string, ADMISSION_LOCATION: string, DISCHARGE_LOCATION: string, INSURANCE: string, LANGUAGE: string, RELIGION: string, MARITAL_STATUS: string, ETHNICITY: string, EDREGTIME: timestamp, EDOUTTIME: timestamp, DIAGNOSIS: string, HOSPITAL_EXPIRE_FLAG: smallint, HAS_CHARTEVENTS_DATA: smallint]"
     ]
    }
   ],
   "source": [
    "admissions = spark.read.parquet('s3://mimic-iii-physionet/parquet/ADMISSIONS/')\n",
    "admissions = admissions.select([F.col(x).alias(x.upper()) for x in admissions.columns])\n",
    "admissions"
   ]
  },
  {
   "cell_type": "code",
   "execution_count": 7,
   "id": "immediate-liability",
   "metadata": {},
   "outputs": [
    {
     "data": {
      "application/vnd.jupyter.widget-view+json": {
       "model_id": "15f9ff071e37485c95b8cc4b696b57b6",
       "version_major": 2,
       "version_minor": 0
      },
      "text/plain": [
       "FloatProgress(value=0.0, bar_style='info', description='Progress:', layout=Layout(height='25px', width='50%'),…"
      ]
     },
     "metadata": {},
     "output_type": "display_data"
    },
    {
     "name": "stdout",
     "output_type": "stream",
     "text": [
      "+------+----------+-------+----------+--------+--------------+-------------+------------+-----------+-------------------+-------------------+------+\n",
      "|row_id|subject_id|hadm_id|icustay_id|dbsource|first_careunit|last_careunit|first_wardid|last_wardid|             intime|            outtime|   los|\n",
      "+------+----------+-------+----------+--------+--------------+-------------+------------+-----------+-------------------+-------------------+------+\n",
      "|   365|       268| 110404|    280836| carevue|          MICU|         MICU|          52|         52|2198-02-14 23:27:38|2198-02-18 05:26:11| 3.249|\n",
      "|   366|       269| 106296|    206613| carevue|          MICU|         MICU|          52|         52|2170-11-05 11:05:29|2170-11-08 17:46:57|3.2788|\n",
      "|   367|       270| 188028|    220345| carevue|           CCU|          CCU|          57|         57|2128-06-24 15:05:20|2128-06-27 12:32:29|2.8939|\n",
      "|   368|       271| 173727|    249196| carevue|          MICU|         SICU|          52|         23|2120-08-07 23:12:42|2120-08-10 00:39:04|  2.06|\n",
      "|   369|       272| 164716|    210407| carevue|           CCU|          CCU|          57|         57|2186-12-25 21:08:04|2186-12-27 12:01:13|1.6202|\n",
      "|   370|       273| 158689|    241507| carevue|          MICU|         MICU|          52|         52|2141-04-19 06:12:05|2141-04-20 17:52:11|1.4862|\n",
      "|   371|       274| 130546|    254851| carevue|          MICU|         MICU|          12|         12|2114-06-28 22:28:44|2114-07-07 18:01:16|8.8143|\n",
      "|   372|       275| 129886|    219649| carevue|           CCU|          CCU|           7|          7|2170-10-07 11:28:53|2170-10-14 14:38:07|7.1314|\n",
      "|   373|       276| 135156|    206327| carevue|           CCU|          CCU|          57|         57|2147-11-20 09:02:23|2147-11-21 17:08:52|1.3378|\n",
      "|   374|       277| 171601|    272866| carevue|          NICU|         NICU|          56|         56|2132-10-21 21:11:46|2132-10-22 14:44:48|0.7313|\n",
      "+------+----------+-------+----------+--------+--------------+-------------+------------+-----------+-------------------+-------------------+------+\n",
      "only showing top 10 rows"
     ]
    }
   ],
   "source": [
    "icustays = spark.read.parquet('s3://mimic-iii-physionet/parquet/ICUSTAYS/')\n",
    "icustays.show(10)"
   ]
  },
  {
   "cell_type": "code",
   "execution_count": 8,
   "id": "wound-studio",
   "metadata": {},
   "outputs": [
    {
     "data": {
      "application/vnd.jupyter.widget-view+json": {
       "model_id": "d6f89e4c78c04c69aeb59b02280e74c7",
       "version_major": 2,
       "version_minor": 0
      },
      "text/plain": [
       "FloatProgress(value=0.0, bar_style='info', description='Progress:', layout=Layout(height='25px', width='50%'),…"
      ]
     },
     "metadata": {},
     "output_type": "display_data"
    }
   ],
   "source": [
    "from pyspark.sql import functions as F\n",
    "icustays = icustays.select([F.col(x).alias(x.upper()) for x in icustays.columns])\n"
   ]
  },
  {
   "cell_type": "code",
   "execution_count": 9,
   "id": "worst-jamaica",
   "metadata": {},
   "outputs": [
    {
     "data": {
      "application/vnd.jupyter.widget-view+json": {
       "model_id": "854c5c3a4a8f43b184f1cd608fb0b122",
       "version_major": 2,
       "version_minor": 0
      },
      "text/plain": [
       "FloatProgress(value=0.0, bar_style='info', description='Progress:', layout=Layout(height='25px', width='50%'),…"
      ]
     },
     "metadata": {},
     "output_type": "display_data"
    },
    {
     "name": "stdout",
     "output_type": "stream",
     "text": [
      "DataFrame[ROW_ID: int, SUBJECT_ID: int, HADM_ID: int, ICUSTAY_ID: int, DBSOURCE: string, FIRST_CAREUNIT: string, LAST_CAREUNIT: string, FIRST_WARDID: smallint, LAST_WARDID: smallint, INTIME: timestamp, OUTTIME: timestamp, LOS: double]"
     ]
    }
   ],
   "source": [
    "icustays"
   ]
  },
  {
   "cell_type": "code",
   "execution_count": 10,
   "id": "rolled-cincinnati",
   "metadata": {},
   "outputs": [
    {
     "data": {
      "application/vnd.jupyter.widget-view+json": {
       "model_id": "cb926ab2ba5e4c469ba1ff349e938339",
       "version_major": 2,
       "version_minor": 0
      },
      "text/plain": [
       "FloatProgress(value=0.0, bar_style='info', description='Progress:', layout=Layout(height='25px', width='50%'),…"
      ]
     },
     "metadata": {},
     "output_type": "display_data"
    },
    {
     "name": "stdout",
     "output_type": "stream",
     "text": [
      "(61532, 12)"
     ]
    }
   ],
   "source": [
    "print((icustays.count(), len(icustays.columns)))"
   ]
  },
  {
   "cell_type": "code",
   "execution_count": 11,
   "id": "numeric-comparative",
   "metadata": {},
   "outputs": [
    {
     "data": {
      "application/vnd.jupyter.widget-view+json": {
       "model_id": "dce6e3eb42b84d8b8e77ac8686f2dc4d",
       "version_major": 2,
       "version_minor": 0
      },
      "text/plain": [
       "FloatProgress(value=0.0, bar_style='info', description='Progress:', layout=Layout(height='25px', width='50%'),…"
      ]
     },
     "metadata": {},
     "output_type": "display_data"
    }
   ],
   "source": [
    "icustays_f = icustays.filter((icustays.FIRST_WARDID == icustays.LAST_WARDID) & (icustays.FIRST_CAREUNIT == icustays.LAST_CAREUNIT) )"
   ]
  },
  {
   "cell_type": "code",
   "execution_count": 12,
   "id": "lightweight-westminster",
   "metadata": {},
   "outputs": [
    {
     "data": {
      "application/vnd.jupyter.widget-view+json": {
       "model_id": "0e7f058f99e443a2a4c83cc540702b72",
       "version_major": 2,
       "version_minor": 0
      },
      "text/plain": [
       "FloatProgress(value=0.0, bar_style='info', description='Progress:', layout=Layout(height='25px', width='50%'),…"
      ]
     },
     "metadata": {},
     "output_type": "display_data"
    },
    {
     "name": "stdout",
     "output_type": "stream",
     "text": [
      "(55830, 12)"
     ]
    }
   ],
   "source": [
    "print((icustays_f.count(), len(icustays_f.columns)))"
   ]
  },
  {
   "cell_type": "code",
   "execution_count": null,
   "id": "convinced-milwaukee",
   "metadata": {},
   "outputs": [],
   "source": [
    "stays = merge_on_subject_admission(stays, admits)\n",
    "stays = merge_on_subject(stays, patients)\n",
    "stays = filter_admissions_on_nb_icustays(stays)"
   ]
  },
  {
   "cell_type": "code",
   "execution_count": 33,
   "id": "sufficient-purchase",
   "metadata": {},
   "outputs": [
    {
     "data": {
      "application/vnd.jupyter.widget-view+json": {
       "model_id": "c629ca949ecb4c8d8cbc5542a9eb2268",
       "version_major": 2,
       "version_minor": 0
      },
      "text/plain": [
       "FloatProgress(value=0.0, bar_style='info', description='Progress:', layout=Layout(height='25px', width='50%'),…"
      ]
     },
     "metadata": {},
     "output_type": "display_data"
    },
    {
     "name": "stdout",
     "output_type": "stream",
     "text": [
      "(55830, 29)"
     ]
    }
   ],
   "source": [
    "#stays = merge_on_subject_admission(stays, admits)\n",
    "stays = icustays_f.join(admissions, how='inner', on=['SUBJECT_ID', 'HADM_ID'])\n",
    "print((stays.count(), len(stays.columns)))"
   ]
  },
  {
   "cell_type": "code",
   "execution_count": 34,
   "id": "norman-armstrong",
   "metadata": {},
   "outputs": [
    {
     "data": {
      "application/vnd.jupyter.widget-view+json": {
       "model_id": "794b43ee633c48c89ba9725cd76e1990",
       "version_major": 2,
       "version_minor": 0
      },
      "text/plain": [
       "FloatProgress(value=0.0, bar_style='info', description='Progress:', layout=Layout(height='25px', width='50%'),…"
      ]
     },
     "metadata": {},
     "output_type": "display_data"
    },
    {
     "name": "stdout",
     "output_type": "stream",
     "text": [
      "(55830, 36)"
     ]
    }
   ],
   "source": [
    "#stays = merge_on_subject(stays, patients)\n",
    "stays = stays.join(patients, how='inner', on=['SUBJECT_ID'])\n",
    "print((stays.count(), len(stays.columns)))"
   ]
  },
  {
   "cell_type": "code",
   "execution_count": null,
   "id": "proud-recovery",
   "metadata": {},
   "outputs": [],
   "source": [
    "def filter_admissions_on_nb_icustays(stays, min_nb_stays=1, max_nb_stays=1):\n",
    "    to_keep = stays.groupby('HADM_ID').count()[['ICUSTAY_ID']].reset_index()\n",
    "    to_keep = to_keep[(to_keep.ICUSTAY_ID >= min_nb_stays) & (to_keep.ICUSTAY_ID <= max_nb_stays)][['HADM_ID']]\n",
    "    stays = stays.merge(to_keep, how='inner', left_on='HADM_ID', right_on='HADM_ID')\n",
    "    return stays"
   ]
  },
  {
   "cell_type": "code",
   "execution_count": 15,
   "id": "amended-story",
   "metadata": {},
   "outputs": [
    {
     "data": {
      "application/vnd.jupyter.widget-view+json": {
       "model_id": "44da9c1c6f504744907d61f0693171cd",
       "version_major": 2,
       "version_minor": 0
      },
      "text/plain": [
       "FloatProgress(value=0.0, bar_style='info', description='Progress:', layout=Layout(height='25px', width='50%'),…"
      ]
     },
     "metadata": {},
     "output_type": "display_data"
    }
   ],
   "source": [
    "import pyspark.sql.functions as func\n"
   ]
  },
  {
   "cell_type": "code",
   "execution_count": 35,
   "id": "velvet-significance",
   "metadata": {},
   "outputs": [
    {
     "data": {
      "application/vnd.jupyter.widget-view+json": {
       "model_id": "67a7eedd808f4154b593aa4949ed6386",
       "version_major": 2,
       "version_minor": 0
      },
      "text/plain": [
       "FloatProgress(value=0.0, bar_style='info', description='Progress:', layout=Layout(height='25px', width='50%'),…"
      ]
     },
     "metadata": {},
     "output_type": "display_data"
    },
    {
     "name": "stdout",
     "output_type": "stream",
     "text": [
      "52834"
     ]
    }
   ],
   "source": [
    "to_keep = stays.groupby(stays.HADM_ID).agg(func.count('ICUSTAY_ID'))\n",
    "print(to_keep.count())"
   ]
  },
  {
   "cell_type": "code",
   "execution_count": 36,
   "id": "right-transformation",
   "metadata": {},
   "outputs": [
    {
     "data": {
      "application/vnd.jupyter.widget-view+json": {
       "model_id": "2fe407bc08844b74bdd099606e4c81a4",
       "version_major": 2,
       "version_minor": 0
      },
      "text/plain": [
       "FloatProgress(value=0.0, bar_style='info', description='Progress:', layout=Layout(height='25px', width='50%'),…"
      ]
     },
     "metadata": {},
     "output_type": "display_data"
    },
    {
     "name": "stdout",
     "output_type": "stream",
     "text": [
      "50186"
     ]
    }
   ],
   "source": [
    "to_keep = to_keep.filter(to_keep['count(ICUSTAY_ID)']==1)\n",
    "print(to_keep.count())"
   ]
  },
  {
   "cell_type": "code",
   "execution_count": 18,
   "id": "dominican-passing",
   "metadata": {},
   "outputs": [
    {
     "data": {
      "application/vnd.jupyter.widget-view+json": {
       "model_id": "fa973bec12f34871916f41c48951f316",
       "version_major": 2,
       "version_minor": 0
      },
      "text/plain": [
       "FloatProgress(value=0.0, bar_style='info', description='Progress:', layout=Layout(height='25px', width='50%'),…"
      ]
     },
     "metadata": {},
     "output_type": "display_data"
    },
    {
     "name": "stdout",
     "output_type": "stream",
     "text": [
      "DataFrame[HADM_ID: int, count(ICUSTAY_ID): bigint]"
     ]
    }
   ],
   "source": [
    "to_keep"
   ]
  },
  {
   "cell_type": "code",
   "execution_count": 37,
   "id": "polish-encoding",
   "metadata": {},
   "outputs": [
    {
     "data": {
      "application/vnd.jupyter.widget-view+json": {
       "model_id": "fe0b2618e5814b3ca2f8d1e5be5bbced",
       "version_major": 2,
       "version_minor": 0
      },
      "text/plain": [
       "FloatProgress(value=0.0, bar_style='info', description='Progress:', layout=Layout(height='25px', width='50%'),…"
      ]
     },
     "metadata": {},
     "output_type": "display_data"
    }
   ],
   "source": [
    "stays = stays.join(to_keep, how='inner', on=['HADM_ID'])"
   ]
  },
  {
   "cell_type": "code",
   "execution_count": 38,
   "id": "instrumental-single",
   "metadata": {},
   "outputs": [
    {
     "data": {
      "application/vnd.jupyter.widget-view+json": {
       "model_id": "51861235ad394825849f9c004eb9c10f",
       "version_major": 2,
       "version_minor": 0
      },
      "text/plain": [
       "FloatProgress(value=0.0, bar_style='info', description='Progress:', layout=Layout(height='25px', width='50%'),…"
      ]
     },
     "metadata": {},
     "output_type": "display_data"
    },
    {
     "name": "stdout",
     "output_type": "stream",
     "text": [
      "50186"
     ]
    }
   ],
   "source": [
    "stays.count()"
   ]
  },
  {
   "cell_type": "code",
   "execution_count": null,
   "id": "graduate-notion",
   "metadata": {},
   "outputs": [],
   "source": [
    "stays = add_age_to_icustays(stays)\n",
    "stays = add_inunit_mortality_to_icustays(stays)\n",
    "stays = add_inhospital_mortality_to_icustays(stays)\n",
    "stays = filter_icustays_on_age(stays)"
   ]
  },
  {
   "cell_type": "code",
   "execution_count": 21,
   "id": "portuguese-grove",
   "metadata": {},
   "outputs": [
    {
     "data": {
      "application/vnd.jupyter.widget-view+json": {
       "model_id": "adb7b7f845f045f6b98b05a8c9f20b46",
       "version_major": 2,
       "version_minor": 0
      },
      "text/plain": [
       "FloatProgress(value=0.0, bar_style='info', description='Progress:', layout=Layout(height='25px', width='50%'),…"
      ]
     },
     "metadata": {},
     "output_type": "display_data"
    }
   ],
   "source": [
    "from pyspark.sql.functions import datediff,col"
   ]
  },
  {
   "cell_type": "code",
   "execution_count": 39,
   "id": "perfect-alfred",
   "metadata": {},
   "outputs": [
    {
     "data": {
      "application/vnd.jupyter.widget-view+json": {
       "model_id": "614faae1fd8944bf99ca5f8c7816d535",
       "version_major": 2,
       "version_minor": 0
      },
      "text/plain": [
       "FloatProgress(value=0.0, bar_style='info', description='Progress:', layout=Layout(height='25px', width='50%'),…"
      ]
     },
     "metadata": {},
     "output_type": "display_data"
    }
   ],
   "source": [
    "#stays = add_age_to_icustays(stays)\n",
    "stays = stays.withColumn(\"AGE\", datediff(col(\"INTIME\"),col(\"DOB\"))/365.25)\n"
   ]
  },
  {
   "cell_type": "code",
   "execution_count": 55,
   "id": "roman-activity",
   "metadata": {},
   "outputs": [
    {
     "data": {
      "application/vnd.jupyter.widget-view+json": {
       "model_id": "42b6bded25474e04b271f579e37b51c2",
       "version_major": 2,
       "version_minor": 0
      },
      "text/plain": [
       "FloatProgress(value=0.0, bar_style='info', description='Progress:', layout=Layout(height='25px', width='50%'),…"
      ]
     },
     "metadata": {},
     "output_type": "display_data"
    },
    {
     "name": "stdout",
     "output_type": "stream",
     "text": [
      "DataFrame[HADM_ID: int, SUBJECT_ID: int, ROW_ID: int, ICUSTAY_ID: int, DBSOURCE: string, FIRST_CAREUNIT: string, LAST_CAREUNIT: string, FIRST_WARDID: smallint, LAST_WARDID: smallint, INTIME: timestamp, OUTTIME: timestamp, LOS: double, ROW_ID: int, ADMITTIME: timestamp, DISCHTIME: timestamp, DEATHTIME: timestamp, ADMISSION_TYPE: string, ADMISSION_LOCATION: string, DISCHARGE_LOCATION: string, INSURANCE: string, LANGUAGE: string, RELIGION: string, MARITAL_STATUS: string, ETHNICITY: string, EDREGTIME: timestamp, EDOUTTIME: timestamp, DIAGNOSIS: string, HOSPITAL_EXPIRE_FLAG: smallint, HAS_CHARTEVENTS_DATA: smallint, ROW_ID: int, GENDER: string, DOB: timestamp, DOD: timestamp, DOD_HOSP: timestamp, DOD_SSN: timestamp, EXPIRE_FLAG: int, count(ICUSTAY_ID): bigint]"
     ]
    }
   ],
   "source": [
    "def add_inunit_mortality_to_icustays(stays):\n",
    "    mortality = stays.DOD.notnull() & ((stays.INTIME <= stays.DOD) & (stays.OUTTIME >= stays.DOD))\n",
    "    mortality = mortality | (stays.DEATHTIME.notnull() & ((stays.INTIME <= stays.DEATHTIME) & (stays.OUTTIME >= stays.DEATHTIME)))\n",
    "    stays['MORTALITY_INUNIT'] = mortality.astype(int)\n",
    "    return stays"
   ]
  },
  {
   "cell_type": "code",
   "execution_count": 40,
   "id": "elect-george",
   "metadata": {},
   "outputs": [
    {
     "data": {
      "application/vnd.jupyter.widget-view+json": {
       "model_id": "c14a137387564527b41e3a303cdc80ce",
       "version_major": 2,
       "version_minor": 0
      },
      "text/plain": [
       "FloatProgress(value=0.0, bar_style='info', description='Progress:', layout=Layout(height='25px', width='50%'),…"
      ]
     },
     "metadata": {},
     "output_type": "display_data"
    },
    {
     "name": "stdout",
     "output_type": "stream",
     "text": [
      "DataFrame[HADM_ID: int, SUBJECT_ID: int, ROW_ID: int, ICUSTAY_ID: int, DBSOURCE: string, FIRST_CAREUNIT: string, LAST_CAREUNIT: string, FIRST_WARDID: smallint, LAST_WARDID: smallint, INTIME: timestamp, OUTTIME: timestamp, LOS: double, ROW_ID: int, ADMITTIME: timestamp, DISCHTIME: timestamp, DEATHTIME: timestamp, ADMISSION_TYPE: string, ADMISSION_LOCATION: string, DISCHARGE_LOCATION: string, INSURANCE: string, LANGUAGE: string, RELIGION: string, MARITAL_STATUS: string, ETHNICITY: string, EDREGTIME: timestamp, EDOUTTIME: timestamp, DIAGNOSIS: string, HOSPITAL_EXPIRE_FLAG: smallint, HAS_CHARTEVENTS_DATA: smallint, ROW_ID: int, GENDER: string, DOB: timestamp, DOD: timestamp, DOD_HOSP: timestamp, DOD_SSN: timestamp, EXPIRE_FLAG: int, count(ICUSTAY_ID): bigint, AGE: double]"
     ]
    }
   ],
   "source": [
    "stays"
   ]
  },
  {
   "cell_type": "code",
   "execution_count": 41,
   "id": "taken-scott",
   "metadata": {},
   "outputs": [
    {
     "data": {
      "application/vnd.jupyter.widget-view+json": {
       "model_id": "d658b6dc843945c8922e4c76a4539dfe",
       "version_major": 2,
       "version_minor": 0
      },
      "text/plain": [
       "FloatProgress(value=0.0, bar_style='info', description='Progress:', layout=Layout(height='25px', width='50%'),…"
      ]
     },
     "metadata": {},
     "output_type": "display_data"
    }
   ],
   "source": [
    "test = stays.withColumn(\"MORTALITY_INUNIT\", F.when((F.col(\"DOD\").isNotNull()) & (F.col(\"DOD\").between(F.col(\"INTIME\"), F.col(\"OUTTIME\"))), 1)\n",
    "      .when((F.col(\"DEATHTIME\").isNotNull()) & (F.col(\"DEATHTIME\").between(F.col(\"INTIME\"), F.col(\"OUTTIME\"))), 1)\n",
    "      .otherwise(0))"
   ]
  },
  {
   "cell_type": "code",
   "execution_count": 42,
   "id": "qualified-convert",
   "metadata": {},
   "outputs": [
    {
     "data": {
      "application/vnd.jupyter.widget-view+json": {
       "model_id": "d9e6c28965f74c3a985f40479283a427",
       "version_major": 2,
       "version_minor": 0
      },
      "text/plain": [
       "FloatProgress(value=0.0, bar_style='info', description='Progress:', layout=Layout(height='25px', width='50%'),…"
      ]
     },
     "metadata": {},
     "output_type": "display_data"
    }
   ],
   "source": [
    "test2 = test.withColumn(\"MORTALITY_INHOSPITAL\", F.when((F.col(\"DOD\").isNotNull()) & (F.col(\"DOD\").between(F.col(\"ADMITTIME\"), F.col(\"DISCHTIME\"))), 1)\n",
    "      .when((F.col(\"DEATHTIME\").isNotNull()) & (F.col(\"DEATHTIME\").between(F.col(\"ADMITTIME\"), F.col(\"DISCHTIME\"))), 1)\n",
    "      .otherwise(0))"
   ]
  },
  {
   "cell_type": "code",
   "execution_count": 43,
   "id": "essential-parker",
   "metadata": {},
   "outputs": [
    {
     "data": {
      "application/vnd.jupyter.widget-view+json": {
       "model_id": "16ff116dd5c342e795d9d717f211a07c",
       "version_major": 2,
       "version_minor": 0
      },
      "text/plain": [
       "FloatProgress(value=0.0, bar_style='info', description='Progress:', layout=Layout(height='25px', width='50%'),…"
      ]
     },
     "metadata": {},
     "output_type": "display_data"
    },
    {
     "name": "stdout",
     "output_type": "stream",
     "text": [
      "+----------------+--------------------+-------------------+-------------------+-------------------+-------------------+\n",
      "|MORTALITY_INUNIT|MORTALITY_INHOSPITAL|                DOD|          ADMITTIME|          DISCHTIME|          DEATHTIME|\n",
      "+----------------+--------------------+-------------------+-------------------+-------------------+-------------------+\n",
      "|               0|                   0|               null|2149-08-02 00:24:00|2149-08-06 12:24:00|               null|\n",
      "|               0|                   0|               null|2110-12-16 17:50:00|2110-12-18 17:42:00|               null|\n",
      "|               0|                   0|               null|2193-04-03 21:30:00|2193-04-07 11:10:00|               null|\n",
      "|               0|                   0|               null|2149-09-22 13:26:00|2149-09-26 14:27:00|               null|\n",
      "|               0|                   0|               null|2184-08-20 14:21:00|2184-08-22 15:15:00|               null|\n",
      "|               0|                   0|2173-09-13 00:00:00|2173-02-20 23:57:00|2173-02-22 17:14:00|               null|\n",
      "|               0|                   0|               null|2125-02-17 06:52:00|2125-02-23 17:00:00|               null|\n",
      "|               0|                   0|               null|2132-06-26 12:48:00|2132-06-28 18:14:00|               null|\n",
      "|               1|                   1|2127-05-04 00:00:00|2127-04-29 01:38:00|2127-05-04 12:00:00|2127-05-04 12:00:00|\n",
      "|               0|                   0|               null|2189-04-20 14:55:00|2189-05-04 14:30:00|               null|\n",
      "|               0|                   0|2107-07-06 00:00:00|2105-12-12 20:42:00|2105-12-17 18:52:00|               null|\n",
      "|               0|                   0|2151-03-16 00:00:00|2151-03-04 23:30:00|2151-03-14 13:25:00|               null|\n",
      "|               0|                   0|               null|2181-07-25 10:45:00|2181-08-01 19:23:00|               null|\n",
      "|               0|                   0|               null|2159-02-21 08:00:00|2159-02-24 13:30:00|               null|\n",
      "|               0|                   0|2159-03-08 00:00:00|2156-06-26 12:54:00|2156-06-26 15:46:00|               null|\n",
      "|               0|                   0|2123-07-18 00:00:00|2120-09-04 18:21:00|2120-09-11 14:47:00|               null|\n",
      "|               0|                   0|               null|2134-06-04 21:41:00|2134-06-08 12:00:00|               null|\n",
      "|               0|                   0|               null|2168-02-05 17:24:00|2168-02-14 14:39:00|               null|\n",
      "|               0|                   0|               null|2117-03-29 18:57:00|2117-03-30 16:28:00|               null|\n",
      "|               1|                   1|2181-04-30 00:00:00|2181-04-28 22:59:00|2181-04-30 05:00:00|2181-04-30 05:00:00|\n",
      "+----------------+--------------------+-------------------+-------------------+-------------------+-------------------+\n",
      "only showing top 20 rows"
     ]
    }
   ],
   "source": [
    "test2.select(test2.MORTALITY_INUNIT, test2.MORTALITY_INHOSPITAL,test2.DOD,test2.ADMITTIME,test2.DISCHTIME,test2.DEATHTIME ).show()"
   ]
  },
  {
   "cell_type": "code",
   "execution_count": 45,
   "id": "silent-accountability",
   "metadata": {},
   "outputs": [
    {
     "data": {
      "application/vnd.jupyter.widget-view+json": {
       "model_id": "04cc17e4f3a34cf3a031738784385417",
       "version_major": 2,
       "version_minor": 0
      },
      "text/plain": [
       "FloatProgress(value=0.0, bar_style='info', description='Progress:', layout=Layout(height='25px', width='50%'),…"
      ]
     },
     "metadata": {},
     "output_type": "display_data"
    }
   ],
   "source": [
    "#stays = filter_icustays_on_age(stays)\n",
    "test2 = test2.filter(test2.AGE >= 18)"
   ]
  },
  {
   "cell_type": "code",
   "execution_count": 46,
   "id": "minimal-indie",
   "metadata": {},
   "outputs": [
    {
     "data": {
      "application/vnd.jupyter.widget-view+json": {
       "model_id": "89007a29315941ae8d6b6b9e3a7a8c0c",
       "version_major": 2,
       "version_minor": 0
      },
      "text/plain": [
       "FloatProgress(value=0.0, bar_style='info', description='Progress:', layout=Layout(height='25px', width='50%'),…"
      ]
     },
     "metadata": {},
     "output_type": "display_data"
    },
    {
     "name": "stdout",
     "output_type": "stream",
     "text": [
      "42276"
     ]
    }
   ],
   "source": [
    "test2.count()"
   ]
  },
  {
   "cell_type": "code",
   "execution_count": 47,
   "id": "final-repeat",
   "metadata": {},
   "outputs": [
    {
     "data": {
      "application/vnd.jupyter.widget-view+json": {
       "model_id": "ecb798b2e25140c89ff5e2e8ef2f17a8",
       "version_major": 2,
       "version_minor": 0
      },
      "text/plain": [
       "FloatProgress(value=0.0, bar_style='info', description='Progress:', layout=Layout(height='25px', width='50%'),…"
      ]
     },
     "metadata": {},
     "output_type": "display_data"
    },
    {
     "name": "stdout",
     "output_type": "stream",
     "text": [
      "DataFrame[ROW_ID: int, ICD9_CODE: string, SHORT_TITLE: string, LONG_TITLE: string]"
     ]
    }
   ],
   "source": [
    "codes = spark.read.parquet('s3://mimic-iii-physionet/parquet/D_ICD_DIAGNOSES/')\n",
    "codes = codes.select([F.col(x).alias(x.upper()) for x in codes.columns])\n",
    "codes"
   ]
  },
  {
   "cell_type": "code",
   "execution_count": 48,
   "id": "sorted-algeria",
   "metadata": {},
   "outputs": [
    {
     "data": {
      "application/vnd.jupyter.widget-view+json": {
       "model_id": "196ee72c1128458a9cd4c5fe8b6e955e",
       "version_major": 2,
       "version_minor": 0
      },
      "text/plain": [
       "FloatProgress(value=0.0, bar_style='info', description='Progress:', layout=Layout(height='25px', width='50%'),…"
      ]
     },
     "metadata": {},
     "output_type": "display_data"
    },
    {
     "name": "stdout",
     "output_type": "stream",
     "text": [
      "DataFrame[ROW_ID: int, SUBJECT_ID: int, HADM_ID: int, SEQ_NUM: int, ICD9_CODE: string]"
     ]
    }
   ],
   "source": [
    "diag = spark.read.parquet('s3://mimic-iii-physionet/parquet/DIAGNOSES_ICD/')\n",
    "diag = diag.select([F.col(x).alias(x.upper()) for x in diag.columns])\n",
    "diag"
   ]
  },
  {
   "cell_type": "code",
   "execution_count": 49,
   "id": "overhead-ecuador",
   "metadata": {},
   "outputs": [
    {
     "data": {
      "application/vnd.jupyter.widget-view+json": {
       "model_id": "698236c2b8f745a4ad3ad9f4dcecc7ce",
       "version_major": 2,
       "version_minor": 0
      },
      "text/plain": [
       "FloatProgress(value=0.0, bar_style='info', description='Progress:', layout=Layout(height='25px', width='50%'),…"
      ]
     },
     "metadata": {},
     "output_type": "display_data"
    }
   ],
   "source": [
    "diagnoses = diag.join(codes, how='inner', on=['ICD9_CODE'])"
   ]
  },
  {
   "cell_type": "code",
   "execution_count": 52,
   "id": "promotional-privilege",
   "metadata": {},
   "outputs": [
    {
     "data": {
      "application/vnd.jupyter.widget-view+json": {
       "model_id": "ca12e4aecdb349e98a96b789681b4b60",
       "version_major": 2,
       "version_minor": 0
      },
      "text/plain": [
       "FloatProgress(value=0.0, bar_style='info', description='Progress:', layout=Layout(height='25px', width='50%'),…"
      ]
     },
     "metadata": {},
     "output_type": "display_data"
    },
    {
     "name": "stdout",
     "output_type": "stream",
     "text": [
      "42276"
     ]
    }
   ],
   "source": [
    "filterDF = test2.select(test2.SUBJECT_ID,test2.HADM_ID, test2.ICUSTAY_ID )\n",
    "filterDF.count()"
   ]
  },
  {
   "cell_type": "code",
   "execution_count": 53,
   "id": "announced-majority",
   "metadata": {},
   "outputs": [
    {
     "data": {
      "application/vnd.jupyter.widget-view+json": {
       "model_id": "27f090d3e86e42eb93314a7d99dd11ec",
       "version_major": 2,
       "version_minor": 0
      },
      "text/plain": [
       "FloatProgress(value=0.0, bar_style='info', description='Progress:', layout=Layout(height='25px', width='50%'),…"
      ]
     },
     "metadata": {},
     "output_type": "display_data"
    }
   ],
   "source": [
    "filterDF = test2.select(test2.SUBJECT_ID,test2.HADM_ID, test2.ICUSTAY_ID ).dropDuplicates()"
   ]
  },
  {
   "cell_type": "code",
   "execution_count": 54,
   "id": "advisory-deadline",
   "metadata": {},
   "outputs": [
    {
     "data": {
      "application/vnd.jupyter.widget-view+json": {
       "model_id": "5fdaa4a13c5e4c9cb049cbae57c9ae1e",
       "version_major": 2,
       "version_minor": 0
      },
      "text/plain": [
       "FloatProgress(value=0.0, bar_style='info', description='Progress:', layout=Layout(height='25px', width='50%'),…"
      ]
     },
     "metadata": {},
     "output_type": "display_data"
    },
    {
     "name": "stdout",
     "output_type": "stream",
     "text": [
      "42276"
     ]
    }
   ],
   "source": [
    "filterDF.count()"
   ]
  },
  {
   "cell_type": "code",
   "execution_count": 55,
   "id": "accepting-department",
   "metadata": {},
   "outputs": [
    {
     "data": {
      "application/vnd.jupyter.widget-view+json": {
       "model_id": "6c56e77156114a19a8531f44e1841c79",
       "version_major": 2,
       "version_minor": 0
      },
      "text/plain": [
       "FloatProgress(value=0.0, bar_style='info', description='Progress:', layout=Layout(height='25px', width='50%'),…"
      ]
     },
     "metadata": {},
     "output_type": "display_data"
    }
   ],
   "source": [
    "#diagnoses = filter_diagnoses_on_stays(diagnoses, stays)\n",
    "diagnoses2 = diagnoses.join(filterDF, how='inner', on=['SUBJECT_ID', 'HADM_ID'])"
   ]
  },
  {
   "cell_type": "code",
   "execution_count": null,
   "id": "incorporated-spirituality",
   "metadata": {},
   "outputs": [],
   "source": [
    "    codes = diagnoses[['ICD9_CODE', 'SHORT_TITLE', 'LONG_TITLE']].drop_duplicates().set_index('ICD9_CODE')\n",
    "    codes['COUNT'] = diagnoses.groupby('ICD9_CODE')['ICUSTAY_ID'].count()\n",
    "    codes.COUNT = codes.COUNT.fillna(0).astype(int)\n",
    "    codes = codes[codes.COUNT > 0]"
   ]
  },
  {
   "cell_type": "code",
   "execution_count": 58,
   "id": "spectacular-expense",
   "metadata": {},
   "outputs": [
    {
     "data": {
      "application/vnd.jupyter.widget-view+json": {
       "model_id": "9bd628f90a5d450d834112333e9d313c",
       "version_major": 2,
       "version_minor": 0
      },
      "text/plain": [
       "FloatProgress(value=0.0, bar_style='info', description='Progress:', layout=Layout(height='25px', width='50%'),…"
      ]
     },
     "metadata": {},
     "output_type": "display_data"
    },
    {
     "name": "stdout",
     "output_type": "stream",
     "text": [
      "6169"
     ]
    }
   ],
   "source": [
    "diagnoses2.select(diagnoses2.ICD9_CODE, diagnoses2.SHORT_TITLE, diagnoses2.LONG_TITLE).dropDuplicates().count()"
   ]
  },
  {
   "cell_type": "code",
   "execution_count": 74,
   "id": "suspected-refund",
   "metadata": {},
   "outputs": [
    {
     "data": {
      "application/vnd.jupyter.widget-view+json": {
       "model_id": "34318baaa5384b179923cecc875fc8d9",
       "version_major": 2,
       "version_minor": 0
      },
      "text/plain": [
       "FloatProgress(value=0.0, bar_style='info', description='Progress:', layout=Layout(height='25px', width='50%'),…"
      ]
     },
     "metadata": {},
     "output_type": "display_data"
    },
    {
     "name": "stdout",
     "output_type": "stream",
     "text": [
      "DataFrame[ICD9_CODE: string, SHORT_TITLE: string, LONG_TITLE: string, COUNT: bigint]"
     ]
    }
   ],
   "source": [
    "#count_icd_codes(diagnoses, output_path=os.path.join(args.output_path, 'diagnosis_counts.csv'))\n",
    "codes = diagnoses2.select(diagnoses2.ICD9_CODE, diagnoses2.SHORT_TITLE, diagnoses2.LONG_TITLE).dropDuplicates()\n",
    "codes_counts = diagnoses2.groupby(diagnoses2.ICD9_CODE).count()\n",
    "codes = codes.join(codes_counts, how= 'inner', on= ['ICD9_CODE'])\n",
    "codes = codes.withColumn(\"count1\", col('count'))\n",
    "codes = codes.filter(codes.count1 > 0).select(codes.ICD9_CODE, codes.SHORT_TITLE, codes.LONG_TITLE, codes.count1).withColumnRenamed(\"count1\", \"COUNT\")\n",
    "codes"
   ]
  },
  {
   "cell_type": "code",
   "execution_count": 76,
   "id": "disturbed-mechanism",
   "metadata": {},
   "outputs": [
    {
     "data": {
      "application/vnd.jupyter.widget-view+json": {
       "model_id": "682396b70b7a46aea96b1c74eb2fee01",
       "version_major": 2,
       "version_minor": 0
      },
      "text/plain": [
       "FloatProgress(value=0.0, bar_style='info', description='Progress:', layout=Layout(height='25px', width='50%'),…"
      ]
     },
     "metadata": {},
     "output_type": "display_data"
    }
   ],
   "source": [
    "codes.write.csv('diagnosis_counts.csv')"
   ]
  },
  {
   "cell_type": "code",
   "execution_count": null,
   "id": "secure-uncertainty",
   "metadata": {},
   "outputs": [],
   "source": []
  }
 ],
 "metadata": {
  "kernelspec": {
   "display_name": "Sparkmagic (PySpark)",
   "language": "python",
   "name": "pysparkkernel"
  },
  "language_info": {
   "codemirror_mode": {
    "name": "python",
    "version": 3
   },
   "file_extension": ".py",
   "mimetype": "text/x-python",
   "name": "pyspark",
   "pygments_lexer": "python3"
  }
 },
 "nbformat": 4,
 "nbformat_minor": 5
}
