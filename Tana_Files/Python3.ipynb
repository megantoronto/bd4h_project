{
 "cells": [
  {
   "cell_type": "code",
   "execution_count": 1,
   "id": "collective-colombia",
   "metadata": {},
   "outputs": [
    {
     "name": "stdout",
     "output_type": "stream",
     "text": [
      "Cloning into 'mimic3-benchmarks'...\n",
      "remote: Enumerating objects: 1716, done.\u001b[K\n",
      "remote: Total 1716 (delta 0), reused 0 (delta 0), pack-reused 1716\u001b[K\n",
      "Receiving objects: 100% (1716/1716), 11.24 MiB | 26.16 MiB/s, done.\n",
      "Resolving deltas: 100% (1221/1221), done.\n"
     ]
    }
   ],
   "source": [
    "!git clone https://github.com/YerevaNN/mimic3-benchmarks/"
   ]
  }
 ],
 "metadata": {
  "kernelspec": {
   "display_name": "conda_python3",
   "language": "python",
   "name": "conda_python3"
  },
  "language_info": {
   "codemirror_mode": {
    "name": "ipython",
    "version": 3
   },
   "file_extension": ".py",
   "mimetype": "text/x-python",
   "name": "python",
   "nbconvert_exporter": "python",
   "pygments_lexer": "ipython3",
   "version": "3.6.13"
  }
 },
 "nbformat": 4,
 "nbformat_minor": 5
}
