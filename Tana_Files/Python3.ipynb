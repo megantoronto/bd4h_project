{
 "cells": [
  {
   "cell_type": "code",
   "execution_count": 1,
   "id": "careful-validation",
   "metadata": {},
   "outputs": [
    {
     "name": "stdout",
     "output_type": "stream",
     "text": [
      "Cloning into 'mimic3-benchmarks'...\n",
      "remote: Enumerating objects: 1716, done.\u001b[K\n",
      "remote: Total 1716 (delta 0), reused 0 (delta 0), pack-reused 1716\u001b[K\n",
      "Receiving objects: 100% (1716/1716), 11.24 MiB | 26.16 MiB/s, done.\n",
      "Resolving deltas: 100% (1221/1221), done.\n"
     ]
    }
   ],
   "source": [
    "!git clone https://github.com/YerevaNN/mimic3-benchmarks/"
   ]
  },
  {
   "cell_type": "code",
   "execution_count": 1,
   "id": "configured-review",
   "metadata": {},
   "outputs": [],
   "source": [
    "import pandas as pd"
   ]
  },
  {
   "cell_type": "code",
   "execution_count": 14,
   "id": "starting-catalog",
   "metadata": {},
   "outputs": [],
   "source": [
    "item_map.to_csv('item_map.csv')"
   ]
  },
  {
   "cell_type": "code",
   "execution_count": 17,
   "id": "suitable-phase",
   "metadata": {},
   "outputs": [
    {
     "ename": "TypeError",
     "evalue": "upload_file() got an unexpected keyword argument 'header'",
     "output_type": "error",
     "traceback": [
      "\u001b[0;31m---------------------------------------------------------------------------\u001b[0m",
      "\u001b[0;31mTypeError\u001b[0m                                 Traceback (most recent call last)",
      "\u001b[0;32m<ipython-input-17-7c199b42db23>\u001b[0m in \u001b[0;36m<module>\u001b[0;34m\u001b[0m\n\u001b[1;32m      2\u001b[0m \u001b[0;34m\u001b[0m\u001b[0m\n\u001b[1;32m      3\u001b[0m \u001b[0ms3\u001b[0m \u001b[0;34m=\u001b[0m \u001b[0mboto3\u001b[0m\u001b[0;34m.\u001b[0m\u001b[0mresource\u001b[0m\u001b[0;34m(\u001b[0m\u001b[0;34m's3'\u001b[0m\u001b[0;34m)\u001b[0m\u001b[0;34m\u001b[0m\u001b[0;34m\u001b[0m\u001b[0m\n\u001b[0;32m----> 4\u001b[0;31m \u001b[0ms3\u001b[0m\u001b[0;34m.\u001b[0m\u001b[0mmeta\u001b[0m\u001b[0;34m.\u001b[0m\u001b[0mclient\u001b[0m\u001b[0;34m.\u001b[0m\u001b[0mupload_file\u001b[0m\u001b[0;34m(\u001b[0m\u001b[0;34m'item_map.csv'\u001b[0m\u001b[0;34m,\u001b[0m \u001b[0;34m'aws-athena-query-results-441066871063-us-east-1'\u001b[0m\u001b[0;34m,\u001b[0m \u001b[0;34m'item_map.csv'\u001b[0m\u001b[0;34m,\u001b[0m \u001b[0mheader\u001b[0m\u001b[0;34m=\u001b[0m\u001b[0;32mTrue\u001b[0m\u001b[0;34m)\u001b[0m\u001b[0;34m\u001b[0m\u001b[0;34m\u001b[0m\u001b[0m\n\u001b[0m",
      "\u001b[0;31mTypeError\u001b[0m: upload_file() got an unexpected keyword argument 'header'"
     ]
    }
   ],
   "source": [
    "import boto3\n",
    "\n",
    "s3 = boto3.resource('s3')\n",
    "s3.meta.client.upload_file('item_map.csv', 'aws-athena-query-results-441066871063-us-east-1', 'item_map.csv')"
   ]
  },
  {
   "cell_type": "code",
   "execution_count": 15,
   "id": "ancient-evans",
   "metadata": {},
   "outputs": [
    {
     "ename": "SyntaxError",
     "evalue": "invalid syntax (<ipython-input-15-44cf5d56e387>, line 1)",
     "output_type": "error",
     "traceback": [
      "\u001b[0;36m  File \u001b[0;32m\"<ipython-input-15-44cf5d56e387>\"\u001b[0;36m, line \u001b[0;32m1\u001b[0m\n\u001b[0;31m    hadoop -put item_map.csv /user/livy/item_map.csv\u001b[0m\n\u001b[0m                       ^\u001b[0m\n\u001b[0;31mSyntaxError\u001b[0m\u001b[0;31m:\u001b[0m invalid syntax\n"
     ]
    }
   ],
   "source": [
    "hadoop -put item_map.csv /user/livy/item_map.csv"
   ]
  },
  {
   "cell_type": "code",
   "execution_count": 2,
   "id": "serial-magnitude",
   "metadata": {},
   "outputs": [],
   "source": [
    "item_map = pd.read_csv('mimic3-benchmarks/mimic3benchmark/resources/itemid_to_variable_map.csv')"
   ]
  },
  {
   "cell_type": "code",
   "execution_count": 3,
   "id": "basic-bible",
   "metadata": {},
   "outputs": [
    {
     "data": {
      "text/html": [
       "<div>\n",
       "<style scoped>\n",
       "    .dataframe tbody tr th:only-of-type {\n",
       "        vertical-align: middle;\n",
       "    }\n",
       "\n",
       "    .dataframe tbody tr th {\n",
       "        vertical-align: top;\n",
       "    }\n",
       "\n",
       "    .dataframe thead th {\n",
       "        text-align: right;\n",
       "    }\n",
       "</style>\n",
       "<table border=\"1\" class=\"dataframe\">\n",
       "  <thead>\n",
       "    <tr style=\"text-align: right;\">\n",
       "      <th></th>\n",
       "      <th>LEVEL2</th>\n",
       "      <th>LEVEL1</th>\n",
       "      <th>ALTERNATIVE</th>\n",
       "      <th>STATUS</th>\n",
       "      <th>STATUS NOTE</th>\n",
       "      <th>ITEMID</th>\n",
       "      <th>MIMIC LABEL</th>\n",
       "      <th>UNITNAME</th>\n",
       "      <th>LINKSTO</th>\n",
       "      <th>COUNT</th>\n",
       "      <th>CATEGORY</th>\n",
       "      <th>CONCEPTID</th>\n",
       "      <th>FLUID</th>\n",
       "      <th>LOINC_CODE</th>\n",
       "      <th>DBSOURCE</th>\n",
       "      <th>Unnamed: 15</th>\n",
       "      <th>PARAM_TYPE</th>\n",
       "      <th>NOTE</th>\n",
       "    </tr>\n",
       "  </thead>\n",
       "  <tbody>\n",
       "    <tr>\n",
       "      <th>0</th>\n",
       "      <td>Alanine aminotransferase</td>\n",
       "      <td>Alanine aminotransferase</td>\n",
       "      <td>ALT</td>\n",
       "      <td>verify</td>\n",
       "      <td>NaN</td>\n",
       "      <td>50861</td>\n",
       "      <td>ALANINE AMINOTRANSFERASE (ALT)</td>\n",
       "      <td>NaN</td>\n",
       "      <td>labevents</td>\n",
       "      <td>219475</td>\n",
       "      <td>CHEMISTRY</td>\n",
       "      <td>NaN</td>\n",
       "      <td>BLOOD</td>\n",
       "      <td>6/1/1742</td>\n",
       "      <td>NaN</td>\n",
       "      <td>NaN</td>\n",
       "      <td>NaN</td>\n",
       "      <td>NaN</td>\n",
       "    </tr>\n",
       "    <tr>\n",
       "      <th>1</th>\n",
       "      <td>Alanine aminotransferase</td>\n",
       "      <td>Alanine aminotransferase</td>\n",
       "      <td>ALT</td>\n",
       "      <td>verify</td>\n",
       "      <td>NaN</td>\n",
       "      <td>769</td>\n",
       "      <td>ALT</td>\n",
       "      <td>NaN</td>\n",
       "      <td>chartevents</td>\n",
       "      <td>41594</td>\n",
       "      <td>Enzymes</td>\n",
       "      <td>NaN</td>\n",
       "      <td>NaN</td>\n",
       "      <td>NaN</td>\n",
       "      <td>carevue</td>\n",
       "      <td>NaN</td>\n",
       "      <td>NaN</td>\n",
       "      <td>NaN</td>\n",
       "    </tr>\n",
       "    <tr>\n",
       "      <th>2</th>\n",
       "      <td>Alanine aminotransferase</td>\n",
       "      <td>Alanine aminotransferase</td>\n",
       "      <td>ALT</td>\n",
       "      <td>verify</td>\n",
       "      <td>NaN</td>\n",
       "      <td>220644</td>\n",
       "      <td>ALT</td>\n",
       "      <td>None</td>\n",
       "      <td>chartevents</td>\n",
       "      <td>37625</td>\n",
       "      <td>Labs</td>\n",
       "      <td>NaN</td>\n",
       "      <td>NaN</td>\n",
       "      <td>NaN</td>\n",
       "      <td>metavision</td>\n",
       "      <td>NaN</td>\n",
       "      <td>Numeric</td>\n",
       "      <td>NaN</td>\n",
       "    </tr>\n",
       "    <tr>\n",
       "      <th>3</th>\n",
       "      <td>Albumin</td>\n",
       "      <td>Albumin</td>\n",
       "      <td>NaN</td>\n",
       "      <td>verify</td>\n",
       "      <td>NaN</td>\n",
       "      <td>50862</td>\n",
       "      <td>ALBUMIN</td>\n",
       "      <td>NaN</td>\n",
       "      <td>labevents</td>\n",
       "      <td>146697</td>\n",
       "      <td>CHEMISTRY</td>\n",
       "      <td>NaN</td>\n",
       "      <td>BLOOD</td>\n",
       "      <td>7/1/1751</td>\n",
       "      <td>NaN</td>\n",
       "      <td>NaN</td>\n",
       "      <td>NaN</td>\n",
       "      <td>NaN</td>\n",
       "    </tr>\n",
       "    <tr>\n",
       "      <th>4</th>\n",
       "      <td>Albumin</td>\n",
       "      <td>Albumin</td>\n",
       "      <td>NaN</td>\n",
       "      <td>verify</td>\n",
       "      <td>NaN</td>\n",
       "      <td>772</td>\n",
       "      <td>Albumin (&gt;3.2)</td>\n",
       "      <td>NaN</td>\n",
       "      <td>chartevents</td>\n",
       "      <td>31022</td>\n",
       "      <td>Chemistry</td>\n",
       "      <td>NaN</td>\n",
       "      <td>NaN</td>\n",
       "      <td>NaN</td>\n",
       "      <td>carevue</td>\n",
       "      <td>NaN</td>\n",
       "      <td>NaN</td>\n",
       "      <td>NaN</td>\n",
       "    </tr>\n",
       "  </tbody>\n",
       "</table>\n",
       "</div>"
      ],
      "text/plain": [
       "                     LEVEL2                    LEVEL1 ALTERNATIVE  STATUS  \\\n",
       "0  Alanine aminotransferase  Alanine aminotransferase         ALT  verify   \n",
       "1  Alanine aminotransferase  Alanine aminotransferase         ALT  verify   \n",
       "2  Alanine aminotransferase  Alanine aminotransferase         ALT  verify   \n",
       "3                   Albumin                   Albumin         NaN  verify   \n",
       "4                   Albumin                   Albumin         NaN  verify   \n",
       "\n",
       "  STATUS NOTE  ITEMID                     MIMIC LABEL UNITNAME      LINKSTO  \\\n",
       "0         NaN   50861  ALANINE AMINOTRANSFERASE (ALT)      NaN    labevents   \n",
       "1         NaN     769                             ALT      NaN  chartevents   \n",
       "2         NaN  220644                             ALT     None  chartevents   \n",
       "3         NaN   50862                         ALBUMIN      NaN    labevents   \n",
       "4         NaN     772                  Albumin (>3.2)      NaN  chartevents   \n",
       "\n",
       "    COUNT   CATEGORY  CONCEPTID  FLUID LOINC_CODE    DBSOURCE  Unnamed: 15  \\\n",
       "0  219475  CHEMISTRY        NaN  BLOOD   6/1/1742         NaN          NaN   \n",
       "1   41594    Enzymes        NaN    NaN        NaN     carevue          NaN   \n",
       "2   37625       Labs        NaN    NaN        NaN  metavision          NaN   \n",
       "3  146697  CHEMISTRY        NaN  BLOOD   7/1/1751         NaN          NaN   \n",
       "4   31022  Chemistry        NaN    NaN        NaN     carevue          NaN   \n",
       "\n",
       "  PARAM_TYPE  NOTE  \n",
       "0        NaN   NaN  \n",
       "1        NaN   NaN  \n",
       "2    Numeric   NaN  \n",
       "3        NaN   NaN  \n",
       "4        NaN   NaN  "
      ]
     },
     "execution_count": 3,
     "metadata": {},
     "output_type": "execute_result"
    }
   ],
   "source": [
    "item_map.head()"
   ]
  }
 ],
 "metadata": {
  "kernelspec": {
   "display_name": "conda_python3",
   "language": "python",
   "name": "conda_python3"
  },
  "language_info": {
   "codemirror_mode": {
    "name": "ipython",
    "version": 3
   },
   "file_extension": ".py",
   "mimetype": "text/x-python",
   "name": "python",
   "nbconvert_exporter": "python",
   "pygments_lexer": "ipython3",
   "version": "3.6.13"
  }
 },
 "nbformat": 4,
 "nbformat_minor": 5
}
