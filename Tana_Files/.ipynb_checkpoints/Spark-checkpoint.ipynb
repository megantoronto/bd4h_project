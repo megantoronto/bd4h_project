{
 "cells": [
  {
   "cell_type": "code",
   "execution_count": 1,
   "id": "unavailable-uniform",
   "metadata": {},
   "outputs": [
    {
     "data": {
      "text/html": [
       "Current session configs: <tt>{'conf': {'spark.pyspark.python': 'python3', 'spark.pyspark.virtualenv.enabled': 'true', 'spark.pyspark.virtualenv.type': 'native', 'spark.pyspark.virtualenv.bin.path': '/usr/bin/virtualenv'}, 'kind': 'pyspark'}</tt><br>"
      ],
      "text/plain": [
       "<IPython.core.display.HTML object>"
      ]
     },
     "metadata": {},
     "output_type": "display_data"
    },
    {
     "data": {
      "text/html": [
       "No active sessions."
      ],
      "text/plain": [
       "<IPython.core.display.HTML object>"
      ]
     },
     "metadata": {},
     "output_type": "display_data"
    }
   ],
   "source": [
    "%%configure -f\n",
    "{ \"conf\":{\n",
    "          \"spark.pyspark.python\": \"python3\",\n",
    "          \"spark.pyspark.virtualenv.enabled\": \"true\",\n",
    "          \"spark.pyspark.virtualenv.type\":\"native\",\n",
    "          \"spark.pyspark.virtualenv.bin.path\":\"/usr/bin/virtualenv\"\n",
    "         }\n",
    "}"
   ]
  },
  {
   "cell_type": "code",
   "execution_count": 2,
   "id": "statutory-algorithm",
   "metadata": {},
   "outputs": [
    {
     "name": "stdout",
     "output_type": "stream",
     "text": [
      "Starting Spark application\n"
     ]
    },
    {
     "data": {
      "text/html": [
       "<table>\n",
       "<tr><th>ID</th><th>YARN Application ID</th><th>Kind</th><th>State</th><th>Spark UI</th><th>Driver log</th><th>User</th><th>Current session?</th></tr><tr><td>0</td><td>application_1618539777806_0001</td><td>pyspark</td><td>idle</td><td><a target=\"_blank\" href=\"http://ip-172-31-86-250.ec2.internal:20888/proxy/application_1618539777806_0001/\">Link</a></td><td><a target=\"_blank\" href=\"http://ip-172-31-82-45.ec2.internal:8042/node/containerlogs/container_1618539777806_0001_01_000001/livy\">Link</a></td><td>None</td><td>✔</td></tr></table>"
      ],
      "text/plain": [
       "<IPython.core.display.HTML object>"
      ]
     },
     "metadata": {},
     "output_type": "display_data"
    },
    {
     "data": {
      "application/vnd.jupyter.widget-view+json": {
       "model_id": "ca06c2c0b1cf4ac4a086286a6631f6ac",
       "version_major": 2,
       "version_minor": 0
      },
      "text/plain": [
       "FloatProgress(value=0.0, bar_style='info', description='Progress:', layout=Layout(height='25px', width='50%'),…"
      ]
     },
     "metadata": {},
     "output_type": "display_data"
    },
    {
     "name": "stdout",
     "output_type": "stream",
     "text": [
      "SparkSession available as 'spark'.\n"
     ]
    },
    {
     "data": {
      "application/vnd.jupyter.widget-view+json": {
       "model_id": "3f259a9ec3a444f2b042433491991ff0",
       "version_major": 2,
       "version_minor": 0
      },
      "text/plain": [
       "FloatProgress(value=0.0, bar_style='info', description='Progress:', layout=Layout(height='25px', width='50%'),…"
      ]
     },
     "metadata": {},
     "output_type": "display_data"
    },
    {
     "name": "stdout",
     "output_type": "stream",
     "text": [
      "Collecting pandas\n",
      "  Downloading https://files.pythonhosted.org/packages/51/51/48f3fc47c4e2144da2806dfb6629c4dd1fa3d5a143f9652b141e979a8ca9/pandas-1.2.4-cp37-cp37m-manylinux1_x86_64.whl (9.9MB)\n",
      "Requirement already satisfied: numpy>=1.16.5 in /usr/local/lib64/python3.7/site-packages (from pandas)\n",
      "Requirement already satisfied: pytz>=2017.3 in /usr/local/lib/python3.7/site-packages (from pandas)\n",
      "Collecting python-dateutil>=2.7.3 (from pandas)\n",
      "  Downloading https://files.pythonhosted.org/packages/d4/70/d60450c3dd48ef87586924207ae8907090de0b306af2bce5d134d78615cb/python_dateutil-2.8.1-py2.py3-none-any.whl (227kB)\n",
      "Requirement already satisfied: six>=1.5 in /usr/local/lib/python3.7/site-packages (from python-dateutil>=2.7.3->pandas)\n",
      "Installing collected packages: python-dateutil, pandas\n",
      "Successfully installed pandas-1.2.4 python-dateutil-2.8.1"
     ]
    }
   ],
   "source": [
    "sc.install_pypi_package(\"pandas\")"
   ]
  },
  {
   "cell_type": "code",
   "execution_count": 3,
   "id": "canadian-orbit",
   "metadata": {},
   "outputs": [
    {
     "data": {
      "application/vnd.jupyter.widget-view+json": {
       "model_id": "edd481e8c7334c53b1dc3c1d4781680a",
       "version_major": 2,
       "version_minor": 0
      },
      "text/plain": [
       "FloatProgress(value=0.0, bar_style='info', description='Progress:', layout=Layout(height='25px', width='50%'),…"
      ]
     },
     "metadata": {},
     "output_type": "display_data"
    }
   ],
   "source": [
    "from pyspark.sql import functions as F\n"
   ]
  },
  {
   "cell_type": "code",
   "execution_count": null,
   "id": "retired-figure",
   "metadata": {},
   "outputs": [],
   "source": [
    "#Read in datasets"
   ]
  },
  {
   "cell_type": "code",
   "execution_count": 4,
   "id": "violent-meeting",
   "metadata": {},
   "outputs": [
    {
     "data": {
      "application/vnd.jupyter.widget-view+json": {
       "model_id": "2559c4869c0c4fee90256586c3572b6f",
       "version_major": 2,
       "version_minor": 0
      },
      "text/plain": [
       "FloatProgress(value=0.0, bar_style='info', description='Progress:', layout=Layout(height='25px', width='50%'),…"
      ]
     },
     "metadata": {},
     "output_type": "display_data"
    },
    {
     "name": "stdout",
     "output_type": "stream",
     "text": [
      "DataFrame[ROW_ID: int, SUBJECT_ID: int, HADM_ID: int, ICUSTAY_ID: int, ITEMID: int, CHARTTIME: timestamp, STORETIME: timestamp, CGID: int, VALUE: string, VALUENUM: double, VALUEUOM: string, WARNING: int, ERROR: int, RESULTSTATUS: string, STOPPED: string]"
     ]
    }
   ],
   "source": [
    "charts = spark.read.parquet('s3://mimic-iii-physionet/parquet/CHARTEVENTS/')\n",
    "charts = charts.select([F.col(x).alias(x.upper()) for x in charts.columns])\n",
    "charts"
   ]
  },
  {
   "cell_type": "code",
   "execution_count": 5,
   "id": "ongoing-export",
   "metadata": {},
   "outputs": [
    {
     "data": {
      "application/vnd.jupyter.widget-view+json": {
       "model_id": "29111e68334f465984ec50ad4b8b8099",
       "version_major": 2,
       "version_minor": 0
      },
      "text/plain": [
       "FloatProgress(value=0.0, bar_style='info', description='Progress:', layout=Layout(height='25px', width='50%'),…"
      ]
     },
     "metadata": {},
     "output_type": "display_data"
    },
    {
     "name": "stdout",
     "output_type": "stream",
     "text": [
      "DataFrame[ROW_ID: int, SUBJECT_ID: int, GENDER: string, DOB: timestamp, DOD: timestamp, DOD_HOSP: timestamp, DOD_SSN: timestamp, EXPIRE_FLAG: int]"
     ]
    }
   ],
   "source": [
    "patients = spark.read.parquet('s3://mimic-iii-physionet/parquet/PATIENTS/')\n",
    "patients = patients.select([F.col(x).alias(x.upper()) for x in patients.columns])\n",
    "patients"
   ]
  },
  {
   "cell_type": "code",
   "execution_count": 6,
   "id": "protecting-mount",
   "metadata": {},
   "outputs": [
    {
     "data": {
      "application/vnd.jupyter.widget-view+json": {
       "model_id": "666c4de95bf64ecfbea6b98e2fed7422",
       "version_major": 2,
       "version_minor": 0
      },
      "text/plain": [
       "FloatProgress(value=0.0, bar_style='info', description='Progress:', layout=Layout(height='25px', width='50%'),…"
      ]
     },
     "metadata": {},
     "output_type": "display_data"
    },
    {
     "name": "stdout",
     "output_type": "stream",
     "text": [
      "DataFrame[ROW_ID: int, SUBJECT_ID: int, HADM_ID: int, ADMITTIME: timestamp, DISCHTIME: timestamp, DEATHTIME: timestamp, ADMISSION_TYPE: string, ADMISSION_LOCATION: string, DISCHARGE_LOCATION: string, INSURANCE: string, LANGUAGE: string, RELIGION: string, MARITAL_STATUS: string, ETHNICITY: string, EDREGTIME: timestamp, EDOUTTIME: timestamp, DIAGNOSIS: string, HOSPITAL_EXPIRE_FLAG: smallint, HAS_CHARTEVENTS_DATA: smallint]"
     ]
    }
   ],
   "source": [
    "admissions = spark.read.parquet('s3://mimic-iii-physionet/parquet/ADMISSIONS/')\n",
    "admissions = admissions.select([F.col(x).alias(x.upper()) for x in admissions.columns])\n",
    "admissions"
   ]
  },
  {
   "cell_type": "code",
   "execution_count": 7,
   "id": "collective-proof",
   "metadata": {},
   "outputs": [
    {
     "data": {
      "application/vnd.jupyter.widget-view+json": {
       "model_id": "6f00f696be2a4abe877ba8c946de52c4",
       "version_major": 2,
       "version_minor": 0
      },
      "text/plain": [
       "FloatProgress(value=0.0, bar_style='info', description='Progress:', layout=Layout(height='25px', width='50%'),…"
      ]
     },
     "metadata": {},
     "output_type": "display_data"
    },
    {
     "name": "stdout",
     "output_type": "stream",
     "text": [
      "+------+----------+-------+----------+--------+--------------+-------------+------------+-----------+-------------------+-------------------+------+\n",
      "|row_id|subject_id|hadm_id|icustay_id|dbsource|first_careunit|last_careunit|first_wardid|last_wardid|             intime|            outtime|   los|\n",
      "+------+----------+-------+----------+--------+--------------+-------------+------------+-----------+-------------------+-------------------+------+\n",
      "|   365|       268| 110404|    280836| carevue|          MICU|         MICU|          52|         52|2198-02-14 23:27:38|2198-02-18 05:26:11| 3.249|\n",
      "|   366|       269| 106296|    206613| carevue|          MICU|         MICU|          52|         52|2170-11-05 11:05:29|2170-11-08 17:46:57|3.2788|\n",
      "|   367|       270| 188028|    220345| carevue|           CCU|          CCU|          57|         57|2128-06-24 15:05:20|2128-06-27 12:32:29|2.8939|\n",
      "|   368|       271| 173727|    249196| carevue|          MICU|         SICU|          52|         23|2120-08-07 23:12:42|2120-08-10 00:39:04|  2.06|\n",
      "|   369|       272| 164716|    210407| carevue|           CCU|          CCU|          57|         57|2186-12-25 21:08:04|2186-12-27 12:01:13|1.6202|\n",
      "|   370|       273| 158689|    241507| carevue|          MICU|         MICU|          52|         52|2141-04-19 06:12:05|2141-04-20 17:52:11|1.4862|\n",
      "|   371|       274| 130546|    254851| carevue|          MICU|         MICU|          12|         12|2114-06-28 22:28:44|2114-07-07 18:01:16|8.8143|\n",
      "|   372|       275| 129886|    219649| carevue|           CCU|          CCU|           7|          7|2170-10-07 11:28:53|2170-10-14 14:38:07|7.1314|\n",
      "|   373|       276| 135156|    206327| carevue|           CCU|          CCU|          57|         57|2147-11-20 09:02:23|2147-11-21 17:08:52|1.3378|\n",
      "|   374|       277| 171601|    272866| carevue|          NICU|         NICU|          56|         56|2132-10-21 21:11:46|2132-10-22 14:44:48|0.7313|\n",
      "+------+----------+-------+----------+--------+--------------+-------------+------------+-----------+-------------------+-------------------+------+\n",
      "only showing top 10 rows"
     ]
    }
   ],
   "source": [
    "icustays = spark.read.parquet('s3://mimic-iii-physionet/parquet/ICUSTAYS/')\n",
    "icustays.show(10)"
   ]
  },
  {
   "cell_type": "code",
   "execution_count": 8,
   "id": "employed-cattle",
   "metadata": {},
   "outputs": [
    {
     "data": {
      "application/vnd.jupyter.widget-view+json": {
       "model_id": "53ccc6e0702342918699dd3cce2d85f0",
       "version_major": 2,
       "version_minor": 0
      },
      "text/plain": [
       "FloatProgress(value=0.0, bar_style='info', description='Progress:', layout=Layout(height='25px', width='50%'),…"
      ]
     },
     "metadata": {},
     "output_type": "display_data"
    }
   ],
   "source": [
    "from pyspark.sql import functions as F\n",
    "icustays = icustays.select([F.col(x).alias(x.upper()) for x in icustays.columns])\n"
   ]
  },
  {
   "cell_type": "code",
   "execution_count": 9,
   "id": "worldwide-manchester",
   "metadata": {},
   "outputs": [
    {
     "data": {
      "application/vnd.jupyter.widget-view+json": {
       "model_id": "9d0dffa4ceba46afa1e8693b79585db7",
       "version_major": 2,
       "version_minor": 0
      },
      "text/plain": [
       "FloatProgress(value=0.0, bar_style='info', description='Progress:', layout=Layout(height='25px', width='50%'),…"
      ]
     },
     "metadata": {},
     "output_type": "display_data"
    }
   ],
   "source": [
    "icustays_f = icustays.filter((icustays.FIRST_WARDID == icustays.LAST_WARDID) & (icustays.FIRST_CAREUNIT == icustays.LAST_CAREUNIT) )"
   ]
  },
  {
   "cell_type": "code",
   "execution_count": null,
   "id": "coastal-detector",
   "metadata": {},
   "outputs": [],
   "source": [
    "#Join icu stays with datasets and filter on benchmark"
   ]
  },
  {
   "cell_type": "code",
   "execution_count": 10,
   "id": "cleared-graphic",
   "metadata": {},
   "outputs": [
    {
     "data": {
      "application/vnd.jupyter.widget-view+json": {
       "model_id": "854eba363f954b949f68643d53dbd3cc",
       "version_major": 2,
       "version_minor": 0
      },
      "text/plain": [
       "FloatProgress(value=0.0, bar_style='info', description='Progress:', layout=Layout(height='25px', width='50%'),…"
      ]
     },
     "metadata": {},
     "output_type": "display_data"
    },
    {
     "name": "stdout",
     "output_type": "stream",
     "text": [
      "(55830, 29)"
     ]
    }
   ],
   "source": [
    "#stays = merge_on_subject_admission(stays, admits)\n",
    "stays = icustays_f.join(admissions, how='inner', on=['SUBJECT_ID', 'HADM_ID'])\n",
    "print((stays.count(), len(stays.columns)))"
   ]
  },
  {
   "cell_type": "code",
   "execution_count": 11,
   "id": "efficient-kitty",
   "metadata": {},
   "outputs": [
    {
     "data": {
      "application/vnd.jupyter.widget-view+json": {
       "model_id": "908775502a2d4e879287e03b9a7b42c7",
       "version_major": 2,
       "version_minor": 0
      },
      "text/plain": [
       "FloatProgress(value=0.0, bar_style='info', description='Progress:', layout=Layout(height='25px', width='50%'),…"
      ]
     },
     "metadata": {},
     "output_type": "display_data"
    },
    {
     "name": "stdout",
     "output_type": "stream",
     "text": [
      "(55830, 36)"
     ]
    }
   ],
   "source": [
    "#stays = merge_on_subject(stays, patients)\n",
    "stays = stays.join(patients, how='inner', on=['SUBJECT_ID'])\n",
    "print((stays.count(), len(stays.columns)))"
   ]
  },
  {
   "cell_type": "code",
   "execution_count": 12,
   "id": "occupied-crisis",
   "metadata": {},
   "outputs": [
    {
     "data": {
      "application/vnd.jupyter.widget-view+json": {
       "model_id": "04fd89e5b5814b41aa90b91b95e59ce4",
       "version_major": 2,
       "version_minor": 0
      },
      "text/plain": [
       "FloatProgress(value=0.0, bar_style='info', description='Progress:', layout=Layout(height='25px', width='50%'),…"
      ]
     },
     "metadata": {},
     "output_type": "display_data"
    }
   ],
   "source": [
    "import pyspark.sql.functions as func\n"
   ]
  },
  {
   "cell_type": "code",
   "execution_count": 13,
   "id": "junior-central",
   "metadata": {},
   "outputs": [
    {
     "data": {
      "application/vnd.jupyter.widget-view+json": {
       "model_id": "0d60d7bcb8fa4f73add18bc5d39aadd0",
       "version_major": 2,
       "version_minor": 0
      },
      "text/plain": [
       "FloatProgress(value=0.0, bar_style='info', description='Progress:', layout=Layout(height='25px', width='50%'),…"
      ]
     },
     "metadata": {},
     "output_type": "display_data"
    },
    {
     "name": "stdout",
     "output_type": "stream",
     "text": [
      "52834"
     ]
    }
   ],
   "source": [
    "to_keep = stays.groupby(stays.HADM_ID).agg(func.count('ICUSTAY_ID'))\n",
    "print(to_keep.count())"
   ]
  },
  {
   "cell_type": "code",
   "execution_count": 14,
   "id": "spread-tooth",
   "metadata": {},
   "outputs": [
    {
     "data": {
      "application/vnd.jupyter.widget-view+json": {
       "model_id": "85b8291aecec43ae86f83cfa4d4aa4f7",
       "version_major": 2,
       "version_minor": 0
      },
      "text/plain": [
       "FloatProgress(value=0.0, bar_style='info', description='Progress:', layout=Layout(height='25px', width='50%'),…"
      ]
     },
     "metadata": {},
     "output_type": "display_data"
    },
    {
     "name": "stdout",
     "output_type": "stream",
     "text": [
      "50186"
     ]
    }
   ],
   "source": [
    "to_keep = to_keep.filter(to_keep['count(ICUSTAY_ID)']==1)\n",
    "print(to_keep.count())"
   ]
  },
  {
   "cell_type": "code",
   "execution_count": 15,
   "id": "verbal-proportion",
   "metadata": {},
   "outputs": [
    {
     "data": {
      "application/vnd.jupyter.widget-view+json": {
       "model_id": "eae55130245a46b1922e750f4e06a2c1",
       "version_major": 2,
       "version_minor": 0
      },
      "text/plain": [
       "FloatProgress(value=0.0, bar_style='info', description='Progress:', layout=Layout(height='25px', width='50%'),…"
      ]
     },
     "metadata": {},
     "output_type": "display_data"
    },
    {
     "name": "stdout",
     "output_type": "stream",
     "text": [
      "DataFrame[HADM_ID: int, count(ICUSTAY_ID): bigint]"
     ]
    }
   ],
   "source": [
    "to_keep"
   ]
  },
  {
   "cell_type": "code",
   "execution_count": 16,
   "id": "accredited-forum",
   "metadata": {},
   "outputs": [
    {
     "data": {
      "application/vnd.jupyter.widget-view+json": {
       "model_id": "84266d44108e4db4b3085d9e1b32acd7",
       "version_major": 2,
       "version_minor": 0
      },
      "text/plain": [
       "FloatProgress(value=0.0, bar_style='info', description='Progress:', layout=Layout(height='25px', width='50%'),…"
      ]
     },
     "metadata": {},
     "output_type": "display_data"
    }
   ],
   "source": [
    "stays = stays.join(to_keep, how='inner', on=['HADM_ID'])"
   ]
  },
  {
   "cell_type": "code",
   "execution_count": 17,
   "id": "color-shade",
   "metadata": {},
   "outputs": [
    {
     "data": {
      "application/vnd.jupyter.widget-view+json": {
       "model_id": "b4ed03f139b149468196d4031e778aeb",
       "version_major": 2,
       "version_minor": 0
      },
      "text/plain": [
       "FloatProgress(value=0.0, bar_style='info', description='Progress:', layout=Layout(height='25px', width='50%'),…"
      ]
     },
     "metadata": {},
     "output_type": "display_data"
    },
    {
     "name": "stdout",
     "output_type": "stream",
     "text": [
      "50186"
     ]
    }
   ],
   "source": [
    "stays.count()"
   ]
  },
  {
   "cell_type": "code",
   "execution_count": 18,
   "id": "assumed-picture",
   "metadata": {},
   "outputs": [
    {
     "data": {
      "application/vnd.jupyter.widget-view+json": {
       "model_id": "58b9bb7c58d042d0b88efd557edeead0",
       "version_major": 2,
       "version_minor": 0
      },
      "text/plain": [
       "FloatProgress(value=0.0, bar_style='info', description='Progress:', layout=Layout(height='25px', width='50%'),…"
      ]
     },
     "metadata": {},
     "output_type": "display_data"
    }
   ],
   "source": [
    "from pyspark.sql.functions import datediff,col"
   ]
  },
  {
   "cell_type": "code",
   "execution_count": 19,
   "id": "proof-mailing",
   "metadata": {},
   "outputs": [
    {
     "data": {
      "application/vnd.jupyter.widget-view+json": {
       "model_id": "5f2a663d2120456c8f86ade307c7e847",
       "version_major": 2,
       "version_minor": 0
      },
      "text/plain": [
       "FloatProgress(value=0.0, bar_style='info', description='Progress:', layout=Layout(height='25px', width='50%'),…"
      ]
     },
     "metadata": {},
     "output_type": "display_data"
    }
   ],
   "source": [
    "#stays = add_age_to_icustays(stays)\n",
    "stays = stays.withColumn(\"AGE\", datediff(col(\"INTIME\"),col(\"DOB\"))/365.25)\n"
   ]
  },
  {
   "cell_type": "code",
   "execution_count": 20,
   "id": "educational-tunisia",
   "metadata": {},
   "outputs": [
    {
     "data": {
      "application/vnd.jupyter.widget-view+json": {
       "model_id": "a3c5648509ea43f79928affb5b140fc7",
       "version_major": 2,
       "version_minor": 0
      },
      "text/plain": [
       "FloatProgress(value=0.0, bar_style='info', description='Progress:', layout=Layout(height='25px', width='50%'),…"
      ]
     },
     "metadata": {},
     "output_type": "display_data"
    }
   ],
   "source": [
    "test = stays.withColumn(\"MORTALITY_INUNIT\", F.when((F.col(\"DOD\").isNotNull()) & (F.col(\"DOD\").between(F.col(\"INTIME\"), F.col(\"OUTTIME\"))), 1)\n",
    "      .when((F.col(\"DEATHTIME\").isNotNull()) & (F.col(\"DEATHTIME\").between(F.col(\"INTIME\"), F.col(\"OUTTIME\"))), 1)\n",
    "      .otherwise(0))"
   ]
  },
  {
   "cell_type": "code",
   "execution_count": 21,
   "id": "resident-committee",
   "metadata": {},
   "outputs": [
    {
     "data": {
      "application/vnd.jupyter.widget-view+json": {
       "model_id": "a6c0eb4c3ee441a1ae53e56ccccc53dc",
       "version_major": 2,
       "version_minor": 0
      },
      "text/plain": [
       "FloatProgress(value=0.0, bar_style='info', description='Progress:', layout=Layout(height='25px', width='50%'),…"
      ]
     },
     "metadata": {},
     "output_type": "display_data"
    }
   ],
   "source": [
    "test2 = test.withColumn(\"MORTALITY_INHOSPITAL\", F.when((F.col(\"DOD\").isNotNull()) & (F.col(\"DOD\").between(F.col(\"ADMITTIME\"), F.col(\"DISCHTIME\"))), 1)\n",
    "      .when((F.col(\"DEATHTIME\").isNotNull()) & (F.col(\"DEATHTIME\").between(F.col(\"ADMITTIME\"), F.col(\"DISCHTIME\"))), 1)\n",
    "      .otherwise(0))"
   ]
  },
  {
   "cell_type": "code",
   "execution_count": 22,
   "id": "affiliated-surface",
   "metadata": {},
   "outputs": [
    {
     "data": {
      "application/vnd.jupyter.widget-view+json": {
       "model_id": "9743bd6e56ef42fc97d0f25958014be2",
       "version_major": 2,
       "version_minor": 0
      },
      "text/plain": [
       "FloatProgress(value=0.0, bar_style='info', description='Progress:', layout=Layout(height='25px', width='50%'),…"
      ]
     },
     "metadata": {},
     "output_type": "display_data"
    },
    {
     "name": "stdout",
     "output_type": "stream",
     "text": [
      "+----------------+--------------------+-------------------+-------------------+-------------------+-------------------+\n",
      "|MORTALITY_INUNIT|MORTALITY_INHOSPITAL|                DOD|          ADMITTIME|          DISCHTIME|          DEATHTIME|\n",
      "+----------------+--------------------+-------------------+-------------------+-------------------+-------------------+\n",
      "|               0|                   0|               null|2149-08-02 00:24:00|2149-08-06 12:24:00|               null|\n",
      "|               0|                   0|               null|2110-12-16 17:50:00|2110-12-18 17:42:00|               null|\n",
      "|               0|                   0|               null|2193-04-03 21:30:00|2193-04-07 11:10:00|               null|\n",
      "|               0|                   0|               null|2149-09-22 13:26:00|2149-09-26 14:27:00|               null|\n",
      "|               0|                   0|               null|2184-08-20 14:21:00|2184-08-22 15:15:00|               null|\n",
      "|               0|                   0|2173-09-13 00:00:00|2173-02-20 23:57:00|2173-02-22 17:14:00|               null|\n",
      "|               0|                   0|               null|2125-02-17 06:52:00|2125-02-23 17:00:00|               null|\n",
      "|               0|                   0|               null|2132-06-26 12:48:00|2132-06-28 18:14:00|               null|\n",
      "|               1|                   1|2127-05-04 00:00:00|2127-04-29 01:38:00|2127-05-04 12:00:00|2127-05-04 12:00:00|\n",
      "|               0|                   0|               null|2189-04-20 14:55:00|2189-05-04 14:30:00|               null|\n",
      "|               0|                   0|2107-07-06 00:00:00|2105-12-12 20:42:00|2105-12-17 18:52:00|               null|\n",
      "|               0|                   0|2151-03-16 00:00:00|2151-03-04 23:30:00|2151-03-14 13:25:00|               null|\n",
      "|               0|                   0|               null|2181-07-25 10:45:00|2181-08-01 19:23:00|               null|\n",
      "|               0|                   0|               null|2159-02-21 08:00:00|2159-02-24 13:30:00|               null|\n",
      "|               0|                   0|2159-03-08 00:00:00|2156-06-26 12:54:00|2156-06-26 15:46:00|               null|\n",
      "|               0|                   0|2123-07-18 00:00:00|2120-09-04 18:21:00|2120-09-11 14:47:00|               null|\n",
      "|               0|                   0|               null|2134-06-04 21:41:00|2134-06-08 12:00:00|               null|\n",
      "|               0|                   0|               null|2168-02-05 17:24:00|2168-02-14 14:39:00|               null|\n",
      "|               0|                   0|               null|2117-03-29 18:57:00|2117-03-30 16:28:00|               null|\n",
      "|               1|                   1|2181-04-30 00:00:00|2181-04-28 22:59:00|2181-04-30 05:00:00|2181-04-30 05:00:00|\n",
      "+----------------+--------------------+-------------------+-------------------+-------------------+-------------------+\n",
      "only showing top 20 rows"
     ]
    }
   ],
   "source": [
    "test2.select(test2.MORTALITY_INUNIT, test2.MORTALITY_INHOSPITAL,test2.DOD,test2.ADMITTIME,test2.DISCHTIME,test2.DEATHTIME ).show()"
   ]
  },
  {
   "cell_type": "code",
   "execution_count": 23,
   "id": "julian-jefferson",
   "metadata": {},
   "outputs": [
    {
     "data": {
      "application/vnd.jupyter.widget-view+json": {
       "model_id": "f722fe61890641e0ad3f87f71e69e17c",
       "version_major": 2,
       "version_minor": 0
      },
      "text/plain": [
       "FloatProgress(value=0.0, bar_style='info', description='Progress:', layout=Layout(height='25px', width='50%'),…"
      ]
     },
     "metadata": {},
     "output_type": "display_data"
    }
   ],
   "source": [
    "#stays = filter_icustays_on_age(stays)\n",
    "test2 = test2.filter(test2.AGE >= 18)"
   ]
  },
  {
   "cell_type": "code",
   "execution_count": 25,
   "id": "communist-bonus",
   "metadata": {},
   "outputs": [
    {
     "data": {
      "application/vnd.jupyter.widget-view+json": {
       "model_id": "33de71b0187d4d2982e3515f07522eac",
       "version_major": 2,
       "version_minor": 0
      },
      "text/plain": [
       "FloatProgress(value=0.0, bar_style='info', description='Progress:', layout=Layout(height='25px', width='50%'),…"
      ]
     },
     "metadata": {},
     "output_type": "display_data"
    },
    {
     "name": "stdout",
     "output_type": "stream",
     "text": [
      "DataFrame[ROW_ID: int, ICD9_CODE: string, SHORT_TITLE: string, LONG_TITLE: string]"
     ]
    }
   ],
   "source": [
    "codes = spark.read.parquet('s3://mimic-iii-physionet/parquet/D_ICD_DIAGNOSES/')\n",
    "codes = codes.select([F.col(x).alias(x.upper()) for x in codes.columns])\n",
    "codes"
   ]
  },
  {
   "cell_type": "code",
   "execution_count": 26,
   "id": "desirable-genre",
   "metadata": {},
   "outputs": [
    {
     "data": {
      "application/vnd.jupyter.widget-view+json": {
       "model_id": "f48b95938ce14554bb11ba66af08cfc2",
       "version_major": 2,
       "version_minor": 0
      },
      "text/plain": [
       "FloatProgress(value=0.0, bar_style='info', description='Progress:', layout=Layout(height='25px', width='50%'),…"
      ]
     },
     "metadata": {},
     "output_type": "display_data"
    },
    {
     "name": "stdout",
     "output_type": "stream",
     "text": [
      "DataFrame[ROW_ID: int, SUBJECT_ID: int, HADM_ID: int, SEQ_NUM: int, ICD9_CODE: string]"
     ]
    }
   ],
   "source": [
    "diag = spark.read.parquet('s3://mimic-iii-physionet/parquet/DIAGNOSES_ICD/')\n",
    "diag = diag.select([F.col(x).alias(x.upper()) for x in diag.columns])\n",
    "diag"
   ]
  },
  {
   "cell_type": "code",
   "execution_count": 27,
   "id": "mechanical-slide",
   "metadata": {},
   "outputs": [
    {
     "data": {
      "application/vnd.jupyter.widget-view+json": {
       "model_id": "009aca89b1164ce0a08165dc25761df2",
       "version_major": 2,
       "version_minor": 0
      },
      "text/plain": [
       "FloatProgress(value=0.0, bar_style='info', description='Progress:', layout=Layout(height='25px', width='50%'),…"
      ]
     },
     "metadata": {},
     "output_type": "display_data"
    }
   ],
   "source": [
    "diagnoses = diag.join(codes, how='inner', on=['ICD9_CODE'])"
   ]
  },
  {
   "cell_type": "code",
   "execution_count": 28,
   "id": "biblical-tuesday",
   "metadata": {},
   "outputs": [
    {
     "data": {
      "application/vnd.jupyter.widget-view+json": {
       "model_id": "4c6f905636754a4a9ea3753c881f7657",
       "version_major": 2,
       "version_minor": 0
      },
      "text/plain": [
       "FloatProgress(value=0.0, bar_style='info', description='Progress:', layout=Layout(height='25px', width='50%'),…"
      ]
     },
     "metadata": {},
     "output_type": "display_data"
    },
    {
     "name": "stdout",
     "output_type": "stream",
     "text": [
      "42276"
     ]
    }
   ],
   "source": [
    "filterDF = test2.select(test2.SUBJECT_ID,test2.HADM_ID, test2.ICUSTAY_ID )\n",
    "filterDF.count()"
   ]
  },
  {
   "cell_type": "code",
   "execution_count": 29,
   "id": "challenging-vaccine",
   "metadata": {},
   "outputs": [
    {
     "data": {
      "application/vnd.jupyter.widget-view+json": {
       "model_id": "84e4e94ec03b46d082d6af031a6a228e",
       "version_major": 2,
       "version_minor": 0
      },
      "text/plain": [
       "FloatProgress(value=0.0, bar_style='info', description='Progress:', layout=Layout(height='25px', width='50%'),…"
      ]
     },
     "metadata": {},
     "output_type": "display_data"
    }
   ],
   "source": [
    "filterDF = test2.select(test2.SUBJECT_ID,test2.HADM_ID, test2.ICUSTAY_ID ).dropDuplicates()"
   ]
  },
  {
   "cell_type": "code",
   "execution_count": 31,
   "id": "incorrect-cocktail",
   "metadata": {},
   "outputs": [
    {
     "data": {
      "application/vnd.jupyter.widget-view+json": {
       "model_id": "84b084170f5d43e4a98c623e17ab92ec",
       "version_major": 2,
       "version_minor": 0
      },
      "text/plain": [
       "FloatProgress(value=0.0, bar_style='info', description='Progress:', layout=Layout(height='25px', width='50%'),…"
      ]
     },
     "metadata": {},
     "output_type": "display_data"
    }
   ],
   "source": [
    "#diagnoses = filter_diagnoses_on_stays(diagnoses, stays)\n",
    "diagnoses2 = diagnoses.join(filterDF, how='inner', on=['SUBJECT_ID', 'HADM_ID'])"
   ]
  },
  {
   "cell_type": "code",
   "execution_count": 32,
   "id": "agricultural-drama",
   "metadata": {},
   "outputs": [
    {
     "data": {
      "application/vnd.jupyter.widget-view+json": {
       "model_id": "aa819354eba94f3cb8e61958405a2b01",
       "version_major": 2,
       "version_minor": 0
      },
      "text/plain": [
       "FloatProgress(value=0.0, bar_style='info', description='Progress:', layout=Layout(height='25px', width='50%'),…"
      ]
     },
     "metadata": {},
     "output_type": "display_data"
    },
    {
     "name": "stdout",
     "output_type": "stream",
     "text": [
      "6169"
     ]
    }
   ],
   "source": [
    "diagnoses2.select(diagnoses2.ICD9_CODE, diagnoses2.SHORT_TITLE, diagnoses2.LONG_TITLE).dropDuplicates().count()"
   ]
  },
  {
   "cell_type": "code",
   "execution_count": 33,
   "id": "funded-associate",
   "metadata": {},
   "outputs": [
    {
     "data": {
      "application/vnd.jupyter.widget-view+json": {
       "model_id": "c54933e1269c48f49619f9b537476d93",
       "version_major": 2,
       "version_minor": 0
      },
      "text/plain": [
       "FloatProgress(value=0.0, bar_style='info', description='Progress:', layout=Layout(height='25px', width='50%'),…"
      ]
     },
     "metadata": {},
     "output_type": "display_data"
    },
    {
     "name": "stdout",
     "output_type": "stream",
     "text": [
      "DataFrame[ICD9_CODE: string, SHORT_TITLE: string, LONG_TITLE: string, COUNT: bigint]"
     ]
    }
   ],
   "source": [
    "#count_icd_codes(diagnoses, output_path=os.path.join(args.output_path, 'diagnosis_counts.csv'))\n",
    "codes = diagnoses2.select(diagnoses2.ICD9_CODE, diagnoses2.SHORT_TITLE, diagnoses2.LONG_TITLE).dropDuplicates()\n",
    "codes_counts = diagnoses2.groupby(diagnoses2.ICD9_CODE).count()\n",
    "codes = codes.join(codes_counts, how= 'inner', on= ['ICD9_CODE'])\n",
    "codes = codes.withColumn(\"count1\", col('count'))\n",
    "codes = codes.filter(codes.count1 > 0).select(codes.ICD9_CODE, codes.SHORT_TITLE, codes.LONG_TITLE, codes.count1).withColumnRenamed(\"count1\", \"COUNT\")\n",
    "codes"
   ]
  },
  {
   "cell_type": "code",
   "execution_count": null,
   "id": "fresh-edition",
   "metadata": {},
   "outputs": [],
   "source": [
    "#Get charts data and join with item map to get chart item names"
   ]
  },
  {
   "cell_type": "code",
   "execution_count": 35,
   "id": "hairy-liability",
   "metadata": {},
   "outputs": [
    {
     "data": {
      "application/vnd.jupyter.widget-view+json": {
       "model_id": "d04caf0af18d435cab94d30087535739",
       "version_major": 2,
       "version_minor": 0
      },
      "text/plain": [
       "FloatProgress(value=0.0, bar_style='info', description='Progress:', layout=Layout(height='25px', width='50%'),…"
      ]
     },
     "metadata": {},
     "output_type": "display_data"
    }
   ],
   "source": [
    "charts = charts.filter(charts.HADM_ID.isNotNull() )"
   ]
  },
  {
   "cell_type": "code",
   "execution_count": 36,
   "id": "working-journalist",
   "metadata": {},
   "outputs": [
    {
     "data": {
      "application/vnd.jupyter.widget-view+json": {
       "model_id": "13ab492c6af54b28b1e4b76cea56e7ee",
       "version_major": 2,
       "version_minor": 0
      },
      "text/plain": [
       "FloatProgress(value=0.0, bar_style='info', description='Progress:', layout=Layout(height='25px', width='50%'),…"
      ]
     },
     "metadata": {},
     "output_type": "display_data"
    }
   ],
   "source": [
    "charts = charts.filter(charts.ICUSTAY_ID.isNotNull())"
   ]
  },
  {
   "cell_type": "code",
   "execution_count": 39,
   "id": "happy-closure",
   "metadata": {},
   "outputs": [
    {
     "data": {
      "application/vnd.jupyter.widget-view+json": {
       "model_id": "9b60c092157446659e736845678cf988",
       "version_major": 2,
       "version_minor": 0
      },
      "text/plain": [
       "FloatProgress(value=0.0, bar_style='info', description='Progress:', layout=Layout(height='25px', width='50%'),…"
      ]
     },
     "metadata": {},
     "output_type": "display_data"
    }
   ],
   "source": [
    "itemid = spark.read.csv('s3://aws-athena-query-results-441066871063-us-east-1/item_map', header=True)\n"
   ]
  },
  {
   "cell_type": "code",
   "execution_count": 41,
   "id": "public-physiology",
   "metadata": {},
   "outputs": [
    {
     "data": {
      "application/vnd.jupyter.widget-view+json": {
       "model_id": "944540f9e29849f7b8069a2fcdd12387",
       "version_major": 2,
       "version_minor": 0
      },
      "text/plain": [
       "FloatProgress(value=0.0, bar_style='info', description='Progress:', layout=Layout(height='25px', width='50%'),…"
      ]
     },
     "metadata": {},
     "output_type": "display_data"
    }
   ],
   "source": [
    "charts_item = charts.join(itemid.filter(itemid.LINKSTO=='chartevents'), on=['ITEMID'], how='inner').filter(col(\"VALUE\").isNotNull())"
   ]
  },
  {
   "cell_type": "code",
   "execution_count": null,
   "id": "returning-middle",
   "metadata": {},
   "outputs": [],
   "source": [
    "#Perform chart value cleanup"
   ]
  },
  {
   "cell_type": "code",
   "execution_count": 43,
   "id": "serial-portugal",
   "metadata": {},
   "outputs": [
    {
     "data": {
      "application/vnd.jupyter.widget-view+json": {
       "model_id": "6766f80826ca44eaa1b7c0adf52997a4",
       "version_major": 2,
       "version_minor": 0
      },
      "text/plain": [
       "FloatProgress(value=0.0, bar_style='info', description='Progress:', layout=Layout(height='25px', width='50%'),…"
      ]
     },
     "metadata": {},
     "output_type": "display_data"
    }
   ],
   "source": [
    "#clean height\n",
    "charts_item = charts_item.withColumn('VALUENUM', F.when((charts_item.LEVEL2 == 'Height')\n",
    "                                                   & ((charts_item.VALUEUOM =='Inch')| (charts_item.VALUEUOM =='In'))\n",
    "                                                   ,charts_item.VALUENUM* 2.54).otherwise(charts_item.VALUENUM))"
   ]
  },
  {
   "cell_type": "code",
   "execution_count": 44,
   "id": "lonely-transcript",
   "metadata": {},
   "outputs": [
    {
     "data": {
      "application/vnd.jupyter.widget-view+json": {
       "model_id": "b2310aa7c99942dcbf7126dda4088225",
       "version_major": 2,
       "version_minor": 0
      },
      "text/plain": [
       "FloatProgress(value=0.0, bar_style='info', description='Progress:', layout=Layout(height='25px', width='50%'),…"
      ]
     },
     "metadata": {},
     "output_type": "display_data"
    }
   ],
   "source": [
    "#clean weight\n",
    "charts_item = charts_item.withColumn('VALUENUM', F.when((charts_item.LEVEL2 == 'Weight')\n",
    "                                                   & (charts_item['MIMIC LABEL'].contains('oz'))\n",
    "                                                   ,charts_item.VALUENUM/16)\n",
    "                                     .when((charts_item.LEVEL2 == 'Weight')\n",
    "                                                   & (charts_item['MIMIC LABEL'].contains('lb'))\n",
    "                                                   ,charts_item.VALUENUM* 0.453592)\n",
    "                                     .otherwise(charts_item.VALUENUM))"
   ]
  },
  {
   "cell_type": "code",
   "execution_count": 45,
   "id": "unusual-lafayette",
   "metadata": {},
   "outputs": [
    {
     "data": {
      "application/vnd.jupyter.widget-view+json": {
       "model_id": "b05bcea85df548a593e1448d52ed8f35",
       "version_major": 2,
       "version_minor": 0
      },
      "text/plain": [
       "FloatProgress(value=0.0, bar_style='info', description='Progress:', layout=Layout(height='25px', width='50%'),…"
      ]
     },
     "metadata": {},
     "output_type": "display_data"
    }
   ],
   "source": [
    "#clean Capillary refill rate\n",
    "charts_item = charts_item.withColumn('VALUENUM', F.when((charts_item.LEVEL2 == 'Capillary refill rate')\n",
    "                                                   & (charts_item['VALUE'] == 'Brisk')\n",
    "                                                   ,0 )\n",
    "                                     .when((charts_item.LEVEL2 == 'Capillary refill rate')\n",
    "                                                   & (charts_item['VALUE'] == 'Normal <3 secs')\n",
    "                                                   ,0)\n",
    "                                     .when((charts_item.LEVEL2 == 'Capillary refill rate')\n",
    "                                                   & (charts_item['VALUE'] == 'Abnormal >3 secs')\n",
    "                                                   ,1)\n",
    "                                     .when((charts_item.LEVEL2 == 'Capillary refill rate')\n",
    "                                                   & (charts_item['VALUE'] == 'Delayed')\n",
    "                                                   ,1)\n",
    "                                     .otherwise(charts_item.VALUENUM))"
   ]
  },
  {
   "cell_type": "code",
   "execution_count": 46,
   "id": "surgical-construction",
   "metadata": {},
   "outputs": [
    {
     "data": {
      "application/vnd.jupyter.widget-view+json": {
       "model_id": "64c86dfd1ff1407d9b30ccd8ae718580",
       "version_major": 2,
       "version_minor": 0
      },
      "text/plain": [
       "FloatProgress(value=0.0, bar_style='info', description='Progress:', layout=Layout(height='25px', width='50%'),…"
      ]
     },
     "metadata": {},
     "output_type": "display_data"
    }
   ],
   "source": [
    "#Clean FIO2\n",
    "charts_item = charts_item.withColumn('VALUENUM', F.when((charts_item.LEVEL2 == 'Fraction inspired oxygen')\n",
    "                                                   & (~(charts_item['VALUEUOM'].contains('torr')))\n",
    "                                                      & (~(charts_item['VALUE'].rlike(\"[^a-zA-Z\\\\s+]+\")))\n",
    "                                                   ,charts_item.VALUENUM/100 )\n",
    "                                                .when((charts_item.LEVEL2 == 'Fraction inspired oxygen')\n",
    "                                                   & (~(charts_item['VALUEUOM'].contains('torr'))) \n",
    "                                                      & (charts_item['VALUE'].cast(\"int\") > 1),\n",
    "                                                    charts_item.VALUENUM/100)\n",
    "                                                .otherwise(charts_item.VALUENUM))"
   ]
  },
  {
   "cell_type": "code",
   "execution_count": 47,
   "id": "federal-tobacco",
   "metadata": {},
   "outputs": [
    {
     "data": {
      "application/vnd.jupyter.widget-view+json": {
       "model_id": "77db6ad0ae544c5984b6ab0c22c5cc24",
       "version_major": 2,
       "version_minor": 0
      },
      "text/plain": [
       "FloatProgress(value=0.0, bar_style='info', description='Progress:', layout=Layout(height='25px', width='50%'),…"
      ]
     },
     "metadata": {},
     "output_type": "display_data"
    },
    {
     "name": "stdout",
     "output_type": "stream",
     "text": [
      "+------+-----------+--------+-----+--------+\n",
      "|LEVEL2|MIMIC LABEL|VALUENUM|VALUE|VALUEUOM|\n",
      "+------+-----------+--------+-----+--------+\n",
      "+------+-----------+--------+-----+--------+"
     ]
    }
   ],
   "source": [
    "#No need to clean Glucose\n",
    "charts_item.filter((col('LEVEL2')=='Glucose') & (col('VALUE')=='ERROR') & (col('VALUENUM').isNotNull()) ).orderBy(col(\"VALUENUM\").desc()).select(charts_item['LEVEL2'], charts_item['MIMIC LABEL'],charts_item['VALUENUM'],charts_item['VALUE'], charts_item['VALUEUOM'] ).show(20)"
   ]
  },
  {
   "cell_type": "code",
   "execution_count": 48,
   "id": "ceramic-capitol",
   "metadata": {},
   "outputs": [
    {
     "data": {
      "application/vnd.jupyter.widget-view+json": {
       "model_id": "daccfeabe227401e90a517fa48d02a10",
       "version_major": 2,
       "version_minor": 0
      },
      "text/plain": [
       "FloatProgress(value=0.0, bar_style='info', description='Progress:', layout=Layout(height='25px', width='50%'),…"
      ]
     },
     "metadata": {},
     "output_type": "display_data"
    },
    {
     "name": "stdout",
     "output_type": "stream",
     "text": [
      "+------+-----------+--------+-----+--------+\n",
      "|LEVEL2|MIMIC LABEL|VALUENUM|VALUE|VALUEUOM|\n",
      "+------+-----------+--------+-----+--------+\n",
      "+------+-----------+--------+-----+--------+"
     ]
    }
   ],
   "source": [
    "#No need to clean PH\n",
    "charts_item.filter((col('LEVEL2')=='pH') & (col('VALUE')=='ERROR') & (col('VALUENUM').isNotNull()) ).orderBy(col(\"VALUENUM\").desc()).select(charts_item['LEVEL2'], charts_item['MIMIC LABEL'],charts_item['VALUENUM'],charts_item['VALUE'], charts_item['VALUEUOM'] ).show(20)"
   ]
  },
  {
   "cell_type": "code",
   "execution_count": 49,
   "id": "rough-pointer",
   "metadata": {},
   "outputs": [
    {
     "data": {
      "application/vnd.jupyter.widget-view+json": {
       "model_id": "a5ae1c7881c74c929e5851b82a1cb11d",
       "version_major": 2,
       "version_minor": 0
      },
      "text/plain": [
       "FloatProgress(value=0.0, bar_style='info', description='Progress:', layout=Layout(height='25px', width='50%'),…"
      ]
     },
     "metadata": {},
     "output_type": "display_data"
    }
   ],
   "source": [
    "#clean temp\n",
    "charts_item = charts_item.withColumn('VALUENUM', F.when((charts_item.LEVEL2 == 'Temperature')\n",
    "                                                   & (charts_item['MIMIC LABEL'].contains('F'))\n",
    "                                                   ,(charts_item.VALUENUM-32) * (5/9))\n",
    "                                     .when((charts_item.LEVEL2 == 'Temperature')\n",
    "                                                   & (charts_item['VALUEUOM'].contains('F'))\n",
    "                                                   ,(charts_item.VALUENUM-32) * (5/9))\n",
    "                                     .otherwise(charts_item.VALUENUM))"
   ]
  },
  {
   "cell_type": "code",
   "execution_count": 50,
   "id": "wound-thursday",
   "metadata": {},
   "outputs": [
    {
     "data": {
      "application/vnd.jupyter.widget-view+json": {
       "model_id": "247a87141a8c47c48f6e8c34b2f95a80",
       "version_major": 2,
       "version_minor": 0
      },
      "text/plain": [
       "FloatProgress(value=0.0, bar_style='info', description='Progress:', layout=Layout(height='25px', width='50%'),…"
      ]
     },
     "metadata": {},
     "output_type": "display_data"
    }
   ],
   "source": [
    "#Clean O2 saturation\n",
    "charts_item = charts_item.withColumn('VALUENUM', F.when((charts_item.LEVEL2 == 'Oxygen saturation')\n",
    "                                                   & (charts_item['VALUENUM'] <= 1)\n",
    "                                                   ,charts_item.VALUENUM * 100 )\n",
    "                                     .otherwise(charts_item.VALUENUM))"
   ]
  },
  {
   "cell_type": "code",
   "execution_count": null,
   "id": "configured-milan",
   "metadata": {},
   "outputs": [],
   "source": [
    "#Get LOS in hours"
   ]
  },
  {
   "cell_type": "code",
   "execution_count": 55,
   "id": "fleet-rehabilitation",
   "metadata": {},
   "outputs": [
    {
     "data": {
      "application/vnd.jupyter.widget-view+json": {
       "model_id": "47d28664f6134cb5b021ab9fcd279864",
       "version_major": 2,
       "version_minor": 0
      },
      "text/plain": [
       "FloatProgress(value=0.0, bar_style='info', description='Progress:', layout=Layout(height='25px', width='50%'),…"
      ]
     },
     "metadata": {},
     "output_type": "display_data"
    },
    {
     "name": "stdout",
     "output_type": "stream",
     "text": [
      "+------------------+--------+\n",
      "|         LOS_Hours|LOS_Days|\n",
      "+------------------+--------+\n",
      "| 85.66666666666667|       4|\n",
      "| 41.28333333333333|       2|\n",
      "|154.13333333333333|       6|\n",
      "|130.36666666666667|       5|\n",
      "| 335.5833333333333|      14|\n",
      "|118.16666666666667|       5|\n",
      "|229.91666666666666|      10|\n",
      "|176.63333333333333|       7|\n",
      "|              77.5|       3|\n",
      "|2.8666666666666667|       0|\n",
      "|164.43333333333334|       7|\n",
      "|            213.25|       9|\n",
      "|21.516666666666666|       1|\n",
      "|30.016666666666666|       2|\n",
      "|             143.1|       6|\n",
      "|             113.0|       5|\n",
      "| 574.1666666666666|      24|\n",
      "|28.566666666666666|       1|\n",
      "|137.06666666666666|       6|\n",
      "|             159.3|       7|\n",
      "|             69.05|       3|\n",
      "| 66.73333333333333|       3|\n",
      "|            380.05|      16|\n",
      "| 270.8666666666667|      11|\n",
      "|             355.0|      15|\n",
      "| 433.6333333333333|      18|\n",
      "|            775.65|      32|\n",
      "| 9.566666666666666|       0|\n",
      "|142.46666666666667|       6|\n",
      "|             103.7|       4|\n",
      "+------------------+--------+\n",
      "only showing top 30 rows"
     ]
    }
   ],
   "source": [
    "test2 = test2.withColumn('LOS_Hours',  (F.col(\"DISCHTIME\").cast(\"long\") - F.col(\"ADMITTIME\").cast(\"long\"))/3600)\n",
    "test2 = test2.withColumn('LOS_Days',  F.datediff(col(\"DISCHTIME\"),col(\"ADMITTIME\")))\n",
    "test2.select(test2.LOS_Hours,test2.LOS_Days).show(30)"
   ]
  },
  {
   "cell_type": "code",
   "execution_count": 56,
   "id": "saved-bottle",
   "metadata": {},
   "outputs": [
    {
     "data": {
      "application/vnd.jupyter.widget-view+json": {
       "model_id": "720ab0cca1ed420fb4857db7f0c284b2",
       "version_major": 2,
       "version_minor": 0
      },
      "text/plain": [
       "FloatProgress(value=0.0, bar_style='info', description='Progress:', layout=Layout(height='25px', width='50%'),…"
      ]
     },
     "metadata": {},
     "output_type": "display_data"
    }
   ],
   "source": [
    "test3 = test2.select(test2['SUBJECT_ID'],test2['HADM_ID'],test2['ICUSTAY_ID'],test2['ADMITTIME'],test2['DISCHTIME'],test2['LOS_Hours']  ).join(charts_item.select(charts_item['SUBJECT_ID'],charts_item['HADM_ID'],charts_item['ICUSTAY_ID']\n",
    "                                              ,charts_item['CHARTTIME'],charts_item['LEVEL2'],charts_item['VALUENUM'])\n",
    "                           , on=['SUBJECT_ID','HADM_ID','ICUSTAY_ID'])\n",
    "#test3.count()"
   ]
  },
  {
   "cell_type": "code",
   "execution_count": null,
   "id": "english-child",
   "metadata": {},
   "outputs": [],
   "source": [
    "#Filter for events happening with 6 hours of admission"
   ]
  },
  {
   "cell_type": "code",
   "execution_count": 57,
   "id": "presidential-injury",
   "metadata": {},
   "outputs": [
    {
     "data": {
      "application/vnd.jupyter.widget-view+json": {
       "model_id": "f71478d0fdd544a9a7c5fee2f9b6fda4",
       "version_major": 2,
       "version_minor": 0
      },
      "text/plain": [
       "FloatProgress(value=0.0, bar_style='info', description='Progress:', layout=Layout(height='25px', width='50%'),…"
      ]
     },
     "metadata": {},
     "output_type": "display_data"
    },
    {
     "name": "stdout",
     "output_type": "stream",
     "text": [
      "+-------------------+-------------------+\n",
      "|          ADMITTIME|            ADMIT_4|\n",
      "+-------------------+-------------------+\n",
      "|2163-11-04 19:45:00|2163-11-05 01:45:00|\n",
      "|2163-11-04 19:45:00|2163-11-05 01:45:00|\n",
      "|2163-11-04 19:45:00|2163-11-05 01:45:00|\n",
      "|2163-11-04 19:45:00|2163-11-05 01:45:00|\n",
      "|2163-11-04 19:45:00|2163-11-05 01:45:00|\n",
      "|2163-11-04 19:45:00|2163-11-05 01:45:00|\n",
      "|2163-11-04 19:45:00|2163-11-05 01:45:00|\n",
      "|2163-11-04 19:45:00|2163-11-05 01:45:00|\n",
      "|2163-11-04 19:45:00|2163-11-05 01:45:00|\n",
      "|2163-11-04 19:45:00|2163-11-05 01:45:00|\n",
      "|2163-11-04 19:45:00|2163-11-05 01:45:00|\n",
      "|2163-11-04 19:45:00|2163-11-05 01:45:00|\n",
      "|2163-11-04 19:45:00|2163-11-05 01:45:00|\n",
      "|2163-11-04 19:45:00|2163-11-05 01:45:00|\n",
      "|2163-11-04 19:45:00|2163-11-05 01:45:00|\n",
      "|2163-11-04 19:45:00|2163-11-05 01:45:00|\n",
      "|2163-11-04 19:45:00|2163-11-05 01:45:00|\n",
      "|2163-11-04 19:45:00|2163-11-05 01:45:00|\n",
      "|2163-11-04 19:45:00|2163-11-05 01:45:00|\n",
      "|2163-11-04 19:45:00|2163-11-05 01:45:00|\n",
      "+-------------------+-------------------+\n",
      "only showing top 20 rows"
     ]
    }
   ],
   "source": [
    "test3 = test3.withColumn('ADMIT_4',  col(\"ADMITTIME\") + F.expr('INTERVAL 6 HOURS'))\n",
    "test3.select(test3['ADMITTIME'],test3['ADMIT_4']).show(20)"
   ]
  },
  {
   "cell_type": "code",
   "execution_count": 92,
   "id": "interim-tulsa",
   "metadata": {},
   "outputs": [
    {
     "data": {
      "application/vnd.jupyter.widget-view+json": {
       "model_id": "69c043afb7e74ec18313514b8273370e",
       "version_major": 2,
       "version_minor": 0
      },
      "text/plain": [
       "FloatProgress(value=0.0, bar_style='info', description='Progress:', layout=Layout(height='25px', width='50%'),…"
      ]
     },
     "metadata": {},
     "output_type": "display_data"
    },
    {
     "name": "stdout",
     "output_type": "stream",
     "text": [
      "41760"
     ]
    }
   ],
   "source": [
    "test3.select(test3['SUBJECT_ID'],test3['HADM_ID'],test3['ICUSTAY_ID']).distinct().count()"
   ]
  },
  {
   "cell_type": "code",
   "execution_count": 58,
   "id": "split-details",
   "metadata": {},
   "outputs": [
    {
     "data": {
      "application/vnd.jupyter.widget-view+json": {
       "model_id": "6001c3bc40ef4c8bb3f1080b7bbed749",
       "version_major": 2,
       "version_minor": 0
      },
      "text/plain": [
       "FloatProgress(value=0.0, bar_style='info', description='Progress:', layout=Layout(height='25px', width='50%'),…"
      ]
     },
     "metadata": {},
     "output_type": "display_data"
    }
   ],
   "source": [
    "test4 = test3.filter((col('LOS_Hours') > 6.0) & (col(\"CHARTTIME\").between(col(\"ADMITTIME\"), col('ADMIT_4'))))"
   ]
  },
  {
   "cell_type": "code",
   "execution_count": 60,
   "id": "romance-cancellation",
   "metadata": {},
   "outputs": [
    {
     "data": {
      "application/vnd.jupyter.widget-view+json": {
       "model_id": "7b3ec9c7bbbd4208a8af4f1c4b348aca",
       "version_major": 2,
       "version_minor": 0
      },
      "text/plain": [
       "FloatProgress(value=0.0, bar_style='info', description='Progress:', layout=Layout(height='25px', width='50%'),…"
      ]
     },
     "metadata": {},
     "output_type": "display_data"
    }
   ],
   "source": [
    "from pyspark.sql.functions import row_number\n",
    "from pyspark.sql.window import Window"
   ]
  },
  {
   "cell_type": "code",
   "execution_count": null,
   "id": "dependent-breakdown",
   "metadata": {},
   "outputs": [],
   "source": [
    "#get max and min chart events for each value type"
   ]
  },
  {
   "cell_type": "code",
   "execution_count": 61,
   "id": "advanced-timer",
   "metadata": {},
   "outputs": [
    {
     "data": {
      "application/vnd.jupyter.widget-view+json": {
       "model_id": "81fca976e8d44587b25502d9bfa77431",
       "version_major": 2,
       "version_minor": 0
      },
      "text/plain": [
       "FloatProgress(value=0.0, bar_style='info', description='Progress:', layout=Layout(height='25px', width='50%'),…"
      ]
     },
     "metadata": {},
     "output_type": "display_data"
    }
   ],
   "source": [
    "w = Window.partitionBy(col(\"SUBJECT_ID\"),col(\"ICUSTAY_ID\"), col(\"LEVEL2\")).orderBy(\"CHARTTIME\")\n",
    "df_min = test4.withColumn(\"rn\", row_number().over(w)).where(col(\"rn\") == 1).drop(col(\"rn\"))"
   ]
  },
  {
   "cell_type": "code",
   "execution_count": 62,
   "id": "seasonal-sound",
   "metadata": {},
   "outputs": [
    {
     "data": {
      "application/vnd.jupyter.widget-view+json": {
       "model_id": "2f84fa30287440698405f74f699a78d4",
       "version_major": 2,
       "version_minor": 0
      },
      "text/plain": [
       "FloatProgress(value=0.0, bar_style='info', description='Progress:', layout=Layout(height='25px', width='50%'),…"
      ]
     },
     "metadata": {},
     "output_type": "display_data"
    }
   ],
   "source": [
    "w_max = Window.partitionBy(col(\"SUBJECT_ID\"),col(\"ICUSTAY_ID\"), col(\"LEVEL2\")).orderBy(col(\"CHARTTIME\").desc())\n",
    "df_max = test4.withColumn(\"rn\", row_number().over(w_max)).where(col(\"rn\") == 1).drop(col(\"rn\"))"
   ]
  },
  {
   "cell_type": "code",
   "execution_count": 65,
   "id": "automatic-cabin",
   "metadata": {},
   "outputs": [
    {
     "data": {
      "application/vnd.jupyter.widget-view+json": {
       "model_id": "4e5783d1ce6940e8b3eb351a8b924b0b",
       "version_major": 2,
       "version_minor": 0
      },
      "text/plain": [
       "FloatProgress(value=0.0, bar_style='info', description='Progress:', layout=Layout(height='25px', width='50%'),…"
      ]
     },
     "metadata": {},
     "output_type": "display_data"
    }
   ],
   "source": [
    "df_min = df_min.withColumnRenamed(\"CHARTTIME\",\"CHARTTIME_min\").withColumnRenamed(\"VALUENUM\",\"VALUENUM_min\")\n",
    "df_max = df_max.withColumnRenamed(\"CHARTTIME\",\"CHARTTIME_max\").withColumnRenamed(\"VALUENUM\",\"VALUENUM_max\")"
   ]
  },
  {
   "cell_type": "code",
   "execution_count": null,
   "id": "solar-arnold",
   "metadata": {},
   "outputs": [],
   "source": [
    "#Join min and max df to get full dataset, 1 row per id"
   ]
  },
  {
   "cell_type": "code",
   "execution_count": 67,
   "id": "classified-scene",
   "metadata": {},
   "outputs": [
    {
     "data": {
      "application/vnd.jupyter.widget-view+json": {
       "model_id": "7d6cb386cd8649628f9db6ae0c1f8f91",
       "version_major": 2,
       "version_minor": 0
      },
      "text/plain": [
       "FloatProgress(value=0.0, bar_style='info', description='Progress:', layout=Layout(height='25px', width='50%'),…"
      ]
     },
     "metadata": {},
     "output_type": "display_data"
    }
   ],
   "source": [
    "join_features = df_min.join(df_max.select(col(\"SUBJECT_ID\"),col(\"SUBJECT_ID\"),col(\"HADM_ID\"),col(\"ICUSTAY_ID\"),col(\"LEVEL2\")\n",
    "                                         ,col(\"CHARTTIME_max\"),col(\"VALUENUM_max\")), \n",
    "                            on =['SUBJECT_ID','HADM_ID','ICUSTAY_ID','LEVEL2'])"
   ]
  },
  {
   "cell_type": "code",
   "execution_count": null,
   "id": "floating-testament",
   "metadata": {},
   "outputs": [],
   "source": [
    "#filter for just benchamrk measures"
   ]
  },
  {
   "cell_type": "code",
   "execution_count": 69,
   "id": "danish-hindu",
   "metadata": {},
   "outputs": [
    {
     "data": {
      "application/vnd.jupyter.widget-view+json": {
       "model_id": "c15d1f1f39a744e5a68733807b5b00c3",
       "version_major": 2,
       "version_minor": 0
      },
      "text/plain": [
       "FloatProgress(value=0.0, bar_style='info', description='Progress:', layout=Layout(height='25px', width='50%'),…"
      ]
     },
     "metadata": {},
     "output_type": "display_data"
    }
   ],
   "source": [
    "list_of_measures = ['Capillary refill rate','Diastolic blood pressure', 'Fraction inspired oxygen'\n",
    "                   ,'Glascow coma scale eye opening','Glascow coma scale motor response', 'Glascow coma scale total',\n",
    "                   'Glascow coma scale verbal response', 'Glucose', 'Heart Rate', 'Height','Mean blood pressure', 'Oxygen saturation'\n",
    "                   , 'Respiratory rate', 'Systolic blood pressure', 'Temperature', 'Weight', 'pH']"
   ]
  },
  {
   "cell_type": "code",
   "execution_count": 70,
   "id": "conventional-pharmacology",
   "metadata": {},
   "outputs": [
    {
     "data": {
      "application/vnd.jupyter.widget-view+json": {
       "model_id": "48a395e31b114eadb434c5c87b900706",
       "version_major": 2,
       "version_minor": 0
      },
      "text/plain": [
       "FloatProgress(value=0.0, bar_style='info', description='Progress:', layout=Layout(height='25px', width='50%'),…"
      ]
     },
     "metadata": {},
     "output_type": "display_data"
    }
   ],
   "source": [
    "join_features_filter = join_features.filter(col(\"LEVEL2\").isin(list_of_measures))"
   ]
  },
  {
   "cell_type": "code",
   "execution_count": null,
   "id": "tracked-colony",
   "metadata": {},
   "outputs": [],
   "source": [
    "#change in values feature creation"
   ]
  },
  {
   "cell_type": "code",
   "execution_count": 73,
   "id": "statutory-spouse",
   "metadata": {},
   "outputs": [
    {
     "data": {
      "application/vnd.jupyter.widget-view+json": {
       "model_id": "f408d38f20f946ed9edbee9858bd2e8e",
       "version_major": 2,
       "version_minor": 0
      },
      "text/plain": [
       "FloatProgress(value=0.0, bar_style='info', description='Progress:', layout=Layout(height='25px', width='50%'),…"
      ]
     },
     "metadata": {},
     "output_type": "display_data"
    }
   ],
   "source": [
    "join_features_filter = join_features_filter.withColumn(\"percent_change\", F.when(col(\"VALUENUM_min\").isNull(), None)\n",
    "                                                       .when(col(\"CHARTTIME_min\")== col(\"CHARTTIME_max\"), None)\n",
    "                                                       .otherwise((col(\"VALUENUM_max\")-col(\"VALUENUM_min\"))/col(\"VALUENUM_min\")))"
   ]
  },
  {
   "cell_type": "code",
   "execution_count": null,
   "id": "informative-cambridge",
   "metadata": {},
   "outputs": [],
   "source": [
    "#pivot for final dataset creation"
   ]
  },
  {
   "cell_type": "code",
   "execution_count": 82,
   "id": "dietary-toyota",
   "metadata": {},
   "outputs": [
    {
     "data": {
      "application/vnd.jupyter.widget-view+json": {
       "model_id": "510f043494ca40eaadc21420a170073c",
       "version_major": 2,
       "version_minor": 0
      },
      "text/plain": [
       "FloatProgress(value=0.0, bar_style='info', description='Progress:', layout=Layout(height='25px', width='50%'),…"
      ]
     },
     "metadata": {},
     "output_type": "display_data"
    }
   ],
   "source": [
    "join_features_pivot = join_features_filter.groupBy(col(\"SUBJECT_ID\"), col(\"HADM_ID\"), col(\"ICUSTAY_ID\")).pivot(\"LEVEL2\").agg(F.avg(col(\"VALUENUM_min\")),F.avg(col(\"percent_change\") ))"
   ]
  },
  {
   "cell_type": "code",
   "execution_count": 83,
   "id": "altered-illustration",
   "metadata": {},
   "outputs": [
    {
     "data": {
      "application/vnd.jupyter.widget-view+json": {
       "model_id": "44a4beb04b1a43af8495758129817f03",
       "version_major": 2,
       "version_minor": 0
      },
      "text/plain": [
       "FloatProgress(value=0.0, bar_style='info', description='Progress:', layout=Layout(height='25px', width='50%'),…"
      ]
     },
     "metadata": {},
     "output_type": "display_data"
    },
    {
     "name": "stdout",
     "output_type": "stream",
     "text": [
      "DataFrame[SUBJECT_ID: int, HADM_ID: int, ICUSTAY_ID: int, Capillary refill rate_avg(VALUENUM_min): double, Capillary refill rate_avg(percent_change): double, Diastolic blood pressure_avg(VALUENUM_min): double, Diastolic blood pressure_avg(percent_change): double, Fraction inspired oxygen_avg(VALUENUM_min): double, Fraction inspired oxygen_avg(percent_change): double, Glascow coma scale eye opening_avg(VALUENUM_min): double, Glascow coma scale eye opening_avg(percent_change): double, Glascow coma scale motor response_avg(VALUENUM_min): double, Glascow coma scale motor response_avg(percent_change): double, Glascow coma scale total_avg(VALUENUM_min): double, Glascow coma scale total_avg(percent_change): double, Glascow coma scale verbal response_avg(VALUENUM_min): double, Glascow coma scale verbal response_avg(percent_change): double, Glucose_avg(VALUENUM_min): double, Glucose_avg(percent_change): double, Heart Rate_avg(VALUENUM_min): double, Heart Rate_avg(percent_change): double, Height_avg(VALUENUM_min): double, Height_avg(percent_change): double, Mean blood pressure_avg(VALUENUM_min): double, Mean blood pressure_avg(percent_change): double, Oxygen saturation_avg(VALUENUM_min): double, Oxygen saturation_avg(percent_change): double, Respiratory rate_avg(VALUENUM_min): double, Respiratory rate_avg(percent_change): double, Systolic blood pressure_avg(VALUENUM_min): double, Systolic blood pressure_avg(percent_change): double, Temperature_avg(VALUENUM_min): double, Temperature_avg(percent_change): double, Weight_avg(VALUENUM_min): double, Weight_avg(percent_change): double, pH_avg(VALUENUM_min): double, pH_avg(percent_change): double]"
     ]
    }
   ],
   "source": [
    "join_features_pivot"
   ]
  },
  {
   "cell_type": "code",
   "execution_count": 85,
   "id": "committed-microwave",
   "metadata": {},
   "outputs": [
    {
     "data": {
      "application/vnd.jupyter.widget-view+json": {
       "model_id": "9200b420bbc14bf0b1d897f060f76445",
       "version_major": 2,
       "version_minor": 0
      },
      "text/plain": [
       "FloatProgress(value=0.0, bar_style='info', description='Progress:', layout=Layout(height='25px', width='50%'),…"
      ]
     },
     "metadata": {},
     "output_type": "display_data"
    }
   ],
   "source": [
    "join_features_pivot = join_features_pivot.select([col(column).alias(column.replace(' ', '_')) for column in join_features_pivot.columns])\n",
    "join_features_pivot= join_features_pivot.select([col(column).alias(column.replace('avg(', '_')) for column in join_features_pivot.columns])\n",
    "join_features_pivot= join_features_pivot.select([col(column).alias(column.replace(')', ''))for column in join_features_pivot.columns])"
   ]
  },
  {
   "cell_type": "code",
   "execution_count": 96,
   "id": "sweet-corporation",
   "metadata": {},
   "outputs": [
    {
     "data": {
      "application/vnd.jupyter.widget-view+json": {
       "model_id": "2571ad6934654df8b3fa8fb74b6ae0f5",
       "version_major": 2,
       "version_minor": 0
      },
      "text/plain": [
       "FloatProgress(value=0.0, bar_style='info', description='Progress:', layout=Layout(height='25px', width='50%'),…"
      ]
     },
     "metadata": {},
     "output_type": "display_data"
    }
   ],
   "source": [
    "join_patient = test2.join(join_features_pivot, on=['SUBJECT_ID','HADM_ID','ICUSTAY_ID'], how='inner')"
   ]
  },
  {
   "cell_type": "code",
   "execution_count": null,
   "id": "oriental-emphasis",
   "metadata": {},
   "outputs": [],
   "source": [
    "#categorical data groupings and one-hot encoding"
   ]
  },
  {
   "cell_type": "code",
   "execution_count": 120,
   "id": "determined-matter",
   "metadata": {},
   "outputs": [
    {
     "data": {
      "application/vnd.jupyter.widget-view+json": {
       "model_id": "0c865a6827f6459fab4141f2e5ad5155",
       "version_major": 2,
       "version_minor": 0
      },
      "text/plain": [
       "FloatProgress(value=0.0, bar_style='info', description='Progress:', layout=Layout(height='25px', width='50%'),…"
      ]
     },
     "metadata": {},
     "output_type": "display_data"
    }
   ],
   "source": [
    "#Set Ethnicity Groups\n",
    "join_patient=join_patient.withColumn(\"ethnicity_group\",F.when(F.col(\"ETHNICITY\").like(\"%WHITE%\"),\"White\")\n",
    "                      .when(F.col(\"ETHNICITY\").like(\"%ASIAN%\"),\"Asian\")\n",
    "                      .when(F.col(\"ETHNICITY\").like(\"%BLACK%\"),\"Black\")\n",
    "                      .when(F.col(\"ETHNICITY\").like(\"%HISPANIC%\"),\"Hispanic\")\n",
    "                      .when(F.col(\"ETHNICITY\").like(\"%UNKNOWN%\"),\"Unknown\")\n",
    "                      .when(F.col(\"ETHNICITY\").like(\"%UNABLE%\"),\"Unknown\")\n",
    "                      .when(F.col(\"ETHNICITY\").like(\"%DECLINED%\"),\"Unknown\")\n",
    "                      .otherwise(\"Other_Eth\"))"
   ]
  },
  {
   "cell_type": "code",
   "execution_count": 123,
   "id": "cheap-jurisdiction",
   "metadata": {},
   "outputs": [
    {
     "data": {
      "application/vnd.jupyter.widget-view+json": {
       "model_id": "50f03846f4294c60bf2c9f7594bc5532",
       "version_major": 2,
       "version_minor": 0
      },
      "text/plain": [
       "FloatProgress(value=0.0, bar_style='info', description='Progress:', layout=Layout(height='25px', width='50%'),…"
      ]
     },
     "metadata": {},
     "output_type": "display_data"
    }
   ],
   "source": [
    "join_patient_eth = join_patient.groupBy(col(\"SUBJECT_ID\"), col(\"HADM_ID\"), col(\"ICUSTAY_ID\")).pivot(\"ethnicity_group\").agg(F.lit(1))"
   ]
  },
  {
   "cell_type": "code",
   "execution_count": 104,
   "id": "diverse-index",
   "metadata": {},
   "outputs": [
    {
     "data": {
      "application/vnd.jupyter.widget-view+json": {
       "model_id": "7a24b7dea9284273be3cd8331a017939",
       "version_major": 2,
       "version_minor": 0
      },
      "text/plain": [
       "FloatProgress(value=0.0, bar_style='info', description='Progress:', layout=Layout(height='25px', width='50%'),…"
      ]
     },
     "metadata": {},
     "output_type": "display_data"
    },
    {
     "name": "stdout",
     "output_type": "stream",
     "text": [
      "DataFrame[SUBJECT_ID: int, HADM_ID: int, ICUSTAY_ID: int, Asian: int, Black: int, Hispanic: int, Other: int, Unknown: int, White: int]"
     ]
    }
   ],
   "source": [
    "join_patient_eth"
   ]
  },
  {
   "cell_type": "code",
   "execution_count": 129,
   "id": "lovely-contents",
   "metadata": {},
   "outputs": [
    {
     "data": {
      "application/vnd.jupyter.widget-view+json": {
       "model_id": "b47e64c29efe4daa86735c7760bebbba",
       "version_major": 2,
       "version_minor": 0
      },
      "text/plain": [
       "FloatProgress(value=0.0, bar_style='info', description='Progress:', layout=Layout(height='25px', width='50%'),…"
      ]
     },
     "metadata": {},
     "output_type": "display_data"
    }
   ],
   "source": [
    "#Set Religion groups\n",
    "join_patient=join_patient.withColumn(\"religion_group\",F.when(F.col(\"RELIGION\").like(\"%NOT%\"),\"Unknown_Rel\")\n",
    "                      .when(F.col(\"RELIGION\").like(\"%UNOBTAINABLE%\"),\"Unknown_Rel\")\n",
    "                      .when(F.col(\"RELIGION\").like(\"%CATHOLIC%\"),\"Catholic\")\n",
    "                      .when(F.col(\"RELIGION\").like(\"%PROTESTANT%\"),\"ProtestantQuaker\")\n",
    "                      .when(F.col(\"RELIGION\").like(\"%JEWISH%\"),\"Jewish\")\n",
    "                      .when(F.col(\"RELIGION\").like(\"%EPISCOPALIAN%\"),\"Episcopalian\")\n",
    "                      .otherwise(\"Other_Rel\"))"
   ]
  },
  {
   "cell_type": "code",
   "execution_count": 130,
   "id": "surprised-working",
   "metadata": {},
   "outputs": [
    {
     "data": {
      "application/vnd.jupyter.widget-view+json": {
       "model_id": "bb527d32b0ad4b9d84363a50bf2b8802",
       "version_major": 2,
       "version_minor": 0
      },
      "text/plain": [
       "FloatProgress(value=0.0, bar_style='info', description='Progress:', layout=Layout(height='25px', width='50%'),…"
      ]
     },
     "metadata": {},
     "output_type": "display_data"
    }
   ],
   "source": [
    "join_patient_religion = join_patient.groupBy(col(\"SUBJECT_ID\"), col(\"HADM_ID\"), col(\"ICUSTAY_ID\")).pivot(\"religion_group\").agg(F.lit(1))"
   ]
  },
  {
   "cell_type": "code",
   "execution_count": 131,
   "id": "technical-security",
   "metadata": {},
   "outputs": [
    {
     "data": {
      "application/vnd.jupyter.widget-view+json": {
       "model_id": "40dfbb403abe4e468a91311b01d81004",
       "version_major": 2,
       "version_minor": 0
      },
      "text/plain": [
       "FloatProgress(value=0.0, bar_style='info', description='Progress:', layout=Layout(height='25px', width='50%'),…"
      ]
     },
     "metadata": {},
     "output_type": "display_data"
    }
   ],
   "source": [
    "#Set Marital Status groups\n",
    "join_patient=join_patient.withColumn(\"marital_status_group\",F.when(F.col(\"MARITAL_STATUS\").like(\"%MARRIED%\"),\"Married\")\n",
    "                      .when(F.col(\"MARITAL_STATUS\").like(\"%SINGLE%\"),\"Single\")\n",
    "                      .when(F.col(\"MARITAL_STATUS\").like(\"%WIDOW%\"),\"Widowed\")\n",
    "                      .when(F.col(\"MARITAL_STATUS\").like(\"%DIVORCE%\"),\"Divorced\")\n",
    "                      .when(F.col(\"MARITAL_STATUS\").like(\"%SEPARATE%\"),\"Separated\")\n",
    "                      .otherwise(\"Other_Mar\"))"
   ]
  },
  {
   "cell_type": "code",
   "execution_count": 125,
   "id": "dental-botswana",
   "metadata": {},
   "outputs": [
    {
     "data": {
      "application/vnd.jupyter.widget-view+json": {
       "model_id": "0f703278be6c4a91aa666f4a08db3505",
       "version_major": 2,
       "version_minor": 0
      },
      "text/plain": [
       "FloatProgress(value=0.0, bar_style='info', description='Progress:', layout=Layout(height='25px', width='50%'),…"
      ]
     },
     "metadata": {},
     "output_type": "display_data"
    }
   ],
   "source": [
    "join_patient_mar = join_patient.groupBy(col(\"SUBJECT_ID\"), col(\"HADM_ID\"), col(\"ICUSTAY_ID\")).pivot(\"marital_status_group\").agg(F.lit(1))"
   ]
  },
  {
   "cell_type": "code",
   "execution_count": 109,
   "id": "adaptive-sharing",
   "metadata": {},
   "outputs": [
    {
     "data": {
      "application/vnd.jupyter.widget-view+json": {
       "model_id": "0fc7db302590439a92100abae9f3cf9e",
       "version_major": 2,
       "version_minor": 0
      },
      "text/plain": [
       "FloatProgress(value=0.0, bar_style='info', description='Progress:', layout=Layout(height='25px', width='50%'),…"
      ]
     },
     "metadata": {},
     "output_type": "display_data"
    }
   ],
   "source": [
    "join_patient_gender = join_patient.groupBy(col(\"SUBJECT_ID\"), col(\"HADM_ID\"), col(\"ICUSTAY_ID\")).pivot(\"GENDER\").agg(F.lit(1))"
   ]
  },
  {
   "cell_type": "code",
   "execution_count": 110,
   "id": "waiting-shoot",
   "metadata": {},
   "outputs": [
    {
     "data": {
      "application/vnd.jupyter.widget-view+json": {
       "model_id": "f484b70a5dad46679ec7353fb0ebd98f",
       "version_major": 2,
       "version_minor": 0
      },
      "text/plain": [
       "FloatProgress(value=0.0, bar_style='info', description='Progress:', layout=Layout(height='25px', width='50%'),…"
      ]
     },
     "metadata": {},
     "output_type": "display_data"
    }
   ],
   "source": [
    "join_patient_insurance = join_patient.groupBy(col(\"SUBJECT_ID\"), col(\"HADM_ID\"), col(\"ICUSTAY_ID\")).pivot(\"INSURANCE\").agg(F.lit(1))"
   ]
  },
  {
   "cell_type": "code",
   "execution_count": 132,
   "id": "outside-tuition",
   "metadata": {},
   "outputs": [
    {
     "data": {
      "application/vnd.jupyter.widget-view+json": {
       "model_id": "e8ff38b50a5a4d72939faaab8cf08aee",
       "version_major": 2,
       "version_minor": 0
      },
      "text/plain": [
       "FloatProgress(value=0.0, bar_style='info', description='Progress:', layout=Layout(height='25px', width='50%'),…"
      ]
     },
     "metadata": {},
     "output_type": "display_data"
    }
   ],
   "source": [
    "all_columns = join_patient.join(join_patient_eth, on= ['SUBJECT_ID','HADM_ID','ICUSTAY_ID'], how='left')\n",
    "all_columns = all_columns.join(join_patient_religion,  on=['SUBJECT_ID','HADM_ID','ICUSTAY_ID'], how='left')\n",
    "all_columns = all_columns.join(join_patient_mar,  on=['SUBJECT_ID','HADM_ID','ICUSTAY_ID'], how='left')\n",
    "all_columns = all_columns.join(join_patient_gender,  on=['SUBJECT_ID','HADM_ID','ICUSTAY_ID'], how='left')\n",
    "all_columns = all_columns.join(join_patient_insurance,  on=['SUBJECT_ID','HADM_ID','ICUSTAY_ID'], how='left')"
   ]
  },
  {
   "cell_type": "code",
   "execution_count": 134,
   "id": "expanded-beaver",
   "metadata": {},
   "outputs": [
    {
     "data": {
      "application/vnd.jupyter.widget-view+json": {
       "model_id": "5a8d448bb86b4343bf0a414e7bbe70b1",
       "version_major": 2,
       "version_minor": 0
      },
      "text/plain": [
       "FloatProgress(value=0.0, bar_style='info', description='Progress:', layout=Layout(height='25px', width='50%'),…"
      ]
     },
     "metadata": {},
     "output_type": "display_data"
    }
   ],
   "source": [
    "all_columns2 = all_columns.drop( 'ROW_ID', 'DBSOURCE', 'FIRST_CAREUNIT', 'LAST_CAREUNIT', 'FIRST_WARDID', 'LAST_WARDID', 'INTIME', 'OUTTIME','DEATHTIME', 'ADMISSION_TYPE', 'ADMISSION_LOCATION', \n",
    "                               'DISCHARGE_LOCATION', 'INSURANCE', 'LANGUAGE', 'RELIGION', 'MARITAL_STATUS', 'ETHNICITY', 'EDREGTIME', 'EDOUTTIME','HOSPITAL_EXPIRE_FLAG', 'HAS_CHARTEVENTS_DATA', 'ROW_ID', 'GENDER', 'DOB', 'DOD', 'DOD_HOSP', 'DOD_SSN', \n",
    "                               'EXPIRE_FLAG', 'count(ICUSTAY_ID)', 'MORTALITY_INUNIT', 'MORTALITY_INHOSPITAL', 'LOS_Hours', 'LOS_Days', 'ethnicity_group', \n",
    "                                'religion_group', 'marital_status_group' )"
   ]
  },
  {
   "cell_type": "code",
   "execution_count": null,
   "id": "engaging-acquisition",
   "metadata": {},
   "outputs": [],
   "source": [
    "#Write final dataset to s3 bucket to get in python notebook"
   ]
  },
  {
   "cell_type": "code",
   "execution_count": 138,
   "id": "stuffed-provider",
   "metadata": {},
   "outputs": [
    {
     "data": {
      "application/vnd.jupyter.widget-view+json": {
       "model_id": "f22a9f46cb4f44f38cdb80dfe13b0fd7",
       "version_major": 2,
       "version_minor": 0
      },
      "text/plain": [
       "FloatProgress(value=0.0, bar_style='info', description='Progress:', layout=Layout(height='25px', width='50%'),…"
      ]
     },
     "metadata": {},
     "output_type": "display_data"
    }
   ],
   "source": [
    "all_columns2.write.format(\"csv\").option(\"header\",\"true\").mode(\"Overwrite\").save(\"s3://aws-athena-query-results-441066871063-us-east-1/all_columns2\")"
   ]
  }
 ],
 "metadata": {
  "kernelspec": {
   "display_name": "Sparkmagic (PySpark)",
   "language": "python",
   "name": "pysparkkernel"
  },
  "language_info": {
   "codemirror_mode": {
    "name": "python",
    "version": 3
   },
   "file_extension": ".py",
   "mimetype": "text/x-python",
   "name": "pyspark",
   "pygments_lexer": "python3"
  }
 },
 "nbformat": 4,
 "nbformat_minor": 5
}
