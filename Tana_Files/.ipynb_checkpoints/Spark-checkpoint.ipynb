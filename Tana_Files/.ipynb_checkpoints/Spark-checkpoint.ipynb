{
 "cells": [
  {
   "cell_type": "code",
   "execution_count": 58,
   "id": "instrumental-russia",
   "metadata": {},
   "outputs": [
    {
     "name": "stdout",
     "output_type": "stream",
     "text": [
      "Starting Spark application\n"
     ]
    },
    {
     "data": {
      "text/html": [
       "<table>\n",
       "<tr><th>ID</th><th>YARN Application ID</th><th>Kind</th><th>State</th><th>Spark UI</th><th>Driver log</th><th>User</th><th>Current session?</th></tr><tr><td>1</td><td>application_1618455085461_0002</td><td>pyspark</td><td>idle</td><td><a target=\"_blank\" href=\"http://ip-172-31-90-110.ec2.internal:20888/proxy/application_1618455085461_0002/\">Link</a></td><td><a target=\"_blank\" href=\"http://ip-172-31-81-248.ec2.internal:8042/node/containerlogs/container_1618455085461_0002_01_000001/livy\">Link</a></td><td>None</td><td>✔</td></tr></table>"
      ],
      "text/plain": [
       "<IPython.core.display.HTML object>"
      ]
     },
     "metadata": {},
     "output_type": "display_data"
    },
    {
     "data": {
      "application/vnd.jupyter.widget-view+json": {
       "model_id": "d88b949d18a6427eafc381a4ff54d924",
       "version_major": 2,
       "version_minor": 0
      },
      "text/plain": [
       "FloatProgress(value=0.0, bar_style='info', description='Progress:', layout=Layout(height='25px', width='50%'),…"
      ]
     },
     "metadata": {},
     "output_type": "display_data"
    },
    {
     "name": "stdout",
     "output_type": "stream",
     "text": [
      "SparkSession available as 'spark'.\n"
     ]
    },
    {
     "data": {
      "text/html": [
       "Current session configs: <tt>{'conf': {'spark.pyspark.python': 'python3', 'spark.pyspark.virtualenv.enabled': 'true', 'spark.pyspark.virtualenv.type': 'native', 'spark.pyspark.virtualenv.bin.path': '/usr/bin/virtualenv'}, 'kind': 'pyspark'}</tt><br>"
      ],
      "text/plain": [
       "<IPython.core.display.HTML object>"
      ]
     },
     "metadata": {},
     "output_type": "display_data"
    },
    {
     "data": {
      "text/html": [
       "<table>\n",
       "<tr><th>ID</th><th>YARN Application ID</th><th>Kind</th><th>State</th><th>Spark UI</th><th>Driver log</th><th>User</th><th>Current session?</th></tr><tr><td>1</td><td>application_1618455085461_0002</td><td>pyspark</td><td>idle</td><td><a target=\"_blank\" href=\"http://ip-172-31-90-110.ec2.internal:20888/proxy/application_1618455085461_0002/\">Link</a></td><td><a target=\"_blank\" href=\"http://ip-172-31-81-248.ec2.internal:8042/node/containerlogs/container_1618455085461_0002_01_000001/livy\">Link</a></td><td>None</td><td>✔</td></tr></table>"
      ],
      "text/plain": [
       "<IPython.core.display.HTML object>"
      ]
     },
     "metadata": {},
     "output_type": "display_data"
    }
   ],
   "source": [
    "%%configure -f\n",
    "{ \"conf\":{\n",
    "          \"spark.pyspark.python\": \"python3\",\n",
    "          \"spark.pyspark.virtualenv.enabled\": \"true\",\n",
    "          \"spark.pyspark.virtualenv.type\":\"native\",\n",
    "          \"spark.pyspark.virtualenv.bin.path\":\"/usr/bin/virtualenv\"\n",
    "         }\n",
    "}"
   ]
  },
  {
   "cell_type": "code",
   "execution_count": 59,
   "id": "related-methodology",
   "metadata": {},
   "outputs": [
    {
     "data": {
      "application/vnd.jupyter.widget-view+json": {
       "model_id": "47fd2b11641e49d78459fa347acf6bb1",
       "version_major": 2,
       "version_minor": 0
      },
      "text/plain": [
       "FloatProgress(value=0.0, bar_style='info', description='Progress:', layout=Layout(height='25px', width='50%'),…"
      ]
     },
     "metadata": {},
     "output_type": "display_data"
    },
    {
     "name": "stdout",
     "output_type": "stream",
     "text": [
      "Collecting pandas\n",
      "  Using cached https://files.pythonhosted.org/packages/51/51/48f3fc47c4e2144da2806dfb6629c4dd1fa3d5a143f9652b141e979a8ca9/pandas-1.2.4-cp37-cp37m-manylinux1_x86_64.whl\n",
      "Requirement already satisfied: numpy>=1.16.5 in /usr/local/lib64/python3.7/site-packages (from pandas)\n",
      "Requirement already satisfied: pytz>=2017.3 in /usr/local/lib/python3.7/site-packages (from pandas)\n",
      "Collecting python-dateutil>=2.7.3 (from pandas)\n",
      "  Using cached https://files.pythonhosted.org/packages/d4/70/d60450c3dd48ef87586924207ae8907090de0b306af2bce5d134d78615cb/python_dateutil-2.8.1-py2.py3-none-any.whl\n",
      "Requirement already satisfied: six>=1.5 in /usr/local/lib/python3.7/site-packages (from python-dateutil>=2.7.3->pandas)\n",
      "Installing collected packages: python-dateutil, pandas\n",
      "Successfully installed pandas-1.2.4 python-dateutil-2.8.1"
     ]
    }
   ],
   "source": [
    "sc.install_pypi_package(\"pandas\")"
   ]
  },
  {
   "cell_type": "code",
   "execution_count": 60,
   "id": "excellent-cylinder",
   "metadata": {},
   "outputs": [
    {
     "data": {
      "application/vnd.jupyter.widget-view+json": {
       "model_id": "6b9227bd669f46acb6497dfdea5428db",
       "version_major": 2,
       "version_minor": 0
      },
      "text/plain": [
       "FloatProgress(value=0.0, bar_style='info', description='Progress:', layout=Layout(height='25px', width='50%'),…"
      ]
     },
     "metadata": {},
     "output_type": "display_data"
    }
   ],
   "source": [
    "from pyspark.sql import functions as F\n"
   ]
  },
  {
   "cell_type": "code",
   "execution_count": 61,
   "id": "neither-request",
   "metadata": {},
   "outputs": [
    {
     "data": {
      "application/vnd.jupyter.widget-view+json": {
       "model_id": "67f361d9419644379eadb695acacbb97",
       "version_major": 2,
       "version_minor": 0
      },
      "text/plain": [
       "FloatProgress(value=0.0, bar_style='info', description='Progress:', layout=Layout(height='25px', width='50%'),…"
      ]
     },
     "metadata": {},
     "output_type": "display_data"
    },
    {
     "name": "stdout",
     "output_type": "stream",
     "text": [
      "DataFrame[ROW_ID: int, SUBJECT_ID: int, HADM_ID: int, ICUSTAY_ID: int, ITEMID: int, CHARTTIME: timestamp, STORETIME: timestamp, CGID: int, VALUE: string, VALUENUM: double, VALUEUOM: string, WARNING: int, ERROR: int, RESULTSTATUS: string, STOPPED: string]"
     ]
    }
   ],
   "source": [
    "charts = spark.read.parquet('s3://mimic-iii-physionet/parquet/CHARTEVENTS/')\n",
    "charts = charts.select([F.col(x).alias(x.upper()) for x in charts.columns])\n",
    "charts"
   ]
  },
  {
   "cell_type": "code",
   "execution_count": 62,
   "id": "convinced-commercial",
   "metadata": {},
   "outputs": [
    {
     "data": {
      "application/vnd.jupyter.widget-view+json": {
       "model_id": "c03c7e8660e8406fafa14441ffb46e2a",
       "version_major": 2,
       "version_minor": 0
      },
      "text/plain": [
       "FloatProgress(value=0.0, bar_style='info', description='Progress:', layout=Layout(height='25px', width='50%'),…"
      ]
     },
     "metadata": {},
     "output_type": "display_data"
    },
    {
     "name": "stdout",
     "output_type": "stream",
     "text": [
      "DataFrame[ROW_ID: int, SUBJECT_ID: int, GENDER: string, DOB: timestamp, DOD: timestamp, DOD_HOSP: timestamp, DOD_SSN: timestamp, EXPIRE_FLAG: int]"
     ]
    }
   ],
   "source": [
    "patients = spark.read.parquet('s3://mimic-iii-physionet/parquet/PATIENTS/')\n",
    "patients = patients.select([F.col(x).alias(x.upper()) for x in patients.columns])\n",
    "patients"
   ]
  },
  {
   "cell_type": "code",
   "execution_count": 63,
   "id": "immune-adult",
   "metadata": {},
   "outputs": [
    {
     "data": {
      "application/vnd.jupyter.widget-view+json": {
       "model_id": "197be3bdb5864bed87af134c64f1f6d0",
       "version_major": 2,
       "version_minor": 0
      },
      "text/plain": [
       "FloatProgress(value=0.0, bar_style='info', description='Progress:', layout=Layout(height='25px', width='50%'),…"
      ]
     },
     "metadata": {},
     "output_type": "display_data"
    },
    {
     "name": "stdout",
     "output_type": "stream",
     "text": [
      "DataFrame[ROW_ID: int, SUBJECT_ID: int, HADM_ID: int, ADMITTIME: timestamp, DISCHTIME: timestamp, DEATHTIME: timestamp, ADMISSION_TYPE: string, ADMISSION_LOCATION: string, DISCHARGE_LOCATION: string, INSURANCE: string, LANGUAGE: string, RELIGION: string, MARITAL_STATUS: string, ETHNICITY: string, EDREGTIME: timestamp, EDOUTTIME: timestamp, DIAGNOSIS: string, HOSPITAL_EXPIRE_FLAG: smallint, HAS_CHARTEVENTS_DATA: smallint]"
     ]
    }
   ],
   "source": [
    "admissions = spark.read.parquet('s3://mimic-iii-physionet/parquet/ADMISSIONS/')\n",
    "admissions = admissions.select([F.col(x).alias(x.upper()) for x in admissions.columns])\n",
    "admissions"
   ]
  },
  {
   "cell_type": "code",
   "execution_count": 64,
   "id": "reported-score",
   "metadata": {},
   "outputs": [
    {
     "data": {
      "application/vnd.jupyter.widget-view+json": {
       "model_id": "fa1eb5c4f41b431e80e769ddf0f925e0",
       "version_major": 2,
       "version_minor": 0
      },
      "text/plain": [
       "FloatProgress(value=0.0, bar_style='info', description='Progress:', layout=Layout(height='25px', width='50%'),…"
      ]
     },
     "metadata": {},
     "output_type": "display_data"
    },
    {
     "name": "stdout",
     "output_type": "stream",
     "text": [
      "+------+----------+-------+----------+--------+--------------+-------------+------------+-----------+-------------------+-------------------+------+\n",
      "|row_id|subject_id|hadm_id|icustay_id|dbsource|first_careunit|last_careunit|first_wardid|last_wardid|             intime|            outtime|   los|\n",
      "+------+----------+-------+----------+--------+--------------+-------------+------------+-----------+-------------------+-------------------+------+\n",
      "|   365|       268| 110404|    280836| carevue|          MICU|         MICU|          52|         52|2198-02-14 23:27:38|2198-02-18 05:26:11| 3.249|\n",
      "|   366|       269| 106296|    206613| carevue|          MICU|         MICU|          52|         52|2170-11-05 11:05:29|2170-11-08 17:46:57|3.2788|\n",
      "|   367|       270| 188028|    220345| carevue|           CCU|          CCU|          57|         57|2128-06-24 15:05:20|2128-06-27 12:32:29|2.8939|\n",
      "|   368|       271| 173727|    249196| carevue|          MICU|         SICU|          52|         23|2120-08-07 23:12:42|2120-08-10 00:39:04|  2.06|\n",
      "|   369|       272| 164716|    210407| carevue|           CCU|          CCU|          57|         57|2186-12-25 21:08:04|2186-12-27 12:01:13|1.6202|\n",
      "|   370|       273| 158689|    241507| carevue|          MICU|         MICU|          52|         52|2141-04-19 06:12:05|2141-04-20 17:52:11|1.4862|\n",
      "|   371|       274| 130546|    254851| carevue|          MICU|         MICU|          12|         12|2114-06-28 22:28:44|2114-07-07 18:01:16|8.8143|\n",
      "|   372|       275| 129886|    219649| carevue|           CCU|          CCU|           7|          7|2170-10-07 11:28:53|2170-10-14 14:38:07|7.1314|\n",
      "|   373|       276| 135156|    206327| carevue|           CCU|          CCU|          57|         57|2147-11-20 09:02:23|2147-11-21 17:08:52|1.3378|\n",
      "|   374|       277| 171601|    272866| carevue|          NICU|         NICU|          56|         56|2132-10-21 21:11:46|2132-10-22 14:44:48|0.7313|\n",
      "+------+----------+-------+----------+--------+--------------+-------------+------------+-----------+-------------------+-------------------+------+\n",
      "only showing top 10 rows"
     ]
    }
   ],
   "source": [
    "icustays = spark.read.parquet('s3://mimic-iii-physionet/parquet/ICUSTAYS/')\n",
    "icustays.show(10)"
   ]
  },
  {
   "cell_type": "code",
   "execution_count": 65,
   "id": "framed-integral",
   "metadata": {},
   "outputs": [
    {
     "data": {
      "application/vnd.jupyter.widget-view+json": {
       "model_id": "2edae710ab9848d4aa39f3c16acf6626",
       "version_major": 2,
       "version_minor": 0
      },
      "text/plain": [
       "FloatProgress(value=0.0, bar_style='info', description='Progress:', layout=Layout(height='25px', width='50%'),…"
      ]
     },
     "metadata": {},
     "output_type": "display_data"
    }
   ],
   "source": [
    "from pyspark.sql import functions as F\n",
    "icustays = icustays.select([F.col(x).alias(x.upper()) for x in icustays.columns])\n"
   ]
  },
  {
   "cell_type": "code",
   "execution_count": 66,
   "id": "medical-remedy",
   "metadata": {},
   "outputs": [
    {
     "data": {
      "application/vnd.jupyter.widget-view+json": {
       "model_id": "37a1272b431b427cb6e8c179f4734d99",
       "version_major": 2,
       "version_minor": 0
      },
      "text/plain": [
       "FloatProgress(value=0.0, bar_style='info', description='Progress:', layout=Layout(height='25px', width='50%'),…"
      ]
     },
     "metadata": {},
     "output_type": "display_data"
    }
   ],
   "source": [
    "icustays_f = icustays.filter((icustays.FIRST_WARDID == icustays.LAST_WARDID) & (icustays.FIRST_CAREUNIT == icustays.LAST_CAREUNIT) )"
   ]
  },
  {
   "cell_type": "code",
   "execution_count": 67,
   "id": "determined-evanescence",
   "metadata": {},
   "outputs": [
    {
     "data": {
      "application/vnd.jupyter.widget-view+json": {
       "model_id": "6510ea1d2f294a83b9b8c37af8763be6",
       "version_major": 2,
       "version_minor": 0
      },
      "text/plain": [
       "FloatProgress(value=0.0, bar_style='info', description='Progress:', layout=Layout(height='25px', width='50%'),…"
      ]
     },
     "metadata": {},
     "output_type": "display_data"
    },
    {
     "name": "stdout",
     "output_type": "stream",
     "text": [
      "(55830, 29)"
     ]
    }
   ],
   "source": [
    "#stays = merge_on_subject_admission(stays, admits)\n",
    "stays = icustays_f.join(admissions, how='inner', on=['SUBJECT_ID', 'HADM_ID'])\n",
    "print((stays.count(), len(stays.columns)))"
   ]
  },
  {
   "cell_type": "code",
   "execution_count": 68,
   "id": "excited-scholarship",
   "metadata": {},
   "outputs": [
    {
     "data": {
      "application/vnd.jupyter.widget-view+json": {
       "model_id": "cff62ae121db494189e308babbdf3bd7",
       "version_major": 2,
       "version_minor": 0
      },
      "text/plain": [
       "FloatProgress(value=0.0, bar_style='info', description='Progress:', layout=Layout(height='25px', width='50%'),…"
      ]
     },
     "metadata": {},
     "output_type": "display_data"
    },
    {
     "name": "stdout",
     "output_type": "stream",
     "text": [
      "(55830, 36)"
     ]
    }
   ],
   "source": [
    "#stays = merge_on_subject(stays, patients)\n",
    "stays = stays.join(patients, how='inner', on=['SUBJECT_ID'])\n",
    "print((stays.count(), len(stays.columns)))"
   ]
  },
  {
   "cell_type": "code",
   "execution_count": 69,
   "id": "rental-skiing",
   "metadata": {},
   "outputs": [
    {
     "data": {
      "application/vnd.jupyter.widget-view+json": {
       "model_id": "8dbec153b7cc4fd697e363eace64e497",
       "version_major": 2,
       "version_minor": 0
      },
      "text/plain": [
       "FloatProgress(value=0.0, bar_style='info', description='Progress:', layout=Layout(height='25px', width='50%'),…"
      ]
     },
     "metadata": {},
     "output_type": "display_data"
    }
   ],
   "source": [
    "import pyspark.sql.functions as func\n"
   ]
  },
  {
   "cell_type": "code",
   "execution_count": 70,
   "id": "sunrise-given",
   "metadata": {},
   "outputs": [
    {
     "data": {
      "application/vnd.jupyter.widget-view+json": {
       "model_id": "542653a1f0ad4bc7af08e8bef4540977",
       "version_major": 2,
       "version_minor": 0
      },
      "text/plain": [
       "FloatProgress(value=0.0, bar_style='info', description='Progress:', layout=Layout(height='25px', width='50%'),…"
      ]
     },
     "metadata": {},
     "output_type": "display_data"
    },
    {
     "name": "stdout",
     "output_type": "stream",
     "text": [
      "52834"
     ]
    }
   ],
   "source": [
    "to_keep = stays.groupby(stays.HADM_ID).agg(func.count('ICUSTAY_ID'))\n",
    "print(to_keep.count())"
   ]
  },
  {
   "cell_type": "code",
   "execution_count": 71,
   "id": "unsigned-chemical",
   "metadata": {},
   "outputs": [
    {
     "data": {
      "application/vnd.jupyter.widget-view+json": {
       "model_id": "223b840416f543b5ae162984cee2e94c",
       "version_major": 2,
       "version_minor": 0
      },
      "text/plain": [
       "FloatProgress(value=0.0, bar_style='info', description='Progress:', layout=Layout(height='25px', width='50%'),…"
      ]
     },
     "metadata": {},
     "output_type": "display_data"
    },
    {
     "name": "stdout",
     "output_type": "stream",
     "text": [
      "50186"
     ]
    }
   ],
   "source": [
    "to_keep = to_keep.filter(to_keep['count(ICUSTAY_ID)']==1)\n",
    "print(to_keep.count())"
   ]
  },
  {
   "cell_type": "code",
   "execution_count": 72,
   "id": "considerable-quilt",
   "metadata": {},
   "outputs": [
    {
     "data": {
      "application/vnd.jupyter.widget-view+json": {
       "model_id": "98ea184d4a4e44da9afcaa91a86cba6a",
       "version_major": 2,
       "version_minor": 0
      },
      "text/plain": [
       "FloatProgress(value=0.0, bar_style='info', description='Progress:', layout=Layout(height='25px', width='50%'),…"
      ]
     },
     "metadata": {},
     "output_type": "display_data"
    },
    {
     "name": "stdout",
     "output_type": "stream",
     "text": [
      "DataFrame[HADM_ID: int, count(ICUSTAY_ID): bigint]"
     ]
    }
   ],
   "source": [
    "to_keep"
   ]
  },
  {
   "cell_type": "code",
   "execution_count": 73,
   "id": "physical-specific",
   "metadata": {},
   "outputs": [
    {
     "data": {
      "application/vnd.jupyter.widget-view+json": {
       "model_id": "1b1b7a8a956140feb774b449f7fa6526",
       "version_major": 2,
       "version_minor": 0
      },
      "text/plain": [
       "FloatProgress(value=0.0, bar_style='info', description='Progress:', layout=Layout(height='25px', width='50%'),…"
      ]
     },
     "metadata": {},
     "output_type": "display_data"
    }
   ],
   "source": [
    "stays = stays.join(to_keep, how='inner', on=['HADM_ID'])"
   ]
  },
  {
   "cell_type": "code",
   "execution_count": 74,
   "id": "overall-vancouver",
   "metadata": {},
   "outputs": [
    {
     "data": {
      "application/vnd.jupyter.widget-view+json": {
       "model_id": "8201e7e1ee874d859abab2b58078ceea",
       "version_major": 2,
       "version_minor": 0
      },
      "text/plain": [
       "FloatProgress(value=0.0, bar_style='info', description='Progress:', layout=Layout(height='25px', width='50%'),…"
      ]
     },
     "metadata": {},
     "output_type": "display_data"
    },
    {
     "name": "stdout",
     "output_type": "stream",
     "text": [
      "50186"
     ]
    }
   ],
   "source": [
    "stays.count()"
   ]
  },
  {
   "cell_type": "code",
   "execution_count": 75,
   "id": "regional-tractor",
   "metadata": {},
   "outputs": [
    {
     "data": {
      "application/vnd.jupyter.widget-view+json": {
       "model_id": "1a7cd85963464465af58bfd96ad39eb7",
       "version_major": 2,
       "version_minor": 0
      },
      "text/plain": [
       "FloatProgress(value=0.0, bar_style='info', description='Progress:', layout=Layout(height='25px', width='50%'),…"
      ]
     },
     "metadata": {},
     "output_type": "display_data"
    }
   ],
   "source": [
    "from pyspark.sql.functions import datediff,col"
   ]
  },
  {
   "cell_type": "code",
   "execution_count": 76,
   "id": "engaging-purple",
   "metadata": {},
   "outputs": [
    {
     "data": {
      "application/vnd.jupyter.widget-view+json": {
       "model_id": "6de5cd6afb9444a98161dccbd69fdaec",
       "version_major": 2,
       "version_minor": 0
      },
      "text/plain": [
       "FloatProgress(value=0.0, bar_style='info', description='Progress:', layout=Layout(height='25px', width='50%'),…"
      ]
     },
     "metadata": {},
     "output_type": "display_data"
    }
   ],
   "source": [
    "#stays = add_age_to_icustays(stays)\n",
    "stays = stays.withColumn(\"AGE\", datediff(col(\"INTIME\"),col(\"DOB\"))/365.25)\n"
   ]
  },
  {
   "cell_type": "code",
   "execution_count": 77,
   "id": "herbal-spread",
   "metadata": {},
   "outputs": [
    {
     "data": {
      "application/vnd.jupyter.widget-view+json": {
       "model_id": "e82925c25869486a929a10bfba534111",
       "version_major": 2,
       "version_minor": 0
      },
      "text/plain": [
       "FloatProgress(value=0.0, bar_style='info', description='Progress:', layout=Layout(height='25px', width='50%'),…"
      ]
     },
     "metadata": {},
     "output_type": "display_data"
    }
   ],
   "source": [
    "test = stays.withColumn(\"MORTALITY_INUNIT\", F.when((F.col(\"DOD\").isNotNull()) & (F.col(\"DOD\").between(F.col(\"INTIME\"), F.col(\"OUTTIME\"))), 1)\n",
    "      .when((F.col(\"DEATHTIME\").isNotNull()) & (F.col(\"DEATHTIME\").between(F.col(\"INTIME\"), F.col(\"OUTTIME\"))), 1)\n",
    "      .otherwise(0))"
   ]
  },
  {
   "cell_type": "code",
   "execution_count": 78,
   "id": "sophisticated-progress",
   "metadata": {},
   "outputs": [
    {
     "data": {
      "application/vnd.jupyter.widget-view+json": {
       "model_id": "2f61f93827724deeaed761ee0b916899",
       "version_major": 2,
       "version_minor": 0
      },
      "text/plain": [
       "FloatProgress(value=0.0, bar_style='info', description='Progress:', layout=Layout(height='25px', width='50%'),…"
      ]
     },
     "metadata": {},
     "output_type": "display_data"
    }
   ],
   "source": [
    "test2 = test.withColumn(\"MORTALITY_INHOSPITAL\", F.when((F.col(\"DOD\").isNotNull()) & (F.col(\"DOD\").between(F.col(\"ADMITTIME\"), F.col(\"DISCHTIME\"))), 1)\n",
    "      .when((F.col(\"DEATHTIME\").isNotNull()) & (F.col(\"DEATHTIME\").between(F.col(\"ADMITTIME\"), F.col(\"DISCHTIME\"))), 1)\n",
    "      .otherwise(0))"
   ]
  },
  {
   "cell_type": "code",
   "execution_count": 79,
   "id": "indoor-meditation",
   "metadata": {},
   "outputs": [
    {
     "data": {
      "application/vnd.jupyter.widget-view+json": {
       "model_id": "594829444aeb4e0e98fe6a21307dae27",
       "version_major": 2,
       "version_minor": 0
      },
      "text/plain": [
       "FloatProgress(value=0.0, bar_style='info', description='Progress:', layout=Layout(height='25px', width='50%'),…"
      ]
     },
     "metadata": {},
     "output_type": "display_data"
    },
    {
     "name": "stdout",
     "output_type": "stream",
     "text": [
      "+----------------+--------------------+-------------------+-------------------+-------------------+-------------------+\n",
      "|MORTALITY_INUNIT|MORTALITY_INHOSPITAL|                DOD|          ADMITTIME|          DISCHTIME|          DEATHTIME|\n",
      "+----------------+--------------------+-------------------+-------------------+-------------------+-------------------+\n",
      "|               0|                   0|               null|2149-08-02 00:24:00|2149-08-06 12:24:00|               null|\n",
      "|               0|                   0|               null|2110-12-16 17:50:00|2110-12-18 17:42:00|               null|\n",
      "|               0|                   0|               null|2193-04-03 21:30:00|2193-04-07 11:10:00|               null|\n",
      "|               0|                   0|               null|2149-09-22 13:26:00|2149-09-26 14:27:00|               null|\n",
      "|               0|                   0|               null|2184-08-20 14:21:00|2184-08-22 15:15:00|               null|\n",
      "|               0|                   0|2173-09-13 00:00:00|2173-02-20 23:57:00|2173-02-22 17:14:00|               null|\n",
      "|               0|                   0|               null|2125-02-17 06:52:00|2125-02-23 17:00:00|               null|\n",
      "|               0|                   0|               null|2132-06-26 12:48:00|2132-06-28 18:14:00|               null|\n",
      "|               1|                   1|2127-05-04 00:00:00|2127-04-29 01:38:00|2127-05-04 12:00:00|2127-05-04 12:00:00|\n",
      "|               0|                   0|               null|2189-04-20 14:55:00|2189-05-04 14:30:00|               null|\n",
      "|               0|                   0|2107-07-06 00:00:00|2105-12-12 20:42:00|2105-12-17 18:52:00|               null|\n",
      "|               0|                   0|2151-03-16 00:00:00|2151-03-04 23:30:00|2151-03-14 13:25:00|               null|\n",
      "|               0|                   0|               null|2181-07-25 10:45:00|2181-08-01 19:23:00|               null|\n",
      "|               0|                   0|               null|2159-02-21 08:00:00|2159-02-24 13:30:00|               null|\n",
      "|               0|                   0|2159-03-08 00:00:00|2156-06-26 12:54:00|2156-06-26 15:46:00|               null|\n",
      "|               0|                   0|2123-07-18 00:00:00|2120-09-04 18:21:00|2120-09-11 14:47:00|               null|\n",
      "|               0|                   0|               null|2134-06-04 21:41:00|2134-06-08 12:00:00|               null|\n",
      "|               0|                   0|               null|2168-02-05 17:24:00|2168-02-14 14:39:00|               null|\n",
      "|               0|                   0|               null|2117-03-29 18:57:00|2117-03-30 16:28:00|               null|\n",
      "|               1|                   1|2181-04-30 00:00:00|2181-04-28 22:59:00|2181-04-30 05:00:00|2181-04-30 05:00:00|\n",
      "+----------------+--------------------+-------------------+-------------------+-------------------+-------------------+\n",
      "only showing top 20 rows"
     ]
    }
   ],
   "source": [
    "test2.select(test2.MORTALITY_INUNIT, test2.MORTALITY_INHOSPITAL,test2.DOD,test2.ADMITTIME,test2.DISCHTIME,test2.DEATHTIME ).show()"
   ]
  },
  {
   "cell_type": "code",
   "execution_count": 80,
   "id": "after-submission",
   "metadata": {},
   "outputs": [
    {
     "data": {
      "application/vnd.jupyter.widget-view+json": {
       "model_id": "43b84761948b42ebbef5ae3e79fefe72",
       "version_major": 2,
       "version_minor": 0
      },
      "text/plain": [
       "FloatProgress(value=0.0, bar_style='info', description='Progress:', layout=Layout(height='25px', width='50%'),…"
      ]
     },
     "metadata": {},
     "output_type": "display_data"
    }
   ],
   "source": [
    "#stays = filter_icustays_on_age(stays)\n",
    "test2 = test2.filter(test2.AGE >= 18)"
   ]
  },
  {
   "cell_type": "code",
   "execution_count": 81,
   "id": "quiet-diana",
   "metadata": {},
   "outputs": [
    {
     "data": {
      "application/vnd.jupyter.widget-view+json": {
       "model_id": "099ea657bc184526a14e4b57eba1e9fa",
       "version_major": 2,
       "version_minor": 0
      },
      "text/plain": [
       "FloatProgress(value=0.0, bar_style='info', description='Progress:', layout=Layout(height='25px', width='50%'),…"
      ]
     },
     "metadata": {},
     "output_type": "display_data"
    },
    {
     "name": "stdout",
     "output_type": "stream",
     "text": [
      "42276"
     ]
    }
   ],
   "source": [
    "test2.count()"
   ]
  },
  {
   "cell_type": "code",
   "execution_count": 82,
   "id": "cross-congress",
   "metadata": {},
   "outputs": [
    {
     "data": {
      "application/vnd.jupyter.widget-view+json": {
       "model_id": "747a9d69512e492fa6e74159c18a5fc3",
       "version_major": 2,
       "version_minor": 0
      },
      "text/plain": [
       "FloatProgress(value=0.0, bar_style='info', description='Progress:', layout=Layout(height='25px', width='50%'),…"
      ]
     },
     "metadata": {},
     "output_type": "display_data"
    },
    {
     "name": "stdout",
     "output_type": "stream",
     "text": [
      "DataFrame[ROW_ID: int, ICD9_CODE: string, SHORT_TITLE: string, LONG_TITLE: string]"
     ]
    }
   ],
   "source": [
    "codes = spark.read.parquet('s3://mimic-iii-physionet/parquet/D_ICD_DIAGNOSES/')\n",
    "codes = codes.select([F.col(x).alias(x.upper()) for x in codes.columns])\n",
    "codes"
   ]
  },
  {
   "cell_type": "code",
   "execution_count": 83,
   "id": "rising-christmas",
   "metadata": {},
   "outputs": [
    {
     "data": {
      "application/vnd.jupyter.widget-view+json": {
       "model_id": "c963ec26ec3743c8a794cc1f70ce69f4",
       "version_major": 2,
       "version_minor": 0
      },
      "text/plain": [
       "FloatProgress(value=0.0, bar_style='info', description='Progress:', layout=Layout(height='25px', width='50%'),…"
      ]
     },
     "metadata": {},
     "output_type": "display_data"
    },
    {
     "name": "stdout",
     "output_type": "stream",
     "text": [
      "DataFrame[ROW_ID: int, SUBJECT_ID: int, HADM_ID: int, SEQ_NUM: int, ICD9_CODE: string]"
     ]
    }
   ],
   "source": [
    "diag = spark.read.parquet('s3://mimic-iii-physionet/parquet/DIAGNOSES_ICD/')\n",
    "diag = diag.select([F.col(x).alias(x.upper()) for x in diag.columns])\n",
    "diag"
   ]
  },
  {
   "cell_type": "code",
   "execution_count": 84,
   "id": "vocational-harmony",
   "metadata": {},
   "outputs": [
    {
     "data": {
      "application/vnd.jupyter.widget-view+json": {
       "model_id": "d3d7ce782c5e49a29058afd95cd0e567",
       "version_major": 2,
       "version_minor": 0
      },
      "text/plain": [
       "FloatProgress(value=0.0, bar_style='info', description='Progress:', layout=Layout(height='25px', width='50%'),…"
      ]
     },
     "metadata": {},
     "output_type": "display_data"
    }
   ],
   "source": [
    "diagnoses = diag.join(codes, how='inner', on=['ICD9_CODE'])"
   ]
  },
  {
   "cell_type": "code",
   "execution_count": 85,
   "id": "composed-tourism",
   "metadata": {},
   "outputs": [
    {
     "data": {
      "application/vnd.jupyter.widget-view+json": {
       "model_id": "48a67f882a814dd3a50facc57a8eb317",
       "version_major": 2,
       "version_minor": 0
      },
      "text/plain": [
       "FloatProgress(value=0.0, bar_style='info', description='Progress:', layout=Layout(height='25px', width='50%'),…"
      ]
     },
     "metadata": {},
     "output_type": "display_data"
    },
    {
     "name": "stdout",
     "output_type": "stream",
     "text": [
      "42276"
     ]
    }
   ],
   "source": [
    "filterDF = test2.select(test2.SUBJECT_ID,test2.HADM_ID, test2.ICUSTAY_ID )\n",
    "filterDF.count()"
   ]
  },
  {
   "cell_type": "code",
   "execution_count": 86,
   "id": "african-venue",
   "metadata": {},
   "outputs": [
    {
     "data": {
      "application/vnd.jupyter.widget-view+json": {
       "model_id": "f2f0e3356eb14147b1ba97448767afb8",
       "version_major": 2,
       "version_minor": 0
      },
      "text/plain": [
       "FloatProgress(value=0.0, bar_style='info', description='Progress:', layout=Layout(height='25px', width='50%'),…"
      ]
     },
     "metadata": {},
     "output_type": "display_data"
    }
   ],
   "source": [
    "filterDF = test2.select(test2.SUBJECT_ID,test2.HADM_ID, test2.ICUSTAY_ID ).dropDuplicates()"
   ]
  },
  {
   "cell_type": "code",
   "execution_count": 87,
   "id": "individual-value",
   "metadata": {},
   "outputs": [
    {
     "data": {
      "application/vnd.jupyter.widget-view+json": {
       "model_id": "981082b1ef5240a0a692b42f97fdec5d",
       "version_major": 2,
       "version_minor": 0
      },
      "text/plain": [
       "FloatProgress(value=0.0, bar_style='info', description='Progress:', layout=Layout(height='25px', width='50%'),…"
      ]
     },
     "metadata": {},
     "output_type": "display_data"
    },
    {
     "name": "stdout",
     "output_type": "stream",
     "text": [
      "42276"
     ]
    }
   ],
   "source": [
    "filterDF.count()"
   ]
  },
  {
   "cell_type": "code",
   "execution_count": 88,
   "id": "activated-toilet",
   "metadata": {},
   "outputs": [
    {
     "data": {
      "application/vnd.jupyter.widget-view+json": {
       "model_id": "1603a12eeabe40faa2f2dc34895588e5",
       "version_major": 2,
       "version_minor": 0
      },
      "text/plain": [
       "FloatProgress(value=0.0, bar_style='info', description='Progress:', layout=Layout(height='25px', width='50%'),…"
      ]
     },
     "metadata": {},
     "output_type": "display_data"
    }
   ],
   "source": [
    "#diagnoses = filter_diagnoses_on_stays(diagnoses, stays)\n",
    "diagnoses2 = diagnoses.join(filterDF, how='inner', on=['SUBJECT_ID', 'HADM_ID'])"
   ]
  },
  {
   "cell_type": "code",
   "execution_count": 89,
   "id": "ongoing-modeling",
   "metadata": {},
   "outputs": [
    {
     "data": {
      "application/vnd.jupyter.widget-view+json": {
       "model_id": "e8cbdfe75bd44f53a8c40e9e42bc57f0",
       "version_major": 2,
       "version_minor": 0
      },
      "text/plain": [
       "FloatProgress(value=0.0, bar_style='info', description='Progress:', layout=Layout(height='25px', width='50%'),…"
      ]
     },
     "metadata": {},
     "output_type": "display_data"
    },
    {
     "name": "stderr",
     "output_type": "stream",
     "text": [
      "An error was encountered:\n",
      "'DataFrame' object has no attribute 'set_index'\n",
      "Traceback (most recent call last):\n",
      "  File \"/usr/lib/spark/python/lib/pyspark.zip/pyspark/sql/dataframe.py\", line 1307, in __getattr__\n",
      "    \"'%s' object has no attribute '%s'\" % (self.__class__.__name__, name))\n",
      "AttributeError: 'DataFrame' object has no attribute 'set_index'\n",
      "\n"
     ]
    }
   ],
   "source": [
    "    codes = diagnoses[['ICD9_CODE', 'SHORT_TITLE', 'LONG_TITLE']].drop_duplicates().set_index('ICD9_CODE')\n",
    "    codes['COUNT'] = diagnoses.groupby('ICD9_CODE')['ICUSTAY_ID'].count()\n",
    "    codes.COUNT = codes.COUNT.fillna(0).astype(int)\n",
    "    codes = codes[codes.COUNT > 0]"
   ]
  },
  {
   "cell_type": "code",
   "execution_count": 90,
   "id": "smart-vacuum",
   "metadata": {},
   "outputs": [
    {
     "data": {
      "application/vnd.jupyter.widget-view+json": {
       "model_id": "43299359f11a455da61d686917e64fe1",
       "version_major": 2,
       "version_minor": 0
      },
      "text/plain": [
       "FloatProgress(value=0.0, bar_style='info', description='Progress:', layout=Layout(height='25px', width='50%'),…"
      ]
     },
     "metadata": {},
     "output_type": "display_data"
    },
    {
     "name": "stdout",
     "output_type": "stream",
     "text": [
      "6169"
     ]
    }
   ],
   "source": [
    "diagnoses2.select(diagnoses2.ICD9_CODE, diagnoses2.SHORT_TITLE, diagnoses2.LONG_TITLE).dropDuplicates().count()"
   ]
  },
  {
   "cell_type": "code",
   "execution_count": 91,
   "id": "bronze-spank",
   "metadata": {},
   "outputs": [
    {
     "data": {
      "application/vnd.jupyter.widget-view+json": {
       "model_id": "985a33b2abd74e1592f81ba459d651f0",
       "version_major": 2,
       "version_minor": 0
      },
      "text/plain": [
       "FloatProgress(value=0.0, bar_style='info', description='Progress:', layout=Layout(height='25px', width='50%'),…"
      ]
     },
     "metadata": {},
     "output_type": "display_data"
    },
    {
     "name": "stdout",
     "output_type": "stream",
     "text": [
      "DataFrame[ICD9_CODE: string, SHORT_TITLE: string, LONG_TITLE: string, COUNT: bigint]"
     ]
    }
   ],
   "source": [
    "#count_icd_codes(diagnoses, output_path=os.path.join(args.output_path, 'diagnosis_counts.csv'))\n",
    "codes = diagnoses2.select(diagnoses2.ICD9_CODE, diagnoses2.SHORT_TITLE, diagnoses2.LONG_TITLE).dropDuplicates()\n",
    "codes_counts = diagnoses2.groupby(diagnoses2.ICD9_CODE).count()\n",
    "codes = codes.join(codes_counts, how= 'inner', on= ['ICD9_CODE'])\n",
    "codes = codes.withColumn(\"count1\", col('count'))\n",
    "codes = codes.filter(codes.count1 > 0).select(codes.ICD9_CODE, codes.SHORT_TITLE, codes.LONG_TITLE, codes.count1).withColumnRenamed(\"count1\", \"COUNT\")\n",
    "codes"
   ]
  },
  {
   "cell_type": "code",
   "execution_count": 92,
   "id": "earned-chuck",
   "metadata": {},
   "outputs": [
    {
     "data": {
      "application/vnd.jupyter.widget-view+json": {
       "model_id": "d5d0dbde64104a4aabfea76af7a72952",
       "version_major": 2,
       "version_minor": 0
      },
      "text/plain": [
       "FloatProgress(value=0.0, bar_style='info', description='Progress:', layout=Layout(height='25px', width='50%'),…"
      ]
     },
     "metadata": {},
     "output_type": "display_data"
    },
    {
     "name": "stdout",
     "output_type": "stream",
     "text": [
      "+------+----------+-------+----------+------+-------------------+-------------------+-----+-----+--------+--------+-------+-----+------------+-------+\n",
      "|ROW_ID|SUBJECT_ID|HADM_ID|ICUSTAY_ID|ITEMID|          CHARTTIME|          STORETIME| CGID|VALUE|VALUENUM|VALUEUOM|WARNING|ERROR|RESULTSTATUS|STOPPED|\n",
      "+------+----------+-------+----------+------+-------------------+-------------------+-----+-----+--------+--------+-------+-----+------------+-------+\n",
      "|   788|        36| 165660|    241249|223834|2134-05-12 12:00:00|2134-05-12 13:56:00|17525|   15|    15.0|   L/min|      0|    0|        null|   null|\n",
      "|   789|        36| 165660|    241249|223835|2134-05-12 12:00:00|2134-05-12 13:56:00|17525|  100|   100.0|    null|      0|    0|        null|   null|\n",
      "|   790|        36| 165660|    241249|224328|2134-05-12 12:00:00|2134-05-12 12:18:00|20823|  .37|    0.37|    null|      0|    0|        null|   null|\n",
      "|   791|        36| 165660|    241249|224329|2134-05-12 12:00:00|2134-05-12 12:19:00|20823|    6|     6.0|     min|      0|    0|        null|   null|\n",
      "|   792|        36| 165660|    241249|224330|2134-05-12 12:00:00|2134-05-12 12:19:00|20823|  2.5|     2.5|    null|      0|    0|        null|   null|\n",
      "|   793|        36| 165660|    241249|224331|2134-05-12 12:00:00|2134-05-12 12:19:00|20823|    0|     0.0|   ml/hr|      0|    0|        null|   null|\n",
      "|   794|        36| 165660|    241249|224332|2134-05-12 12:00:00|2134-05-12 14:44:00|17525|    3|     3.0|    null|      0|    0|        null|   null|\n",
      "|   795|        36| 165660|    241249|224663|2134-05-12 12:00:00|2134-05-12 14:44:00|17525|    8|     8.0|    null|      0|    0|        null|   null|\n",
      "|   796|        36| 165660|    241249|224665|2134-05-12 12:00:00|2134-05-12 14:44:00|17525| 1.11|    1.11|    null|      0|    0|        null|   null|\n",
      "|   797|        36| 165660|    241249|220224|2134-05-12 12:35:00|2134-05-12 12:38:00|20889|   58|    58.0|    mmHg|      1|    0|        null|   null|\n",
      "+------+----------+-------+----------+------+-------------------+-------------------+-----+-----+--------+--------+-------+-----+------------+-------+\n",
      "only showing top 10 rows"
     ]
    }
   ],
   "source": [
    "charts.show(10)"
   ]
  },
  {
   "cell_type": "code",
   "execution_count": 93,
   "id": "unexpected-physics",
   "metadata": {},
   "outputs": [
    {
     "data": {
      "application/vnd.jupyter.widget-view+json": {
       "model_id": "38a149a9b13b4793a0287f0c24b68297",
       "version_major": 2,
       "version_minor": 0
      },
      "text/plain": [
       "FloatProgress(value=0.0, bar_style='info', description='Progress:', layout=Layout(height='25px', width='50%'),…"
      ]
     },
     "metadata": {},
     "output_type": "display_data"
    }
   ],
   "source": [
    "charts = charts.filter(charts.HADM_ID.isNotNull() )"
   ]
  },
  {
   "cell_type": "code",
   "execution_count": 94,
   "id": "burning-output",
   "metadata": {},
   "outputs": [
    {
     "data": {
      "application/vnd.jupyter.widget-view+json": {
       "model_id": "4f3bf24552d94cfca6e45ac513175b1c",
       "version_major": 2,
       "version_minor": 0
      },
      "text/plain": [
       "FloatProgress(value=0.0, bar_style='info', description='Progress:', layout=Layout(height='25px', width='50%'),…"
      ]
     },
     "metadata": {},
     "output_type": "display_data"
    }
   ],
   "source": [
    "charts = charts.filter(charts.ICUSTAY_ID.isNotNull())"
   ]
  },
  {
   "cell_type": "code",
   "execution_count": 95,
   "id": "modern-incident",
   "metadata": {},
   "outputs": [
    {
     "data": {
      "application/vnd.jupyter.widget-view+json": {
       "model_id": "5cfb6bcd82be405ca7bbc012660b7b25",
       "version_major": 2,
       "version_minor": 0
      },
      "text/plain": [
       "FloatProgress(value=0.0, bar_style='info', description='Progress:', layout=Layout(height='25px', width='50%'),…"
      ]
     },
     "metadata": {},
     "output_type": "display_data"
    },
    {
     "name": "stdout",
     "output_type": "stream",
     "text": [
      "330414954"
     ]
    }
   ],
   "source": [
    "charts.count()"
   ]
  },
  {
   "cell_type": "code",
   "execution_count": 96,
   "id": "friendly-treatment",
   "metadata": {},
   "outputs": [
    {
     "data": {
      "application/vnd.jupyter.widget-view+json": {
       "model_id": "45aa441e93634815a1436d17d04e5d54",
       "version_major": 2,
       "version_minor": 0
      },
      "text/plain": [
       "FloatProgress(value=0.0, bar_style='info', description='Progress:', layout=Layout(height='25px', width='50%'),…"
      ]
     },
     "metadata": {},
     "output_type": "display_data"
    },
    {
     "name": "stdout",
     "output_type": "stream",
     "text": [
      "DataFrame[ROW_ID: int, SUBJECT_ID: int, HADM_ID: int, ICUSTAY_ID: int, ITEMID: int, CHARTTIME: timestamp, STORETIME: timestamp, CGID: int, VALUE: string, VALUENUM: double, VALUEUOM: string, WARNING: int, ERROR: int, RESULTSTATUS: string, STOPPED: string]"
     ]
    }
   ],
   "source": [
    "charts"
   ]
  },
  {
   "cell_type": "code",
   "execution_count": 97,
   "id": "guided-islam",
   "metadata": {},
   "outputs": [
    {
     "data": {
      "application/vnd.jupyter.widget-view+json": {
       "model_id": "3702f6f2bd444e0a9f5d8c64c2cc5eb7",
       "version_major": 2,
       "version_minor": 0
      },
      "text/plain": [
       "FloatProgress(value=0.0, bar_style='info', description='Progress:', layout=Layout(height='25px', width='50%'),…"
      ]
     },
     "metadata": {},
     "output_type": "display_data"
    }
   ],
   "source": [
    "itemid = spark.read.csv('s3://aws-athena-query-results-441066871063-us-east-1/item_map', header=True)\n"
   ]
  },
  {
   "cell_type": "code",
   "execution_count": 98,
   "id": "substantial-niagara",
   "metadata": {},
   "outputs": [
    {
     "data": {
      "application/vnd.jupyter.widget-view+json": {
       "model_id": "bcc0e3689f764d91a3cff9baf92ebd74",
       "version_major": 2,
       "version_minor": 0
      },
      "text/plain": [
       "FloatProgress(value=0.0, bar_style='info', description='Progress:', layout=Layout(height='25px', width='50%'),…"
      ]
     },
     "metadata": {},
     "output_type": "display_data"
    },
    {
     "name": "stdout",
     "output_type": "stream",
     "text": [
      "+---+--------------------+--------------------+-----------+------+-----------+------+--------------------+--------+-----------+------+---------+---------+----------------+----------+----------+-----------+----------------+----+\n",
      "|_c0|              LEVEL2|              LEVEL1|ALTERNATIVE|STATUS|STATUS NOTE|ITEMID|         MIMIC LABEL|UNITNAME|    LINKSTO| COUNT| CATEGORY|CONCEPTID|           FLUID|LOINC_CODE|  DBSOURCE|Unnamed: 15|      PARAM_TYPE|NOTE|\n",
      "+---+--------------------+--------------------+-----------+------+-----------+------+--------------------+--------+-----------+------+---------+---------+----------------+----------+----------+-----------+----------------+----+\n",
      "|  0|Alanine aminotran...|Alanine aminotran...|        ALT|verify|       null| 50861|ALANINE AMINOTRAN...|    null|  labevents|219475|CHEMISTRY|     null|           BLOOD|  6/1/1742|      null|       null|            null|null|\n",
      "|  1|Alanine aminotran...|Alanine aminotran...|        ALT|verify|       null|   769|                 ALT|    null|chartevents| 41594|  Enzymes|     null|            null|      null|   carevue|       null|            null|null|\n",
      "|  2|Alanine aminotran...|Alanine aminotran...|        ALT|verify|       null|220644|                 ALT|    None|chartevents| 37625|     Labs|     null|            null|      null|metavision|       null|         Numeric|null|\n",
      "|  3|             Albumin|             Albumin|       null|verify|       null| 50862|             ALBUMIN|    null|  labevents|146697|CHEMISTRY|     null|           BLOOD|  7/1/1751|      null|       null|            null|null|\n",
      "|  4|             Albumin|             Albumin|       null|verify|       null|   772|      Albumin (>3.2)|    null|chartevents| 31022|Chemistry|     null|            null|      null|   carevue|       null|            null|null|\n",
      "|  5|             Albumin|             Albumin|       null|verify|       null|  1521|             Albumin|    null|chartevents| 24454|Chemistry|     null|            null|      null|   carevue|       null|            null|null|\n",
      "|  6|             Albumin|             Albumin|       null|verify|       null|227456|             Albumin|    None|chartevents| 22945|     Labs|     null|            null|      null|metavision|       null|Numeric with tag|null|\n",
      "|  7|             Albumin|             Albumin|       null|verify|       null|  3727|  Albumin  (3.9-4.8)|    null|chartevents|   546|Chemistry|     null|            null|      null|   carevue|       null|            null|null|\n",
      "|  8|             Albumin|   Albumin (ascites)|       null|verify|       null| 50835|    ALBUMIN, ASCITES|    null|  labevents|  1592|CHEMISTRY|     null|         ASCITES|  1/1/1749|      null|       null|            null|null|\n",
      "|  9|             Albumin|Albumin (body fluid)|       null|verify|       null| 51025| ALBUMIN, BODY FLUID|    null|  labevents|   422|CHEMISTRY|     null|OTHER BODY FLUID|  5/1/1747|      null|       null|            null|null|\n",
      "+---+--------------------+--------------------+-----------+------+-----------+------+--------------------+--------+-----------+------+---------+---------+----------------+----------+----------+-----------+----------------+----+\n",
      "only showing top 10 rows"
     ]
    }
   ],
   "source": [
    "itemid.show(10)"
   ]
  },
  {
   "cell_type": "code",
   "execution_count": 99,
   "id": "selective-dating",
   "metadata": {},
   "outputs": [
    {
     "data": {
      "application/vnd.jupyter.widget-view+json": {
       "model_id": "e2c4daf7ae074a07a8dc6f4cc80caadc",
       "version_major": 2,
       "version_minor": 0
      },
      "text/plain": [
       "FloatProgress(value=0.0, bar_style='info', description='Progress:', layout=Layout(height='25px', width='50%'),…"
      ]
     },
     "metadata": {},
     "output_type": "display_data"
    }
   ],
   "source": [
    "charts_item = charts.join(itemid.filter(itemid.LINKSTO=='chartevents'), on=['ITEMID'], how='inner').filter(col(\"VALUE\").isNotNull())"
   ]
  },
  {
   "cell_type": "code",
   "execution_count": 100,
   "id": "proper-aquatic",
   "metadata": {},
   "outputs": [
    {
     "data": {
      "application/vnd.jupyter.widget-view+json": {
       "model_id": "baded2bb83e94493ab2e146c718b0497",
       "version_major": 2,
       "version_minor": 0
      },
      "text/plain": [
       "FloatProgress(value=0.0, bar_style='info', description='Progress:', layout=Layout(height='25px', width='50%'),…"
      ]
     },
     "metadata": {},
     "output_type": "display_data"
    },
    {
     "name": "stdout",
     "output_type": "stream",
     "text": [
      "DataFrame[ITEMID: int, ROW_ID: int, SUBJECT_ID: int, HADM_ID: int, ICUSTAY_ID: int, CHARTTIME: timestamp, STORETIME: timestamp, CGID: int, VALUE: string, VALUENUM: double, VALUEUOM: string, WARNING: int, ERROR: int, RESULTSTATUS: string, STOPPED: string, _c0: string, LEVEL2: string, LEVEL1: string, ALTERNATIVE: string, STATUS: string, STATUS NOTE: string, MIMIC LABEL: string, UNITNAME: string, LINKSTO: string, COUNT: string, CATEGORY: string, CONCEPTID: string, FLUID: string, LOINC_CODE: string, DBSOURCE: string, Unnamed: 15: string, PARAM_TYPE: string, NOTE: string]"
     ]
    }
   ],
   "source": [
    "charts_item"
   ]
  },
  {
   "cell_type": "code",
   "execution_count": 101,
   "id": "therapeutic-favor",
   "metadata": {},
   "outputs": [
    {
     "data": {
      "application/vnd.jupyter.widget-view+json": {
       "model_id": "c547736059154d258dc6d28bb8e561f3",
       "version_major": 2,
       "version_minor": 0
      },
      "text/plain": [
       "FloatProgress(value=0.0, bar_style='info', description='Progress:', layout=Layout(height='25px', width='50%'),…"
      ]
     },
     "metadata": {},
     "output_type": "display_data"
    }
   ],
   "source": [
    "#clean height\n",
    "charts_item = charts_item.withColumn('VALUENUM', F.when((charts_item.LEVEL2 == 'Height')\n",
    "                                                   & ((charts_item.VALUEUOM =='Inch')| (charts_item.VALUEUOM =='In'))\n",
    "                                                   ,charts_item.VALUENUM* 2.54).otherwise(charts_item.VALUENUM))"
   ]
  },
  {
   "cell_type": "code",
   "execution_count": 102,
   "id": "inner-italy",
   "metadata": {},
   "outputs": [
    {
     "data": {
      "application/vnd.jupyter.widget-view+json": {
       "model_id": "13b476e5b4164aa2a80980ad8b0de4c7",
       "version_major": 2,
       "version_minor": 0
      },
      "text/plain": [
       "FloatProgress(value=0.0, bar_style='info', description='Progress:', layout=Layout(height='25px', width='50%'),…"
      ]
     },
     "metadata": {},
     "output_type": "display_data"
    }
   ],
   "source": [
    "#clean weight\n",
    "charts_item = charts_item.withColumn('VALUENUM', F.when((charts_item.LEVEL2 == 'Weight')\n",
    "                                                   & (charts_item['MIMIC LABEL'].contains('oz'))\n",
    "                                                   ,charts_item.VALUENUM/16)\n",
    "                                     .when((charts_item.LEVEL2 == 'Weight')\n",
    "                                                   & (charts_item['MIMIC LABEL'].contains('lb'))\n",
    "                                                   ,charts_item.VALUENUM* 0.453592)\n",
    "                                     .otherwise(charts_item.VALUENUM))"
   ]
  },
  {
   "cell_type": "code",
   "execution_count": 103,
   "id": "frequent-racing",
   "metadata": {},
   "outputs": [
    {
     "data": {
      "application/vnd.jupyter.widget-view+json": {
       "model_id": "9ed02f3b8fc94f5bafb00f86952ec171",
       "version_major": 2,
       "version_minor": 0
      },
      "text/plain": [
       "FloatProgress(value=0.0, bar_style='info', description='Progress:', layout=Layout(height='25px', width='50%'),…"
      ]
     },
     "metadata": {},
     "output_type": "display_data"
    }
   ],
   "source": [
    "#clean Capillary refill rate\n",
    "charts_item = charts_item.withColumn('VALUENUM', F.when((charts_item.LEVEL2 == 'Capillary refill rate')\n",
    "                                                   & (charts_item['VALUE'] == 'Brisk')\n",
    "                                                   ,0 )\n",
    "                                     .when((charts_item.LEVEL2 == 'Capillary refill rate')\n",
    "                                                   & (charts_item['VALUE'] == 'Normal <3 secs')\n",
    "                                                   ,0)\n",
    "                                     .when((charts_item.LEVEL2 == 'Capillary refill rate')\n",
    "                                                   & (charts_item['VALUE'] == 'Abnormal >3 secs')\n",
    "                                                   ,1)\n",
    "                                     .when((charts_item.LEVEL2 == 'Capillary refill rate')\n",
    "                                                   & (charts_item['VALUE'] == 'Delayed')\n",
    "                                                   ,1)\n",
    "                                     .otherwise(charts_item.VALUENUM))"
   ]
  },
  {
   "cell_type": "code",
   "execution_count": 104,
   "id": "complex-location",
   "metadata": {},
   "outputs": [
    {
     "data": {
      "application/vnd.jupyter.widget-view+json": {
       "model_id": "85d7e51472ab4ca6a16e5cf471ebfa74",
       "version_major": 2,
       "version_minor": 0
      },
      "text/plain": [
       "FloatProgress(value=0.0, bar_style='info', description='Progress:', layout=Layout(height='25px', width='50%'),…"
      ]
     },
     "metadata": {},
     "output_type": "display_data"
    }
   ],
   "source": [
    "#Clean FIO2\n",
    "charts_item = charts_item.withColumn('VALUENUM', F.when((charts_item.LEVEL2 == 'Fraction inspired oxygen')\n",
    "                                                   & (~(charts_item['VALUEUOM'].contains('torr')))\n",
    "                                                      & (~(charts_item['VALUE'].rlike(\"[^a-zA-Z\\\\s+]+\")))\n",
    "                                                   ,charts_item.VALUENUM/100 )\n",
    "                                                .when((charts_item.LEVEL2 == 'Fraction inspired oxygen')\n",
    "                                                   & (~(charts_item['VALUEUOM'].contains('torr'))) \n",
    "                                                      & (charts_item['VALUE'].cast(\"int\") > 1),\n",
    "                                                    charts_item.VALUENUM/100)\n",
    "                                                .otherwise(charts_item.VALUENUM))"
   ]
  },
  {
   "cell_type": "code",
   "execution_count": 105,
   "id": "ready-durham",
   "metadata": {},
   "outputs": [
    {
     "data": {
      "application/vnd.jupyter.widget-view+json": {
       "model_id": "76cfaa607a7f40599ed9fe0f48286465",
       "version_major": 2,
       "version_minor": 0
      },
      "text/plain": [
       "FloatProgress(value=0.0, bar_style='info', description='Progress:', layout=Layout(height='25px', width='50%'),…"
      ]
     },
     "metadata": {},
     "output_type": "display_data"
    },
    {
     "name": "stdout",
     "output_type": "stream",
     "text": [
      "+------+-----------+--------+-----+--------+\n",
      "|LEVEL2|MIMIC LABEL|VALUENUM|VALUE|VALUEUOM|\n",
      "+------+-----------+--------+-----+--------+\n",
      "+------+-----------+--------+-----+--------+"
     ]
    }
   ],
   "source": [
    "#No need to clean Glucose\n",
    "charts_item.filter((col('LEVEL2')=='Glucose') & (col('VALUE')=='ERROR') & (col('VALUENUM').isNotNull()) ).orderBy(col(\"VALUENUM\").desc()).select(charts_item['LEVEL2'], charts_item['MIMIC LABEL'],charts_item['VALUENUM'],charts_item['VALUE'], charts_item['VALUEUOM'] ).show(20)"
   ]
  },
  {
   "cell_type": "code",
   "execution_count": 106,
   "id": "healthy-harvest",
   "metadata": {},
   "outputs": [
    {
     "data": {
      "application/vnd.jupyter.widget-view+json": {
       "model_id": "08785370aba040c38d3748e1af4f8661",
       "version_major": 2,
       "version_minor": 0
      },
      "text/plain": [
       "FloatProgress(value=0.0, bar_style='info', description='Progress:', layout=Layout(height='25px', width='50%'),…"
      ]
     },
     "metadata": {},
     "output_type": "display_data"
    },
    {
     "name": "stdout",
     "output_type": "stream",
     "text": [
      "+------+-----------+--------+-----+--------+\n",
      "|LEVEL2|MIMIC LABEL|VALUENUM|VALUE|VALUEUOM|\n",
      "+------+-----------+--------+-----+--------+\n",
      "+------+-----------+--------+-----+--------+"
     ]
    }
   ],
   "source": [
    "#No need to clean PH\n",
    "charts_item.filter((col('LEVEL2')=='pH') & (col('VALUE')=='ERROR') & (col('VALUENUM').isNotNull()) ).orderBy(col(\"VALUENUM\").desc()).select(charts_item['LEVEL2'], charts_item['MIMIC LABEL'],charts_item['VALUENUM'],charts_item['VALUE'], charts_item['VALUEUOM'] ).show(20)"
   ]
  },
  {
   "cell_type": "code",
   "execution_count": 107,
   "id": "photographic-marble",
   "metadata": {},
   "outputs": [
    {
     "data": {
      "application/vnd.jupyter.widget-view+json": {
       "model_id": "f5534f9bb7ce4d37a8146f3862efb69f",
       "version_major": 2,
       "version_minor": 0
      },
      "text/plain": [
       "FloatProgress(value=0.0, bar_style='info', description='Progress:', layout=Layout(height='25px', width='50%'),…"
      ]
     },
     "metadata": {},
     "output_type": "display_data"
    }
   ],
   "source": [
    "#clean temp\n",
    "charts_item = charts_item.withColumn('VALUENUM', F.when((charts_item.LEVEL2 == 'Temperature')\n",
    "                                                   & (charts_item['MIMIC LABEL'].contains('F'))\n",
    "                                                   ,(charts_item.VALUENUM-32) * (5/9))\n",
    "                                     .when((charts_item.LEVEL2 == 'Temperature')\n",
    "                                                   & (charts_item['VALUEUOM'].contains('F'))\n",
    "                                                   ,(charts_item.VALUENUM-32) * (5/9))\n",
    "                                     .otherwise(charts_item.VALUENUM))"
   ]
  },
  {
   "cell_type": "code",
   "execution_count": 108,
   "id": "collect-workshop",
   "metadata": {},
   "outputs": [
    {
     "data": {
      "application/vnd.jupyter.widget-view+json": {
       "model_id": "700a47cffa944c48becf998ce111af4f",
       "version_major": 2,
       "version_minor": 0
      },
      "text/plain": [
       "FloatProgress(value=0.0, bar_style='info', description='Progress:', layout=Layout(height='25px', width='50%'),…"
      ]
     },
     "metadata": {},
     "output_type": "display_data"
    }
   ],
   "source": [
    "#Clean O2 saturation\n",
    "charts_item = charts_item.withColumn('VALUENUM', F.when((charts_item.LEVEL2 == 'Oxygen saturation')\n",
    "                                                   & (charts_item['VALUENUM'] <= 1)\n",
    "                                                   ,charts_item.VALUENUM * 100 )\n",
    "                                     .otherwise(charts_item.VALUENUM))"
   ]
  },
  {
   "cell_type": "code",
   "execution_count": 87,
   "id": "hollow-surfing",
   "metadata": {},
   "outputs": [
    {
     "data": {
      "application/vnd.jupyter.widget-view+json": {
       "model_id": "e75ced2968fa4bdb88099f600ae4d502",
       "version_major": 2,
       "version_minor": 0
      },
      "text/plain": [
       "FloatProgress(value=0.0, bar_style='info', description='Progress:', layout=Layout(height='25px', width='50%'),…"
      ]
     },
     "metadata": {},
     "output_type": "display_data"
    },
    {
     "name": "stdout",
     "output_type": "stream",
     "text": [
      "+-----------------+--------------------+--------+-----+--------+\n",
      "|           LEVEL2|         MIMIC LABEL|VALUENUM|VALUE|VALUEUOM|\n",
      "+-----------------+--------------------+--------+-----+--------+\n",
      "|Oxygen saturation|Arterial O2 Satur...|    80.0|   .8|       %|\n",
      "+-----------------+--------------------+--------+-----+--------+"
     ]
    }
   ],
   "source": [
    "charts_item.filter((col('LEVEL2')=='Oxygen saturation') & (col('VALUE') == '.8') ).select(charts_item['LEVEL2'], charts_item['MIMIC LABEL'],charts_item['VALUENUM'],charts_item['VALUE'], charts_item['VALUEUOM'] ).show(20)"
   ]
  },
  {
   "cell_type": "code",
   "execution_count": 78,
   "id": "quiet-bulletin",
   "metadata": {},
   "outputs": [
    {
     "data": {
      "application/vnd.jupyter.widget-view+json": {
       "model_id": "1629ab3df7cf4533a157f1c93ccf820a",
       "version_major": 2,
       "version_minor": 0
      },
      "text/plain": [
       "FloatProgress(value=0.0, bar_style='info', description='Progress:', layout=Layout(height='25px', width='50%'),…"
      ]
     },
     "metadata": {},
     "output_type": "display_data"
    },
    {
     "name": "stdout",
     "output_type": "stream",
     "text": [
      "+--------------------+--------+------+\n",
      "|         MIMIC LABEL|VALUEUOM| count|\n",
      "+--------------------+--------+------+\n",
      "|Temperature C (calc)|  Deg. C|767218|\n",
      "|       Temperature F|  Deg. F|767481|\n",
      "|Temperature Fahre...|      ?F|522021|\n",
      "| Temperature Celsius|      ?C| 74084|\n",
      "|       Temperature C|  Deg. C|370268|\n",
      "|       Temp Skin [C]|      in|522260|\n",
      "|     Temp Rectal [F]|   Deg F|  9406|\n",
      "|Temperature F (calc)|  Deg. F|370270|\n",
      "+--------------------+--------+------+"
     ]
    }
   ],
   "source": [
    "charts_item.filter(col('LEVEL2')=='Temperature').groupby(charts_item[\"MIMIC LABEL\"], charts_item[\"VALUEUOM\"]).count().show()"
   ]
  },
  {
   "cell_type": "code",
   "execution_count": 50,
   "id": "difficult-money",
   "metadata": {},
   "outputs": [
    {
     "data": {
      "application/vnd.jupyter.widget-view+json": {
       "model_id": "42bb7e89be354b46aeb7a62f57db9869",
       "version_major": 2,
       "version_minor": 0
      },
      "text/plain": [
       "FloatProgress(value=0.0, bar_style='info', description='Progress:', layout=Layout(height='25px', width='50%'),…"
      ]
     },
     "metadata": {},
     "output_type": "display_data"
    },
    {
     "name": "stdout",
     "output_type": "stream",
     "text": [
      "+----------+-------+----------+-------------------+--------------------+--------+\n",
      "|SUBJECT_ID|HADM_ID|ICUSTAY_ID|          CHARTTIME|              LEVEL2|VALUENUM|\n",
      "+----------+-------+----------+-------------------+--------------------+--------+\n",
      "|        36| 165660|    241249|2134-05-12 12:00:00|                null|    15.0|\n",
      "|        36| 165660|    241249|2134-05-12 12:00:00|Fraction inspired...|   100.0|\n",
      "|        36| 165660|    241249|2134-05-12 12:00:00|                null|    0.37|\n",
      "|        36| 165660|    241249|2134-05-12 12:00:00|                null|     6.0|\n",
      "|        36| 165660|    241249|2134-05-12 12:00:00|                null|     2.5|\n",
      "|        36| 165660|    241249|2134-05-12 12:00:00|                null|     0.0|\n",
      "|        36| 165660|    241249|2134-05-12 12:00:00|                null|     3.0|\n",
      "|        36| 165660|    241249|2134-05-12 12:00:00|                null|     8.0|\n",
      "|        36| 165660|    241249|2134-05-12 12:00:00|                null|    1.11|\n",
      "|        36| 165660|    241249|2134-05-12 12:35:00|                null|    58.0|\n",
      "|        36| 165660|    241249|2134-05-12 12:35:00|Partial pressure ...|    60.0|\n",
      "|        36| 165660|    241249|2134-05-12 12:35:00|                  pH|    7.29|\n",
      "|        36| 165660|    241249|2134-05-12 12:35:00|                null|     0.0|\n",
      "|        36| 165660|    241249|2134-05-12 12:35:00|         Lactic acid|     1.0|\n",
      "|        36| 165660|    241249|2134-05-12 12:35:00|CO2 (ETCO2, PCO2,...|    30.0|\n",
      "|        36| 165660|    241249|2134-05-12 13:00:00|          Heart Rate|    86.0|\n",
      "|        36| 165660|    241249|2134-05-12 13:00:00|Systolic blood pr...|   137.0|\n",
      "|        36| 165660|    241249|2134-05-12 13:00:00|Diastolic blood p...|    72.0|\n",
      "|        36| 165660|    241249|2134-05-12 13:00:00| Mean blood pressure|    84.0|\n",
      "|        36| 165660|    241249|2134-05-12 13:00:00|    Respiratory rate|    21.0|\n",
      "+----------+-------+----------+-------------------+--------------------+--------+\n",
      "only showing top 20 rows"
     ]
    }
   ],
   "source": [
    "charts_item.select(charts_item['SUBJECT_ID'],charts_item['HADM_ID'],charts_item['ICUSTAY_ID'],charts_item['CHARTTIME']\n",
    "                  ,charts_item['LEVEL2'],charts_item['VALUENUM']).show(20)"
   ]
  },
  {
   "cell_type": "code",
   "execution_count": 51,
   "id": "imported-cleaner",
   "metadata": {},
   "outputs": [
    {
     "data": {
      "application/vnd.jupyter.widget-view+json": {
       "model_id": "79c15c76be0b46b5a900084b361db10c",
       "version_major": 2,
       "version_minor": 0
      },
      "text/plain": [
       "FloatProgress(value=0.0, bar_style='info', description='Progress:', layout=Layout(height='25px', width='50%'),…"
      ]
     },
     "metadata": {},
     "output_type": "display_data"
    },
    {
     "name": "stdout",
     "output_type": "stream",
     "text": [
      "42276"
     ]
    }
   ],
   "source": [
    "test2.count()"
   ]
  },
  {
   "cell_type": "code",
   "execution_count": 109,
   "id": "associate-native",
   "metadata": {},
   "outputs": [
    {
     "data": {
      "application/vnd.jupyter.widget-view+json": {
       "model_id": "cbd597581b37417abda90211b5c5f750",
       "version_major": 2,
       "version_minor": 0
      },
      "text/plain": [
       "FloatProgress(value=0.0, bar_style='info', description='Progress:', layout=Layout(height='25px', width='50%'),…"
      ]
     },
     "metadata": {},
     "output_type": "display_data"
    },
    {
     "name": "stdout",
     "output_type": "stream",
     "text": [
      "+------------------+--------+\n",
      "|         LOS_Hours|LOS_Days|\n",
      "+------------------+--------+\n",
      "| 85.66666666666667|       4|\n",
      "| 41.28333333333333|       2|\n",
      "|154.13333333333333|       6|\n",
      "|130.36666666666667|       5|\n",
      "| 335.5833333333333|      14|\n",
      "|118.16666666666667|       5|\n",
      "|229.91666666666666|      10|\n",
      "|176.63333333333333|       7|\n",
      "|              77.5|       3|\n",
      "|2.8666666666666667|       0|\n",
      "|164.43333333333334|       7|\n",
      "|            213.25|       9|\n",
      "|21.516666666666666|       1|\n",
      "|30.016666666666666|       2|\n",
      "|             143.1|       6|\n",
      "|             113.0|       5|\n",
      "| 574.1666666666666|      24|\n",
      "|28.566666666666666|       1|\n",
      "|137.06666666666666|       6|\n",
      "|             159.3|       7|\n",
      "|             69.05|       3|\n",
      "| 66.73333333333333|       3|\n",
      "|            380.05|      16|\n",
      "| 270.8666666666667|      11|\n",
      "|             355.0|      15|\n",
      "| 433.6333333333333|      18|\n",
      "|            775.65|      32|\n",
      "| 9.566666666666666|       0|\n",
      "|142.46666666666667|       6|\n",
      "|             103.7|       4|\n",
      "+------------------+--------+\n",
      "only showing top 30 rows"
     ]
    }
   ],
   "source": [
    "test2 = test2.withColumn('LOS_Hours',  (F.col(\"DISCHTIME\").cast(\"long\") - F.col(\"ADMITTIME\").cast(\"long\"))/3600)\n",
    "test2 = test2.withColumn('LOS_Days',  F.datediff(col(\"DISCHTIME\"),col(\"ADMITTIME\")))\n",
    "test2.select(test2.LOS_Hours,test2.LOS_Days).show(30)"
   ]
  },
  {
   "cell_type": "code",
   "execution_count": 110,
   "id": "enhanced-strengthening",
   "metadata": {},
   "outputs": [
    {
     "data": {
      "application/vnd.jupyter.widget-view+json": {
       "model_id": "43cd6be85229431fbf4ec2ecfdfc26dd",
       "version_major": 2,
       "version_minor": 0
      },
      "text/plain": [
       "FloatProgress(value=0.0, bar_style='info', description='Progress:', layout=Layout(height='25px', width='50%'),…"
      ]
     },
     "metadata": {},
     "output_type": "display_data"
    }
   ],
   "source": [
    "test3 = test2.select(test2['SUBJECT_ID'],test2['HADM_ID'],test2['ICUSTAY_ID'],test2['ADMITTIME'],test2['DISCHTIME'],test2['LOS_Hours']  ).join(charts_item.select(charts_item['SUBJECT_ID'],charts_item['HADM_ID'],charts_item['ICUSTAY_ID']\n",
    "                                              ,charts_item['CHARTTIME'],charts_item['LEVEL2'],charts_item['VALUENUM'])\n",
    "                           , on=['SUBJECT_ID','HADM_ID','ICUSTAY_ID'])\n",
    "#test3.count()"
   ]
  },
  {
   "cell_type": "code",
   "execution_count": 111,
   "id": "native-trail",
   "metadata": {},
   "outputs": [
    {
     "data": {
      "application/vnd.jupyter.widget-view+json": {
       "model_id": "3ee787f56c604dd993dccf48fb8cc2e6",
       "version_major": 2,
       "version_minor": 0
      },
      "text/plain": [
       "FloatProgress(value=0.0, bar_style='info', description='Progress:', layout=Layout(height='25px', width='50%'),…"
      ]
     },
     "metadata": {},
     "output_type": "display_data"
    },
    {
     "name": "stdout",
     "output_type": "stream",
     "text": [
      "+-------------------+-------------------+\n",
      "|          ADMITTIME|            ADMIT_4|\n",
      "+-------------------+-------------------+\n",
      "|2163-11-04 19:45:00|2163-11-05 01:45:00|\n",
      "|2163-11-04 19:45:00|2163-11-05 01:45:00|\n",
      "|2163-11-04 19:45:00|2163-11-05 01:45:00|\n",
      "|2163-11-04 19:45:00|2163-11-05 01:45:00|\n",
      "|2163-11-04 19:45:00|2163-11-05 01:45:00|\n",
      "|2163-11-04 19:45:00|2163-11-05 01:45:00|\n",
      "|2163-11-04 19:45:00|2163-11-05 01:45:00|\n",
      "|2163-11-04 19:45:00|2163-11-05 01:45:00|\n",
      "|2163-11-04 19:45:00|2163-11-05 01:45:00|\n",
      "|2163-11-04 19:45:00|2163-11-05 01:45:00|\n",
      "|2163-11-04 19:45:00|2163-11-05 01:45:00|\n",
      "|2163-11-04 19:45:00|2163-11-05 01:45:00|\n",
      "|2163-11-04 19:45:00|2163-11-05 01:45:00|\n",
      "|2163-11-04 19:45:00|2163-11-05 01:45:00|\n",
      "|2163-11-04 19:45:00|2163-11-05 01:45:00|\n",
      "|2163-11-04 19:45:00|2163-11-05 01:45:00|\n",
      "|2163-11-04 19:45:00|2163-11-05 01:45:00|\n",
      "|2163-11-04 19:45:00|2163-11-05 01:45:00|\n",
      "|2163-11-04 19:45:00|2163-11-05 01:45:00|\n",
      "|2163-11-04 19:45:00|2163-11-05 01:45:00|\n",
      "+-------------------+-------------------+\n",
      "only showing top 20 rows"
     ]
    }
   ],
   "source": [
    "test3 = test3.withColumn('ADMIT_4',  col(\"ADMITTIME\") + F.expr('INTERVAL 6 HOURS'))\n",
    "test3.select(test3['ADMITTIME'],test3['ADMIT_4']).show(20)"
   ]
  },
  {
   "cell_type": "code",
   "execution_count": 112,
   "id": "medical-oregon",
   "metadata": {},
   "outputs": [
    {
     "data": {
      "application/vnd.jupyter.widget-view+json": {
       "model_id": "624193f83025457e83e27e072a8fca65",
       "version_major": 2,
       "version_minor": 0
      },
      "text/plain": [
       "FloatProgress(value=0.0, bar_style='info', description='Progress:', layout=Layout(height='25px', width='50%'),…"
      ]
     },
     "metadata": {},
     "output_type": "display_data"
    }
   ],
   "source": [
    "test4 = test3.filter((col('LOS_Hours') > 6.0) & (col(\"CHARTTIME\").between(col(\"ADMITTIME\"), col('ADMIT_4'))))"
   ]
  },
  {
   "cell_type": "code",
   "execution_count": 113,
   "id": "assigned-subscription",
   "metadata": {},
   "outputs": [
    {
     "data": {
      "application/vnd.jupyter.widget-view+json": {
       "model_id": "9e89c492e6534a179f03db09c69e3a2e",
       "version_major": 2,
       "version_minor": 0
      },
      "text/plain": [
       "FloatProgress(value=0.0, bar_style='info', description='Progress:', layout=Layout(height='25px', width='50%'),…"
      ]
     },
     "metadata": {},
     "output_type": "display_data"
    },
    {
     "name": "stdout",
     "output_type": "stream",
     "text": [
      "DataFrame[SUBJECT_ID: int, HADM_ID: int, ICUSTAY_ID: int, ADMITTIME: timestamp, DISCHTIME: timestamp, LOS_Hours: double, CHARTTIME: timestamp, LEVEL2: string, VALUENUM: double, ADMIT_4: timestamp]"
     ]
    }
   ],
   "source": [
    "test4"
   ]
  },
  {
   "cell_type": "code",
   "execution_count": 114,
   "id": "inner-calendar",
   "metadata": {},
   "outputs": [
    {
     "data": {
      "application/vnd.jupyter.widget-view+json": {
       "model_id": "8b3f2b55d0594b15b2dac62106ec17c5",
       "version_major": 2,
       "version_minor": 0
      },
      "text/plain": [
       "FloatProgress(value=0.0, bar_style='info', description='Progress:', layout=Layout(height='25px', width='50%'),…"
      ]
     },
     "metadata": {},
     "output_type": "display_data"
    }
   ],
   "source": [
    "from pyspark.sql.functions import row_number\n",
    "from pyspark.sql.window import Window"
   ]
  },
  {
   "cell_type": "code",
   "execution_count": 120,
   "id": "apart-vehicle",
   "metadata": {},
   "outputs": [
    {
     "data": {
      "application/vnd.jupyter.widget-view+json": {
       "model_id": "87108ccdd6c34bbdb19ad4e2bfb55127",
       "version_major": 2,
       "version_minor": 0
      },
      "text/plain": [
       "FloatProgress(value=0.0, bar_style='info', description='Progress:', layout=Layout(height='25px', width='50%'),…"
      ]
     },
     "metadata": {},
     "output_type": "display_data"
    }
   ],
   "source": [
    "w = Window.partitionBy(col(\"SUBJECT_ID\"),col(\"ICUSTAY_ID\"), col(\"LEVEL2\")).orderBy(\"CHARTTIME\")\n",
    "df_min = test4.withColumn(\"rn\", row_number().over(w)).where(col(\"rn\") == 1).drop(col(\"rn\"))"
   ]
  },
  {
   "cell_type": "code",
   "execution_count": 126,
   "id": "surface-quilt",
   "metadata": {},
   "outputs": [
    {
     "data": {
      "application/vnd.jupyter.widget-view+json": {
       "model_id": "c9419daff007427b9e68fa090be71c9f",
       "version_major": 2,
       "version_minor": 0
      },
      "text/plain": [
       "FloatProgress(value=0.0, bar_style='info', description='Progress:', layout=Layout(height='25px', width='50%'),…"
      ]
     },
     "metadata": {},
     "output_type": "display_data"
    }
   ],
   "source": [
    "w_max = Window.partitionBy(col(\"SUBJECT_ID\"),col(\"ICUSTAY_ID\"), col(\"LEVEL2\")).orderBy(col(\"CHARTTIME\").desc())\n",
    "df_max = test4.withColumn(\"rn\", row_number().over(w)).where(col(\"rn\") == 1).drop(col(\"rn\"))"
   ]
  },
  {
   "cell_type": "code",
   "execution_count": 127,
   "id": "accepting-magnitude",
   "metadata": {},
   "outputs": [
    {
     "data": {
      "application/vnd.jupyter.widget-view+json": {
       "model_id": "831aa042b19e4f349419154907c4b816",
       "version_major": 2,
       "version_minor": 0
      },
      "text/plain": [
       "FloatProgress(value=0.0, bar_style='info', description='Progress:', layout=Layout(height='25px', width='50%'),…"
      ]
     },
     "metadata": {},
     "output_type": "display_data"
    },
    {
     "name": "stdout",
     "output_type": "stream",
     "text": [
      "+----------+-------+----------+-------------------+-------------------+------------------+-------------------+------+------------------+-------------------+\n",
      "|SUBJECT_ID|HADM_ID|ICUSTAY_ID|          ADMITTIME|          DISCHTIME|         LOS_Hours|          CHARTTIME|LEVEL2|          VALUENUM|            ADMIT_4|\n",
      "+----------+-------+----------+-------------------+-------------------+------------------+-------------------+------+------------------+-------------------+\n",
      "|       248| 175353|    219979|2142-10-19 16:30:00|2142-11-06 12:00:00|             427.5|2142-10-19 17:00:00|Weight|52.400001525878906|2142-10-19 22:30:00|\n",
      "|       406| 123423|    252268|2125-03-01 23:19:00|2125-03-07 20:25:00|             141.1|2125-03-02 01:57:00|Weight|        57.8783392|2125-03-02 05:19:00|\n",
      "|       466| 150423|    225985|2173-01-31 08:54:00|2173-02-09 00:15:00|            207.35|2173-01-31 09:00:00|Weight|              80.0|2173-01-31 14:54:00|\n",
      "|       671| 126769|    246119|2195-12-31 04:44:00|2196-01-11 17:45:00|277.01666666666665|2195-12-31 05:32:00|Weight|              73.8|2195-12-31 10:44:00|\n",
      "|       689| 163520|    250569|2180-04-03 15:22:00|2180-05-19 11:56:00|1100.5666666666666|2180-04-03 16:30:00|Weight|             124.0|2180-04-03 21:22:00|\n",
      "|       788| 139716|    223805|2194-01-13 20:48:00|2194-01-18 14:30:00|             113.7|2194-01-13 22:00:00|Weight| 79.80000305175781|2194-01-14 02:48:00|\n",
      "|       922| 121120|    214394|2140-01-28 23:51:00|2140-02-14 12:47:00|396.93333333333334|2140-01-29 01:00:00|Weight|  68.9000015258789|2140-01-29 05:51:00|\n",
      "|       952| 193143|    291212|2180-11-07 16:40:00|2180-11-13 12:40:00|             140.0|2180-11-07 17:15:00|Weight|               0.0|2180-11-07 22:40:00|\n",
      "|       979| 163886|    284124|2163-02-25 22:06:00|2163-03-02 15:27:00|            113.35|2163-02-25 23:00:00|Weight|  65.4000015258789|2163-02-26 04:06:00|\n",
      "|      1004| 177186|    215563|2108-06-07 21:52:00|2108-06-09 12:00:00| 38.13333333333333|2108-06-08 03:00:00|Weight| 52.29999923706055|2108-06-08 03:52:00|\n",
      "+----------+-------+----------+-------------------+-------------------+------------------+-------------------+------+------------------+-------------------+\n",
      "only showing top 10 rows"
     ]
    }
   ],
   "source": [
    "df_max.filter(col('LEVEL2')=='Weight').show(10)"
   ]
  },
  {
   "cell_type": "code",
   "execution_count": 129,
   "id": "statistical-graduate",
   "metadata": {},
   "outputs": [
    {
     "data": {
      "application/vnd.jupyter.widget-view+json": {
       "model_id": "2c317ab721b64ae5830a2e89e45d9db1",
       "version_major": 2,
       "version_minor": 0
      },
      "text/plain": [
       "FloatProgress(value=0.0, bar_style='info', description='Progress:', layout=Layout(height='25px', width='50%'),…"
      ]
     },
     "metadata": {},
     "output_type": "display_data"
    },
    {
     "name": "stderr",
     "output_type": "stream",
     "text": [
      "An error was encountered:\n",
      "'GroupedData' object has no attribute 'countDistinct'\n",
      "Traceback (most recent call last):\n",
      "AttributeError: 'GroupedData' object has no attribute 'countDistinct'\n",
      "\n"
     ]
    }
   ],
   "source": [
    "df_max.groupby(col('SUBJECT_ID'),col('ICUSTAY_ID'),col('LEVEL2')).countDistinct()"
   ]
  },
  {
   "cell_type": "code",
   "execution_count": 130,
   "id": "hired-steering",
   "metadata": {},
   "outputs": [
    {
     "data": {
      "application/vnd.jupyter.widget-view+json": {
       "model_id": "8427784000374cb7be7adba33024f1ed",
       "version_major": 2,
       "version_minor": 0
      },
      "text/plain": [
       "FloatProgress(value=0.0, bar_style='info', description='Progress:', layout=Layout(height='25px', width='50%'),…"
      ]
     },
     "metadata": {},
     "output_type": "display_data"
    }
   ],
   "source": [
    "df_min = df_min.withColumnRenamed(\"CHARTTIME\",\"CHARTTIME_min\").withColumnRenamed(\"VALUENUM\",\"VALUENUM_min\")\n",
    "df_max = df_max.withColumnRenamed(\"CHARTTIME\",\"CHARTTIME_max\").withColumnRenamed(\"VALUENUM\",\"VALUENUM_max\")"
   ]
  },
  {
   "cell_type": "code",
   "execution_count": 131,
   "id": "activated-estonia",
   "metadata": {},
   "outputs": [
    {
     "data": {
      "application/vnd.jupyter.widget-view+json": {
       "model_id": "b0306a4c9bdd4acd92d6247e004d54b9",
       "version_major": 2,
       "version_minor": 0
      },
      "text/plain": [
       "FloatProgress(value=0.0, bar_style='info', description='Progress:', layout=Layout(height='25px', width='50%'),…"
      ]
     },
     "metadata": {},
     "output_type": "display_data"
    },
    {
     "name": "stdout",
     "output_type": "stream",
     "text": [
      "DataFrame[SUBJECT_ID: int, HADM_ID: int, ICUSTAY_ID: int, ADMITTIME: timestamp, DISCHTIME: timestamp, LOS_Hours: double, CHARTTIME_max: timestamp, LEVEL2: string, VALUENUM_max: double, ADMIT_4: timestamp]"
     ]
    }
   ],
   "source": [
    "df_max"
   ]
  },
  {
   "cell_type": "code",
   "execution_count": 132,
   "id": "smaller-recall",
   "metadata": {},
   "outputs": [
    {
     "data": {
      "application/vnd.jupyter.widget-view+json": {
       "model_id": "9bb835887e4a480399699ce080e3b998",
       "version_major": 2,
       "version_minor": 0
      },
      "text/plain": [
       "FloatProgress(value=0.0, bar_style='info', description='Progress:', layout=Layout(height='25px', width='50%'),…"
      ]
     },
     "metadata": {},
     "output_type": "display_data"
    }
   ],
   "source": [
    "join_features = df_min.join(df_max.select(col(\"SUBJECT_ID\"),col(\"SUBJECT_ID\"),col(\"HADM_ID\"),col(\"ICUSTAY_ID\"),col(\"LEVEL2\")\n",
    "                                         ,col(\"CHARTTIME_max\"),col(\"VALUENUM_max\")), \n",
    "                            on =['SUBJECT_ID','HADM_ID','ICUSTAY_ID','LEVEL2'])"
   ]
  },
  {
   "cell_type": "code",
   "execution_count": null,
   "id": "apparent-memorabilia",
   "metadata": {},
   "outputs": [],
   "source": [
    "join_features.groupby()"
   ]
  },
  {
   "cell_type": "code",
   "execution_count": 134,
   "id": "primary-league",
   "metadata": {},
   "outputs": [
    {
     "data": {
      "application/vnd.jupyter.widget-view+json": {
       "model_id": "8aa4cabc2e46459083c86d18225e6de4",
       "version_major": 2,
       "version_minor": 0
      },
      "text/plain": [
       "FloatProgress(value=0.0, bar_style='info', description='Progress:', layout=Layout(height='25px', width='50%'),…"
      ]
     },
     "metadata": {},
     "output_type": "display_data"
    },
    {
     "name": "stdout",
     "output_type": "stream",
     "text": [
      "+----------+-------+----------+--------------------+-------------------+-------------------+------------------+-------------------+------------+-------------------+-------------------+------------+\n",
      "|SUBJECT_ID|HADM_ID|ICUSTAY_ID|              LEVEL2|          ADMITTIME|          DISCHTIME|         LOS_Hours|      CHARTTIME_min|VALUENUM_min|            ADMIT_4|      CHARTTIME_max|VALUENUM_max|\n",
      "+----------+-------+----------+--------------------+-------------------+-------------------+------------------+-------------------+------------+-------------------+-------------------+------------+\n",
      "|         3| 145834|    211552|          Creatinine|2101-10-20 19:08:00|2101-10-31 13:58:00| 258.8333333333333|2101-10-20 19:26:00|         2.4|2101-10-21 01:08:00|2101-10-20 19:26:00|         2.4|\n",
      "|         9| 150750|    220597|Partial pressure ...|2149-11-09 13:06:00|2149-11-14 10:15:00|            117.15|2149-11-09 17:47:00|        46.0|2149-11-09 19:06:00|2149-11-09 17:47:00|        46.0|\n",
      "|        11| 194540|    229441| Blood urea nitrogen|2178-04-16 06:18:00|2178-05-11 19:00:00|             612.7|2178-04-16 07:12:00|        14.0|2178-04-16 12:18:00|2178-04-16 07:12:00|        14.0|\n",
      "|        17| 161087|    257980|          Hemoglobin|2135-05-09 14:11:00|2135-05-13 14:40:00| 96.48333333333333|2135-05-09 15:13:00|         9.5|2135-05-09 20:11:00|2135-05-09 15:13:00|         9.5|\n",
      "|        18| 188822|    298129|Glascow coma scal...|2167-10-02 11:18:00|2167-10-04 16:15:00|             52.95|2167-10-02 15:00:00|         6.0|2167-10-02 17:18:00|2167-10-02 15:00:00|         6.0|\n",
      "|        20| 157681|    264490|Partial pressure ...|2183-04-28 09:45:00|2183-05-03 14:45:00|             125.0|2183-04-28 14:16:00|       268.0|2183-04-28 15:45:00|2183-04-28 14:16:00|       268.0|\n",
      "|        20| 157681|    264490|                  pH|2183-04-28 09:45:00|2183-05-03 14:45:00|             125.0|2183-04-28 14:16:00|        7.43|2183-04-28 15:45:00|2183-04-28 14:16:00|        7.43|\n",
      "|        22| 165315|    204798|Glascow coma scal...|2196-04-09 12:26:00|2196-04-10 15:54:00|27.466666666666665|2196-04-09 13:30:00|         3.0|2196-04-09 18:26:00|2196-04-09 13:30:00|         3.0|\n",
      "|        23| 152223|    227807| Pupillary size left|2153-09-03 07:15:00|2153-09-08 19:10:00|131.91666666666666|2153-09-03 12:30:00|        null|2153-09-03 13:15:00|2153-09-03 12:30:00|        null|\n",
      "|        25| 129635|    203487|Glascow coma scal...|2160-11-02 02:06:00|2160-11-05 14:55:00| 84.81666666666666|2160-11-02 04:45:00|        15.0|2160-11-02 08:06:00|2160-11-02 04:45:00|        15.0|\n",
      "+----------+-------+----------+--------------------+-------------------+-------------------+------------------+-------------------+------------+-------------------+-------------------+------------+\n",
      "only showing top 10 rows"
     ]
    }
   ],
   "source": [
    "join_features.show(10)"
   ]
  },
  {
   "cell_type": "code",
   "execution_count": 108,
   "id": "knowing-constitutional",
   "metadata": {},
   "outputs": [
    {
     "data": {
      "application/vnd.jupyter.widget-view+json": {
       "model_id": "7f96379d386c430f9fdb7b225427414e",
       "version_major": 2,
       "version_minor": 0
      },
      "text/plain": [
       "FloatProgress(value=0.0, bar_style='info', description='Progress:', layout=Layout(height='25px', width='50%'),…"
      ]
     },
     "metadata": {},
     "output_type": "display_data"
    },
    {
     "name": "stdout",
     "output_type": "stream",
     "text": [
      "4491913"
     ]
    }
   ],
   "source": [
    "test4.count()"
   ]
  },
  {
   "cell_type": "code",
   "execution_count": 110,
   "id": "framed-crash",
   "metadata": {},
   "outputs": [
    {
     "data": {
      "application/vnd.jupyter.widget-view+json": {
       "model_id": "eccdbdc7a74d46de80ff4e5c8858961e",
       "version_major": 2,
       "version_minor": 0
      },
      "text/plain": [
       "FloatProgress(value=0.0, bar_style='info', description='Progress:', layout=Layout(height='25px', width='50%'),…"
      ]
     },
     "metadata": {},
     "output_type": "display_data"
    },
    {
     "name": "stderr",
     "output_type": "stream",
     "text": [
      "Interrupted by user\n"
     ]
    }
   ],
   "source": [
    "test4.write.format(\"csv\").option(\"header\",\"true\").mode(\"Overwrite\").save(\"s3://aws-athena-query-results-441066871063-us-east-1/Patients_Charts\")"
   ]
  },
  {
   "cell_type": "code",
   "execution_count": null,
   "id": "important-banana",
   "metadata": {},
   "outputs": [],
   "source": [
    "test2.write.format(\"csv\").option(\"header\",\"true\").mode(\"Overwrite\").save(\"s3://aws-athena-query-results-441066871063-us-east-1/Patients\")"
   ]
  }
 ],
 "metadata": {
  "kernelspec": {
   "display_name": "Sparkmagic (PySpark)",
   "language": "python",
   "name": "pysparkkernel"
  },
  "language_info": {
   "codemirror_mode": {
    "name": "python",
    "version": 3
   },
   "file_extension": ".py",
   "mimetype": "text/x-python",
   "name": "pyspark",
   "pygments_lexer": "python3"
  }
 },
 "nbformat": 4,
 "nbformat_minor": 5
}
