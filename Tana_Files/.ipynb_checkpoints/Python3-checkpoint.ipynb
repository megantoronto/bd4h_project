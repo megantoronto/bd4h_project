{
 "cells": [
  {
   "cell_type": "code",
   "execution_count": 1,
   "id": "adverse-criterion",
   "metadata": {},
   "outputs": [
    {
     "name": "stdout",
     "output_type": "stream",
     "text": [
      "Cloning into 'mimic3-benchmarks'...\n",
      "remote: Enumerating objects: 1716, done.\u001b[K\n",
      "remote: Total 1716 (delta 0), reused 0 (delta 0), pack-reused 1716\u001b[K\n",
      "Receiving objects: 100% (1716/1716), 11.24 MiB | 26.16 MiB/s, done.\n",
      "Resolving deltas: 100% (1221/1221), done.\n"
     ]
    }
   ],
   "source": [
    "!git clone https://github.com/YerevaNN/mimic3-benchmarks/"
   ]
  },
  {
   "cell_type": "code",
   "execution_count": 1,
   "id": "coordinate-amber",
   "metadata": {},
   "outputs": [
    {
     "name": "stdout",
     "output_type": "stream",
     "text": [
      "Collecting xgboost\n",
      "  Downloading xgboost-1.4.0-py3-none-manylinux2010_x86_64.whl (166.7 MB)\n",
      "\u001b[K     |████████████████████████████████| 166.7 MB 23 kB/s s eta 0:00:01\n",
      "\u001b[?25hRequirement already satisfied: numpy in /home/ec2-user/anaconda3/envs/python3/lib/python3.6/site-packages (from xgboost) (1.19.5)\n",
      "Requirement already satisfied: scipy in /home/ec2-user/anaconda3/envs/python3/lib/python3.6/site-packages (from xgboost) (1.5.3)\n",
      "Installing collected packages: xgboost\n",
      "Successfully installed xgboost-1.4.0\n"
     ]
    }
   ],
   "source": [
    "!pip install xgboost"
   ]
  },
  {
   "cell_type": "code",
   "execution_count": 37,
   "id": "purple-chance",
   "metadata": {},
   "outputs": [
    {
     "name": "stdout",
     "output_type": "stream",
     "text": [
      "Collecting shap\n",
      "  Downloading shap-0.39.0.tar.gz (356 kB)\n",
      "\u001b[K     |████████████████████████████████| 356 kB 16.0 MB/s eta 0:00:01\n",
      "\u001b[?25hRequirement already satisfied: numpy in /home/ec2-user/anaconda3/envs/python3/lib/python3.6/site-packages (from shap) (1.19.5)\n",
      "Requirement already satisfied: scipy in /home/ec2-user/anaconda3/envs/python3/lib/python3.6/site-packages (from shap) (1.5.3)\n",
      "Requirement already satisfied: scikit-learn in /home/ec2-user/anaconda3/envs/python3/lib/python3.6/site-packages (from shap) (0.24.1)\n",
      "Requirement already satisfied: pandas in /home/ec2-user/anaconda3/envs/python3/lib/python3.6/site-packages (from shap) (1.1.5)\n",
      "Collecting tqdm>4.25.0\n",
      "  Downloading tqdm-4.60.0-py2.py3-none-any.whl (75 kB)\n",
      "\u001b[K     |████████████████████████████████| 75 kB 929 kB/s  eta 0:00:01\n",
      "\u001b[?25hCollecting slicer==0.0.7\n",
      "  Downloading slicer-0.0.7-py3-none-any.whl (14 kB)\n",
      "Requirement already satisfied: numba in /home/ec2-user/anaconda3/envs/python3/lib/python3.6/site-packages (from shap) (0.52.0)\n",
      "Requirement already satisfied: cloudpickle in /home/ec2-user/anaconda3/envs/python3/lib/python3.6/site-packages (from shap) (1.6.0)\n",
      "Requirement already satisfied: llvmlite<0.36,>=0.35.0 in /home/ec2-user/anaconda3/envs/python3/lib/python3.6/site-packages (from numba->shap) (0.35.0)\n",
      "Requirement already satisfied: setuptools in /home/ec2-user/anaconda3/envs/python3/lib/python3.6/site-packages (from numba->shap) (49.6.0.post20210108)\n",
      "Requirement already satisfied: python-dateutil>=2.7.3 in /home/ec2-user/anaconda3/envs/python3/lib/python3.6/site-packages (from pandas->shap) (2.8.1)\n",
      "Requirement already satisfied: pytz>=2017.2 in /home/ec2-user/anaconda3/envs/python3/lib/python3.6/site-packages (from pandas->shap) (2021.1)\n",
      "Requirement already satisfied: six>=1.5 in /home/ec2-user/anaconda3/envs/python3/lib/python3.6/site-packages (from python-dateutil>=2.7.3->pandas->shap) (1.15.0)\n",
      "Requirement already satisfied: joblib>=0.11 in /home/ec2-user/anaconda3/envs/python3/lib/python3.6/site-packages (from scikit-learn->shap) (1.0.1)\n",
      "Requirement already satisfied: threadpoolctl>=2.0.0 in /home/ec2-user/anaconda3/envs/python3/lib/python3.6/site-packages (from scikit-learn->shap) (2.1.0)\n",
      "Building wheels for collected packages: shap\n",
      "  Building wheel for shap (setup.py) ... \u001b[?25ldone\n",
      "\u001b[?25h  Created wheel for shap: filename=shap-0.39.0-cp36-cp36m-linux_x86_64.whl size=481361 sha256=be384fbb07b3b19746d336145283aca6b87010a682173899ccaaf40f7c077007\n",
      "  Stored in directory: /home/ec2-user/.cache/pip/wheels/6f/08/25/2992725334291786ea084e06cac493d93049b80e3470318a1b\n",
      "Successfully built shap\n",
      "Installing collected packages: tqdm, slicer, shap\n",
      "Successfully installed shap-0.39.0 slicer-0.0.7 tqdm-4.60.0\n"
     ]
    }
   ],
   "source": [
    "!pip install shap"
   ]
  },
  {
   "cell_type": "code",
   "execution_count": 34,
   "id": "higher-destiny",
   "metadata": {},
   "outputs": [],
   "source": [
    "import pickle\n",
    "import pandas as pd\n",
    "import datetime\n",
    "from datetime import timedelta\n",
    "import numpy as np\n",
    "import matplotlib.pyplot as plt\n",
    "from timeit import default_timer as timer\n",
    "from dateutil.relativedelta import relativedelta\n",
    "def SASDateConvert(inputSeries):\n",
    "    return pd.DatetimeIndex(pd.to_datetime(inputSeries,format='%d%b%Y:%H:%M:%S.%f')).normalize()\n",
    "\n",
    "import statsmodels.api as sm\n",
    "\n",
    "def SASDateNoTimeConvert(inputSeries):\n",
    "    return pd.DatetimeIndex(pd.to_datetime(inputSeries,format='%d%b%Y')).normalize()\n",
    "\n",
    "\n",
    "from sklearn.model_selection import KFold\n",
    "from sklearn.model_selection import train_test_split,GridSearchCV, RandomizedSearchCV, StratifiedKFold\n",
    "\n",
    "from sklearn.ensemble import RandomForestRegressor\n",
    "\n",
    "import seaborn as sns\n",
    "import xgboost as xgb\n",
    "import gc\n",
    "from sklearn.metrics import mean_squared_error, r2_score, mean_absolute_error \n",
    "from sklearn.exceptions import NotFittedError\n"
   ]
  },
  {
   "cell_type": "code",
   "execution_count": 1,
   "id": "personalized-belle",
   "metadata": {},
   "outputs": [],
   "source": [
    "import pandas as pd"
   ]
  },
  {
   "cell_type": "code",
   "execution_count": 14,
   "id": "natural-stock",
   "metadata": {},
   "outputs": [],
   "source": [
    "item_map.to_csv('item_map.csv')"
   ]
  },
  {
   "cell_type": "code",
   "execution_count": 17,
   "id": "trying-maker",
   "metadata": {},
   "outputs": [
    {
     "ename": "TypeError",
     "evalue": "upload_file() got an unexpected keyword argument 'header'",
     "output_type": "error",
     "traceback": [
      "\u001b[0;31m---------------------------------------------------------------------------\u001b[0m",
      "\u001b[0;31mTypeError\u001b[0m                                 Traceback (most recent call last)",
      "\u001b[0;32m<ipython-input-17-7c199b42db23>\u001b[0m in \u001b[0;36m<module>\u001b[0;34m\u001b[0m\n\u001b[1;32m      2\u001b[0m \u001b[0;34m\u001b[0m\u001b[0m\n\u001b[1;32m      3\u001b[0m \u001b[0ms3\u001b[0m \u001b[0;34m=\u001b[0m \u001b[0mboto3\u001b[0m\u001b[0;34m.\u001b[0m\u001b[0mresource\u001b[0m\u001b[0;34m(\u001b[0m\u001b[0;34m's3'\u001b[0m\u001b[0;34m)\u001b[0m\u001b[0;34m\u001b[0m\u001b[0;34m\u001b[0m\u001b[0m\n\u001b[0;32m----> 4\u001b[0;31m \u001b[0ms3\u001b[0m\u001b[0;34m.\u001b[0m\u001b[0mmeta\u001b[0m\u001b[0;34m.\u001b[0m\u001b[0mclient\u001b[0m\u001b[0;34m.\u001b[0m\u001b[0mupload_file\u001b[0m\u001b[0;34m(\u001b[0m\u001b[0;34m'item_map.csv'\u001b[0m\u001b[0;34m,\u001b[0m \u001b[0;34m'aws-athena-query-results-441066871063-us-east-1'\u001b[0m\u001b[0;34m,\u001b[0m \u001b[0;34m'item_map.csv'\u001b[0m\u001b[0;34m,\u001b[0m \u001b[0mheader\u001b[0m\u001b[0;34m=\u001b[0m\u001b[0;32mTrue\u001b[0m\u001b[0;34m)\u001b[0m\u001b[0;34m\u001b[0m\u001b[0;34m\u001b[0m\u001b[0m\n\u001b[0m",
      "\u001b[0;31mTypeError\u001b[0m: upload_file() got an unexpected keyword argument 'header'"
     ]
    }
   ],
   "source": [
    "import boto3\n",
    "\n",
    "s3 = boto3.resource('s3')\n",
    "s3.meta.client.upload_file('item_map.csv', 'aws-athena-query-results-441066871063-us-east-1', 'item_map.csv')"
   ]
  },
  {
   "cell_type": "code",
   "execution_count": 4,
   "id": "efficient-strip",
   "metadata": {},
   "outputs": [],
   "source": [
    "import boto3\n",
    "import io\n"
   ]
  },
  {
   "cell_type": "code",
   "execution_count": 14,
   "id": "interpreted-isaac",
   "metadata": {},
   "outputs": [],
   "source": [
    "s3 = boto3.resource('s3')\n",
    "bucket = s3.Bucket('aws-athena-query-results-441066871063-us-east-1')\n",
    "prefix_objs = bucket.objects.filter(Prefix=\"all_columns/part-\")\n",
    "prefix_df = pd.DataFrame()\n",
    "\n",
    "for obj in prefix_objs:\n",
    "    key = obj.key\n",
    "    body = obj.get()['Body'].read()\n",
    "    temp = pd.read_csv(io.BytesIO(body), encoding='utf8')        \n",
    "    prefix_df = pd.concat([prefix_df,temp], axis = 0)"
   ]
  },
  {
   "cell_type": "code",
   "execution_count": 16,
   "id": "talented-equilibrium",
   "metadata": {},
   "outputs": [],
   "source": [
    "prefix_df = prefix_df.reset_index()"
   ]
  },
  {
   "cell_type": "code",
   "execution_count": 35,
   "id": "empty-creek",
   "metadata": {},
   "outputs": [],
   "source": [
    "prefix_df.to_pickle('patient_data.pkl')"
   ]
  },
  {
   "cell_type": "code",
   "execution_count": 22,
   "id": "toxic-contract",
   "metadata": {},
   "outputs": [
    {
     "data": {
      "text/plain": [
       "Index(['index', 'SUBJECT_ID', 'HADM_ID', 'ICUSTAY_ID', 'LOS', 'ADMITTIME',\n",
       "       'DISCHTIME', 'DIAGNOSIS', 'AGE', 'Capillary_refill_rate__VALUENUM_min',\n",
       "       'Capillary_refill_rate__percent_change',\n",
       "       'Diastolic_blood_pressure__VALUENUM_min',\n",
       "       'Diastolic_blood_pressure__percent_change',\n",
       "       'Fraction_inspired_oxygen__VALUENUM_min',\n",
       "       'Fraction_inspired_oxygen__percent_change',\n",
       "       'Glascow_coma_scale_eye_opening__VALUENUM_min',\n",
       "       'Glascow_coma_scale_eye_opening__percent_change',\n",
       "       'Glascow_coma_scale_motor_response__VALUENUM_min',\n",
       "       'Glascow_coma_scale_motor_response__percent_change',\n",
       "       'Glascow_coma_scale_total__VALUENUM_min',\n",
       "       'Glascow_coma_scale_total__percent_change',\n",
       "       'Glascow_coma_scale_verbal_response__VALUENUM_min',\n",
       "       'Glascow_coma_scale_verbal_response__percent_change',\n",
       "       'Glucose__VALUENUM_min', 'Glucose__percent_change',\n",
       "       'Heart_Rate__VALUENUM_min', 'Heart_Rate__percent_change',\n",
       "       'Height__VALUENUM_min', 'Height__percent_change',\n",
       "       'Mean_blood_pressure__VALUENUM_min',\n",
       "       'Mean_blood_pressure__percent_change',\n",
       "       'Oxygen_saturation__VALUENUM_min', 'Oxygen_saturation__percent_change',\n",
       "       'Respiratory_rate__VALUENUM_min', 'Respiratory_rate__percent_change',\n",
       "       'Systolic_blood_pressure__VALUENUM_min',\n",
       "       'Systolic_blood_pressure__percent_change', 'Temperature__VALUENUM_min',\n",
       "       'Temperature__percent_change', 'Weight__VALUENUM_min',\n",
       "       'Weight__percent_change', 'pH__VALUENUM_min', 'pH__percent_change',\n",
       "       'Asian', 'Black', 'Hispanic', 'Other_Eth', 'Unknown', 'White',\n",
       "       'Catholic', 'Episcopalian', 'Jewish', 'Other_Rel', 'ProtestantQuaker',\n",
       "       'Unknown_Rel', 'Divorced', 'Married', 'Other_Mar', 'Separated',\n",
       "       'Single', 'Widowed', 'F', 'M', 'Government', 'Medicaid', 'Medicare',\n",
       "       'Private', 'Self Pay'],\n",
       "      dtype='object')"
      ]
     },
     "execution_count": 22,
     "metadata": {},
     "output_type": "execute_result"
    }
   ],
   "source": [
    "prefix_df.columns"
   ]
  },
  {
   "cell_type": "code",
   "execution_count": null,
   "id": "comic-platinum",
   "metadata": {},
   "outputs": [],
   "source": [
    "def read_icd_diagnoses_table(mimic3_path):\n",
    "    codes = dataframe_from_csv(os.path.join(mimic3_path, 'D_ICD_DIAGNOSES.csv'))\n",
    "    codes = codes[['ICD9_CODE', 'SHORT_TITLE', 'LONG_TITLE']]\n",
    "    diagnoses = dataframe_from_csv(os.path.join(mimic3_path, 'DIAGNOSES_ICD.csv'))\n",
    "    diagnoses = diagnoses.merge(codes, how='inner', left_on='ICD9_CODE', right_on='ICD9_CODE')\n",
    "    diagnoses[['SUBJECT_ID', 'HADM_ID', 'SEQ_NUM']] = diagnoses[['SUBJECT_ID', 'HADM_ID', 'SEQ_NUM']].astype(int)\n",
    "    return diagnoses\n"
   ]
  },
  {
   "cell_type": "code",
   "execution_count": 25,
   "id": "statewide-guest",
   "metadata": {},
   "outputs": [
    {
     "data": {
      "text/html": [
       "<div>\n",
       "<style scoped>\n",
       "    .dataframe tbody tr th:only-of-type {\n",
       "        vertical-align: middle;\n",
       "    }\n",
       "\n",
       "    .dataframe tbody tr th {\n",
       "        vertical-align: top;\n",
       "    }\n",
       "\n",
       "    .dataframe thead th {\n",
       "        text-align: right;\n",
       "    }\n",
       "</style>\n",
       "<table border=\"1\" class=\"dataframe\">\n",
       "  <thead>\n",
       "    <tr style=\"text-align: right;\">\n",
       "      <th></th>\n",
       "      <th>DIAGNOSIS</th>\n",
       "    </tr>\n",
       "  </thead>\n",
       "  <tbody>\n",
       "    <tr>\n",
       "      <th>0</th>\n",
       "      <td>SEPSIS;TELEMETRY</td>\n",
       "    </tr>\n",
       "    <tr>\n",
       "      <th>1</th>\n",
       "      <td>CORONARY ARTERY DISEASE</td>\n",
       "    </tr>\n",
       "    <tr>\n",
       "      <th>2</th>\n",
       "      <td>SEPSIS</td>\n",
       "    </tr>\n",
       "    <tr>\n",
       "      <th>3</th>\n",
       "      <td>S/P MOTOR VEHICLE ACCIDENT</td>\n",
       "    </tr>\n",
       "    <tr>\n",
       "      <th>4</th>\n",
       "      <td>EXPLORATORY LAPAROTOMY FOR SMALL BOWEL OBSTRUC...</td>\n",
       "    </tr>\n",
       "    <tr>\n",
       "      <th>5</th>\n",
       "      <td>CAROTID STENOSIS\\CAROTID STENT</td>\n",
       "    </tr>\n",
       "    <tr>\n",
       "      <th>6</th>\n",
       "      <td>PNEUMONIA,SEPSIS</td>\n",
       "    </tr>\n",
       "    <tr>\n",
       "      <th>7</th>\n",
       "      <td>SEPSIS</td>\n",
       "    </tr>\n",
       "    <tr>\n",
       "      <th>8</th>\n",
       "      <td>AORTIC STENOSIS\\AORTIC VALVE REPLACEMENT; ? CA...</td>\n",
       "    </tr>\n",
       "    <tr>\n",
       "      <th>9</th>\n",
       "      <td>AORTIC INSUFFICIENCY\\BENTAL PROCEDURE /SDA</td>\n",
       "    </tr>\n",
       "    <tr>\n",
       "      <th>10</th>\n",
       "      <td>ALTERED MENTAL STATUS</td>\n",
       "    </tr>\n",
       "    <tr>\n",
       "      <th>11</th>\n",
       "      <td>S/P MOTOR VEHICLE ACCIDENT;FACIAL FRACTURES</td>\n",
       "    </tr>\n",
       "    <tr>\n",
       "      <th>12</th>\n",
       "      <td>BREAST CANCER;TRACHEAL STENOSIS</td>\n",
       "    </tr>\n",
       "    <tr>\n",
       "      <th>13</th>\n",
       "      <td>NON Q MI\\CATH</td>\n",
       "    </tr>\n",
       "    <tr>\n",
       "      <th>14</th>\n",
       "      <td>S/P FALL</td>\n",
       "    </tr>\n",
       "    <tr>\n",
       "      <th>15</th>\n",
       "      <td>LOWER GASTROINTESTINAL BLEED</td>\n",
       "    </tr>\n",
       "    <tr>\n",
       "      <th>16</th>\n",
       "      <td>DELTA MENTAL STATUS CHANGES</td>\n",
       "    </tr>\n",
       "    <tr>\n",
       "      <th>17</th>\n",
       "      <td>RESPIRATORY FAILURE</td>\n",
       "    </tr>\n",
       "    <tr>\n",
       "      <th>18</th>\n",
       "      <td>STATUS POST MOTOR VEHICLE ACCIDENT WITH INJURIES</td>\n",
       "    </tr>\n",
       "    <tr>\n",
       "      <th>19</th>\n",
       "      <td>STEMI</td>\n",
       "    </tr>\n",
       "    <tr>\n",
       "      <th>20</th>\n",
       "      <td>S/P MOTORCYCLE ACCIDENT</td>\n",
       "    </tr>\n",
       "    <tr>\n",
       "      <th>21</th>\n",
       "      <td>CORONARY ARTERY DISEASE\\CORONARY ARTERY BYPASS...</td>\n",
       "    </tr>\n",
       "    <tr>\n",
       "      <th>22</th>\n",
       "      <td>HEPATIC ENCEPHALOPATHY</td>\n",
       "    </tr>\n",
       "    <tr>\n",
       "      <th>23</th>\n",
       "      <td>PNEUMONIA</td>\n",
       "    </tr>\n",
       "    <tr>\n",
       "      <th>24</th>\n",
       "      <td>S/P EXP. LAP;SPLEENECTOMY</td>\n",
       "    </tr>\n",
       "    <tr>\n",
       "      <th>25</th>\n",
       "      <td>MOTORCYCLE CRASH</td>\n",
       "    </tr>\n",
       "    <tr>\n",
       "      <th>26</th>\n",
       "      <td>SUBARACHNOID HEMORRHAGE</td>\n",
       "    </tr>\n",
       "    <tr>\n",
       "      <th>27</th>\n",
       "      <td>PULMONARY EMBOLUS</td>\n",
       "    </tr>\n",
       "    <tr>\n",
       "      <th>28</th>\n",
       "      <td>ALTERED MENTAL STATUS</td>\n",
       "    </tr>\n",
       "    <tr>\n",
       "      <th>29</th>\n",
       "      <td>CARDIAC CATH, S/P MYOCARDIAL INFARCTION</td>\n",
       "    </tr>\n",
       "  </tbody>\n",
       "</table>\n",
       "</div>"
      ],
      "text/plain": [
       "                                            DIAGNOSIS\n",
       "0                                    SEPSIS;TELEMETRY\n",
       "1                             CORONARY ARTERY DISEASE\n",
       "2                                              SEPSIS\n",
       "3                          S/P MOTOR VEHICLE ACCIDENT\n",
       "4   EXPLORATORY LAPAROTOMY FOR SMALL BOWEL OBSTRUC...\n",
       "5                      CAROTID STENOSIS\\CAROTID STENT\n",
       "6                                    PNEUMONIA,SEPSIS\n",
       "7                                              SEPSIS\n",
       "8   AORTIC STENOSIS\\AORTIC VALVE REPLACEMENT; ? CA...\n",
       "9          AORTIC INSUFFICIENCY\\BENTAL PROCEDURE /SDA\n",
       "10                              ALTERED MENTAL STATUS\n",
       "11        S/P MOTOR VEHICLE ACCIDENT;FACIAL FRACTURES\n",
       "12                    BREAST CANCER;TRACHEAL STENOSIS\n",
       "13                                      NON Q MI\\CATH\n",
       "14                                           S/P FALL\n",
       "15                       LOWER GASTROINTESTINAL BLEED\n",
       "16                        DELTA MENTAL STATUS CHANGES\n",
       "17                                RESPIRATORY FAILURE\n",
       "18   STATUS POST MOTOR VEHICLE ACCIDENT WITH INJURIES\n",
       "19                                              STEMI\n",
       "20                            S/P MOTORCYCLE ACCIDENT\n",
       "21  CORONARY ARTERY DISEASE\\CORONARY ARTERY BYPASS...\n",
       "22                             HEPATIC ENCEPHALOPATHY\n",
       "23                                          PNEUMONIA\n",
       "24                          S/P EXP. LAP;SPLEENECTOMY\n",
       "25                                   MOTORCYCLE CRASH\n",
       "26                            SUBARACHNOID HEMORRHAGE\n",
       "27                                  PULMONARY EMBOLUS\n",
       "28                              ALTERED MENTAL STATUS\n",
       "29            CARDIAC CATH, S/P MYOCARDIAL INFARCTION"
      ]
     },
     "execution_count": 25,
     "metadata": {},
     "output_type": "execute_result"
    }
   ],
   "source": [
    "prefix_df[['DIAGNOSIS']].head(30)"
   ]
  },
  {
   "cell_type": "code",
   "execution_count": 23,
   "id": "proprietary-anatomy",
   "metadata": {},
   "outputs": [
    {
     "data": {
      "text/html": [
       "<div>\n",
       "<style scoped>\n",
       "    .dataframe tbody tr th:only-of-type {\n",
       "        vertical-align: middle;\n",
       "    }\n",
       "\n",
       "    .dataframe tbody tr th {\n",
       "        vertical-align: top;\n",
       "    }\n",
       "\n",
       "    .dataframe thead th {\n",
       "        text-align: right;\n",
       "    }\n",
       "</style>\n",
       "<table border=\"1\" class=\"dataframe\">\n",
       "  <thead>\n",
       "    <tr style=\"text-align: right;\">\n",
       "      <th></th>\n",
       "      <th>Heart_Rate__VALUENUM_min</th>\n",
       "      <th>Heart_Rate__percent_change</th>\n",
       "    </tr>\n",
       "  </thead>\n",
       "  <tbody>\n",
       "    <tr>\n",
       "      <th>0</th>\n",
       "      <td>100.0</td>\n",
       "      <td>-0.370000</td>\n",
       "    </tr>\n",
       "    <tr>\n",
       "      <th>1</th>\n",
       "      <td>86.0</td>\n",
       "      <td>-0.093023</td>\n",
       "    </tr>\n",
       "    <tr>\n",
       "      <th>2</th>\n",
       "      <td>115.0</td>\n",
       "      <td>-0.269565</td>\n",
       "    </tr>\n",
       "    <tr>\n",
       "      <th>3</th>\n",
       "      <td>66.0</td>\n",
       "      <td>0.090909</td>\n",
       "    </tr>\n",
       "    <tr>\n",
       "      <th>4</th>\n",
       "      <td>82.0</td>\n",
       "      <td>0.060976</td>\n",
       "    </tr>\n",
       "  </tbody>\n",
       "</table>\n",
       "</div>"
      ],
      "text/plain": [
       "   Heart_Rate__VALUENUM_min  Heart_Rate__percent_change\n",
       "0                     100.0                   -0.370000\n",
       "1                      86.0                   -0.093023\n",
       "2                     115.0                   -0.269565\n",
       "3                      66.0                    0.090909\n",
       "4                      82.0                    0.060976"
      ]
     },
     "execution_count": 23,
     "metadata": {},
     "output_type": "execute_result"
    }
   ],
   "source": [
    "prefix_df[['Heart_Rate__VALUENUM_min', 'Heart_Rate__percent_change']].head()\n"
   ]
  },
  {
   "cell_type": "code",
   "execution_count": 21,
   "id": "interpreted-revolution",
   "metadata": {},
   "outputs": [
    {
     "data": {
      "text/html": [
       "<div>\n",
       "<style scoped>\n",
       "    .dataframe tbody tr th:only-of-type {\n",
       "        vertical-align: middle;\n",
       "    }\n",
       "\n",
       "    .dataframe tbody tr th {\n",
       "        vertical-align: top;\n",
       "    }\n",
       "\n",
       "    .dataframe thead th {\n",
       "        text-align: right;\n",
       "    }\n",
       "</style>\n",
       "<table border=\"1\" class=\"dataframe\">\n",
       "  <thead>\n",
       "    <tr style=\"text-align: right;\">\n",
       "      <th></th>\n",
       "      <th>index</th>\n",
       "      <th>SUBJECT_ID</th>\n",
       "      <th>HADM_ID</th>\n",
       "      <th>ICUSTAY_ID</th>\n",
       "      <th>LOS</th>\n",
       "      <th>ADMITTIME</th>\n",
       "      <th>DISCHTIME</th>\n",
       "      <th>DIAGNOSIS</th>\n",
       "      <th>AGE</th>\n",
       "      <th>Capillary_refill_rate__VALUENUM_min</th>\n",
       "      <th>...</th>\n",
       "      <th>Separated</th>\n",
       "      <th>Single</th>\n",
       "      <th>Widowed</th>\n",
       "      <th>F</th>\n",
       "      <th>M</th>\n",
       "      <th>Government</th>\n",
       "      <th>Medicaid</th>\n",
       "      <th>Medicare</th>\n",
       "      <th>Private</th>\n",
       "      <th>Self Pay</th>\n",
       "    </tr>\n",
       "  </thead>\n",
       "  <tbody>\n",
       "    <tr>\n",
       "      <th>36</th>\n",
       "      <td>36</td>\n",
       "      <td>1832</td>\n",
       "      <td>176044</td>\n",
       "      <td>272738</td>\n",
       "      <td>7.1729</td>\n",
       "      <td>2148-06-13T18:28:00.000Z</td>\n",
       "      <td>2148-06-20T22:38:00.000Z</td>\n",
       "      <td>CONGESTIVE HEART FAILURE;HYPOTENSION</td>\n",
       "      <td>84.060233</td>\n",
       "      <td>0.0</td>\n",
       "      <td>...</td>\n",
       "      <td>NaN</td>\n",
       "      <td>NaN</td>\n",
       "      <td>NaN</td>\n",
       "      <td>NaN</td>\n",
       "      <td>1.0</td>\n",
       "      <td>NaN</td>\n",
       "      <td>NaN</td>\n",
       "      <td>1.0</td>\n",
       "      <td>NaN</td>\n",
       "      <td>NaN</td>\n",
       "    </tr>\n",
       "    <tr>\n",
       "      <th>193</th>\n",
       "      <td>193</td>\n",
       "      <td>9805</td>\n",
       "      <td>188132</td>\n",
       "      <td>259006</td>\n",
       "      <td>2.6471</td>\n",
       "      <td>2130-02-03T09:08:00.000Z</td>\n",
       "      <td>2130-02-09T17:20:00.000Z</td>\n",
       "      <td>GASTROINTESTINAL BLEED</td>\n",
       "      <td>69.106092</td>\n",
       "      <td>0.0</td>\n",
       "      <td>...</td>\n",
       "      <td>NaN</td>\n",
       "      <td>NaN</td>\n",
       "      <td>NaN</td>\n",
       "      <td>NaN</td>\n",
       "      <td>1.0</td>\n",
       "      <td>NaN</td>\n",
       "      <td>NaN</td>\n",
       "      <td>1.0</td>\n",
       "      <td>NaN</td>\n",
       "      <td>NaN</td>\n",
       "    </tr>\n",
       "    <tr>\n",
       "      <th>213</th>\n",
       "      <td>213</td>\n",
       "      <td>10468</td>\n",
       "      <td>172565</td>\n",
       "      <td>220776</td>\n",
       "      <td>0.9978</td>\n",
       "      <td>2115-10-29T00:58:00.000Z</td>\n",
       "      <td>2115-10-29T12:00:00.000Z</td>\n",
       "      <td>ABDOMINAL AORTIC ANEURYSM</td>\n",
       "      <td>86.321697</td>\n",
       "      <td>1.0</td>\n",
       "      <td>...</td>\n",
       "      <td>NaN</td>\n",
       "      <td>NaN</td>\n",
       "      <td>NaN</td>\n",
       "      <td>1.0</td>\n",
       "      <td>NaN</td>\n",
       "      <td>NaN</td>\n",
       "      <td>NaN</td>\n",
       "      <td>1.0</td>\n",
       "      <td>NaN</td>\n",
       "      <td>NaN</td>\n",
       "    </tr>\n",
       "    <tr>\n",
       "      <th>386</th>\n",
       "      <td>386</td>\n",
       "      <td>18931</td>\n",
       "      <td>117563</td>\n",
       "      <td>292276</td>\n",
       "      <td>2.3834</td>\n",
       "      <td>2174-11-30T11:20:00.000Z</td>\n",
       "      <td>2174-12-06T17:45:00.000Z</td>\n",
       "      <td>MYOCARDIAL INFARCTION\\CATH</td>\n",
       "      <td>58.286105</td>\n",
       "      <td>0.0</td>\n",
       "      <td>...</td>\n",
       "      <td>NaN</td>\n",
       "      <td>NaN</td>\n",
       "      <td>NaN</td>\n",
       "      <td>NaN</td>\n",
       "      <td>1.0</td>\n",
       "      <td>NaN</td>\n",
       "      <td>1.0</td>\n",
       "      <td>NaN</td>\n",
       "      <td>NaN</td>\n",
       "      <td>NaN</td>\n",
       "    </tr>\n",
       "    <tr>\n",
       "      <th>419</th>\n",
       "      <td>419</td>\n",
       "      <td>20575</td>\n",
       "      <td>141116</td>\n",
       "      <td>254624</td>\n",
       "      <td>6.9747</td>\n",
       "      <td>2146-12-02T07:15:00.000Z</td>\n",
       "      <td>2146-12-13T15:55:00.000Z</td>\n",
       "      <td>CORONARY ARTERY DISEASE\\CORONARY ARTERY BYPASS...</td>\n",
       "      <td>57.002053</td>\n",
       "      <td>0.0</td>\n",
       "      <td>...</td>\n",
       "      <td>NaN</td>\n",
       "      <td>NaN</td>\n",
       "      <td>NaN</td>\n",
       "      <td>NaN</td>\n",
       "      <td>1.0</td>\n",
       "      <td>NaN</td>\n",
       "      <td>NaN</td>\n",
       "      <td>NaN</td>\n",
       "      <td>1.0</td>\n",
       "      <td>NaN</td>\n",
       "    </tr>\n",
       "  </tbody>\n",
       "</table>\n",
       "<p>5 rows × 68 columns</p>\n",
       "</div>"
      ],
      "text/plain": [
       "     index  SUBJECT_ID  HADM_ID  ICUSTAY_ID     LOS                 ADMITTIME  \\\n",
       "36      36        1832   176044      272738  7.1729  2148-06-13T18:28:00.000Z   \n",
       "193    193        9805   188132      259006  2.6471  2130-02-03T09:08:00.000Z   \n",
       "213    213       10468   172565      220776  0.9978  2115-10-29T00:58:00.000Z   \n",
       "386    386       18931   117563      292276  2.3834  2174-11-30T11:20:00.000Z   \n",
       "419    419       20575   141116      254624  6.9747  2146-12-02T07:15:00.000Z   \n",
       "\n",
       "                    DISCHTIME  \\\n",
       "36   2148-06-20T22:38:00.000Z   \n",
       "193  2130-02-09T17:20:00.000Z   \n",
       "213  2115-10-29T12:00:00.000Z   \n",
       "386  2174-12-06T17:45:00.000Z   \n",
       "419  2146-12-13T15:55:00.000Z   \n",
       "\n",
       "                                             DIAGNOSIS        AGE  \\\n",
       "36                CONGESTIVE HEART FAILURE;HYPOTENSION  84.060233   \n",
       "193                             GASTROINTESTINAL BLEED  69.106092   \n",
       "213                          ABDOMINAL AORTIC ANEURYSM  86.321697   \n",
       "386                         MYOCARDIAL INFARCTION\\CATH  58.286105   \n",
       "419  CORONARY ARTERY DISEASE\\CORONARY ARTERY BYPASS...  57.002053   \n",
       "\n",
       "     Capillary_refill_rate__VALUENUM_min  ...  Separated  Single  Widowed  \\\n",
       "36                                   0.0  ...        NaN     NaN      NaN   \n",
       "193                                  0.0  ...        NaN     NaN      NaN   \n",
       "213                                  1.0  ...        NaN     NaN      NaN   \n",
       "386                                  0.0  ...        NaN     NaN      NaN   \n",
       "419                                  0.0  ...        NaN     NaN      NaN   \n",
       "\n",
       "       F    M  Government  Medicaid  Medicare  Private  Self Pay  \n",
       "36   NaN  1.0         NaN       NaN       1.0      NaN       NaN  \n",
       "193  NaN  1.0         NaN       NaN       1.0      NaN       NaN  \n",
       "213  1.0  NaN         NaN       NaN       1.0      NaN       NaN  \n",
       "386  NaN  1.0         NaN       1.0       NaN      NaN       NaN  \n",
       "419  NaN  1.0         NaN       NaN       NaN      1.0       NaN  \n",
       "\n",
       "[5 rows x 68 columns]"
      ]
     },
     "execution_count": 21,
     "metadata": {},
     "output_type": "execute_result"
    }
   ],
   "source": [
    "prefix_df[prefix_df[\"Capillary_refill_rate__VALUENUM_min\"].notnull()].head()"
   ]
  },
  {
   "cell_type": "code",
   "execution_count": 96,
   "id": "after-romantic",
   "metadata": {},
   "outputs": [
    {
     "data": {
      "text/plain": [
       "Index(['index', 'SUBJECT_ID', 'HADM_ID', 'ICUSTAY_ID', 'LOS', 'ADMITTIME',\n",
       "       'DISCHTIME', 'DIAGNOSIS', 'AGE', 'Capillary_refill_rate__VALUENUM_min',\n",
       "       'Capillary_refill_rate__percent_change',\n",
       "       'Diastolic_blood_pressure__VALUENUM_min',\n",
       "       'Diastolic_blood_pressure__percent_change',\n",
       "       'Fraction_inspired_oxygen__VALUENUM_min',\n",
       "       'Fraction_inspired_oxygen__percent_change',\n",
       "       'Glascow_coma_scale_eye_opening__VALUENUM_min',\n",
       "       'Glascow_coma_scale_eye_opening__percent_change',\n",
       "       'Glascow_coma_scale_motor_response__VALUENUM_min',\n",
       "       'Glascow_coma_scale_motor_response__percent_change',\n",
       "       'Glascow_coma_scale_total__VALUENUM_min',\n",
       "       'Glascow_coma_scale_total__percent_change',\n",
       "       'Glascow_coma_scale_verbal_response__VALUENUM_min',\n",
       "       'Glascow_coma_scale_verbal_response__percent_change',\n",
       "       'Glucose__VALUENUM_min', 'Glucose__percent_change',\n",
       "       'Heart_Rate__VALUENUM_min', 'Heart_Rate__percent_change',\n",
       "       'Height__VALUENUM_min', 'Height__percent_change',\n",
       "       'Mean_blood_pressure__VALUENUM_min',\n",
       "       'Mean_blood_pressure__percent_change',\n",
       "       'Oxygen_saturation__VALUENUM_min', 'Oxygen_saturation__percent_change',\n",
       "       'Respiratory_rate__VALUENUM_min', 'Respiratory_rate__percent_change',\n",
       "       'Systolic_blood_pressure__VALUENUM_min',\n",
       "       'Systolic_blood_pressure__percent_change', 'Temperature__VALUENUM_min',\n",
       "       'Temperature__percent_change', 'Weight__VALUENUM_min',\n",
       "       'Weight__percent_change', 'pH__VALUENUM_min', 'pH__percent_change',\n",
       "       'Asian', 'Black', 'Hispanic', 'Other_Eth', 'Unknown', 'White',\n",
       "       'Catholic', 'Episcopalian', 'Jewish', 'Other_Rel', 'ProtestantQuaker',\n",
       "       'Unknown_Rel', 'Divorced', 'Married', 'Other_Mar', 'Separated',\n",
       "       'Single', 'Widowed', 'F', 'M', 'Government', 'Medicaid', 'Medicare',\n",
       "       'Private', 'Self Pay'],\n",
       "      dtype='object')"
      ]
     },
     "execution_count": 96,
     "metadata": {},
     "output_type": "execute_result"
    }
   ],
   "source": [
    "prefix_df.columns"
   ]
  },
  {
   "cell_type": "code",
   "execution_count": 97,
   "id": "considerable-donna",
   "metadata": {},
   "outputs": [],
   "source": [
    "prefix_df.update(prefix_df[['Asian', 'Black', 'Hispanic', 'Other_Eth', 'Unknown', 'White',\n",
    "       'Catholic', 'Episcopalian', 'Jewish', 'Other_Rel', 'ProtestantQuaker',\n",
    "       'Unknown_Rel', 'Divorced', 'Married', 'Other_Mar', 'Separated',\n",
    "       'Single', 'Widowed', 'F', 'M', 'Government', 'Medicaid', 'Medicare',\n",
    "       'Private', 'Self Pay']].fillna(0))"
   ]
  },
  {
   "cell_type": "code",
   "execution_count": 100,
   "id": "liberal-workstation",
   "metadata": {},
   "outputs": [
    {
     "data": {
      "text/html": [
       "<div>\n",
       "<style scoped>\n",
       "    .dataframe tbody tr th:only-of-type {\n",
       "        vertical-align: middle;\n",
       "    }\n",
       "\n",
       "    .dataframe tbody tr th {\n",
       "        vertical-align: top;\n",
       "    }\n",
       "\n",
       "    .dataframe thead th {\n",
       "        text-align: right;\n",
       "    }\n",
       "</style>\n",
       "<table border=\"1\" class=\"dataframe\">\n",
       "  <thead>\n",
       "    <tr style=\"text-align: right;\">\n",
       "      <th></th>\n",
       "      <th>Capillary_refill_rate__VALUENUM_min</th>\n",
       "      <th>Asian</th>\n",
       "      <th>Black</th>\n",
       "      <th>Hispanic</th>\n",
       "      <th>Other_Eth</th>\n",
       "      <th>Unknown</th>\n",
       "      <th>White</th>\n",
       "      <th>Catholic</th>\n",
       "      <th>Episcopalian</th>\n",
       "      <th>Jewish</th>\n",
       "      <th>...</th>\n",
       "      <th>Separated</th>\n",
       "      <th>Single</th>\n",
       "      <th>Widowed</th>\n",
       "      <th>F</th>\n",
       "      <th>M</th>\n",
       "      <th>Government</th>\n",
       "      <th>Medicaid</th>\n",
       "      <th>Medicare</th>\n",
       "      <th>Private</th>\n",
       "      <th>Self Pay</th>\n",
       "    </tr>\n",
       "  </thead>\n",
       "  <tbody>\n",
       "    <tr>\n",
       "      <th>0</th>\n",
       "      <td>NaN</td>\n",
       "      <td>0.0</td>\n",
       "      <td>0.0</td>\n",
       "      <td>0.0</td>\n",
       "      <td>0.0</td>\n",
       "      <td>1.0</td>\n",
       "      <td>0.0</td>\n",
       "      <td>0.0</td>\n",
       "      <td>0.0</td>\n",
       "      <td>0.0</td>\n",
       "      <td>...</td>\n",
       "      <td>0.0</td>\n",
       "      <td>0.0</td>\n",
       "      <td>0.0</td>\n",
       "      <td>0.0</td>\n",
       "      <td>1.0</td>\n",
       "      <td>0.0</td>\n",
       "      <td>0.0</td>\n",
       "      <td>1.0</td>\n",
       "      <td>0.0</td>\n",
       "      <td>0.0</td>\n",
       "    </tr>\n",
       "    <tr>\n",
       "      <th>1</th>\n",
       "      <td>NaN</td>\n",
       "      <td>0.0</td>\n",
       "      <td>0.0</td>\n",
       "      <td>0.0</td>\n",
       "      <td>0.0</td>\n",
       "      <td>0.0</td>\n",
       "      <td>1.0</td>\n",
       "      <td>0.0</td>\n",
       "      <td>0.0</td>\n",
       "      <td>1.0</td>\n",
       "      <td>...</td>\n",
       "      <td>0.0</td>\n",
       "      <td>0.0</td>\n",
       "      <td>1.0</td>\n",
       "      <td>1.0</td>\n",
       "      <td>0.0</td>\n",
       "      <td>0.0</td>\n",
       "      <td>0.0</td>\n",
       "      <td>1.0</td>\n",
       "      <td>0.0</td>\n",
       "      <td>0.0</td>\n",
       "    </tr>\n",
       "    <tr>\n",
       "      <th>2</th>\n",
       "      <td>NaN</td>\n",
       "      <td>0.0</td>\n",
       "      <td>0.0</td>\n",
       "      <td>0.0</td>\n",
       "      <td>0.0</td>\n",
       "      <td>0.0</td>\n",
       "      <td>1.0</td>\n",
       "      <td>1.0</td>\n",
       "      <td>0.0</td>\n",
       "      <td>0.0</td>\n",
       "      <td>...</td>\n",
       "      <td>0.0</td>\n",
       "      <td>1.0</td>\n",
       "      <td>0.0</td>\n",
       "      <td>0.0</td>\n",
       "      <td>1.0</td>\n",
       "      <td>0.0</td>\n",
       "      <td>0.0</td>\n",
       "      <td>1.0</td>\n",
       "      <td>0.0</td>\n",
       "      <td>0.0</td>\n",
       "    </tr>\n",
       "    <tr>\n",
       "      <th>3</th>\n",
       "      <td>NaN</td>\n",
       "      <td>0.0</td>\n",
       "      <td>0.0</td>\n",
       "      <td>0.0</td>\n",
       "      <td>0.0</td>\n",
       "      <td>0.0</td>\n",
       "      <td>1.0</td>\n",
       "      <td>1.0</td>\n",
       "      <td>0.0</td>\n",
       "      <td>0.0</td>\n",
       "      <td>...</td>\n",
       "      <td>0.0</td>\n",
       "      <td>0.0</td>\n",
       "      <td>0.0</td>\n",
       "      <td>0.0</td>\n",
       "      <td>1.0</td>\n",
       "      <td>0.0</td>\n",
       "      <td>0.0</td>\n",
       "      <td>0.0</td>\n",
       "      <td>1.0</td>\n",
       "      <td>0.0</td>\n",
       "    </tr>\n",
       "    <tr>\n",
       "      <th>4</th>\n",
       "      <td>NaN</td>\n",
       "      <td>0.0</td>\n",
       "      <td>0.0</td>\n",
       "      <td>0.0</td>\n",
       "      <td>1.0</td>\n",
       "      <td>0.0</td>\n",
       "      <td>0.0</td>\n",
       "      <td>0.0</td>\n",
       "      <td>0.0</td>\n",
       "      <td>0.0</td>\n",
       "      <td>...</td>\n",
       "      <td>0.0</td>\n",
       "      <td>0.0</td>\n",
       "      <td>0.0</td>\n",
       "      <td>0.0</td>\n",
       "      <td>1.0</td>\n",
       "      <td>0.0</td>\n",
       "      <td>0.0</td>\n",
       "      <td>0.0</td>\n",
       "      <td>1.0</td>\n",
       "      <td>0.0</td>\n",
       "    </tr>\n",
       "    <tr>\n",
       "      <th>...</th>\n",
       "      <td>...</td>\n",
       "      <td>...</td>\n",
       "      <td>...</td>\n",
       "      <td>...</td>\n",
       "      <td>...</td>\n",
       "      <td>...</td>\n",
       "      <td>...</td>\n",
       "      <td>...</td>\n",
       "      <td>...</td>\n",
       "      <td>...</td>\n",
       "      <td>...</td>\n",
       "      <td>...</td>\n",
       "      <td>...</td>\n",
       "      <td>...</td>\n",
       "      <td>...</td>\n",
       "      <td>...</td>\n",
       "      <td>...</td>\n",
       "      <td>...</td>\n",
       "      <td>...</td>\n",
       "      <td>...</td>\n",
       "      <td>...</td>\n",
       "    </tr>\n",
       "    <tr>\n",
       "      <th>28365</th>\n",
       "      <td>NaN</td>\n",
       "      <td>0.0</td>\n",
       "      <td>0.0</td>\n",
       "      <td>0.0</td>\n",
       "      <td>0.0</td>\n",
       "      <td>0.0</td>\n",
       "      <td>1.0</td>\n",
       "      <td>1.0</td>\n",
       "      <td>0.0</td>\n",
       "      <td>0.0</td>\n",
       "      <td>...</td>\n",
       "      <td>0.0</td>\n",
       "      <td>0.0</td>\n",
       "      <td>0.0</td>\n",
       "      <td>1.0</td>\n",
       "      <td>0.0</td>\n",
       "      <td>0.0</td>\n",
       "      <td>0.0</td>\n",
       "      <td>1.0</td>\n",
       "      <td>0.0</td>\n",
       "      <td>0.0</td>\n",
       "    </tr>\n",
       "    <tr>\n",
       "      <th>28366</th>\n",
       "      <td>NaN</td>\n",
       "      <td>0.0</td>\n",
       "      <td>0.0</td>\n",
       "      <td>0.0</td>\n",
       "      <td>0.0</td>\n",
       "      <td>0.0</td>\n",
       "      <td>1.0</td>\n",
       "      <td>0.0</td>\n",
       "      <td>0.0</td>\n",
       "      <td>0.0</td>\n",
       "      <td>...</td>\n",
       "      <td>0.0</td>\n",
       "      <td>1.0</td>\n",
       "      <td>0.0</td>\n",
       "      <td>0.0</td>\n",
       "      <td>1.0</td>\n",
       "      <td>0.0</td>\n",
       "      <td>1.0</td>\n",
       "      <td>0.0</td>\n",
       "      <td>0.0</td>\n",
       "      <td>0.0</td>\n",
       "    </tr>\n",
       "    <tr>\n",
       "      <th>28367</th>\n",
       "      <td>NaN</td>\n",
       "      <td>0.0</td>\n",
       "      <td>1.0</td>\n",
       "      <td>0.0</td>\n",
       "      <td>0.0</td>\n",
       "      <td>0.0</td>\n",
       "      <td>0.0</td>\n",
       "      <td>0.0</td>\n",
       "      <td>0.0</td>\n",
       "      <td>0.0</td>\n",
       "      <td>...</td>\n",
       "      <td>0.0</td>\n",
       "      <td>0.0</td>\n",
       "      <td>0.0</td>\n",
       "      <td>0.0</td>\n",
       "      <td>1.0</td>\n",
       "      <td>0.0</td>\n",
       "      <td>0.0</td>\n",
       "      <td>0.0</td>\n",
       "      <td>1.0</td>\n",
       "      <td>0.0</td>\n",
       "    </tr>\n",
       "    <tr>\n",
       "      <th>28368</th>\n",
       "      <td>NaN</td>\n",
       "      <td>0.0</td>\n",
       "      <td>0.0</td>\n",
       "      <td>0.0</td>\n",
       "      <td>0.0</td>\n",
       "      <td>0.0</td>\n",
       "      <td>1.0</td>\n",
       "      <td>0.0</td>\n",
       "      <td>0.0</td>\n",
       "      <td>0.0</td>\n",
       "      <td>...</td>\n",
       "      <td>0.0</td>\n",
       "      <td>0.0</td>\n",
       "      <td>0.0</td>\n",
       "      <td>1.0</td>\n",
       "      <td>0.0</td>\n",
       "      <td>0.0</td>\n",
       "      <td>0.0</td>\n",
       "      <td>1.0</td>\n",
       "      <td>0.0</td>\n",
       "      <td>0.0</td>\n",
       "    </tr>\n",
       "    <tr>\n",
       "      <th>28369</th>\n",
       "      <td>NaN</td>\n",
       "      <td>0.0</td>\n",
       "      <td>0.0</td>\n",
       "      <td>0.0</td>\n",
       "      <td>0.0</td>\n",
       "      <td>0.0</td>\n",
       "      <td>1.0</td>\n",
       "      <td>0.0</td>\n",
       "      <td>0.0</td>\n",
       "      <td>0.0</td>\n",
       "      <td>...</td>\n",
       "      <td>0.0</td>\n",
       "      <td>0.0</td>\n",
       "      <td>0.0</td>\n",
       "      <td>0.0</td>\n",
       "      <td>1.0</td>\n",
       "      <td>0.0</td>\n",
       "      <td>0.0</td>\n",
       "      <td>0.0</td>\n",
       "      <td>1.0</td>\n",
       "      <td>0.0</td>\n",
       "    </tr>\n",
       "  </tbody>\n",
       "</table>\n",
       "<p>28370 rows × 26 columns</p>\n",
       "</div>"
      ],
      "text/plain": [
       "       Capillary_refill_rate__VALUENUM_min  Asian  Black  Hispanic  Other_Eth  \\\n",
       "0                                      NaN    0.0    0.0       0.0        0.0   \n",
       "1                                      NaN    0.0    0.0       0.0        0.0   \n",
       "2                                      NaN    0.0    0.0       0.0        0.0   \n",
       "3                                      NaN    0.0    0.0       0.0        0.0   \n",
       "4                                      NaN    0.0    0.0       0.0        1.0   \n",
       "...                                    ...    ...    ...       ...        ...   \n",
       "28365                                  NaN    0.0    0.0       0.0        0.0   \n",
       "28366                                  NaN    0.0    0.0       0.0        0.0   \n",
       "28367                                  NaN    0.0    1.0       0.0        0.0   \n",
       "28368                                  NaN    0.0    0.0       0.0        0.0   \n",
       "28369                                  NaN    0.0    0.0       0.0        0.0   \n",
       "\n",
       "       Unknown  White  Catholic  Episcopalian  Jewish  ...  Separated  Single  \\\n",
       "0          1.0    0.0       0.0           0.0     0.0  ...        0.0     0.0   \n",
       "1          0.0    1.0       0.0           0.0     1.0  ...        0.0     0.0   \n",
       "2          0.0    1.0       1.0           0.0     0.0  ...        0.0     1.0   \n",
       "3          0.0    1.0       1.0           0.0     0.0  ...        0.0     0.0   \n",
       "4          0.0    0.0       0.0           0.0     0.0  ...        0.0     0.0   \n",
       "...        ...    ...       ...           ...     ...  ...        ...     ...   \n",
       "28365      0.0    1.0       1.0           0.0     0.0  ...        0.0     0.0   \n",
       "28366      0.0    1.0       0.0           0.0     0.0  ...        0.0     1.0   \n",
       "28367      0.0    0.0       0.0           0.0     0.0  ...        0.0     0.0   \n",
       "28368      0.0    1.0       0.0           0.0     0.0  ...        0.0     0.0   \n",
       "28369      0.0    1.0       0.0           0.0     0.0  ...        0.0     0.0   \n",
       "\n",
       "       Widowed    F    M  Government  Medicaid  Medicare  Private  Self Pay  \n",
       "0          0.0  0.0  1.0         0.0       0.0       1.0      0.0       0.0  \n",
       "1          1.0  1.0  0.0         0.0       0.0       1.0      0.0       0.0  \n",
       "2          0.0  0.0  1.0         0.0       0.0       1.0      0.0       0.0  \n",
       "3          0.0  0.0  1.0         0.0       0.0       0.0      1.0       0.0  \n",
       "4          0.0  0.0  1.0         0.0       0.0       0.0      1.0       0.0  \n",
       "...        ...  ...  ...         ...       ...       ...      ...       ...  \n",
       "28365      0.0  1.0  0.0         0.0       0.0       1.0      0.0       0.0  \n",
       "28366      0.0  0.0  1.0         0.0       1.0       0.0      0.0       0.0  \n",
       "28367      0.0  0.0  1.0         0.0       0.0       0.0      1.0       0.0  \n",
       "28368      0.0  1.0  0.0         0.0       0.0       1.0      0.0       0.0  \n",
       "28369      0.0  0.0  1.0         0.0       0.0       0.0      1.0       0.0  \n",
       "\n",
       "[28370 rows x 26 columns]"
      ]
     },
     "execution_count": 100,
     "metadata": {},
     "output_type": "execute_result"
    }
   ],
   "source": [
    "prefix_df[['Capillary_refill_rate__VALUENUM_min','Asian', 'Black', 'Hispanic', 'Other_Eth', 'Unknown', 'White',\n",
    "       'Catholic', 'Episcopalian', 'Jewish', 'Other_Rel', 'ProtestantQuaker',\n",
    "       'Unknown_Rel', 'Divorced', 'Married', 'Other_Mar', 'Separated',\n",
    "       'Single', 'Widowed', 'F', 'M', 'Government', 'Medicaid', 'Medicare',\n",
    "       'Private', 'Self Pay']]"
   ]
  },
  {
   "cell_type": "code",
   "execution_count": 101,
   "id": "received-operations",
   "metadata": {},
   "outputs": [],
   "source": [
    "prefix_df.to_pickle('patient_data.pkl')"
   ]
  },
  {
   "cell_type": "code",
   "execution_count": 15,
   "id": "sunrise-tract",
   "metadata": {},
   "outputs": [
    {
     "ename": "SyntaxError",
     "evalue": "invalid syntax (<ipython-input-15-44cf5d56e387>, line 1)",
     "output_type": "error",
     "traceback": [
      "\u001b[0;36m  File \u001b[0;32m\"<ipython-input-15-44cf5d56e387>\"\u001b[0;36m, line \u001b[0;32m1\u001b[0m\n\u001b[0;31m    hadoop -put item_map.csv /user/livy/item_map.csv\u001b[0m\n\u001b[0m                       ^\u001b[0m\n\u001b[0;31mSyntaxError\u001b[0m\u001b[0;31m:\u001b[0m invalid syntax\n"
     ]
    }
   ],
   "source": [
    "hadoop -put item_map.csv /user/livy/item_map.csv"
   ]
  },
  {
   "cell_type": "code",
   "execution_count": 2,
   "id": "ahead-appointment",
   "metadata": {},
   "outputs": [],
   "source": [
    "item_map = pd.read_csv('mimic3-benchmarks/mimic3benchmark/resources/itemid_to_variable_map.csv')"
   ]
  },
  {
   "cell_type": "code",
   "execution_count": 3,
   "id": "olive-proxy",
   "metadata": {},
   "outputs": [
    {
     "data": {
      "text/html": [
       "<div>\n",
       "<style scoped>\n",
       "    .dataframe tbody tr th:only-of-type {\n",
       "        vertical-align: middle;\n",
       "    }\n",
       "\n",
       "    .dataframe tbody tr th {\n",
       "        vertical-align: top;\n",
       "    }\n",
       "\n",
       "    .dataframe thead th {\n",
       "        text-align: right;\n",
       "    }\n",
       "</style>\n",
       "<table border=\"1\" class=\"dataframe\">\n",
       "  <thead>\n",
       "    <tr style=\"text-align: right;\">\n",
       "      <th></th>\n",
       "      <th>LEVEL2</th>\n",
       "      <th>LEVEL1</th>\n",
       "      <th>ALTERNATIVE</th>\n",
       "      <th>STATUS</th>\n",
       "      <th>STATUS NOTE</th>\n",
       "      <th>ITEMID</th>\n",
       "      <th>MIMIC LABEL</th>\n",
       "      <th>UNITNAME</th>\n",
       "      <th>LINKSTO</th>\n",
       "      <th>COUNT</th>\n",
       "      <th>CATEGORY</th>\n",
       "      <th>CONCEPTID</th>\n",
       "      <th>FLUID</th>\n",
       "      <th>LOINC_CODE</th>\n",
       "      <th>DBSOURCE</th>\n",
       "      <th>Unnamed: 15</th>\n",
       "      <th>PARAM_TYPE</th>\n",
       "      <th>NOTE</th>\n",
       "    </tr>\n",
       "  </thead>\n",
       "  <tbody>\n",
       "    <tr>\n",
       "      <th>0</th>\n",
       "      <td>Alanine aminotransferase</td>\n",
       "      <td>Alanine aminotransferase</td>\n",
       "      <td>ALT</td>\n",
       "      <td>verify</td>\n",
       "      <td>NaN</td>\n",
       "      <td>50861</td>\n",
       "      <td>ALANINE AMINOTRANSFERASE (ALT)</td>\n",
       "      <td>NaN</td>\n",
       "      <td>labevents</td>\n",
       "      <td>219475</td>\n",
       "      <td>CHEMISTRY</td>\n",
       "      <td>NaN</td>\n",
       "      <td>BLOOD</td>\n",
       "      <td>6/1/1742</td>\n",
       "      <td>NaN</td>\n",
       "      <td>NaN</td>\n",
       "      <td>NaN</td>\n",
       "      <td>NaN</td>\n",
       "    </tr>\n",
       "    <tr>\n",
       "      <th>1</th>\n",
       "      <td>Alanine aminotransferase</td>\n",
       "      <td>Alanine aminotransferase</td>\n",
       "      <td>ALT</td>\n",
       "      <td>verify</td>\n",
       "      <td>NaN</td>\n",
       "      <td>769</td>\n",
       "      <td>ALT</td>\n",
       "      <td>NaN</td>\n",
       "      <td>chartevents</td>\n",
       "      <td>41594</td>\n",
       "      <td>Enzymes</td>\n",
       "      <td>NaN</td>\n",
       "      <td>NaN</td>\n",
       "      <td>NaN</td>\n",
       "      <td>carevue</td>\n",
       "      <td>NaN</td>\n",
       "      <td>NaN</td>\n",
       "      <td>NaN</td>\n",
       "    </tr>\n",
       "    <tr>\n",
       "      <th>2</th>\n",
       "      <td>Alanine aminotransferase</td>\n",
       "      <td>Alanine aminotransferase</td>\n",
       "      <td>ALT</td>\n",
       "      <td>verify</td>\n",
       "      <td>NaN</td>\n",
       "      <td>220644</td>\n",
       "      <td>ALT</td>\n",
       "      <td>None</td>\n",
       "      <td>chartevents</td>\n",
       "      <td>37625</td>\n",
       "      <td>Labs</td>\n",
       "      <td>NaN</td>\n",
       "      <td>NaN</td>\n",
       "      <td>NaN</td>\n",
       "      <td>metavision</td>\n",
       "      <td>NaN</td>\n",
       "      <td>Numeric</td>\n",
       "      <td>NaN</td>\n",
       "    </tr>\n",
       "    <tr>\n",
       "      <th>3</th>\n",
       "      <td>Albumin</td>\n",
       "      <td>Albumin</td>\n",
       "      <td>NaN</td>\n",
       "      <td>verify</td>\n",
       "      <td>NaN</td>\n",
       "      <td>50862</td>\n",
       "      <td>ALBUMIN</td>\n",
       "      <td>NaN</td>\n",
       "      <td>labevents</td>\n",
       "      <td>146697</td>\n",
       "      <td>CHEMISTRY</td>\n",
       "      <td>NaN</td>\n",
       "      <td>BLOOD</td>\n",
       "      <td>7/1/1751</td>\n",
       "      <td>NaN</td>\n",
       "      <td>NaN</td>\n",
       "      <td>NaN</td>\n",
       "      <td>NaN</td>\n",
       "    </tr>\n",
       "    <tr>\n",
       "      <th>4</th>\n",
       "      <td>Albumin</td>\n",
       "      <td>Albumin</td>\n",
       "      <td>NaN</td>\n",
       "      <td>verify</td>\n",
       "      <td>NaN</td>\n",
       "      <td>772</td>\n",
       "      <td>Albumin (&gt;3.2)</td>\n",
       "      <td>NaN</td>\n",
       "      <td>chartevents</td>\n",
       "      <td>31022</td>\n",
       "      <td>Chemistry</td>\n",
       "      <td>NaN</td>\n",
       "      <td>NaN</td>\n",
       "      <td>NaN</td>\n",
       "      <td>carevue</td>\n",
       "      <td>NaN</td>\n",
       "      <td>NaN</td>\n",
       "      <td>NaN</td>\n",
       "    </tr>\n",
       "  </tbody>\n",
       "</table>\n",
       "</div>"
      ],
      "text/plain": [
       "                     LEVEL2                    LEVEL1 ALTERNATIVE  STATUS  \\\n",
       "0  Alanine aminotransferase  Alanine aminotransferase         ALT  verify   \n",
       "1  Alanine aminotransferase  Alanine aminotransferase         ALT  verify   \n",
       "2  Alanine aminotransferase  Alanine aminotransferase         ALT  verify   \n",
       "3                   Albumin                   Albumin         NaN  verify   \n",
       "4                   Albumin                   Albumin         NaN  verify   \n",
       "\n",
       "  STATUS NOTE  ITEMID                     MIMIC LABEL UNITNAME      LINKSTO  \\\n",
       "0         NaN   50861  ALANINE AMINOTRANSFERASE (ALT)      NaN    labevents   \n",
       "1         NaN     769                             ALT      NaN  chartevents   \n",
       "2         NaN  220644                             ALT     None  chartevents   \n",
       "3         NaN   50862                         ALBUMIN      NaN    labevents   \n",
       "4         NaN     772                  Albumin (>3.2)      NaN  chartevents   \n",
       "\n",
       "    COUNT   CATEGORY  CONCEPTID  FLUID LOINC_CODE    DBSOURCE  Unnamed: 15  \\\n",
       "0  219475  CHEMISTRY        NaN  BLOOD   6/1/1742         NaN          NaN   \n",
       "1   41594    Enzymes        NaN    NaN        NaN     carevue          NaN   \n",
       "2   37625       Labs        NaN    NaN        NaN  metavision          NaN   \n",
       "3  146697  CHEMISTRY        NaN  BLOOD   7/1/1751         NaN          NaN   \n",
       "4   31022  Chemistry        NaN    NaN        NaN     carevue          NaN   \n",
       "\n",
       "  PARAM_TYPE  NOTE  \n",
       "0        NaN   NaN  \n",
       "1        NaN   NaN  \n",
       "2    Numeric   NaN  \n",
       "3        NaN   NaN  \n",
       "4        NaN   NaN  "
      ]
     },
     "execution_count": 3,
     "metadata": {},
     "output_type": "execute_result"
    }
   ],
   "source": [
    "item_map.head()"
   ]
  },
  {
   "cell_type": "code",
   "execution_count": 27,
   "id": "serial-associate",
   "metadata": {},
   "outputs": [
    {
     "name": "stdout",
     "output_type": "stream",
     "text": [
      "Collecting PyAthena\n",
      "  Downloading PyAthena-2.2.0-py3-none-any.whl (37 kB)\n",
      "Requirement already satisfied: boto3>=1.4.4 in /home/ec2-user/anaconda3/envs/python3/lib/python3.6/site-packages (from PyAthena) (1.17.35)\n",
      "Requirement already satisfied: botocore>=1.5.52 in /home/ec2-user/anaconda3/envs/python3/lib/python3.6/site-packages (from PyAthena) (1.20.35)\n",
      "Collecting tenacity>=4.1.0\n",
      "  Downloading tenacity-7.0.0-py2.py3-none-any.whl (23 kB)\n",
      "Requirement already satisfied: s3transfer<0.4.0,>=0.3.0 in /home/ec2-user/anaconda3/envs/python3/lib/python3.6/site-packages (from boto3>=1.4.4->PyAthena) (0.3.4)\n",
      "Requirement already satisfied: jmespath<1.0.0,>=0.7.1 in /home/ec2-user/anaconda3/envs/python3/lib/python3.6/site-packages (from boto3>=1.4.4->PyAthena) (0.10.0)\n",
      "Requirement already satisfied: python-dateutil<3.0.0,>=2.1 in /home/ec2-user/anaconda3/envs/python3/lib/python3.6/site-packages (from botocore>=1.5.52->PyAthena) (2.8.1)\n",
      "Requirement already satisfied: urllib3<1.27,>=1.25.4 in /home/ec2-user/anaconda3/envs/python3/lib/python3.6/site-packages (from botocore>=1.5.52->PyAthena) (1.26.3)\n",
      "Requirement already satisfied: six>=1.5 in /home/ec2-user/anaconda3/envs/python3/lib/python3.6/site-packages (from python-dateutil<3.0.0,>=2.1->botocore>=1.5.52->PyAthena) (1.15.0)\n",
      "Installing collected packages: tenacity, PyAthena\n",
      "Successfully installed PyAthena-2.2.0 tenacity-7.0.0\n"
     ]
    }
   ],
   "source": [
    "!pip install PyAthena"
   ]
  },
  {
   "cell_type": "code",
   "execution_count": 28,
   "id": "adolescent-tactics",
   "metadata": {},
   "outputs": [],
   "source": [
    "from pyathena import connect\n",
    "#from pyathena.util import as_pandas\n",
    "#from __future__ import print_function\n",
    "\n",
    "# Import libraries\n",
    "import datetime\n",
    "import numpy as np\n",
    "import pandas as pd\n",
    "import matplotlib.pyplot as plt\n",
    "import os\n",
    "import boto3\n",
    "from botocore.client import ClientError\n",
    "# below is used to print out pretty pandas dataframes\n",
    "from IPython.display import display, HTML\n",
    "%matplotlib inline\n",
    "\n",
    "\n",
    "s3 = boto3.resource('s3')\n",
    "client = boto3.client(\"sts\")\n",
    "account_id = client.get_caller_identity()[\"Account\"]\n",
    "my_session = boto3.session.Session()\n",
    "region = my_session.region_name\n",
    "athena_query_results_bucket = 'aws-athena-query-results-'+account_id+'-'+region\n",
    "\n",
    "try:\n",
    "    s3.meta.client.head_bucket(Bucket=athena_query_results_bucket)\n",
    "except ClientError:\n",
    "    bucket = s3.create_bucket(Bucket=athena_query_results_bucket)\n",
    "    print('Creating bucket '+athena_query_results_bucket)\n",
    "cursor = connect(s3_staging_dir='s3://'+athena_query_results_bucket+'/athena/temp').cursor()\n",
    "\n",
    "\n",
    "# The Glue database name of your MIMIC-III parquet data\n",
    "gluedatabase=\"mimiciii\"\n",
    "\n",
    "# location of the queries to generate aline specific materialized views\n",
    "aline_path = './'\n",
    "\n",
    "# location of the queries to generate materialized views from the MIMIC code repository\n",
    "concepts_path = './concepts/'"
   ]
  },
  {
   "cell_type": "code",
   "execution_count": 29,
   "id": "moral-university",
   "metadata": {},
   "outputs": [],
   "source": [
    "conn = connect(s3_staging_dir='s3://'+athena_query_results_bucket+'/athena/temp')"
   ]
  },
  {
   "cell_type": "code",
   "execution_count": 30,
   "id": "informational-young",
   "metadata": {},
   "outputs": [],
   "source": [
    "query = '''\n",
    "SELECT * FROM mimiciii.DIAGNOSES_ICD\n",
    "'''"
   ]
  },
  {
   "cell_type": "code",
   "execution_count": 31,
   "id": "swedish-characteristic",
   "metadata": {},
   "outputs": [],
   "source": [
    "diagnosis = pd.read_sql(query,conn)"
   ]
  },
  {
   "cell_type": "code",
   "execution_count": 33,
   "id": "differential-underground",
   "metadata": {},
   "outputs": [
    {
     "data": {
      "text/plain": [
       "(651047, 5)"
      ]
     },
     "execution_count": 33,
     "metadata": {},
     "output_type": "execute_result"
    }
   ],
   "source": [
    "diagnosis.shape"
   ]
  },
  {
   "cell_type": "code",
   "execution_count": 46,
   "id": "amateur-fever",
   "metadata": {},
   "outputs": [],
   "source": [
    "diagnosis.columns = diagnosis.columns.str.upper()"
   ]
  },
  {
   "cell_type": "code",
   "execution_count": 47,
   "id": "adopted-adoption",
   "metadata": {},
   "outputs": [
    {
     "data": {
      "text/plain": [
       "Index(['ROW_ID', 'SUBJECT_ID', 'HADM_ID', 'SEQ_NUM', 'ICD9_CODE'], dtype='object')"
      ]
     },
     "execution_count": 47,
     "metadata": {},
     "output_type": "execute_result"
    }
   ],
   "source": [
    "diagnosis.columns"
   ]
  },
  {
   "cell_type": "code",
   "execution_count": 56,
   "id": "coral-canada",
   "metadata": {},
   "outputs": [],
   "source": [
    "diagnosis['ICD9_CODE3'] = diagnosis['ICD9_CODE'].astype(str).str[0:3]"
   ]
  },
  {
   "cell_type": "code",
   "execution_count": 71,
   "id": "traditional-amplifier",
   "metadata": {},
   "outputs": [],
   "source": [
    "count_diags = diagnosis.groupby(by=['SUBJECT_ID', 'HADM_ID'])['ICD9_CODE'].nunique().to_frame()\n",
    "count_diags = count_diags.reset_index(level=['SUBJECT_ID', 'HADM_ID']).rename(columns = {'ICD9_CODE':'ICD9_CODE_COUNT'})"
   ]
  },
  {
   "cell_type": "code",
   "execution_count": 72,
   "id": "finnish-sample",
   "metadata": {},
   "outputs": [
    {
     "data": {
      "text/html": [
       "<div>\n",
       "<style scoped>\n",
       "    .dataframe tbody tr th:only-of-type {\n",
       "        vertical-align: middle;\n",
       "    }\n",
       "\n",
       "    .dataframe tbody tr th {\n",
       "        vertical-align: top;\n",
       "    }\n",
       "\n",
       "    .dataframe thead th {\n",
       "        text-align: right;\n",
       "    }\n",
       "</style>\n",
       "<table border=\"1\" class=\"dataframe\">\n",
       "  <thead>\n",
       "    <tr style=\"text-align: right;\">\n",
       "      <th></th>\n",
       "      <th>SUBJECT_ID</th>\n",
       "      <th>HADM_ID</th>\n",
       "      <th>ICD9_CODE_COUNT</th>\n",
       "    </tr>\n",
       "  </thead>\n",
       "  <tbody>\n",
       "    <tr>\n",
       "      <th>0</th>\n",
       "      <td>2</td>\n",
       "      <td>163353</td>\n",
       "      <td>3</td>\n",
       "    </tr>\n",
       "    <tr>\n",
       "      <th>1</th>\n",
       "      <td>3</td>\n",
       "      <td>145834</td>\n",
       "      <td>9</td>\n",
       "    </tr>\n",
       "    <tr>\n",
       "      <th>2</th>\n",
       "      <td>4</td>\n",
       "      <td>185777</td>\n",
       "      <td>9</td>\n",
       "    </tr>\n",
       "    <tr>\n",
       "      <th>3</th>\n",
       "      <td>5</td>\n",
       "      <td>178980</td>\n",
       "      <td>3</td>\n",
       "    </tr>\n",
       "    <tr>\n",
       "      <th>4</th>\n",
       "      <td>6</td>\n",
       "      <td>107064</td>\n",
       "      <td>8</td>\n",
       "    </tr>\n",
       "    <tr>\n",
       "      <th>...</th>\n",
       "      <td>...</td>\n",
       "      <td>...</td>\n",
       "      <td>...</td>\n",
       "    </tr>\n",
       "    <tr>\n",
       "      <th>58971</th>\n",
       "      <td>99985</td>\n",
       "      <td>176670</td>\n",
       "      <td>13</td>\n",
       "    </tr>\n",
       "    <tr>\n",
       "      <th>58972</th>\n",
       "      <td>99991</td>\n",
       "      <td>151118</td>\n",
       "      <td>17</td>\n",
       "    </tr>\n",
       "    <tr>\n",
       "      <th>58973</th>\n",
       "      <td>99992</td>\n",
       "      <td>197084</td>\n",
       "      <td>12</td>\n",
       "    </tr>\n",
       "    <tr>\n",
       "      <th>58974</th>\n",
       "      <td>99995</td>\n",
       "      <td>137810</td>\n",
       "      <td>17</td>\n",
       "    </tr>\n",
       "    <tr>\n",
       "      <th>58975</th>\n",
       "      <td>99999</td>\n",
       "      <td>113369</td>\n",
       "      <td>5</td>\n",
       "    </tr>\n",
       "  </tbody>\n",
       "</table>\n",
       "<p>58976 rows × 3 columns</p>\n",
       "</div>"
      ],
      "text/plain": [
       "       SUBJECT_ID  HADM_ID  ICD9_CODE_COUNT\n",
       "0               2   163353                3\n",
       "1               3   145834                9\n",
       "2               4   185777                9\n",
       "3               5   178980                3\n",
       "4               6   107064                8\n",
       "...           ...      ...              ...\n",
       "58971       99985   176670               13\n",
       "58972       99991   151118               17\n",
       "58973       99992   197084               12\n",
       "58974       99995   137810               17\n",
       "58975       99999   113369                5\n",
       "\n",
       "[58976 rows x 3 columns]"
      ]
     },
     "execution_count": 72,
     "metadata": {},
     "output_type": "execute_result"
    }
   ],
   "source": [
    "count_diags"
   ]
  },
  {
   "cell_type": "code",
   "execution_count": 63,
   "id": "pointed-vinyl",
   "metadata": {},
   "outputs": [],
   "source": [
    "diagnosis = diagnosis.sort_values(by=['SUBJECT_ID', 'HADM_ID', 'SEQ_NUM'])"
   ]
  },
  {
   "cell_type": "code",
   "execution_count": 78,
   "id": "unnecessary-radiation",
   "metadata": {},
   "outputs": [
    {
     "data": {
      "text/plain": [
       "Index(['ROW_ID', 'SUBJECT_ID', 'HADM_ID', 'SEQ_NUM', 'ICD9_CODE',\n",
       "       'ICD9_CODE3'],\n",
       "      dtype='object')"
      ]
     },
     "execution_count": 78,
     "metadata": {},
     "output_type": "execute_result"
    }
   ],
   "source": [
    "diagnosis.columns"
   ]
  },
  {
   "cell_type": "code",
   "execution_count": 65,
   "id": "considerable-seller",
   "metadata": {},
   "outputs": [
    {
     "data": {
      "text/plain": [
       "608       V3001\n",
       "611        0389\n",
       "620         042\n",
       "629       V3000\n",
       "632       40391\n",
       "          ...  \n",
       "648165     0389\n",
       "648178    56211\n",
       "648195     9999\n",
       "648207     4414\n",
       "648478    75612\n",
       "Name: ICD9_CODE, Length: 58976, dtype: object"
      ]
     },
     "execution_count": 65,
     "metadata": {},
     "output_type": "execute_result"
    }
   ],
   "source": [
    "diagnosis.groupby(by=['SUBJECT_ID', 'HADM_ID'])['ICD9_CODE'].head(1)"
   ]
  },
  {
   "cell_type": "code",
   "execution_count": 77,
   "id": "fiscal-clark",
   "metadata": {},
   "outputs": [],
   "source": [
    "def one_hot_encode_with_limits(data,object_collist,limit=10):\n",
    "    '''One Hot Encoding will transform categorical data to numeric, and group those not in the top [10 by default]'''\n",
    "    for count, column in enumerate(object_collist):\n",
    "        print (column)\n",
    "        data[column+\"_null\"]=pd.isnull(data[column])\n",
    "        topCols = list(pd.DataFrame(data.groupby(column).size())\\\n",
    "     .sort_values(0,ascending=False).reset_index()[column])[:limit]\n",
    "\n",
    "        data.loc[data[column].isin(topCols)==False,column]='not_in_top'\n",
    "        dummies = pd.get_dummies(data[column])\n",
    "        data[[column+'_'+str(col) for col in list(dummies.columns)]] = dummies\n",
    "\n",
    "\n",
    "        if column != 'ARRANGEMENT_ID':    \n",
    "            del data[column]\n",
    "            \n",
    "    return data\n"
   ]
  },
  {
   "cell_type": "code",
   "execution_count": 79,
   "id": "identified-hygiene",
   "metadata": {},
   "outputs": [
    {
     "name": "stdout",
     "output_type": "stream",
     "text": [
      "ICD9_CODE3\n"
     ]
    }
   ],
   "source": [
    "df1hot = one_hot_encode_with_limits(diagnosis, object_collist = ['ICD9_CODE3'], limit = 60)"
   ]
  },
  {
   "cell_type": "code",
   "execution_count": 83,
   "id": "damaged-stranger",
   "metadata": {},
   "outputs": [],
   "source": [
    "df1hot_groups = df1hot.groupby(['SUBJECT_ID', 'HADM_ID']).max()"
   ]
  },
  {
   "cell_type": "code",
   "execution_count": 87,
   "id": "happy-password",
   "metadata": {},
   "outputs": [
    {
     "ename": "KeyError",
     "evalue": "'Requested level (SUBJECT_ID) does not match index name (None)'",
     "output_type": "error",
     "traceback": [
      "\u001b[0;31m---------------------------------------------------------------------------\u001b[0m",
      "\u001b[0;31mKeyError\u001b[0m                                  Traceback (most recent call last)",
      "\u001b[0;32m<ipython-input-87-0739c15a5a34>\u001b[0m in \u001b[0;36m<module>\u001b[0;34m\u001b[0m\n\u001b[0;32m----> 1\u001b[0;31m \u001b[0mdf1hot_groups\u001b[0m \u001b[0;34m=\u001b[0m \u001b[0mdf1hot_groups\u001b[0m\u001b[0;34m.\u001b[0m\u001b[0mreset_index\u001b[0m\u001b[0;34m(\u001b[0m\u001b[0mlevel\u001b[0m\u001b[0;34m=\u001b[0m\u001b[0;34m[\u001b[0m\u001b[0;34m'SUBJECT_ID'\u001b[0m\u001b[0;34m,\u001b[0m \u001b[0;34m'HADM_ID'\u001b[0m\u001b[0;34m]\u001b[0m\u001b[0;34m)\u001b[0m\u001b[0;34m.\u001b[0m\u001b[0mdrop\u001b[0m\u001b[0;34m(\u001b[0m\u001b[0mcolumns\u001b[0m \u001b[0;34m=\u001b[0m \u001b[0;34m[\u001b[0m\u001b[0;34m'ROW_ID'\u001b[0m\u001b[0;34m,\u001b[0m\u001b[0;34m'ICD9_CODE'\u001b[0m\u001b[0;34m]\u001b[0m\u001b[0;34m)\u001b[0m\u001b[0;34m\u001b[0m\u001b[0;34m\u001b[0m\u001b[0m\n\u001b[0m",
      "\u001b[0;32m~/anaconda3/envs/python3/lib/python3.6/site-packages/pandas/core/frame.py\u001b[0m in \u001b[0;36mreset_index\u001b[0;34m(self, level, drop, inplace, col_level, col_fill)\u001b[0m\n\u001b[1;32m   4818\u001b[0m             \u001b[0;32mif\u001b[0m \u001b[0;32mnot\u001b[0m \u001b[0misinstance\u001b[0m\u001b[0;34m(\u001b[0m\u001b[0mlevel\u001b[0m\u001b[0;34m,\u001b[0m \u001b[0;34m(\u001b[0m\u001b[0mtuple\u001b[0m\u001b[0;34m,\u001b[0m \u001b[0mlist\u001b[0m\u001b[0;34m)\u001b[0m\u001b[0;34m)\u001b[0m\u001b[0;34m:\u001b[0m\u001b[0;34m\u001b[0m\u001b[0;34m\u001b[0m\u001b[0m\n\u001b[1;32m   4819\u001b[0m                 \u001b[0mlevel\u001b[0m \u001b[0;34m=\u001b[0m \u001b[0;34m[\u001b[0m\u001b[0mlevel\u001b[0m\u001b[0;34m]\u001b[0m\u001b[0;34m\u001b[0m\u001b[0;34m\u001b[0m\u001b[0m\n\u001b[0;32m-> 4820\u001b[0;31m             \u001b[0mlevel\u001b[0m \u001b[0;34m=\u001b[0m \u001b[0;34m[\u001b[0m\u001b[0mself\u001b[0m\u001b[0;34m.\u001b[0m\u001b[0mindex\u001b[0m\u001b[0;34m.\u001b[0m\u001b[0m_get_level_number\u001b[0m\u001b[0;34m(\u001b[0m\u001b[0mlev\u001b[0m\u001b[0;34m)\u001b[0m \u001b[0;32mfor\u001b[0m \u001b[0mlev\u001b[0m \u001b[0;32min\u001b[0m \u001b[0mlevel\u001b[0m\u001b[0;34m]\u001b[0m\u001b[0;34m\u001b[0m\u001b[0;34m\u001b[0m\u001b[0m\n\u001b[0m\u001b[1;32m   4821\u001b[0m             \u001b[0;32mif\u001b[0m \u001b[0mlen\u001b[0m\u001b[0;34m(\u001b[0m\u001b[0mlevel\u001b[0m\u001b[0;34m)\u001b[0m \u001b[0;34m<\u001b[0m \u001b[0mself\u001b[0m\u001b[0;34m.\u001b[0m\u001b[0mindex\u001b[0m\u001b[0;34m.\u001b[0m\u001b[0mnlevels\u001b[0m\u001b[0;34m:\u001b[0m\u001b[0;34m\u001b[0m\u001b[0;34m\u001b[0m\u001b[0m\n\u001b[1;32m   4822\u001b[0m                 \u001b[0mnew_index\u001b[0m \u001b[0;34m=\u001b[0m \u001b[0mself\u001b[0m\u001b[0;34m.\u001b[0m\u001b[0mindex\u001b[0m\u001b[0;34m.\u001b[0m\u001b[0mdroplevel\u001b[0m\u001b[0;34m(\u001b[0m\u001b[0mlevel\u001b[0m\u001b[0;34m)\u001b[0m\u001b[0;34m\u001b[0m\u001b[0;34m\u001b[0m\u001b[0m\n",
      "\u001b[0;32m~/anaconda3/envs/python3/lib/python3.6/site-packages/pandas/core/frame.py\u001b[0m in \u001b[0;36m<listcomp>\u001b[0;34m(.0)\u001b[0m\n\u001b[1;32m   4818\u001b[0m             \u001b[0;32mif\u001b[0m \u001b[0;32mnot\u001b[0m \u001b[0misinstance\u001b[0m\u001b[0;34m(\u001b[0m\u001b[0mlevel\u001b[0m\u001b[0;34m,\u001b[0m \u001b[0;34m(\u001b[0m\u001b[0mtuple\u001b[0m\u001b[0;34m,\u001b[0m \u001b[0mlist\u001b[0m\u001b[0;34m)\u001b[0m\u001b[0;34m)\u001b[0m\u001b[0;34m:\u001b[0m\u001b[0;34m\u001b[0m\u001b[0;34m\u001b[0m\u001b[0m\n\u001b[1;32m   4819\u001b[0m                 \u001b[0mlevel\u001b[0m \u001b[0;34m=\u001b[0m \u001b[0;34m[\u001b[0m\u001b[0mlevel\u001b[0m\u001b[0;34m]\u001b[0m\u001b[0;34m\u001b[0m\u001b[0;34m\u001b[0m\u001b[0m\n\u001b[0;32m-> 4820\u001b[0;31m             \u001b[0mlevel\u001b[0m \u001b[0;34m=\u001b[0m \u001b[0;34m[\u001b[0m\u001b[0mself\u001b[0m\u001b[0;34m.\u001b[0m\u001b[0mindex\u001b[0m\u001b[0;34m.\u001b[0m\u001b[0m_get_level_number\u001b[0m\u001b[0;34m(\u001b[0m\u001b[0mlev\u001b[0m\u001b[0;34m)\u001b[0m \u001b[0;32mfor\u001b[0m \u001b[0mlev\u001b[0m \u001b[0;32min\u001b[0m \u001b[0mlevel\u001b[0m\u001b[0;34m]\u001b[0m\u001b[0;34m\u001b[0m\u001b[0;34m\u001b[0m\u001b[0m\n\u001b[0m\u001b[1;32m   4821\u001b[0m             \u001b[0;32mif\u001b[0m \u001b[0mlen\u001b[0m\u001b[0;34m(\u001b[0m\u001b[0mlevel\u001b[0m\u001b[0;34m)\u001b[0m \u001b[0;34m<\u001b[0m \u001b[0mself\u001b[0m\u001b[0;34m.\u001b[0m\u001b[0mindex\u001b[0m\u001b[0;34m.\u001b[0m\u001b[0mnlevels\u001b[0m\u001b[0;34m:\u001b[0m\u001b[0;34m\u001b[0m\u001b[0;34m\u001b[0m\u001b[0m\n\u001b[1;32m   4822\u001b[0m                 \u001b[0mnew_index\u001b[0m \u001b[0;34m=\u001b[0m \u001b[0mself\u001b[0m\u001b[0;34m.\u001b[0m\u001b[0mindex\u001b[0m\u001b[0;34m.\u001b[0m\u001b[0mdroplevel\u001b[0m\u001b[0;34m(\u001b[0m\u001b[0mlevel\u001b[0m\u001b[0;34m)\u001b[0m\u001b[0;34m\u001b[0m\u001b[0;34m\u001b[0m\u001b[0m\n",
      "\u001b[0;32m~/anaconda3/envs/python3/lib/python3.6/site-packages/pandas/core/indexes/base.py\u001b[0m in \u001b[0;36m_get_level_number\u001b[0;34m(self, level)\u001b[0m\n\u001b[1;32m   1413\u001b[0m \u001b[0;34m\u001b[0m\u001b[0m\n\u001b[1;32m   1414\u001b[0m     \u001b[0;32mdef\u001b[0m \u001b[0m_get_level_number\u001b[0m\u001b[0;34m(\u001b[0m\u001b[0mself\u001b[0m\u001b[0;34m,\u001b[0m \u001b[0mlevel\u001b[0m\u001b[0;34m)\u001b[0m \u001b[0;34m->\u001b[0m \u001b[0mint\u001b[0m\u001b[0;34m:\u001b[0m\u001b[0;34m\u001b[0m\u001b[0;34m\u001b[0m\u001b[0m\n\u001b[0;32m-> 1415\u001b[0;31m         \u001b[0mself\u001b[0m\u001b[0;34m.\u001b[0m\u001b[0m_validate_index_level\u001b[0m\u001b[0;34m(\u001b[0m\u001b[0mlevel\u001b[0m\u001b[0;34m)\u001b[0m\u001b[0;34m\u001b[0m\u001b[0;34m\u001b[0m\u001b[0m\n\u001b[0m\u001b[1;32m   1416\u001b[0m         \u001b[0;32mreturn\u001b[0m \u001b[0;36m0\u001b[0m\u001b[0;34m\u001b[0m\u001b[0;34m\u001b[0m\u001b[0m\n\u001b[1;32m   1417\u001b[0m \u001b[0;34m\u001b[0m\u001b[0m\n",
      "\u001b[0;32m~/anaconda3/envs/python3/lib/python3.6/site-packages/pandas/core/indexes/base.py\u001b[0m in \u001b[0;36m_validate_index_level\u001b[0;34m(self, level)\u001b[0m\n\u001b[1;32m   1409\u001b[0m         \u001b[0;32melif\u001b[0m \u001b[0mlevel\u001b[0m \u001b[0;34m!=\u001b[0m \u001b[0mself\u001b[0m\u001b[0;34m.\u001b[0m\u001b[0mname\u001b[0m\u001b[0;34m:\u001b[0m\u001b[0;34m\u001b[0m\u001b[0;34m\u001b[0m\u001b[0m\n\u001b[1;32m   1410\u001b[0m             raise KeyError(\n\u001b[0;32m-> 1411\u001b[0;31m                 \u001b[0;34mf\"Requested level ({level}) does not match index name ({self.name})\"\u001b[0m\u001b[0;34m\u001b[0m\u001b[0;34m\u001b[0m\u001b[0m\n\u001b[0m\u001b[1;32m   1412\u001b[0m             )\n\u001b[1;32m   1413\u001b[0m \u001b[0;34m\u001b[0m\u001b[0m\n",
      "\u001b[0;31mKeyError\u001b[0m: 'Requested level (SUBJECT_ID) does not match index name (None)'"
     ]
    }
   ],
   "source": [
    "df1hot_groups = df1hot_groups.reset_index(level=['SUBJECT_ID', 'HADM_ID'])"
   ]
  },
  {
   "cell_type": "code",
   "execution_count": 88,
   "id": "incredible-pixel",
   "metadata": {},
   "outputs": [],
   "source": [
    "df1hot_groups = df1hot_groups.drop(columns = ['ROW_ID','ICD9_CODE'])"
   ]
  },
  {
   "cell_type": "code",
   "execution_count": null,
   "id": "specialized-elephant",
   "metadata": {},
   "outputs": [],
   "source": [
    "df1hot_groups[df1hot_groups.ICD9_CODE3_null == True]"
   ]
  },
  {
   "cell_type": "code",
   "execution_count": 93,
   "id": "convertible-personal",
   "metadata": {},
   "outputs": [],
   "source": [
    "df1hot_groups = df1hot_groups.drop(columns = ['ICD9_CODE3_null'])"
   ]
  },
  {
   "cell_type": "code",
   "execution_count": 94,
   "id": "illegal-pattern",
   "metadata": {},
   "outputs": [
    {
     "data": {
      "text/html": [
       "<div>\n",
       "<style scoped>\n",
       "    .dataframe tbody tr th:only-of-type {\n",
       "        vertical-align: middle;\n",
       "    }\n",
       "\n",
       "    .dataframe tbody tr th {\n",
       "        vertical-align: top;\n",
       "    }\n",
       "\n",
       "    .dataframe thead th {\n",
       "        text-align: right;\n",
       "    }\n",
       "</style>\n",
       "<table border=\"1\" class=\"dataframe\">\n",
       "  <thead>\n",
       "    <tr style=\"text-align: right;\">\n",
       "      <th></th>\n",
       "      <th>SUBJECT_ID</th>\n",
       "      <th>HADM_ID</th>\n",
       "      <th>SEQ_NUM</th>\n",
       "      <th>ICD9_CODE3_038</th>\n",
       "      <th>ICD9_CODE3_041</th>\n",
       "      <th>ICD9_CODE3_070</th>\n",
       "      <th>ICD9_CODE3_244</th>\n",
       "      <th>ICD9_CODE3_250</th>\n",
       "      <th>ICD9_CODE3_272</th>\n",
       "      <th>ICD9_CODE3_276</th>\n",
       "      <th>...</th>\n",
       "      <th>ICD9_CODE3_E93</th>\n",
       "      <th>ICD9_CODE3_V05</th>\n",
       "      <th>ICD9_CODE3_V10</th>\n",
       "      <th>ICD9_CODE3_V12</th>\n",
       "      <th>ICD9_CODE3_V15</th>\n",
       "      <th>ICD9_CODE3_V29</th>\n",
       "      <th>ICD9_CODE3_V30</th>\n",
       "      <th>ICD9_CODE3_V45</th>\n",
       "      <th>ICD9_CODE3_V58</th>\n",
       "      <th>ICD9_CODE3_not_in_top</th>\n",
       "    </tr>\n",
       "  </thead>\n",
       "  <tbody>\n",
       "    <tr>\n",
       "      <th>0</th>\n",
       "      <td>2</td>\n",
       "      <td>163353</td>\n",
       "      <td>3.0</td>\n",
       "      <td>0</td>\n",
       "      <td>0</td>\n",
       "      <td>0</td>\n",
       "      <td>0</td>\n",
       "      <td>0</td>\n",
       "      <td>0</td>\n",
       "      <td>0</td>\n",
       "      <td>...</td>\n",
       "      <td>0</td>\n",
       "      <td>1</td>\n",
       "      <td>0</td>\n",
       "      <td>0</td>\n",
       "      <td>0</td>\n",
       "      <td>1</td>\n",
       "      <td>1</td>\n",
       "      <td>0</td>\n",
       "      <td>0</td>\n",
       "      <td>0</td>\n",
       "    </tr>\n",
       "    <tr>\n",
       "      <th>1</th>\n",
       "      <td>3</td>\n",
       "      <td>145834</td>\n",
       "      <td>9.0</td>\n",
       "      <td>1</td>\n",
       "      <td>0</td>\n",
       "      <td>0</td>\n",
       "      <td>0</td>\n",
       "      <td>0</td>\n",
       "      <td>0</td>\n",
       "      <td>0</td>\n",
       "      <td>...</td>\n",
       "      <td>0</td>\n",
       "      <td>0</td>\n",
       "      <td>0</td>\n",
       "      <td>0</td>\n",
       "      <td>0</td>\n",
       "      <td>0</td>\n",
       "      <td>0</td>\n",
       "      <td>0</td>\n",
       "      <td>0</td>\n",
       "      <td>1</td>\n",
       "    </tr>\n",
       "    <tr>\n",
       "      <th>2</th>\n",
       "      <td>4</td>\n",
       "      <td>185777</td>\n",
       "      <td>9.0</td>\n",
       "      <td>0</td>\n",
       "      <td>1</td>\n",
       "      <td>0</td>\n",
       "      <td>0</td>\n",
       "      <td>0</td>\n",
       "      <td>0</td>\n",
       "      <td>1</td>\n",
       "      <td>...</td>\n",
       "      <td>1</td>\n",
       "      <td>0</td>\n",
       "      <td>0</td>\n",
       "      <td>0</td>\n",
       "      <td>0</td>\n",
       "      <td>0</td>\n",
       "      <td>0</td>\n",
       "      <td>0</td>\n",
       "      <td>0</td>\n",
       "      <td>1</td>\n",
       "    </tr>\n",
       "    <tr>\n",
       "      <th>3</th>\n",
       "      <td>5</td>\n",
       "      <td>178980</td>\n",
       "      <td>3.0</td>\n",
       "      <td>0</td>\n",
       "      <td>0</td>\n",
       "      <td>0</td>\n",
       "      <td>0</td>\n",
       "      <td>0</td>\n",
       "      <td>0</td>\n",
       "      <td>0</td>\n",
       "      <td>...</td>\n",
       "      <td>0</td>\n",
       "      <td>1</td>\n",
       "      <td>0</td>\n",
       "      <td>0</td>\n",
       "      <td>0</td>\n",
       "      <td>1</td>\n",
       "      <td>1</td>\n",
       "      <td>0</td>\n",
       "      <td>0</td>\n",
       "      <td>0</td>\n",
       "    </tr>\n",
       "    <tr>\n",
       "      <th>4</th>\n",
       "      <td>6</td>\n",
       "      <td>107064</td>\n",
       "      <td>8.0</td>\n",
       "      <td>0</td>\n",
       "      <td>0</td>\n",
       "      <td>0</td>\n",
       "      <td>0</td>\n",
       "      <td>0</td>\n",
       "      <td>0</td>\n",
       "      <td>1</td>\n",
       "      <td>...</td>\n",
       "      <td>0</td>\n",
       "      <td>0</td>\n",
       "      <td>0</td>\n",
       "      <td>0</td>\n",
       "      <td>1</td>\n",
       "      <td>0</td>\n",
       "      <td>0</td>\n",
       "      <td>0</td>\n",
       "      <td>0</td>\n",
       "      <td>1</td>\n",
       "    </tr>\n",
       "  </tbody>\n",
       "</table>\n",
       "<p>5 rows × 64 columns</p>\n",
       "</div>"
      ],
      "text/plain": [
       "   SUBJECT_ID  HADM_ID  SEQ_NUM  ICD9_CODE3_038  ICD9_CODE3_041  \\\n",
       "0           2   163353      3.0               0               0   \n",
       "1           3   145834      9.0               1               0   \n",
       "2           4   185777      9.0               0               1   \n",
       "3           5   178980      3.0               0               0   \n",
       "4           6   107064      8.0               0               0   \n",
       "\n",
       "   ICD9_CODE3_070  ICD9_CODE3_244  ICD9_CODE3_250  ICD9_CODE3_272  \\\n",
       "0               0               0               0               0   \n",
       "1               0               0               0               0   \n",
       "2               0               0               0               0   \n",
       "3               0               0               0               0   \n",
       "4               0               0               0               0   \n",
       "\n",
       "   ICD9_CODE3_276  ...  ICD9_CODE3_E93  ICD9_CODE3_V05  ICD9_CODE3_V10  \\\n",
       "0               0  ...               0               1               0   \n",
       "1               0  ...               0               0               0   \n",
       "2               1  ...               1               0               0   \n",
       "3               0  ...               0               1               0   \n",
       "4               1  ...               0               0               0   \n",
       "\n",
       "   ICD9_CODE3_V12  ICD9_CODE3_V15  ICD9_CODE3_V29  ICD9_CODE3_V30  \\\n",
       "0               0               0               1               1   \n",
       "1               0               0               0               0   \n",
       "2               0               0               0               0   \n",
       "3               0               0               1               1   \n",
       "4               0               1               0               0   \n",
       "\n",
       "   ICD9_CODE3_V45  ICD9_CODE3_V58  ICD9_CODE3_not_in_top  \n",
       "0               0               0                      0  \n",
       "1               0               0                      1  \n",
       "2               0               0                      1  \n",
       "3               0               0                      0  \n",
       "4               0               0                      1  \n",
       "\n",
       "[5 rows x 64 columns]"
      ]
     },
     "execution_count": 94,
     "metadata": {},
     "output_type": "execute_result"
    }
   ],
   "source": [
    "df1hot_groups.head()"
   ]
  },
  {
   "cell_type": "code",
   "execution_count": 92,
   "id": "vocational-atlas",
   "metadata": {},
   "outputs": [
    {
     "data": {
      "text/html": [
       "<div>\n",
       "<style scoped>\n",
       "    .dataframe tbody tr th:only-of-type {\n",
       "        vertical-align: middle;\n",
       "    }\n",
       "\n",
       "    .dataframe tbody tr th {\n",
       "        vertical-align: top;\n",
       "    }\n",
       "\n",
       "    .dataframe thead th {\n",
       "        text-align: right;\n",
       "    }\n",
       "</style>\n",
       "<table border=\"1\" class=\"dataframe\">\n",
       "  <thead>\n",
       "    <tr style=\"text-align: right;\">\n",
       "      <th></th>\n",
       "      <th>SUBJECT_ID</th>\n",
       "      <th>HADM_ID</th>\n",
       "      <th>SEQ_NUM</th>\n",
       "      <th>ICD9_CODE3_null</th>\n",
       "      <th>ICD9_CODE3_038</th>\n",
       "      <th>ICD9_CODE3_041</th>\n",
       "      <th>ICD9_CODE3_070</th>\n",
       "      <th>ICD9_CODE3_244</th>\n",
       "      <th>ICD9_CODE3_250</th>\n",
       "      <th>ICD9_CODE3_272</th>\n",
       "      <th>...</th>\n",
       "      <th>ICD9_CODE3_E93</th>\n",
       "      <th>ICD9_CODE3_V05</th>\n",
       "      <th>ICD9_CODE3_V10</th>\n",
       "      <th>ICD9_CODE3_V12</th>\n",
       "      <th>ICD9_CODE3_V15</th>\n",
       "      <th>ICD9_CODE3_V29</th>\n",
       "      <th>ICD9_CODE3_V30</th>\n",
       "      <th>ICD9_CODE3_V45</th>\n",
       "      <th>ICD9_CODE3_V58</th>\n",
       "      <th>ICD9_CODE3_not_in_top</th>\n",
       "    </tr>\n",
       "  </thead>\n",
       "  <tbody>\n",
       "  </tbody>\n",
       "</table>\n",
       "<p>0 rows × 65 columns</p>\n",
       "</div>"
      ],
      "text/plain": [
       "Empty DataFrame\n",
       "Columns: [SUBJECT_ID, HADM_ID, SEQ_NUM, ICD9_CODE3_null, ICD9_CODE3_038, ICD9_CODE3_041, ICD9_CODE3_070, ICD9_CODE3_244, ICD9_CODE3_250, ICD9_CODE3_272, ICD9_CODE3_276, ICD9_CODE3_278, ICD9_CODE3_285, ICD9_CODE3_287, ICD9_CODE3_300, ICD9_CODE3_305, ICD9_CODE3_311, ICD9_CODE3_348, ICD9_CODE3_401, ICD9_CODE3_403, ICD9_CODE3_410, ICD9_CODE3_412, ICD9_CODE3_414, ICD9_CODE3_416, ICD9_CODE3_424, ICD9_CODE3_427, ICD9_CODE3_428, ICD9_CODE3_458, ICD9_CODE3_486, ICD9_CODE3_493, ICD9_CODE3_496, ICD9_CODE3_507, ICD9_CODE3_511, ICD9_CODE3_518, ICD9_CODE3_530, ICD9_CODE3_571, ICD9_CODE3_578, ICD9_CODE3_584, ICD9_CODE3_585, ICD9_CODE3_599, ICD9_CODE3_707, ICD9_CODE3_733, ICD9_CODE3_765, ICD9_CODE3_770, ICD9_CODE3_774, ICD9_CODE3_780, ICD9_CODE3_785, ICD9_CODE3_787, ICD9_CODE3_790, ICD9_CODE3_995, ICD9_CODE3_996, ICD9_CODE3_997, ICD9_CODE3_998, ICD9_CODE3_E87, ICD9_CODE3_E88, ICD9_CODE3_E93, ICD9_CODE3_V05, ICD9_CODE3_V10, ICD9_CODE3_V12, ICD9_CODE3_V15, ICD9_CODE3_V29, ICD9_CODE3_V30, ICD9_CODE3_V45, ICD9_CODE3_V58, ICD9_CODE3_not_in_top]\n",
       "Index: []\n",
       "\n",
       "[0 rows x 65 columns]"
      ]
     },
     "execution_count": 92,
     "metadata": {},
     "output_type": "execute_result"
    }
   ],
   "source": [
    "df1hot_groups[df1hot_groups.ICD9_CODE3_null == True]"
   ]
  },
  {
   "cell_type": "code",
   "execution_count": 86,
   "id": "respective-current",
   "metadata": {},
   "outputs": [
    {
     "data": {
      "text/plain": [
       "Index(['SUBJECT_ID', 'HADM_ID', 'ROW_ID', 'SEQ_NUM', 'ICD9_CODE',\n",
       "       'ICD9_CODE3_null', 'ICD9_CODE3_038', 'ICD9_CODE3_041', 'ICD9_CODE3_070',\n",
       "       'ICD9_CODE3_244', 'ICD9_CODE3_250', 'ICD9_CODE3_272', 'ICD9_CODE3_276',\n",
       "       'ICD9_CODE3_278', 'ICD9_CODE3_285', 'ICD9_CODE3_287', 'ICD9_CODE3_300',\n",
       "       'ICD9_CODE3_305', 'ICD9_CODE3_311', 'ICD9_CODE3_348', 'ICD9_CODE3_401',\n",
       "       'ICD9_CODE3_403', 'ICD9_CODE3_410', 'ICD9_CODE3_412', 'ICD9_CODE3_414',\n",
       "       'ICD9_CODE3_416', 'ICD9_CODE3_424', 'ICD9_CODE3_427', 'ICD9_CODE3_428',\n",
       "       'ICD9_CODE3_458', 'ICD9_CODE3_486', 'ICD9_CODE3_493', 'ICD9_CODE3_496',\n",
       "       'ICD9_CODE3_507', 'ICD9_CODE3_511', 'ICD9_CODE3_518', 'ICD9_CODE3_530',\n",
       "       'ICD9_CODE3_571', 'ICD9_CODE3_578', 'ICD9_CODE3_584', 'ICD9_CODE3_585',\n",
       "       'ICD9_CODE3_599', 'ICD9_CODE3_707', 'ICD9_CODE3_733', 'ICD9_CODE3_765',\n",
       "       'ICD9_CODE3_770', 'ICD9_CODE3_774', 'ICD9_CODE3_780', 'ICD9_CODE3_785',\n",
       "       'ICD9_CODE3_787', 'ICD9_CODE3_790', 'ICD9_CODE3_995', 'ICD9_CODE3_996',\n",
       "       'ICD9_CODE3_997', 'ICD9_CODE3_998', 'ICD9_CODE3_E87', 'ICD9_CODE3_E88',\n",
       "       'ICD9_CODE3_E93', 'ICD9_CODE3_V05', 'ICD9_CODE3_V10', 'ICD9_CODE3_V12',\n",
       "       'ICD9_CODE3_V15', 'ICD9_CODE3_V29', 'ICD9_CODE3_V30', 'ICD9_CODE3_V45',\n",
       "       'ICD9_CODE3_V58', 'ICD9_CODE3_not_in_top'],\n",
       "      dtype='object')"
      ]
     },
     "execution_count": 86,
     "metadata": {},
     "output_type": "execute_result"
    }
   ],
   "source": [
    "df1hot_groups.columns"
   ]
  },
  {
   "cell_type": "code",
   "execution_count": 66,
   "id": "molecular-effort",
   "metadata": {},
   "outputs": [
    {
     "data": {
      "text/html": [
       "<div>\n",
       "<style scoped>\n",
       "    .dataframe tbody tr th:only-of-type {\n",
       "        vertical-align: middle;\n",
       "    }\n",
       "\n",
       "    .dataframe tbody tr th {\n",
       "        vertical-align: top;\n",
       "    }\n",
       "\n",
       "    .dataframe thead th {\n",
       "        text-align: right;\n",
       "    }\n",
       "</style>\n",
       "<table border=\"1\" class=\"dataframe\">\n",
       "  <thead>\n",
       "    <tr style=\"text-align: right;\">\n",
       "      <th></th>\n",
       "      <th>ROW_ID</th>\n",
       "      <th>SUBJECT_ID</th>\n",
       "      <th>HADM_ID</th>\n",
       "      <th>SEQ_NUM</th>\n",
       "      <th>ICD9_CODE</th>\n",
       "      <th>ICD9_CODE3</th>\n",
       "    </tr>\n",
       "  </thead>\n",
       "  <tbody>\n",
       "    <tr>\n",
       "      <th>608</th>\n",
       "      <td>1</td>\n",
       "      <td>2</td>\n",
       "      <td>163353</td>\n",
       "      <td>1.0</td>\n",
       "      <td>V3001</td>\n",
       "      <td>V30</td>\n",
       "    </tr>\n",
       "    <tr>\n",
       "      <th>609</th>\n",
       "      <td>2</td>\n",
       "      <td>2</td>\n",
       "      <td>163353</td>\n",
       "      <td>2.0</td>\n",
       "      <td>V053</td>\n",
       "      <td>V05</td>\n",
       "    </tr>\n",
       "    <tr>\n",
       "      <th>610</th>\n",
       "      <td>3</td>\n",
       "      <td>2</td>\n",
       "      <td>163353</td>\n",
       "      <td>3.0</td>\n",
       "      <td>V290</td>\n",
       "      <td>V29</td>\n",
       "    </tr>\n",
       "    <tr>\n",
       "      <th>611</th>\n",
       "      <td>4</td>\n",
       "      <td>3</td>\n",
       "      <td>145834</td>\n",
       "      <td>1.0</td>\n",
       "      <td>0389</td>\n",
       "      <td>038</td>\n",
       "    </tr>\n",
       "    <tr>\n",
       "      <th>612</th>\n",
       "      <td>5</td>\n",
       "      <td>3</td>\n",
       "      <td>145834</td>\n",
       "      <td>2.0</td>\n",
       "      <td>78559</td>\n",
       "      <td>785</td>\n",
       "    </tr>\n",
       "    <tr>\n",
       "      <th>613</th>\n",
       "      <td>6</td>\n",
       "      <td>3</td>\n",
       "      <td>145834</td>\n",
       "      <td>3.0</td>\n",
       "      <td>5849</td>\n",
       "      <td>584</td>\n",
       "    </tr>\n",
       "    <tr>\n",
       "      <th>614</th>\n",
       "      <td>7</td>\n",
       "      <td>3</td>\n",
       "      <td>145834</td>\n",
       "      <td>4.0</td>\n",
       "      <td>4275</td>\n",
       "      <td>427</td>\n",
       "    </tr>\n",
       "    <tr>\n",
       "      <th>615</th>\n",
       "      <td>8</td>\n",
       "      <td>3</td>\n",
       "      <td>145834</td>\n",
       "      <td>5.0</td>\n",
       "      <td>41071</td>\n",
       "      <td>410</td>\n",
       "    </tr>\n",
       "    <tr>\n",
       "      <th>616</th>\n",
       "      <td>9</td>\n",
       "      <td>3</td>\n",
       "      <td>145834</td>\n",
       "      <td>6.0</td>\n",
       "      <td>4280</td>\n",
       "      <td>428</td>\n",
       "    </tr>\n",
       "    <tr>\n",
       "      <th>617</th>\n",
       "      <td>10</td>\n",
       "      <td>3</td>\n",
       "      <td>145834</td>\n",
       "      <td>7.0</td>\n",
       "      <td>6826</td>\n",
       "      <td>682</td>\n",
       "    </tr>\n",
       "    <tr>\n",
       "      <th>618</th>\n",
       "      <td>11</td>\n",
       "      <td>3</td>\n",
       "      <td>145834</td>\n",
       "      <td>8.0</td>\n",
       "      <td>4254</td>\n",
       "      <td>425</td>\n",
       "    </tr>\n",
       "    <tr>\n",
       "      <th>619</th>\n",
       "      <td>12</td>\n",
       "      <td>3</td>\n",
       "      <td>145834</td>\n",
       "      <td>9.0</td>\n",
       "      <td>2639</td>\n",
       "      <td>263</td>\n",
       "    </tr>\n",
       "    <tr>\n",
       "      <th>620</th>\n",
       "      <td>13</td>\n",
       "      <td>4</td>\n",
       "      <td>185777</td>\n",
       "      <td>1.0</td>\n",
       "      <td>042</td>\n",
       "      <td>042</td>\n",
       "    </tr>\n",
       "    <tr>\n",
       "      <th>621</th>\n",
       "      <td>14</td>\n",
       "      <td>4</td>\n",
       "      <td>185777</td>\n",
       "      <td>2.0</td>\n",
       "      <td>1363</td>\n",
       "      <td>136</td>\n",
       "    </tr>\n",
       "    <tr>\n",
       "      <th>622</th>\n",
       "      <td>15</td>\n",
       "      <td>4</td>\n",
       "      <td>185777</td>\n",
       "      <td>3.0</td>\n",
       "      <td>7994</td>\n",
       "      <td>799</td>\n",
       "    </tr>\n",
       "    <tr>\n",
       "      <th>623</th>\n",
       "      <td>16</td>\n",
       "      <td>4</td>\n",
       "      <td>185777</td>\n",
       "      <td>4.0</td>\n",
       "      <td>2763</td>\n",
       "      <td>276</td>\n",
       "    </tr>\n",
       "    <tr>\n",
       "      <th>624</th>\n",
       "      <td>17</td>\n",
       "      <td>4</td>\n",
       "      <td>185777</td>\n",
       "      <td>5.0</td>\n",
       "      <td>7907</td>\n",
       "      <td>790</td>\n",
       "    </tr>\n",
       "    <tr>\n",
       "      <th>625</th>\n",
       "      <td>18</td>\n",
       "      <td>4</td>\n",
       "      <td>185777</td>\n",
       "      <td>6.0</td>\n",
       "      <td>5715</td>\n",
       "      <td>571</td>\n",
       "    </tr>\n",
       "    <tr>\n",
       "      <th>626</th>\n",
       "      <td>19</td>\n",
       "      <td>4</td>\n",
       "      <td>185777</td>\n",
       "      <td>7.0</td>\n",
       "      <td>04111</td>\n",
       "      <td>041</td>\n",
       "    </tr>\n",
       "    <tr>\n",
       "      <th>627</th>\n",
       "      <td>20</td>\n",
       "      <td>4</td>\n",
       "      <td>185777</td>\n",
       "      <td>8.0</td>\n",
       "      <td>V090</td>\n",
       "      <td>V09</td>\n",
       "    </tr>\n",
       "    <tr>\n",
       "      <th>628</th>\n",
       "      <td>21</td>\n",
       "      <td>4</td>\n",
       "      <td>185777</td>\n",
       "      <td>9.0</td>\n",
       "      <td>E9317</td>\n",
       "      <td>E93</td>\n",
       "    </tr>\n",
       "    <tr>\n",
       "      <th>629</th>\n",
       "      <td>22</td>\n",
       "      <td>5</td>\n",
       "      <td>178980</td>\n",
       "      <td>1.0</td>\n",
       "      <td>V3000</td>\n",
       "      <td>V30</td>\n",
       "    </tr>\n",
       "    <tr>\n",
       "      <th>630</th>\n",
       "      <td>23</td>\n",
       "      <td>5</td>\n",
       "      <td>178980</td>\n",
       "      <td>2.0</td>\n",
       "      <td>V053</td>\n",
       "      <td>V05</td>\n",
       "    </tr>\n",
       "    <tr>\n",
       "      <th>631</th>\n",
       "      <td>24</td>\n",
       "      <td>5</td>\n",
       "      <td>178980</td>\n",
       "      <td>3.0</td>\n",
       "      <td>V290</td>\n",
       "      <td>V29</td>\n",
       "    </tr>\n",
       "    <tr>\n",
       "      <th>632</th>\n",
       "      <td>25</td>\n",
       "      <td>6</td>\n",
       "      <td>107064</td>\n",
       "      <td>1.0</td>\n",
       "      <td>40391</td>\n",
       "      <td>403</td>\n",
       "    </tr>\n",
       "    <tr>\n",
       "      <th>633</th>\n",
       "      <td>26</td>\n",
       "      <td>6</td>\n",
       "      <td>107064</td>\n",
       "      <td>2.0</td>\n",
       "      <td>4440</td>\n",
       "      <td>444</td>\n",
       "    </tr>\n",
       "    <tr>\n",
       "      <th>634</th>\n",
       "      <td>27</td>\n",
       "      <td>6</td>\n",
       "      <td>107064</td>\n",
       "      <td>3.0</td>\n",
       "      <td>9972</td>\n",
       "      <td>997</td>\n",
       "    </tr>\n",
       "    <tr>\n",
       "      <th>635</th>\n",
       "      <td>28</td>\n",
       "      <td>6</td>\n",
       "      <td>107064</td>\n",
       "      <td>4.0</td>\n",
       "      <td>2766</td>\n",
       "      <td>276</td>\n",
       "    </tr>\n",
       "    <tr>\n",
       "      <th>636</th>\n",
       "      <td>29</td>\n",
       "      <td>6</td>\n",
       "      <td>107064</td>\n",
       "      <td>5.0</td>\n",
       "      <td>2767</td>\n",
       "      <td>276</td>\n",
       "    </tr>\n",
       "    <tr>\n",
       "      <th>637</th>\n",
       "      <td>30</td>\n",
       "      <td>6</td>\n",
       "      <td>107064</td>\n",
       "      <td>6.0</td>\n",
       "      <td>2859</td>\n",
       "      <td>285</td>\n",
       "    </tr>\n",
       "  </tbody>\n",
       "</table>\n",
       "</div>"
      ],
      "text/plain": [
       "     ROW_ID  SUBJECT_ID  HADM_ID  SEQ_NUM ICD9_CODE ICD9_CODE3\n",
       "608       1           2   163353      1.0     V3001        V30\n",
       "609       2           2   163353      2.0      V053        V05\n",
       "610       3           2   163353      3.0      V290        V29\n",
       "611       4           3   145834      1.0      0389        038\n",
       "612       5           3   145834      2.0     78559        785\n",
       "613       6           3   145834      3.0      5849        584\n",
       "614       7           3   145834      4.0      4275        427\n",
       "615       8           3   145834      5.0     41071        410\n",
       "616       9           3   145834      6.0      4280        428\n",
       "617      10           3   145834      7.0      6826        682\n",
       "618      11           3   145834      8.0      4254        425\n",
       "619      12           3   145834      9.0      2639        263\n",
       "620      13           4   185777      1.0       042        042\n",
       "621      14           4   185777      2.0      1363        136\n",
       "622      15           4   185777      3.0      7994        799\n",
       "623      16           4   185777      4.0      2763        276\n",
       "624      17           4   185777      5.0      7907        790\n",
       "625      18           4   185777      6.0      5715        571\n",
       "626      19           4   185777      7.0     04111        041\n",
       "627      20           4   185777      8.0      V090        V09\n",
       "628      21           4   185777      9.0     E9317        E93\n",
       "629      22           5   178980      1.0     V3000        V30\n",
       "630      23           5   178980      2.0      V053        V05\n",
       "631      24           5   178980      3.0      V290        V29\n",
       "632      25           6   107064      1.0     40391        403\n",
       "633      26           6   107064      2.0      4440        444\n",
       "634      27           6   107064      3.0      9972        997\n",
       "635      28           6   107064      4.0      2766        276\n",
       "636      29           6   107064      5.0      2767        276\n",
       "637      30           6   107064      6.0      2859        285"
      ]
     },
     "execution_count": 66,
     "metadata": {},
     "output_type": "execute_result"
    }
   ],
   "source": [
    "diagnosis.head(30)"
   ]
  },
  {
   "cell_type": "code",
   "execution_count": 42,
   "id": "julian-distributor",
   "metadata": {},
   "outputs": [
    {
     "data": {
      "text/plain": [
       "row_id          int64\n",
       "subject_id      int64\n",
       "hadm_id         int64\n",
       "seq_num       float64\n",
       "icd9_code      object\n",
       "dtype: object"
      ]
     },
     "execution_count": 42,
     "metadata": {},
     "output_type": "execute_result"
    }
   ],
   "source": [
    "diagnosis.dtypes"
   ]
  },
  {
   "cell_type": "code",
   "execution_count": 36,
   "id": "approximate-samba",
   "metadata": {},
   "outputs": [],
   "source": [
    "diagnosis.to_pickle('diagnosis.pkl')"
   ]
  },
  {
   "cell_type": "code",
   "execution_count": 102,
   "id": "allied-formation",
   "metadata": {},
   "outputs": [],
   "source": [
    "full_df = prefix_df.merge(df1hot_groups, how='left', on=['SUBJECT_ID', 'HADM_ID'])"
   ]
  },
  {
   "cell_type": "code",
   "execution_count": 103,
   "id": "precious-recipient",
   "metadata": {},
   "outputs": [
    {
     "data": {
      "text/plain": [
       "(28370, 130)"
      ]
     },
     "execution_count": 103,
     "metadata": {},
     "output_type": "execute_result"
    }
   ],
   "source": [
    "full_df.shape"
   ]
  },
  {
   "cell_type": "code",
   "execution_count": 68,
   "id": "narrow-measurement",
   "metadata": {},
   "outputs": [],
   "source": [
    "full_df1 = full_df[full_df['LOS']*24 > 6]"
   ]
  },
  {
   "cell_type": "code",
   "execution_count": 69,
   "id": "lasting-hungary",
   "metadata": {},
   "outputs": [
    {
     "data": {
      "text/plain": [
       "(28336, 130)"
      ]
     },
     "execution_count": 69,
     "metadata": {},
     "output_type": "execute_result"
    }
   ],
   "source": [
    "full_df1.shape"
   ]
  },
  {
   "cell_type": "code",
   "execution_count": 107,
   "id": "bearing-possibility",
   "metadata": {},
   "outputs": [
    {
     "data": {
      "text/plain": [
       "['index',\n",
       " 'SUBJECT_ID',\n",
       " 'HADM_ID',\n",
       " 'ICUSTAY_ID',\n",
       " 'LOS',\n",
       " 'ADMITTIME',\n",
       " 'DISCHTIME',\n",
       " 'DIAGNOSIS',\n",
       " 'AGE',\n",
       " 'Capillary_refill_rate__VALUENUM_min',\n",
       " 'Capillary_refill_rate__percent_change',\n",
       " 'Diastolic_blood_pressure__VALUENUM_min',\n",
       " 'Diastolic_blood_pressure__percent_change',\n",
       " 'Fraction_inspired_oxygen__VALUENUM_min',\n",
       " 'Fraction_inspired_oxygen__percent_change',\n",
       " 'Glascow_coma_scale_eye_opening__VALUENUM_min',\n",
       " 'Glascow_coma_scale_eye_opening__percent_change',\n",
       " 'Glascow_coma_scale_motor_response__VALUENUM_min',\n",
       " 'Glascow_coma_scale_motor_response__percent_change',\n",
       " 'Glascow_coma_scale_total__VALUENUM_min',\n",
       " 'Glascow_coma_scale_total__percent_change',\n",
       " 'Glascow_coma_scale_verbal_response__VALUENUM_min',\n",
       " 'Glascow_coma_scale_verbal_response__percent_change',\n",
       " 'Glucose__VALUENUM_min',\n",
       " 'Glucose__percent_change',\n",
       " 'Heart_Rate__VALUENUM_min',\n",
       " 'Heart_Rate__percent_change',\n",
       " 'Height__VALUENUM_min',\n",
       " 'Height__percent_change',\n",
       " 'Mean_blood_pressure__VALUENUM_min',\n",
       " 'Mean_blood_pressure__percent_change',\n",
       " 'Oxygen_saturation__VALUENUM_min',\n",
       " 'Oxygen_saturation__percent_change',\n",
       " 'Respiratory_rate__VALUENUM_min',\n",
       " 'Respiratory_rate__percent_change',\n",
       " 'Systolic_blood_pressure__VALUENUM_min',\n",
       " 'Systolic_blood_pressure__percent_change',\n",
       " 'Temperature__VALUENUM_min',\n",
       " 'Temperature__percent_change',\n",
       " 'Weight__VALUENUM_min',\n",
       " 'Weight__percent_change',\n",
       " 'pH__VALUENUM_min',\n",
       " 'pH__percent_change',\n",
       " 'Asian',\n",
       " 'Black',\n",
       " 'Hispanic',\n",
       " 'Other_Eth',\n",
       " 'Unknown',\n",
       " 'White',\n",
       " 'Catholic',\n",
       " 'Episcopalian',\n",
       " 'Jewish',\n",
       " 'Other_Rel',\n",
       " 'ProtestantQuaker',\n",
       " 'Unknown_Rel',\n",
       " 'Divorced',\n",
       " 'Married',\n",
       " 'Other_Mar',\n",
       " 'Separated',\n",
       " 'Single',\n",
       " 'Widowed',\n",
       " 'F',\n",
       " 'M',\n",
       " 'Government',\n",
       " 'Medicaid',\n",
       " 'Medicare',\n",
       " 'Private',\n",
       " 'Self Pay',\n",
       " 'SEQ_NUM',\n",
       " 'ICD9_CODE3_038',\n",
       " 'ICD9_CODE3_041',\n",
       " 'ICD9_CODE3_070',\n",
       " 'ICD9_CODE3_244',\n",
       " 'ICD9_CODE3_250',\n",
       " 'ICD9_CODE3_272',\n",
       " 'ICD9_CODE3_276',\n",
       " 'ICD9_CODE3_278',\n",
       " 'ICD9_CODE3_285',\n",
       " 'ICD9_CODE3_287',\n",
       " 'ICD9_CODE3_300',\n",
       " 'ICD9_CODE3_305',\n",
       " 'ICD9_CODE3_311',\n",
       " 'ICD9_CODE3_348',\n",
       " 'ICD9_CODE3_401',\n",
       " 'ICD9_CODE3_403',\n",
       " 'ICD9_CODE3_410',\n",
       " 'ICD9_CODE3_412',\n",
       " 'ICD9_CODE3_414',\n",
       " 'ICD9_CODE3_416',\n",
       " 'ICD9_CODE3_424',\n",
       " 'ICD9_CODE3_427',\n",
       " 'ICD9_CODE3_428',\n",
       " 'ICD9_CODE3_458',\n",
       " 'ICD9_CODE3_486',\n",
       " 'ICD9_CODE3_493',\n",
       " 'ICD9_CODE3_496',\n",
       " 'ICD9_CODE3_507',\n",
       " 'ICD9_CODE3_511',\n",
       " 'ICD9_CODE3_518',\n",
       " 'ICD9_CODE3_530',\n",
       " 'ICD9_CODE3_571',\n",
       " 'ICD9_CODE3_578',\n",
       " 'ICD9_CODE3_584',\n",
       " 'ICD9_CODE3_585',\n",
       " 'ICD9_CODE3_599',\n",
       " 'ICD9_CODE3_707',\n",
       " 'ICD9_CODE3_733',\n",
       " 'ICD9_CODE3_765',\n",
       " 'ICD9_CODE3_770',\n",
       " 'ICD9_CODE3_774',\n",
       " 'ICD9_CODE3_780',\n",
       " 'ICD9_CODE3_785',\n",
       " 'ICD9_CODE3_787',\n",
       " 'ICD9_CODE3_790',\n",
       " 'ICD9_CODE3_995',\n",
       " 'ICD9_CODE3_996',\n",
       " 'ICD9_CODE3_997',\n",
       " 'ICD9_CODE3_998',\n",
       " 'ICD9_CODE3_E87',\n",
       " 'ICD9_CODE3_E88',\n",
       " 'ICD9_CODE3_E93',\n",
       " 'ICD9_CODE3_V05',\n",
       " 'ICD9_CODE3_V10',\n",
       " 'ICD9_CODE3_V12',\n",
       " 'ICD9_CODE3_V15',\n",
       " 'ICD9_CODE3_V29',\n",
       " 'ICD9_CODE3_V30',\n",
       " 'ICD9_CODE3_V45',\n",
       " 'ICD9_CODE3_V58',\n",
       " 'ICD9_CODE3_not_in_top']"
      ]
     },
     "execution_count": 107,
     "metadata": {},
     "output_type": "execute_result"
    }
   ],
   "source": [
    "list(full_df.columns)"
   ]
  },
  {
   "cell_type": "code",
   "execution_count": 104,
   "id": "entitled-fruit",
   "metadata": {},
   "outputs": [
    {
     "data": {
      "text/html": [
       "<div>\n",
       "<style scoped>\n",
       "    .dataframe tbody tr th:only-of-type {\n",
       "        vertical-align: middle;\n",
       "    }\n",
       "\n",
       "    .dataframe tbody tr th {\n",
       "        vertical-align: top;\n",
       "    }\n",
       "\n",
       "    .dataframe thead th {\n",
       "        text-align: right;\n",
       "    }\n",
       "</style>\n",
       "<table border=\"1\" class=\"dataframe\">\n",
       "  <thead>\n",
       "    <tr style=\"text-align: right;\">\n",
       "      <th></th>\n",
       "      <th>index</th>\n",
       "      <th>SUBJECT_ID</th>\n",
       "      <th>HADM_ID</th>\n",
       "      <th>ICUSTAY_ID</th>\n",
       "      <th>LOS</th>\n",
       "      <th>ADMITTIME</th>\n",
       "      <th>DISCHTIME</th>\n",
       "      <th>DIAGNOSIS</th>\n",
       "      <th>AGE</th>\n",
       "      <th>Capillary_refill_rate__VALUENUM_min</th>\n",
       "      <th>...</th>\n",
       "      <th>ICD9_CODE3_E93</th>\n",
       "      <th>ICD9_CODE3_V05</th>\n",
       "      <th>ICD9_CODE3_V10</th>\n",
       "      <th>ICD9_CODE3_V12</th>\n",
       "      <th>ICD9_CODE3_V15</th>\n",
       "      <th>ICD9_CODE3_V29</th>\n",
       "      <th>ICD9_CODE3_V30</th>\n",
       "      <th>ICD9_CODE3_V45</th>\n",
       "      <th>ICD9_CODE3_V58</th>\n",
       "      <th>ICD9_CODE3_not_in_top</th>\n",
       "    </tr>\n",
       "  </thead>\n",
       "  <tbody>\n",
       "    <tr>\n",
       "      <th>0</th>\n",
       "      <td>0</td>\n",
       "      <td>33</td>\n",
       "      <td>176176</td>\n",
       "      <td>296681</td>\n",
       "      <td>1.5542</td>\n",
       "      <td>2116-12-23T22:30:00.000Z</td>\n",
       "      <td>2116-12-27T12:05:00.000Z</td>\n",
       "      <td>SEPSIS;TELEMETRY</td>\n",
       "      <td>82.390144</td>\n",
       "      <td>NaN</td>\n",
       "      <td>...</td>\n",
       "      <td>0</td>\n",
       "      <td>0</td>\n",
       "      <td>0</td>\n",
       "      <td>0</td>\n",
       "      <td>0</td>\n",
       "      <td>0</td>\n",
       "      <td>0</td>\n",
       "      <td>0</td>\n",
       "      <td>0</td>\n",
       "      <td>1</td>\n",
       "    </tr>\n",
       "    <tr>\n",
       "      <th>1</th>\n",
       "      <td>1</td>\n",
       "      <td>149</td>\n",
       "      <td>154869</td>\n",
       "      <td>224026</td>\n",
       "      <td>2.6856</td>\n",
       "      <td>2135-02-18T19:16:00.000Z</td>\n",
       "      <td>2135-02-26T17:00:00.000Z</td>\n",
       "      <td>CORONARY ARTERY DISEASE</td>\n",
       "      <td>299.994524</td>\n",
       "      <td>NaN</td>\n",
       "      <td>...</td>\n",
       "      <td>0</td>\n",
       "      <td>0</td>\n",
       "      <td>0</td>\n",
       "      <td>0</td>\n",
       "      <td>0</td>\n",
       "      <td>0</td>\n",
       "      <td>0</td>\n",
       "      <td>0</td>\n",
       "      <td>0</td>\n",
       "      <td>1</td>\n",
       "    </tr>\n",
       "    <tr>\n",
       "      <th>2</th>\n",
       "      <td>2</td>\n",
       "      <td>157</td>\n",
       "      <td>107880</td>\n",
       "      <td>264885</td>\n",
       "      <td>4.1192</td>\n",
       "      <td>2106-06-17T19:51:00.000Z</td>\n",
       "      <td>2106-06-24T17:50:00.000Z</td>\n",
       "      <td>SEPSIS</td>\n",
       "      <td>80.533881</td>\n",
       "      <td>NaN</td>\n",
       "      <td>...</td>\n",
       "      <td>0</td>\n",
       "      <td>0</td>\n",
       "      <td>0</td>\n",
       "      <td>0</td>\n",
       "      <td>0</td>\n",
       "      <td>0</td>\n",
       "      <td>0</td>\n",
       "      <td>0</td>\n",
       "      <td>1</td>\n",
       "      <td>1</td>\n",
       "    </tr>\n",
       "    <tr>\n",
       "      <th>3</th>\n",
       "      <td>3</td>\n",
       "      <td>183</td>\n",
       "      <td>113341</td>\n",
       "      <td>252525</td>\n",
       "      <td>1.1260</td>\n",
       "      <td>2188-07-03T16:41:00.000Z</td>\n",
       "      <td>2188-07-05T17:30:00.000Z</td>\n",
       "      <td>S/P MOTOR VEHICLE ACCIDENT</td>\n",
       "      <td>51.184120</td>\n",
       "      <td>NaN</td>\n",
       "      <td>...</td>\n",
       "      <td>0</td>\n",
       "      <td>0</td>\n",
       "      <td>0</td>\n",
       "      <td>0</td>\n",
       "      <td>0</td>\n",
       "      <td>0</td>\n",
       "      <td>0</td>\n",
       "      <td>0</td>\n",
       "      <td>0</td>\n",
       "      <td>1</td>\n",
       "    </tr>\n",
       "    <tr>\n",
       "      <th>4</th>\n",
       "      <td>4</td>\n",
       "      <td>197</td>\n",
       "      <td>129890</td>\n",
       "      <td>275674</td>\n",
       "      <td>0.8262</td>\n",
       "      <td>2174-03-22T19:47:00.000Z</td>\n",
       "      <td>2174-03-30T18:20:00.000Z</td>\n",
       "      <td>EXPLORATORY LAPAROTOMY FOR SMALL BOWEL OBSTRUC...</td>\n",
       "      <td>45.431896</td>\n",
       "      <td>NaN</td>\n",
       "      <td>...</td>\n",
       "      <td>0</td>\n",
       "      <td>0</td>\n",
       "      <td>0</td>\n",
       "      <td>0</td>\n",
       "      <td>0</td>\n",
       "      <td>0</td>\n",
       "      <td>0</td>\n",
       "      <td>0</td>\n",
       "      <td>0</td>\n",
       "      <td>1</td>\n",
       "    </tr>\n",
       "  </tbody>\n",
       "</table>\n",
       "<p>5 rows × 130 columns</p>\n",
       "</div>"
      ],
      "text/plain": [
       "   index  SUBJECT_ID  HADM_ID  ICUSTAY_ID     LOS                 ADMITTIME  \\\n",
       "0      0          33   176176      296681  1.5542  2116-12-23T22:30:00.000Z   \n",
       "1      1         149   154869      224026  2.6856  2135-02-18T19:16:00.000Z   \n",
       "2      2         157   107880      264885  4.1192  2106-06-17T19:51:00.000Z   \n",
       "3      3         183   113341      252525  1.1260  2188-07-03T16:41:00.000Z   \n",
       "4      4         197   129890      275674  0.8262  2174-03-22T19:47:00.000Z   \n",
       "\n",
       "                  DISCHTIME  \\\n",
       "0  2116-12-27T12:05:00.000Z   \n",
       "1  2135-02-26T17:00:00.000Z   \n",
       "2  2106-06-24T17:50:00.000Z   \n",
       "3  2188-07-05T17:30:00.000Z   \n",
       "4  2174-03-30T18:20:00.000Z   \n",
       "\n",
       "                                           DIAGNOSIS         AGE  \\\n",
       "0                                   SEPSIS;TELEMETRY   82.390144   \n",
       "1                            CORONARY ARTERY DISEASE  299.994524   \n",
       "2                                             SEPSIS   80.533881   \n",
       "3                         S/P MOTOR VEHICLE ACCIDENT   51.184120   \n",
       "4  EXPLORATORY LAPAROTOMY FOR SMALL BOWEL OBSTRUC...   45.431896   \n",
       "\n",
       "   Capillary_refill_rate__VALUENUM_min  ...  ICD9_CODE3_E93  ICD9_CODE3_V05  \\\n",
       "0                                  NaN  ...               0               0   \n",
       "1                                  NaN  ...               0               0   \n",
       "2                                  NaN  ...               0               0   \n",
       "3                                  NaN  ...               0               0   \n",
       "4                                  NaN  ...               0               0   \n",
       "\n",
       "   ICD9_CODE3_V10  ICD9_CODE3_V12  ICD9_CODE3_V15  ICD9_CODE3_V29  \\\n",
       "0               0               0               0               0   \n",
       "1               0               0               0               0   \n",
       "2               0               0               0               0   \n",
       "3               0               0               0               0   \n",
       "4               0               0               0               0   \n",
       "\n",
       "   ICD9_CODE3_V30  ICD9_CODE3_V45  ICD9_CODE3_V58  ICD9_CODE3_not_in_top  \n",
       "0               0               0               0                      1  \n",
       "1               0               0               0                      1  \n",
       "2               0               0               1                      1  \n",
       "3               0               0               0                      1  \n",
       "4               0               0               0                      1  \n",
       "\n",
       "[5 rows x 130 columns]"
      ]
     },
     "execution_count": 104,
     "metadata": {},
     "output_type": "execute_result"
    }
   ],
   "source": [
    "full_df.head()"
   ]
  },
  {
   "cell_type": "code",
   "execution_count": 117,
   "id": "finnish-brazilian",
   "metadata": {},
   "outputs": [],
   "source": [
    "full_df.to_pickle('full_df.pkl')"
   ]
  },
  {
   "cell_type": "code",
   "execution_count": 3,
   "id": "defensive-developer",
   "metadata": {},
   "outputs": [],
   "source": [
    "full_df = pd.read_pickle('full_df.pkl')"
   ]
  },
  {
   "cell_type": "code",
   "execution_count": 7,
   "id": "substantial-italic",
   "metadata": {},
   "outputs": [
    {
     "data": {
      "text/html": [
       "<div>\n",
       "<style scoped>\n",
       "    .dataframe tbody tr th:only-of-type {\n",
       "        vertical-align: middle;\n",
       "    }\n",
       "\n",
       "    .dataframe tbody tr th {\n",
       "        vertical-align: top;\n",
       "    }\n",
       "\n",
       "    .dataframe thead th {\n",
       "        text-align: right;\n",
       "    }\n",
       "</style>\n",
       "<table border=\"1\" class=\"dataframe\">\n",
       "  <thead>\n",
       "    <tr style=\"text-align: right;\">\n",
       "      <th></th>\n",
       "      <th>SUBJECT_ID</th>\n",
       "      <th>HADM_ID</th>\n",
       "      <th>ICUSTAY_ID</th>\n",
       "      <th>SEQ_NUM</th>\n",
       "      <th>ICD9_CODE3_038</th>\n",
       "      <th>ICD9_CODE3_041</th>\n",
       "      <th>ICD9_CODE3_070</th>\n",
       "      <th>ICD9_CODE3_244</th>\n",
       "      <th>ICD9_CODE3_250</th>\n",
       "      <th>ICD9_CODE3_272</th>\n",
       "      <th>ICD9_CODE3_276</th>\n",
       "      <th>ICD9_CODE3_278</th>\n",
       "      <th>ICD9_CODE3_285</th>\n",
       "      <th>ICD9_CODE3_287</th>\n",
       "      <th>ICD9_CODE3_300</th>\n",
       "      <th>ICD9_CODE3_305</th>\n",
       "    </tr>\n",
       "  </thead>\n",
       "  <tbody>\n",
       "    <tr>\n",
       "      <th>0</th>\n",
       "      <td>33</td>\n",
       "      <td>176176</td>\n",
       "      <td>296681</td>\n",
       "      <td>3.0</td>\n",
       "      <td>1</td>\n",
       "      <td>0</td>\n",
       "      <td>0</td>\n",
       "      <td>0</td>\n",
       "      <td>0</td>\n",
       "      <td>0</td>\n",
       "      <td>0</td>\n",
       "      <td>0</td>\n",
       "      <td>0</td>\n",
       "      <td>0</td>\n",
       "      <td>0</td>\n",
       "      <td>0</td>\n",
       "    </tr>\n",
       "    <tr>\n",
       "      <th>1</th>\n",
       "      <td>149</td>\n",
       "      <td>154869</td>\n",
       "      <td>224026</td>\n",
       "      <td>10.0</td>\n",
       "      <td>0</td>\n",
       "      <td>0</td>\n",
       "      <td>0</td>\n",
       "      <td>0</td>\n",
       "      <td>0</td>\n",
       "      <td>0</td>\n",
       "      <td>0</td>\n",
       "      <td>0</td>\n",
       "      <td>1</td>\n",
       "      <td>0</td>\n",
       "      <td>0</td>\n",
       "      <td>0</td>\n",
       "    </tr>\n",
       "    <tr>\n",
       "      <th>2</th>\n",
       "      <td>157</td>\n",
       "      <td>107880</td>\n",
       "      <td>264885</td>\n",
       "      <td>23.0</td>\n",
       "      <td>1</td>\n",
       "      <td>0</td>\n",
       "      <td>0</td>\n",
       "      <td>0</td>\n",
       "      <td>1</td>\n",
       "      <td>0</td>\n",
       "      <td>1</td>\n",
       "      <td>0</td>\n",
       "      <td>1</td>\n",
       "      <td>0</td>\n",
       "      <td>0</td>\n",
       "      <td>0</td>\n",
       "    </tr>\n",
       "    <tr>\n",
       "      <th>3</th>\n",
       "      <td>183</td>\n",
       "      <td>113341</td>\n",
       "      <td>252525</td>\n",
       "      <td>3.0</td>\n",
       "      <td>0</td>\n",
       "      <td>0</td>\n",
       "      <td>0</td>\n",
       "      <td>0</td>\n",
       "      <td>0</td>\n",
       "      <td>0</td>\n",
       "      <td>0</td>\n",
       "      <td>0</td>\n",
       "      <td>0</td>\n",
       "      <td>0</td>\n",
       "      <td>0</td>\n",
       "      <td>0</td>\n",
       "    </tr>\n",
       "    <tr>\n",
       "      <th>4</th>\n",
       "      <td>197</td>\n",
       "      <td>129890</td>\n",
       "      <td>275674</td>\n",
       "      <td>3.0</td>\n",
       "      <td>0</td>\n",
       "      <td>0</td>\n",
       "      <td>0</td>\n",
       "      <td>0</td>\n",
       "      <td>0</td>\n",
       "      <td>0</td>\n",
       "      <td>1</td>\n",
       "      <td>0</td>\n",
       "      <td>0</td>\n",
       "      <td>0</td>\n",
       "      <td>0</td>\n",
       "      <td>0</td>\n",
       "    </tr>\n",
       "  </tbody>\n",
       "</table>\n",
       "</div>"
      ],
      "text/plain": [
       "   SUBJECT_ID  HADM_ID  ICUSTAY_ID  SEQ_NUM  ICD9_CODE3_038  ICD9_CODE3_041  \\\n",
       "0          33   176176      296681      3.0               1               0   \n",
       "1         149   154869      224026     10.0               0               0   \n",
       "2         157   107880      264885     23.0               1               0   \n",
       "3         183   113341      252525      3.0               0               0   \n",
       "4         197   129890      275674      3.0               0               0   \n",
       "\n",
       "   ICD9_CODE3_070  ICD9_CODE3_244  ICD9_CODE3_250  ICD9_CODE3_272  \\\n",
       "0               0               0               0               0   \n",
       "1               0               0               0               0   \n",
       "2               0               0               1               0   \n",
       "3               0               0               0               0   \n",
       "4               0               0               0               0   \n",
       "\n",
       "   ICD9_CODE3_276  ICD9_CODE3_278  ICD9_CODE3_285  ICD9_CODE3_287  \\\n",
       "0               0               0               0               0   \n",
       "1               0               0               1               0   \n",
       "2               1               0               1               0   \n",
       "3               0               0               0               0   \n",
       "4               1               0               0               0   \n",
       "\n",
       "   ICD9_CODE3_300  ICD9_CODE3_305  \n",
       "0               0               0  \n",
       "1               0               0  \n",
       "2               0               0  \n",
       "3               0               0  \n",
       "4               0               0  "
      ]
     },
     "execution_count": 7,
     "metadata": {},
     "output_type": "execute_result"
    }
   ],
   "source": [
    "full_df[['SUBJECT_ID',\n",
    " 'HADM_ID',\n",
    " 'ICUSTAY_ID',\n",
    " 'SEQ_NUM',\n",
    " 'ICD9_CODE3_038',\n",
    " 'ICD9_CODE3_041',\n",
    " 'ICD9_CODE3_070',\n",
    " 'ICD9_CODE3_244',\n",
    " 'ICD9_CODE3_250',\n",
    " 'ICD9_CODE3_272',\n",
    " 'ICD9_CODE3_276',\n",
    " 'ICD9_CODE3_278',\n",
    " 'ICD9_CODE3_285',\n",
    " 'ICD9_CODE3_287',\n",
    " 'ICD9_CODE3_300',\n",
    " 'ICD9_CODE3_305',]].head()"
   ]
  },
  {
   "cell_type": "code",
   "execution_count": 8,
   "id": "spiritual-violence",
   "metadata": {},
   "outputs": [],
   "source": [
    "target = full_df['LOS']\n",
    "variables =full_df.drop(['index', 'SUBJECT_ID', 'HADM_ID', 'ICUSTAY_ID', 'LOS', 'ADMITTIME',\n",
    "       'DISCHTIME', 'DIAGNOSIS'],axis=1)\n",
    "train_features, test_features, train_labels, test_labels = train_test_split(variables, target, test_size = 0.3, random_state = 1992)\n"
   ]
  },
  {
   "cell_type": "code",
   "execution_count": 70,
   "id": "brave-absorption",
   "metadata": {},
   "outputs": [],
   "source": [
    "target1 = full_df1['LOS']\n",
    "variables1 =full_df1.drop(['index', 'SUBJECT_ID', 'HADM_ID', 'ICUSTAY_ID', 'LOS', 'ADMITTIME',\n",
    "       'DISCHTIME', 'DIAGNOSIS'],axis=1)\n",
    "train_features1, test_features1, train_labels1, test_labels1 = train_test_split(variables1, target1, test_size = 0.3, random_state = 1992)\n"
   ]
  },
  {
   "cell_type": "code",
   "execution_count": 71,
   "id": "another-permission",
   "metadata": {},
   "outputs": [
    {
     "data": {
      "text/plain": [
       "(19835, 122)"
      ]
     },
     "execution_count": 71,
     "metadata": {},
     "output_type": "execute_result"
    }
   ],
   "source": [
    "train_features1.shape"
   ]
  },
  {
   "cell_type": "code",
   "execution_count": null,
   "id": "mathematical-lithuania",
   "metadata": {},
   "outputs": [],
   "source": [
    "full_df1"
   ]
  },
  {
   "cell_type": "code",
   "execution_count": 6,
   "id": "enclosed-trigger",
   "metadata": {},
   "outputs": [
    {
     "data": {
      "text/plain": [
       "(19859, 122)"
      ]
     },
     "execution_count": 6,
     "metadata": {},
     "output_type": "execute_result"
    }
   ],
   "source": [
    "train_features.shape"
   ]
  },
  {
   "cell_type": "code",
   "execution_count": 10,
   "id": "oriented-oxford",
   "metadata": {},
   "outputs": [],
   "source": [
    "#Define Parameters\n",
    "from scipy.stats import randint\n",
    "from scipy.stats import uniform\n",
    "from sklearn.model_selection import KFold\n",
    "\n",
    "mcw_high=21\n",
    "mcw_low=1\n",
    "\n",
    "\n",
    "mdepth_low=2\n",
    "mdepth_high=12\n",
    "\n",
    "#Original List\n",
    "rlambdas = [0.001,0.01,0.05,0.5,1,10,20]\n",
    "ralphas = [0.001,0.01,0.05,0.02,0.5,1,10,20]\n",
    "\n",
    "gamma_high=14\n",
    "gamma_low=0\n",
    "\n",
    "#colsam_high=1\n",
    "#colsam_low=0.5\n",
    "\n",
    "etas_high=0.4\n",
    "etas_low=0.01\n",
    "\n",
    "n_est_high=1000\n",
    "n_est_low=25\n",
    "\n",
    "n_iter_search=30\n",
    "OUT=[]\n",
    "training_auc=[]\n",
    "test_auc=[]\n",
    "oot_auc=[]\n",
    "\n",
    "top4=[]\n",
    "j=0\n",
    "\n",
    "\n",
    "params={'min_child_weight':randint(mcw_low,mcw_high),\n",
    "     'max_depth':randint(mdepth_low,mdepth_high),\n",
    "     'reg_lambda':rlambdas,\n",
    "     #'colsample_bylevel':uniform(colsam_low,colsam_high),\n",
    "     'learning_rate':uniform(etas_low,etas_high-etas_low),\n",
    "     'gamma':uniform(gamma_low,gamma_high-gamma_low),\n",
    "     'reg_alpha':ralphas,\n",
    "     'n_estimators':randint(n_est_low,n_est_high)   \n",
    "       }\n"
   ]
  },
  {
   "cell_type": "code",
   "execution_count": 11,
   "id": "helpful-enlargement",
   "metadata": {},
   "outputs": [],
   "source": [
    "xgb_reg = xgb.XGBRegressor(n_jobs=4, objective='reg:squarederror',random_state=1992, importance_type='total_gain')\n",
    "kfold = KFold(n_splits=3)"
   ]
  },
  {
   "cell_type": "code",
   "execution_count": null,
   "id": "described-prairie",
   "metadata": {
    "collapsed": true,
    "jupyter": {
     "outputs_hidden": true
    }
   },
   "outputs": [
    {
     "name": "stdout",
     "output_type": "stream",
     "text": [
      "Fitting 3 folds for each of 30 candidates, totalling 90 fits\n"
     ]
    },
    {
     "name": "stderr",
     "output_type": "stream",
     "text": [
      "/home/ec2-user/anaconda3/envs/python3/lib/python3.6/site-packages/xgboost/data.py:115: UserWarning: Use subset (sliced data) of np.ndarray is not recommended because it will generate extra copies and increase memory consumption\n",
      "  \"memory consumption\")\n"
     ]
    },
    {
     "name": "stdout",
     "output_type": "stream",
     "text": [
      "[CV] END gamma=5.243561663863074, learning_rate=0.3807785794998673, max_depth=9, min_child_weight=7, n_estimators=146, reg_alpha=0.05, reg_lambda=20; total time=  11.2s\n"
     ]
    },
    {
     "name": "stderr",
     "output_type": "stream",
     "text": [
      "/home/ec2-user/anaconda3/envs/python3/lib/python3.6/site-packages/xgboost/data.py:115: UserWarning: Use subset (sliced data) of np.ndarray is not recommended because it will generate extra copies and increase memory consumption\n",
      "  \"memory consumption\")\n"
     ]
    },
    {
     "name": "stdout",
     "output_type": "stream",
     "text": [
      "[CV] END gamma=5.243561663863074, learning_rate=0.3807785794998673, max_depth=9, min_child_weight=7, n_estimators=146, reg_alpha=0.05, reg_lambda=20; total time=  11.6s\n"
     ]
    },
    {
     "name": "stderr",
     "output_type": "stream",
     "text": [
      "/home/ec2-user/anaconda3/envs/python3/lib/python3.6/site-packages/xgboost/data.py:115: UserWarning: Use subset (sliced data) of np.ndarray is not recommended because it will generate extra copies and increase memory consumption\n",
      "  \"memory consumption\")\n"
     ]
    },
    {
     "name": "stdout",
     "output_type": "stream",
     "text": [
      "[CV] END gamma=5.243561663863074, learning_rate=0.3807785794998673, max_depth=9, min_child_weight=7, n_estimators=146, reg_alpha=0.05, reg_lambda=20; total time=  11.9s\n"
     ]
    },
    {
     "name": "stderr",
     "output_type": "stream",
     "text": [
      "/home/ec2-user/anaconda3/envs/python3/lib/python3.6/site-packages/xgboost/data.py:115: UserWarning: Use subset (sliced data) of np.ndarray is not recommended because it will generate extra copies and increase memory consumption\n",
      "  \"memory consumption\")\n"
     ]
    },
    {
     "name": "stdout",
     "output_type": "stream",
     "text": [
      "[CV] END gamma=0.8131705703547925, learning_rate=0.34780869685222476, max_depth=5, min_child_weight=8, n_estimators=688, reg_alpha=0.05, reg_lambda=10; total time=  27.4s\n"
     ]
    },
    {
     "name": "stderr",
     "output_type": "stream",
     "text": [
      "/home/ec2-user/anaconda3/envs/python3/lib/python3.6/site-packages/xgboost/data.py:115: UserWarning: Use subset (sliced data) of np.ndarray is not recommended because it will generate extra copies and increase memory consumption\n",
      "  \"memory consumption\")\n"
     ]
    },
    {
     "name": "stdout",
     "output_type": "stream",
     "text": [
      "[CV] END gamma=0.8131705703547925, learning_rate=0.34780869685222476, max_depth=5, min_child_weight=8, n_estimators=688, reg_alpha=0.05, reg_lambda=10; total time=  29.2s\n"
     ]
    },
    {
     "name": "stderr",
     "output_type": "stream",
     "text": [
      "/home/ec2-user/anaconda3/envs/python3/lib/python3.6/site-packages/xgboost/data.py:115: UserWarning: Use subset (sliced data) of np.ndarray is not recommended because it will generate extra copies and increase memory consumption\n",
      "  \"memory consumption\")\n"
     ]
    },
    {
     "name": "stdout",
     "output_type": "stream",
     "text": [
      "[CV] END gamma=0.8131705703547925, learning_rate=0.34780869685222476, max_depth=5, min_child_weight=8, n_estimators=688, reg_alpha=0.05, reg_lambda=10; total time=  27.5s\n"
     ]
    },
    {
     "name": "stderr",
     "output_type": "stream",
     "text": [
      "/home/ec2-user/anaconda3/envs/python3/lib/python3.6/site-packages/xgboost/data.py:115: UserWarning: Use subset (sliced data) of np.ndarray is not recommended because it will generate extra copies and increase memory consumption\n",
      "  \"memory consumption\")\n"
     ]
    },
    {
     "name": "stdout",
     "output_type": "stream",
     "text": [
      "[CV] END gamma=0.7897621063794036, learning_rate=0.29157952118406166, max_depth=7, min_child_weight=2, n_estimators=216, reg_alpha=0.02, reg_lambda=1; total time=  13.1s\n"
     ]
    },
    {
     "name": "stderr",
     "output_type": "stream",
     "text": [
      "/home/ec2-user/anaconda3/envs/python3/lib/python3.6/site-packages/xgboost/data.py:115: UserWarning: Use subset (sliced data) of np.ndarray is not recommended because it will generate extra copies and increase memory consumption\n",
      "  \"memory consumption\")\n"
     ]
    },
    {
     "name": "stdout",
     "output_type": "stream",
     "text": [
      "[CV] END gamma=0.7897621063794036, learning_rate=0.29157952118406166, max_depth=7, min_child_weight=2, n_estimators=216, reg_alpha=0.02, reg_lambda=1; total time=  12.9s\n"
     ]
    },
    {
     "name": "stderr",
     "output_type": "stream",
     "text": [
      "/home/ec2-user/anaconda3/envs/python3/lib/python3.6/site-packages/xgboost/data.py:115: UserWarning: Use subset (sliced data) of np.ndarray is not recommended because it will generate extra copies and increase memory consumption\n",
      "  \"memory consumption\")\n"
     ]
    },
    {
     "name": "stdout",
     "output_type": "stream",
     "text": [
      "[CV] END gamma=0.7897621063794036, learning_rate=0.29157952118406166, max_depth=7, min_child_weight=2, n_estimators=216, reg_alpha=0.02, reg_lambda=1; total time=  13.1s\n"
     ]
    },
    {
     "name": "stderr",
     "output_type": "stream",
     "text": [
      "/home/ec2-user/anaconda3/envs/python3/lib/python3.6/site-packages/xgboost/data.py:115: UserWarning: Use subset (sliced data) of np.ndarray is not recommended because it will generate extra copies and increase memory consumption\n",
      "  \"memory consumption\")\n"
     ]
    },
    {
     "name": "stdout",
     "output_type": "stream",
     "text": [
      "[CV] END gamma=8.644741134788031, learning_rate=0.24854473259042956, max_depth=10, min_child_weight=17, n_estimators=499, reg_alpha=0.05, reg_lambda=20; total time=  37.9s\n"
     ]
    },
    {
     "name": "stderr",
     "output_type": "stream",
     "text": [
      "/home/ec2-user/anaconda3/envs/python3/lib/python3.6/site-packages/xgboost/data.py:115: UserWarning: Use subset (sliced data) of np.ndarray is not recommended because it will generate extra copies and increase memory consumption\n",
      "  \"memory consumption\")\n"
     ]
    },
    {
     "name": "stdout",
     "output_type": "stream",
     "text": [
      "[CV] END gamma=8.644741134788031, learning_rate=0.24854473259042956, max_depth=10, min_child_weight=17, n_estimators=499, reg_alpha=0.05, reg_lambda=20; total time=  38.2s\n"
     ]
    },
    {
     "name": "stderr",
     "output_type": "stream",
     "text": [
      "/home/ec2-user/anaconda3/envs/python3/lib/python3.6/site-packages/xgboost/data.py:115: UserWarning: Use subset (sliced data) of np.ndarray is not recommended because it will generate extra copies and increase memory consumption\n",
      "  \"memory consumption\")\n"
     ]
    },
    {
     "name": "stdout",
     "output_type": "stream",
     "text": [
      "[CV] END gamma=8.644741134788031, learning_rate=0.24854473259042956, max_depth=10, min_child_weight=17, n_estimators=499, reg_alpha=0.05, reg_lambda=20; total time=  40.8s\n"
     ]
    },
    {
     "name": "stderr",
     "output_type": "stream",
     "text": [
      "/home/ec2-user/anaconda3/envs/python3/lib/python3.6/site-packages/xgboost/data.py:115: UserWarning: Use subset (sliced data) of np.ndarray is not recommended because it will generate extra copies and increase memory consumption\n",
      "  \"memory consumption\")\n"
     ]
    },
    {
     "name": "stdout",
     "output_type": "stream",
     "text": [
      "[CV] END gamma=1.9529140491285857, learning_rate=0.12393641292873508, max_depth=4, min_child_weight=12, n_estimators=591, reg_alpha=0.02, reg_lambda=0.001; total time=  18.9s\n"
     ]
    },
    {
     "name": "stderr",
     "output_type": "stream",
     "text": [
      "/home/ec2-user/anaconda3/envs/python3/lib/python3.6/site-packages/xgboost/data.py:115: UserWarning: Use subset (sliced data) of np.ndarray is not recommended because it will generate extra copies and increase memory consumption\n",
      "  \"memory consumption\")\n"
     ]
    },
    {
     "name": "stdout",
     "output_type": "stream",
     "text": [
      "[CV] END gamma=1.9529140491285857, learning_rate=0.12393641292873508, max_depth=4, min_child_weight=12, n_estimators=591, reg_alpha=0.02, reg_lambda=0.001; total time=  18.8s\n"
     ]
    },
    {
     "name": "stderr",
     "output_type": "stream",
     "text": [
      "/home/ec2-user/anaconda3/envs/python3/lib/python3.6/site-packages/xgboost/data.py:115: UserWarning: Use subset (sliced data) of np.ndarray is not recommended because it will generate extra copies and increase memory consumption\n",
      "  \"memory consumption\")\n"
     ]
    },
    {
     "name": "stdout",
     "output_type": "stream",
     "text": [
      "[CV] END gamma=1.9529140491285857, learning_rate=0.12393641292873508, max_depth=4, min_child_weight=12, n_estimators=591, reg_alpha=0.02, reg_lambda=0.001; total time=  18.9s\n"
     ]
    },
    {
     "name": "stderr",
     "output_type": "stream",
     "text": [
      "/home/ec2-user/anaconda3/envs/python3/lib/python3.6/site-packages/xgboost/data.py:115: UserWarning: Use subset (sliced data) of np.ndarray is not recommended because it will generate extra copies and increase memory consumption\n",
      "  \"memory consumption\")\n"
     ]
    },
    {
     "name": "stdout",
     "output_type": "stream",
     "text": [
      "[CV] END gamma=0.6503057780799681, learning_rate=0.24694249224156098, max_depth=6, min_child_weight=9, n_estimators=191, reg_alpha=0.01, reg_lambda=0.5; total time=   9.4s\n"
     ]
    },
    {
     "name": "stderr",
     "output_type": "stream",
     "text": [
      "/home/ec2-user/anaconda3/envs/python3/lib/python3.6/site-packages/xgboost/data.py:115: UserWarning: Use subset (sliced data) of np.ndarray is not recommended because it will generate extra copies and increase memory consumption\n",
      "  \"memory consumption\")\n"
     ]
    },
    {
     "name": "stdout",
     "output_type": "stream",
     "text": [
      "[CV] END gamma=0.6503057780799681, learning_rate=0.24694249224156098, max_depth=6, min_child_weight=9, n_estimators=191, reg_alpha=0.01, reg_lambda=0.5; total time=   9.4s\n"
     ]
    },
    {
     "name": "stderr",
     "output_type": "stream",
     "text": [
      "/home/ec2-user/anaconda3/envs/python3/lib/python3.6/site-packages/xgboost/data.py:115: UserWarning: Use subset (sliced data) of np.ndarray is not recommended because it will generate extra copies and increase memory consumption\n",
      "  \"memory consumption\")\n"
     ]
    },
    {
     "name": "stdout",
     "output_type": "stream",
     "text": [
      "[CV] END gamma=0.6503057780799681, learning_rate=0.24694249224156098, max_depth=6, min_child_weight=9, n_estimators=191, reg_alpha=0.01, reg_lambda=0.5; total time=   9.4s\n"
     ]
    },
    {
     "name": "stderr",
     "output_type": "stream",
     "text": [
      "/home/ec2-user/anaconda3/envs/python3/lib/python3.6/site-packages/xgboost/data.py:115: UserWarning: Use subset (sliced data) of np.ndarray is not recommended because it will generate extra copies and increase memory consumption\n",
      "  \"memory consumption\")\n"
     ]
    },
    {
     "name": "stdout",
     "output_type": "stream",
     "text": [
      "[CV] END gamma=13.19082457958794, learning_rate=0.22968240495976033, max_depth=11, min_child_weight=9, n_estimators=370, reg_alpha=0.5, reg_lambda=0.01; total time=  31.9s\n"
     ]
    },
    {
     "name": "stderr",
     "output_type": "stream",
     "text": [
      "/home/ec2-user/anaconda3/envs/python3/lib/python3.6/site-packages/xgboost/data.py:115: UserWarning: Use subset (sliced data) of np.ndarray is not recommended because it will generate extra copies and increase memory consumption\n",
      "  \"memory consumption\")\n"
     ]
    },
    {
     "name": "stdout",
     "output_type": "stream",
     "text": [
      "[CV] END gamma=13.19082457958794, learning_rate=0.22968240495976033, max_depth=11, min_child_weight=9, n_estimators=370, reg_alpha=0.5, reg_lambda=0.01; total time=  32.0s\n"
     ]
    },
    {
     "name": "stderr",
     "output_type": "stream",
     "text": [
      "/home/ec2-user/anaconda3/envs/python3/lib/python3.6/site-packages/xgboost/data.py:115: UserWarning: Use subset (sliced data) of np.ndarray is not recommended because it will generate extra copies and increase memory consumption\n",
      "  \"memory consumption\")\n"
     ]
    },
    {
     "name": "stdout",
     "output_type": "stream",
     "text": [
      "[CV] END gamma=13.19082457958794, learning_rate=0.22968240495976033, max_depth=11, min_child_weight=9, n_estimators=370, reg_alpha=0.5, reg_lambda=0.01; total time=  32.1s\n"
     ]
    },
    {
     "name": "stderr",
     "output_type": "stream",
     "text": [
      "/home/ec2-user/anaconda3/envs/python3/lib/python3.6/site-packages/xgboost/data.py:115: UserWarning: Use subset (sliced data) of np.ndarray is not recommended because it will generate extra copies and increase memory consumption\n",
      "  \"memory consumption\")\n"
     ]
    },
    {
     "name": "stdout",
     "output_type": "stream",
     "text": [
      "[CV] END gamma=9.579262371170197, learning_rate=0.18165947255844453, max_depth=8, min_child_weight=12, n_estimators=533, reg_alpha=20, reg_lambda=20; total time=  36.7s\n"
     ]
    },
    {
     "name": "stderr",
     "output_type": "stream",
     "text": [
      "/home/ec2-user/anaconda3/envs/python3/lib/python3.6/site-packages/xgboost/data.py:115: UserWarning: Use subset (sliced data) of np.ndarray is not recommended because it will generate extra copies and increase memory consumption\n",
      "  \"memory consumption\")\n"
     ]
    },
    {
     "name": "stdout",
     "output_type": "stream",
     "text": [
      "[CV] END gamma=9.579262371170197, learning_rate=0.18165947255844453, max_depth=8, min_child_weight=12, n_estimators=533, reg_alpha=20, reg_lambda=20; total time=  38.0s\n"
     ]
    },
    {
     "name": "stderr",
     "output_type": "stream",
     "text": [
      "/home/ec2-user/anaconda3/envs/python3/lib/python3.6/site-packages/xgboost/data.py:115: UserWarning: Use subset (sliced data) of np.ndarray is not recommended because it will generate extra copies and increase memory consumption\n",
      "  \"memory consumption\")\n"
     ]
    },
    {
     "name": "stdout",
     "output_type": "stream",
     "text": [
      "[CV] END gamma=9.579262371170197, learning_rate=0.18165947255844453, max_depth=8, min_child_weight=12, n_estimators=533, reg_alpha=20, reg_lambda=20; total time=  40.8s\n"
     ]
    },
    {
     "name": "stderr",
     "output_type": "stream",
     "text": [
      "/home/ec2-user/anaconda3/envs/python3/lib/python3.6/site-packages/xgboost/data.py:115: UserWarning: Use subset (sliced data) of np.ndarray is not recommended because it will generate extra copies and increase memory consumption\n",
      "  \"memory consumption\")\n"
     ]
    },
    {
     "name": "stdout",
     "output_type": "stream",
     "text": [
      "[CV] END gamma=2.427105149108809, learning_rate=0.1625136369535639, max_depth=3, min_child_weight=8, n_estimators=412, reg_alpha=0.01, reg_lambda=10; total time=  10.2s\n"
     ]
    },
    {
     "name": "stderr",
     "output_type": "stream",
     "text": [
      "/home/ec2-user/anaconda3/envs/python3/lib/python3.6/site-packages/xgboost/data.py:115: UserWarning: Use subset (sliced data) of np.ndarray is not recommended because it will generate extra copies and increase memory consumption\n",
      "  \"memory consumption\")\n"
     ]
    },
    {
     "name": "stdout",
     "output_type": "stream",
     "text": [
      "[CV] END gamma=2.427105149108809, learning_rate=0.1625136369535639, max_depth=3, min_child_weight=8, n_estimators=412, reg_alpha=0.01, reg_lambda=10; total time=  10.2s\n"
     ]
    },
    {
     "name": "stderr",
     "output_type": "stream",
     "text": [
      "/home/ec2-user/anaconda3/envs/python3/lib/python3.6/site-packages/xgboost/data.py:115: UserWarning: Use subset (sliced data) of np.ndarray is not recommended because it will generate extra copies and increase memory consumption\n",
      "  \"memory consumption\")\n"
     ]
    },
    {
     "name": "stdout",
     "output_type": "stream",
     "text": [
      "[CV] END gamma=2.427105149108809, learning_rate=0.1625136369535639, max_depth=3, min_child_weight=8, n_estimators=412, reg_alpha=0.01, reg_lambda=10; total time=  10.2s\n"
     ]
    },
    {
     "name": "stderr",
     "output_type": "stream",
     "text": [
      "/home/ec2-user/anaconda3/envs/python3/lib/python3.6/site-packages/xgboost/data.py:115: UserWarning: Use subset (sliced data) of np.ndarray is not recommended because it will generate extra copies and increase memory consumption\n",
      "  \"memory consumption\")\n"
     ]
    },
    {
     "name": "stdout",
     "output_type": "stream",
     "text": [
      "[CV] END gamma=7.280952296489351, learning_rate=0.22321700894387908, max_depth=7, min_child_weight=18, n_estimators=754, reg_alpha=0.02, reg_lambda=0.01; total time=  41.2s\n"
     ]
    },
    {
     "name": "stderr",
     "output_type": "stream",
     "text": [
      "/home/ec2-user/anaconda3/envs/python3/lib/python3.6/site-packages/xgboost/data.py:115: UserWarning: Use subset (sliced data) of np.ndarray is not recommended because it will generate extra copies and increase memory consumption\n",
      "  \"memory consumption\")\n"
     ]
    },
    {
     "name": "stdout",
     "output_type": "stream",
     "text": [
      "[CV] END gamma=7.280952296489351, learning_rate=0.22321700894387908, max_depth=7, min_child_weight=18, n_estimators=754, reg_alpha=0.02, reg_lambda=0.01; total time=  39.1s\n"
     ]
    },
    {
     "name": "stderr",
     "output_type": "stream",
     "text": [
      "/home/ec2-user/anaconda3/envs/python3/lib/python3.6/site-packages/xgboost/data.py:115: UserWarning: Use subset (sliced data) of np.ndarray is not recommended because it will generate extra copies and increase memory consumption\n",
      "  \"memory consumption\")\n"
     ]
    },
    {
     "name": "stdout",
     "output_type": "stream",
     "text": [
      "[CV] END gamma=7.280952296489351, learning_rate=0.22321700894387908, max_depth=7, min_child_weight=18, n_estimators=754, reg_alpha=0.02, reg_lambda=0.01; total time=  39.4s\n"
     ]
    },
    {
     "name": "stderr",
     "output_type": "stream",
     "text": [
      "/home/ec2-user/anaconda3/envs/python3/lib/python3.6/site-packages/xgboost/data.py:115: UserWarning: Use subset (sliced data) of np.ndarray is not recommended because it will generate extra copies and increase memory consumption\n",
      "  \"memory consumption\")\n"
     ]
    },
    {
     "name": "stdout",
     "output_type": "stream",
     "text": [
      "[CV] END gamma=5.5321033040254015, learning_rate=0.37139695765957975, max_depth=9, min_child_weight=14, n_estimators=751, reg_alpha=0.02, reg_lambda=0.001; total time=  51.2s\n"
     ]
    },
    {
     "name": "stderr",
     "output_type": "stream",
     "text": [
      "/home/ec2-user/anaconda3/envs/python3/lib/python3.6/site-packages/xgboost/data.py:115: UserWarning: Use subset (sliced data) of np.ndarray is not recommended because it will generate extra copies and increase memory consumption\n",
      "  \"memory consumption\")\n"
     ]
    },
    {
     "name": "stdout",
     "output_type": "stream",
     "text": [
      "[CV] END gamma=5.5321033040254015, learning_rate=0.37139695765957975, max_depth=9, min_child_weight=14, n_estimators=751, reg_alpha=0.02, reg_lambda=0.001; total time=  53.1s\n"
     ]
    },
    {
     "name": "stderr",
     "output_type": "stream",
     "text": [
      "/home/ec2-user/anaconda3/envs/python3/lib/python3.6/site-packages/xgboost/data.py:115: UserWarning: Use subset (sliced data) of np.ndarray is not recommended because it will generate extra copies and increase memory consumption\n",
      "  \"memory consumption\")\n"
     ]
    },
    {
     "name": "stdout",
     "output_type": "stream",
     "text": [
      "[CV] END gamma=5.5321033040254015, learning_rate=0.37139695765957975, max_depth=9, min_child_weight=14, n_estimators=751, reg_alpha=0.02, reg_lambda=0.001; total time=  51.5s\n"
     ]
    },
    {
     "name": "stderr",
     "output_type": "stream",
     "text": [
      "/home/ec2-user/anaconda3/envs/python3/lib/python3.6/site-packages/xgboost/data.py:115: UserWarning: Use subset (sliced data) of np.ndarray is not recommended because it will generate extra copies and increase memory consumption\n",
      "  \"memory consumption\")\n"
     ]
    },
    {
     "name": "stdout",
     "output_type": "stream",
     "text": [
      "[CV] END gamma=13.456408340890889, learning_rate=0.33936820098447906, max_depth=3, min_child_weight=15, n_estimators=77, reg_alpha=20, reg_lambda=0.01; total time=   2.0s\n"
     ]
    },
    {
     "name": "stderr",
     "output_type": "stream",
     "text": [
      "/home/ec2-user/anaconda3/envs/python3/lib/python3.6/site-packages/xgboost/data.py:115: UserWarning: Use subset (sliced data) of np.ndarray is not recommended because it will generate extra copies and increase memory consumption\n",
      "  \"memory consumption\")\n"
     ]
    },
    {
     "name": "stdout",
     "output_type": "stream",
     "text": [
      "[CV] END gamma=13.456408340890889, learning_rate=0.33936820098447906, max_depth=3, min_child_weight=15, n_estimators=77, reg_alpha=20, reg_lambda=0.01; total time=   2.0s\n"
     ]
    },
    {
     "name": "stderr",
     "output_type": "stream",
     "text": [
      "/home/ec2-user/anaconda3/envs/python3/lib/python3.6/site-packages/xgboost/data.py:115: UserWarning: Use subset (sliced data) of np.ndarray is not recommended because it will generate extra copies and increase memory consumption\n",
      "  \"memory consumption\")\n"
     ]
    },
    {
     "name": "stdout",
     "output_type": "stream",
     "text": [
      "[CV] END gamma=13.456408340890889, learning_rate=0.33936820098447906, max_depth=3, min_child_weight=15, n_estimators=77, reg_alpha=20, reg_lambda=0.01; total time=   2.0s\n"
     ]
    },
    {
     "name": "stderr",
     "output_type": "stream",
     "text": [
      "/home/ec2-user/anaconda3/envs/python3/lib/python3.6/site-packages/xgboost/data.py:115: UserWarning: Use subset (sliced data) of np.ndarray is not recommended because it will generate extra copies and increase memory consumption\n",
      "  \"memory consumption\")\n"
     ]
    },
    {
     "name": "stdout",
     "output_type": "stream",
     "text": [
      "[CV] END gamma=13.513574301697933, learning_rate=0.24674335659780705, max_depth=10, min_child_weight=15, n_estimators=837, reg_alpha=0.001, reg_lambda=0.001; total time= 1.0min\n"
     ]
    },
    {
     "name": "stderr",
     "output_type": "stream",
     "text": [
      "/home/ec2-user/anaconda3/envs/python3/lib/python3.6/site-packages/xgboost/data.py:115: UserWarning: Use subset (sliced data) of np.ndarray is not recommended because it will generate extra copies and increase memory consumption\n",
      "  \"memory consumption\")\n"
     ]
    },
    {
     "name": "stdout",
     "output_type": "stream",
     "text": [
      "[CV] END gamma=13.513574301697933, learning_rate=0.24674335659780705, max_depth=10, min_child_weight=15, n_estimators=837, reg_alpha=0.001, reg_lambda=0.001; total time= 1.1min\n"
     ]
    },
    {
     "name": "stderr",
     "output_type": "stream",
     "text": [
      "/home/ec2-user/anaconda3/envs/python3/lib/python3.6/site-packages/xgboost/data.py:115: UserWarning: Use subset (sliced data) of np.ndarray is not recommended because it will generate extra copies and increase memory consumption\n",
      "  \"memory consumption\")\n"
     ]
    },
    {
     "name": "stdout",
     "output_type": "stream",
     "text": [
      "[CV] END gamma=13.513574301697933, learning_rate=0.24674335659780705, max_depth=10, min_child_weight=15, n_estimators=837, reg_alpha=0.001, reg_lambda=0.001; total time= 1.1min\n"
     ]
    },
    {
     "name": "stderr",
     "output_type": "stream",
     "text": [
      "/home/ec2-user/anaconda3/envs/python3/lib/python3.6/site-packages/xgboost/data.py:115: UserWarning: Use subset (sliced data) of np.ndarray is not recommended because it will generate extra copies and increase memory consumption\n",
      "  \"memory consumption\")\n"
     ]
    },
    {
     "name": "stdout",
     "output_type": "stream",
     "text": [
      "[CV] END gamma=13.816417112407242, learning_rate=0.3111754600256964, max_depth=9, min_child_weight=11, n_estimators=523, reg_alpha=0.001, reg_lambda=0.05; total time=  35.5s\n"
     ]
    },
    {
     "name": "stderr",
     "output_type": "stream",
     "text": [
      "/home/ec2-user/anaconda3/envs/python3/lib/python3.6/site-packages/xgboost/data.py:115: UserWarning: Use subset (sliced data) of np.ndarray is not recommended because it will generate extra copies and increase memory consumption\n",
      "  \"memory consumption\")\n"
     ]
    },
    {
     "name": "stdout",
     "output_type": "stream",
     "text": [
      "[CV] END gamma=13.816417112407242, learning_rate=0.3111754600256964, max_depth=9, min_child_weight=11, n_estimators=523, reg_alpha=0.001, reg_lambda=0.05; total time=  36.7s\n"
     ]
    },
    {
     "name": "stderr",
     "output_type": "stream",
     "text": [
      "/home/ec2-user/anaconda3/envs/python3/lib/python3.6/site-packages/xgboost/data.py:115: UserWarning: Use subset (sliced data) of np.ndarray is not recommended because it will generate extra copies and increase memory consumption\n",
      "  \"memory consumption\")\n"
     ]
    },
    {
     "name": "stdout",
     "output_type": "stream",
     "text": [
      "[CV] END gamma=13.816417112407242, learning_rate=0.3111754600256964, max_depth=9, min_child_weight=11, n_estimators=523, reg_alpha=0.001, reg_lambda=0.05; total time=  37.2s\n"
     ]
    },
    {
     "name": "stderr",
     "output_type": "stream",
     "text": [
      "/home/ec2-user/anaconda3/envs/python3/lib/python3.6/site-packages/xgboost/data.py:115: UserWarning: Use subset (sliced data) of np.ndarray is not recommended because it will generate extra copies and increase memory consumption\n",
      "  \"memory consumption\")\n"
     ]
    },
    {
     "name": "stdout",
     "output_type": "stream",
     "text": [
      "[CV] END gamma=11.06245756743688, learning_rate=0.24632439016459445, max_depth=11, min_child_weight=7, n_estimators=65, reg_alpha=0.02, reg_lambda=20; total time=   6.9s\n"
     ]
    },
    {
     "name": "stderr",
     "output_type": "stream",
     "text": [
      "/home/ec2-user/anaconda3/envs/python3/lib/python3.6/site-packages/xgboost/data.py:115: UserWarning: Use subset (sliced data) of np.ndarray is not recommended because it will generate extra copies and increase memory consumption\n",
      "  \"memory consumption\")\n"
     ]
    },
    {
     "name": "stdout",
     "output_type": "stream",
     "text": [
      "[CV] END gamma=11.06245756743688, learning_rate=0.24632439016459445, max_depth=11, min_child_weight=7, n_estimators=65, reg_alpha=0.02, reg_lambda=20; total time=   7.1s\n"
     ]
    },
    {
     "name": "stderr",
     "output_type": "stream",
     "text": [
      "/home/ec2-user/anaconda3/envs/python3/lib/python3.6/site-packages/xgboost/data.py:115: UserWarning: Use subset (sliced data) of np.ndarray is not recommended because it will generate extra copies and increase memory consumption\n",
      "  \"memory consumption\")\n"
     ]
    },
    {
     "name": "stdout",
     "output_type": "stream",
     "text": [
      "[CV] END gamma=11.06245756743688, learning_rate=0.24632439016459445, max_depth=11, min_child_weight=7, n_estimators=65, reg_alpha=0.02, reg_lambda=20; total time=   6.9s\n"
     ]
    },
    {
     "name": "stderr",
     "output_type": "stream",
     "text": [
      "/home/ec2-user/anaconda3/envs/python3/lib/python3.6/site-packages/xgboost/data.py:115: UserWarning: Use subset (sliced data) of np.ndarray is not recommended because it will generate extra copies and increase memory consumption\n",
      "  \"memory consumption\")\n"
     ]
    },
    {
     "name": "stdout",
     "output_type": "stream",
     "text": [
      "[CV] END gamma=11.90054008905719, learning_rate=0.18528576291389934, max_depth=2, min_child_weight=16, n_estimators=527, reg_alpha=10, reg_lambda=10; total time=   9.0s\n"
     ]
    },
    {
     "name": "stderr",
     "output_type": "stream",
     "text": [
      "/home/ec2-user/anaconda3/envs/python3/lib/python3.6/site-packages/xgboost/data.py:115: UserWarning: Use subset (sliced data) of np.ndarray is not recommended because it will generate extra copies and increase memory consumption\n",
      "  \"memory consumption\")\n"
     ]
    },
    {
     "name": "stdout",
     "output_type": "stream",
     "text": [
      "[CV] END gamma=11.90054008905719, learning_rate=0.18528576291389934, max_depth=2, min_child_weight=16, n_estimators=527, reg_alpha=10, reg_lambda=10; total time=   9.0s\n"
     ]
    },
    {
     "name": "stderr",
     "output_type": "stream",
     "text": [
      "/home/ec2-user/anaconda3/envs/python3/lib/python3.6/site-packages/xgboost/data.py:115: UserWarning: Use subset (sliced data) of np.ndarray is not recommended because it will generate extra copies and increase memory consumption\n",
      "  \"memory consumption\")\n"
     ]
    },
    {
     "name": "stdout",
     "output_type": "stream",
     "text": [
      "[CV] END gamma=11.90054008905719, learning_rate=0.18528576291389934, max_depth=2, min_child_weight=16, n_estimators=527, reg_alpha=10, reg_lambda=10; total time=   9.2s\n"
     ]
    },
    {
     "name": "stderr",
     "output_type": "stream",
     "text": [
      "/home/ec2-user/anaconda3/envs/python3/lib/python3.6/site-packages/xgboost/data.py:115: UserWarning: Use subset (sliced data) of np.ndarray is not recommended because it will generate extra copies and increase memory consumption\n",
      "  \"memory consumption\")\n"
     ]
    },
    {
     "name": "stdout",
     "output_type": "stream",
     "text": [
      "[CV] END gamma=4.552566508374459, learning_rate=0.294546409551845, max_depth=9, min_child_weight=3, n_estimators=985, reg_alpha=0.05, reg_lambda=1; total time= 1.1min\n"
     ]
    },
    {
     "name": "stderr",
     "output_type": "stream",
     "text": [
      "/home/ec2-user/anaconda3/envs/python3/lib/python3.6/site-packages/xgboost/data.py:115: UserWarning: Use subset (sliced data) of np.ndarray is not recommended because it will generate extra copies and increase memory consumption\n",
      "  \"memory consumption\")\n"
     ]
    },
    {
     "name": "stdout",
     "output_type": "stream",
     "text": [
      "[CV] END gamma=4.552566508374459, learning_rate=0.294546409551845, max_depth=9, min_child_weight=3, n_estimators=985, reg_alpha=0.05, reg_lambda=1; total time= 1.1min\n"
     ]
    },
    {
     "name": "stderr",
     "output_type": "stream",
     "text": [
      "/home/ec2-user/anaconda3/envs/python3/lib/python3.6/site-packages/xgboost/data.py:115: UserWarning: Use subset (sliced data) of np.ndarray is not recommended because it will generate extra copies and increase memory consumption\n",
      "  \"memory consumption\")\n"
     ]
    },
    {
     "name": "stdout",
     "output_type": "stream",
     "text": [
      "[CV] END gamma=4.552566508374459, learning_rate=0.294546409551845, max_depth=9, min_child_weight=3, n_estimators=985, reg_alpha=0.05, reg_lambda=1; total time= 1.1min\n"
     ]
    },
    {
     "name": "stderr",
     "output_type": "stream",
     "text": [
      "/home/ec2-user/anaconda3/envs/python3/lib/python3.6/site-packages/xgboost/data.py:115: UserWarning: Use subset (sliced data) of np.ndarray is not recommended because it will generate extra copies and increase memory consumption\n",
      "  \"memory consumption\")\n"
     ]
    },
    {
     "name": "stdout",
     "output_type": "stream",
     "text": [
      "[CV] END gamma=13.603969335447452, learning_rate=0.3410763914637727, max_depth=6, min_child_weight=14, n_estimators=895, reg_alpha=0.05, reg_lambda=0.001; total time=  39.6s\n"
     ]
    },
    {
     "name": "stderr",
     "output_type": "stream",
     "text": [
      "/home/ec2-user/anaconda3/envs/python3/lib/python3.6/site-packages/xgboost/data.py:115: UserWarning: Use subset (sliced data) of np.ndarray is not recommended because it will generate extra copies and increase memory consumption\n",
      "  \"memory consumption\")\n"
     ]
    },
    {
     "name": "stdout",
     "output_type": "stream",
     "text": [
      "[CV] END gamma=13.603969335447452, learning_rate=0.3410763914637727, max_depth=6, min_child_weight=14, n_estimators=895, reg_alpha=0.05, reg_lambda=0.001; total time=  41.7s\n"
     ]
    },
    {
     "name": "stderr",
     "output_type": "stream",
     "text": [
      "/home/ec2-user/anaconda3/envs/python3/lib/python3.6/site-packages/xgboost/data.py:115: UserWarning: Use subset (sliced data) of np.ndarray is not recommended because it will generate extra copies and increase memory consumption\n",
      "  \"memory consumption\")\n"
     ]
    },
    {
     "name": "stdout",
     "output_type": "stream",
     "text": [
      "[CV] END gamma=13.603969335447452, learning_rate=0.3410763914637727, max_depth=6, min_child_weight=14, n_estimators=895, reg_alpha=0.05, reg_lambda=0.001; total time=  40.9s\n"
     ]
    },
    {
     "name": "stderr",
     "output_type": "stream",
     "text": [
      "/home/ec2-user/anaconda3/envs/python3/lib/python3.6/site-packages/xgboost/data.py:115: UserWarning: Use subset (sliced data) of np.ndarray is not recommended because it will generate extra copies and increase memory consumption\n",
      "  \"memory consumption\")\n"
     ]
    },
    {
     "name": "stdout",
     "output_type": "stream",
     "text": [
      "[CV] END gamma=9.949280455601023, learning_rate=0.05324742011661422, max_depth=4, min_child_weight=7, n_estimators=265, reg_alpha=0.02, reg_lambda=1; total time=   8.6s\n"
     ]
    },
    {
     "name": "stderr",
     "output_type": "stream",
     "text": [
      "/home/ec2-user/anaconda3/envs/python3/lib/python3.6/site-packages/xgboost/data.py:115: UserWarning: Use subset (sliced data) of np.ndarray is not recommended because it will generate extra copies and increase memory consumption\n",
      "  \"memory consumption\")\n"
     ]
    },
    {
     "name": "stdout",
     "output_type": "stream",
     "text": [
      "[CV] END gamma=9.949280455601023, learning_rate=0.05324742011661422, max_depth=4, min_child_weight=7, n_estimators=265, reg_alpha=0.02, reg_lambda=1; total time=   8.6s\n"
     ]
    },
    {
     "name": "stderr",
     "output_type": "stream",
     "text": [
      "/home/ec2-user/anaconda3/envs/python3/lib/python3.6/site-packages/xgboost/data.py:115: UserWarning: Use subset (sliced data) of np.ndarray is not recommended because it will generate extra copies and increase memory consumption\n",
      "  \"memory consumption\")\n"
     ]
    },
    {
     "name": "stdout",
     "output_type": "stream",
     "text": [
      "[CV] END gamma=9.949280455601023, learning_rate=0.05324742011661422, max_depth=4, min_child_weight=7, n_estimators=265, reg_alpha=0.02, reg_lambda=1; total time=   8.6s\n"
     ]
    },
    {
     "name": "stderr",
     "output_type": "stream",
     "text": [
      "/home/ec2-user/anaconda3/envs/python3/lib/python3.6/site-packages/xgboost/data.py:115: UserWarning: Use subset (sliced data) of np.ndarray is not recommended because it will generate extra copies and increase memory consumption\n",
      "  \"memory consumption\")\n"
     ]
    },
    {
     "name": "stdout",
     "output_type": "stream",
     "text": [
      "[CV] END gamma=7.119989676305838, learning_rate=0.3639509248311763, max_depth=8, min_child_weight=7, n_estimators=773, reg_alpha=10, reg_lambda=0.05; total time=  56.8s\n"
     ]
    },
    {
     "name": "stderr",
     "output_type": "stream",
     "text": [
      "/home/ec2-user/anaconda3/envs/python3/lib/python3.6/site-packages/xgboost/data.py:115: UserWarning: Use subset (sliced data) of np.ndarray is not recommended because it will generate extra copies and increase memory consumption\n",
      "  \"memory consumption\")\n"
     ]
    },
    {
     "name": "stdout",
     "output_type": "stream",
     "text": [
      "[CV] END gamma=7.119989676305838, learning_rate=0.3639509248311763, max_depth=8, min_child_weight=7, n_estimators=773, reg_alpha=10, reg_lambda=0.05; total time=  55.6s\n"
     ]
    },
    {
     "name": "stderr",
     "output_type": "stream",
     "text": [
      "/home/ec2-user/anaconda3/envs/python3/lib/python3.6/site-packages/xgboost/data.py:115: UserWarning: Use subset (sliced data) of np.ndarray is not recommended because it will generate extra copies and increase memory consumption\n",
      "  \"memory consumption\")\n"
     ]
    },
    {
     "name": "stdout",
     "output_type": "stream",
     "text": [
      "[CV] END gamma=7.119989676305838, learning_rate=0.3639509248311763, max_depth=8, min_child_weight=7, n_estimators=773, reg_alpha=10, reg_lambda=0.05; total time=  55.5s\n"
     ]
    },
    {
     "name": "stderr",
     "output_type": "stream",
     "text": [
      "/home/ec2-user/anaconda3/envs/python3/lib/python3.6/site-packages/xgboost/data.py:115: UserWarning: Use subset (sliced data) of np.ndarray is not recommended because it will generate extra copies and increase memory consumption\n",
      "  \"memory consumption\")\n"
     ]
    },
    {
     "name": "stdout",
     "output_type": "stream",
     "text": [
      "[CV] END gamma=2.8428571462867716, learning_rate=0.37771289251761264, max_depth=8, min_child_weight=19, n_estimators=110, reg_alpha=0.02, reg_lambda=0.01; total time=   7.3s\n"
     ]
    },
    {
     "name": "stderr",
     "output_type": "stream",
     "text": [
      "/home/ec2-user/anaconda3/envs/python3/lib/python3.6/site-packages/xgboost/data.py:115: UserWarning: Use subset (sliced data) of np.ndarray is not recommended because it will generate extra copies and increase memory consumption\n",
      "  \"memory consumption\")\n"
     ]
    },
    {
     "name": "stdout",
     "output_type": "stream",
     "text": [
      "[CV] END gamma=2.8428571462867716, learning_rate=0.37771289251761264, max_depth=8, min_child_weight=19, n_estimators=110, reg_alpha=0.02, reg_lambda=0.01; total time=   7.3s\n"
     ]
    },
    {
     "name": "stderr",
     "output_type": "stream",
     "text": [
      "/home/ec2-user/anaconda3/envs/python3/lib/python3.6/site-packages/xgboost/data.py:115: UserWarning: Use subset (sliced data) of np.ndarray is not recommended because it will generate extra copies and increase memory consumption\n",
      "  \"memory consumption\")\n"
     ]
    },
    {
     "name": "stdout",
     "output_type": "stream",
     "text": [
      "[CV] END gamma=2.8428571462867716, learning_rate=0.37771289251761264, max_depth=8, min_child_weight=19, n_estimators=110, reg_alpha=0.02, reg_lambda=0.01; total time=   7.5s\n"
     ]
    },
    {
     "name": "stderr",
     "output_type": "stream",
     "text": [
      "/home/ec2-user/anaconda3/envs/python3/lib/python3.6/site-packages/xgboost/data.py:115: UserWarning: Use subset (sliced data) of np.ndarray is not recommended because it will generate extra copies and increase memory consumption\n",
      "  \"memory consumption\")\n"
     ]
    },
    {
     "name": "stdout",
     "output_type": "stream",
     "text": [
      "[CV] END gamma=8.740956673873105, learning_rate=0.12529713747670845, max_depth=6, min_child_weight=6, n_estimators=820, reg_alpha=0.02, reg_lambda=0.5; total time=  37.3s\n"
     ]
    },
    {
     "name": "stderr",
     "output_type": "stream",
     "text": [
      "/home/ec2-user/anaconda3/envs/python3/lib/python3.6/site-packages/xgboost/data.py:115: UserWarning: Use subset (sliced data) of np.ndarray is not recommended because it will generate extra copies and increase memory consumption\n",
      "  \"memory consumption\")\n"
     ]
    },
    {
     "name": "stdout",
     "output_type": "stream",
     "text": [
      "[CV] END gamma=8.740956673873105, learning_rate=0.12529713747670845, max_depth=6, min_child_weight=6, n_estimators=820, reg_alpha=0.02, reg_lambda=0.5; total time=  36.3s\n"
     ]
    },
    {
     "name": "stderr",
     "output_type": "stream",
     "text": [
      "/home/ec2-user/anaconda3/envs/python3/lib/python3.6/site-packages/xgboost/data.py:115: UserWarning: Use subset (sliced data) of np.ndarray is not recommended because it will generate extra copies and increase memory consumption\n",
      "  \"memory consumption\")\n"
     ]
    },
    {
     "name": "stdout",
     "output_type": "stream",
     "text": [
      "[CV] END gamma=8.740956673873105, learning_rate=0.12529713747670845, max_depth=6, min_child_weight=6, n_estimators=820, reg_alpha=0.02, reg_lambda=0.5; total time=  38.2s\n"
     ]
    },
    {
     "name": "stderr",
     "output_type": "stream",
     "text": [
      "/home/ec2-user/anaconda3/envs/python3/lib/python3.6/site-packages/xgboost/data.py:115: UserWarning: Use subset (sliced data) of np.ndarray is not recommended because it will generate extra copies and increase memory consumption\n",
      "  \"memory consumption\")\n"
     ]
    },
    {
     "name": "stdout",
     "output_type": "stream",
     "text": [
      "[CV] END gamma=2.611980824404502, learning_rate=0.3580980094110914, max_depth=11, min_child_weight=7, n_estimators=214, reg_alpha=0.001, reg_lambda=0.001; total time=  18.9s\n"
     ]
    },
    {
     "name": "stderr",
     "output_type": "stream",
     "text": [
      "/home/ec2-user/anaconda3/envs/python3/lib/python3.6/site-packages/xgboost/data.py:115: UserWarning: Use subset (sliced data) of np.ndarray is not recommended because it will generate extra copies and increase memory consumption\n",
      "  \"memory consumption\")\n"
     ]
    },
    {
     "name": "stdout",
     "output_type": "stream",
     "text": [
      "[CV] END gamma=2.611980824404502, learning_rate=0.3580980094110914, max_depth=11, min_child_weight=7, n_estimators=214, reg_alpha=0.001, reg_lambda=0.001; total time=  18.7s\n"
     ]
    },
    {
     "name": "stderr",
     "output_type": "stream",
     "text": [
      "/home/ec2-user/anaconda3/envs/python3/lib/python3.6/site-packages/xgboost/data.py:115: UserWarning: Use subset (sliced data) of np.ndarray is not recommended because it will generate extra copies and increase memory consumption\n",
      "  \"memory consumption\")\n"
     ]
    },
    {
     "name": "stdout",
     "output_type": "stream",
     "text": [
      "[CV] END gamma=2.611980824404502, learning_rate=0.3580980094110914, max_depth=11, min_child_weight=7, n_estimators=214, reg_alpha=0.001, reg_lambda=0.001; total time=  19.7s\n"
     ]
    },
    {
     "name": "stderr",
     "output_type": "stream",
     "text": [
      "/home/ec2-user/anaconda3/envs/python3/lib/python3.6/site-packages/xgboost/data.py:115: UserWarning: Use subset (sliced data) of np.ndarray is not recommended because it will generate extra copies and increase memory consumption\n",
      "  \"memory consumption\")\n"
     ]
    },
    {
     "name": "stdout",
     "output_type": "stream",
     "text": [
      "[CV] END gamma=3.1910922755871836, learning_rate=0.17657203756423998, max_depth=5, min_child_weight=13, n_estimators=769, reg_alpha=0.05, reg_lambda=20; total time=  30.3s\n"
     ]
    },
    {
     "name": "stderr",
     "output_type": "stream",
     "text": [
      "/home/ec2-user/anaconda3/envs/python3/lib/python3.6/site-packages/xgboost/data.py:115: UserWarning: Use subset (sliced data) of np.ndarray is not recommended because it will generate extra copies and increase memory consumption\n",
      "  \"memory consumption\")\n"
     ]
    },
    {
     "name": "stdout",
     "output_type": "stream",
     "text": [
      "[CV] END gamma=3.1910922755871836, learning_rate=0.17657203756423998, max_depth=5, min_child_weight=13, n_estimators=769, reg_alpha=0.05, reg_lambda=20; total time=  30.4s\n"
     ]
    },
    {
     "name": "stderr",
     "output_type": "stream",
     "text": [
      "/home/ec2-user/anaconda3/envs/python3/lib/python3.6/site-packages/xgboost/data.py:115: UserWarning: Use subset (sliced data) of np.ndarray is not recommended because it will generate extra copies and increase memory consumption\n",
      "  \"memory consumption\")\n"
     ]
    },
    {
     "name": "stdout",
     "output_type": "stream",
     "text": [
      "[CV] END gamma=3.1910922755871836, learning_rate=0.17657203756423998, max_depth=5, min_child_weight=13, n_estimators=769, reg_alpha=0.05, reg_lambda=20; total time=  30.5s\n"
     ]
    },
    {
     "name": "stderr",
     "output_type": "stream",
     "text": [
      "/home/ec2-user/anaconda3/envs/python3/lib/python3.6/site-packages/xgboost/data.py:115: UserWarning: Use subset (sliced data) of np.ndarray is not recommended because it will generate extra copies and increase memory consumption\n",
      "  \"memory consumption\")\n"
     ]
    },
    {
     "name": "stdout",
     "output_type": "stream",
     "text": [
      "[CV] END gamma=2.305181944001184, learning_rate=0.21829487355642238, max_depth=6, min_child_weight=1, n_estimators=843, reg_alpha=0.01, reg_lambda=0.5; total time=  41.0s\n"
     ]
    },
    {
     "name": "stderr",
     "output_type": "stream",
     "text": [
      "/home/ec2-user/anaconda3/envs/python3/lib/python3.6/site-packages/xgboost/data.py:115: UserWarning: Use subset (sliced data) of np.ndarray is not recommended because it will generate extra copies and increase memory consumption\n",
      "  \"memory consumption\")\n"
     ]
    },
    {
     "name": "stdout",
     "output_type": "stream",
     "text": [
      "[CV] END gamma=2.305181944001184, learning_rate=0.21829487355642238, max_depth=6, min_child_weight=1, n_estimators=843, reg_alpha=0.01, reg_lambda=0.5; total time=  38.4s\n"
     ]
    },
    {
     "name": "stderr",
     "output_type": "stream",
     "text": [
      "/home/ec2-user/anaconda3/envs/python3/lib/python3.6/site-packages/xgboost/data.py:115: UserWarning: Use subset (sliced data) of np.ndarray is not recommended because it will generate extra copies and increase memory consumption\n",
      "  \"memory consumption\")\n"
     ]
    },
    {
     "name": "stdout",
     "output_type": "stream",
     "text": [
      "[CV] END gamma=2.305181944001184, learning_rate=0.21829487355642238, max_depth=6, min_child_weight=1, n_estimators=843, reg_alpha=0.01, reg_lambda=0.5; total time=  39.4s\n"
     ]
    },
    {
     "name": "stderr",
     "output_type": "stream",
     "text": [
      "/home/ec2-user/anaconda3/envs/python3/lib/python3.6/site-packages/xgboost/data.py:115: UserWarning: Use subset (sliced data) of np.ndarray is not recommended because it will generate extra copies and increase memory consumption\n",
      "  \"memory consumption\")\n"
     ]
    },
    {
     "name": "stdout",
     "output_type": "stream",
     "text": [
      "[CV] END gamma=3.417757311468838, learning_rate=0.07563350644744292, max_depth=9, min_child_weight=9, n_estimators=716, reg_alpha=0.001, reg_lambda=10; total time=  51.5s\n"
     ]
    }
   ],
   "source": [
    "randomized_search = RandomizedSearchCV(xgb_reg, param_distributions=params, n_iter=n_iter_search, cv= kfold, verbose = 2, random_state=42)\n",
    "model5 = randomized_search.fit(train_features,train_labels)"
   ]
  },
  {
   "cell_type": "code",
   "execution_count": 13,
   "id": "danish-theorem",
   "metadata": {},
   "outputs": [
    {
     "name": "stdout",
     "output_type": "stream",
     "text": [
      "Train R-square= 0.5040813058522196\n",
      "Test R-square= 0.33068337959536553\n"
     ]
    },
    {
     "name": "stderr",
     "output_type": "stream",
     "text": [
      "/home/ec2-user/anaconda3/envs/python3/lib/python3.6/site-packages/xgboost/data.py:115: UserWarning: Use subset (sliced data) of np.ndarray is not recommended because it will generate extra copies and increase memory consumption\n",
      "  \"memory consumption\")\n"
     ]
    }
   ],
   "source": [
    "predictions_train =model5.best_estimator_.predict(train_features)\n",
    "predictions_test =model5.best_estimator_.predict(test_features)\n",
    "print('Train R-square=',r2_score(train_labels,predictions_train))\n",
    "print('Test R-square=',r2_score(test_labels,predictions_test))\n"
   ]
  },
  {
   "cell_type": "code",
   "execution_count": null,
   "id": "roman-choice",
   "metadata": {},
   "outputs": [],
   "source": []
  },
  {
   "cell_type": "code",
   "execution_count": 14,
   "id": "chinese-warrant",
   "metadata": {},
   "outputs": [
    {
     "data": {
      "text/plain": [
       "XGBRegressor(base_score=0.5, booster='gbtree', colsample_bylevel=1,\n",
       "             colsample_bynode=1, colsample_bytree=1, gamma=9.949280455601023,\n",
       "             gpu_id=-1, importance_type='total_gain',\n",
       "             interaction_constraints='', learning_rate=0.05324742011661422,\n",
       "             max_delta_step=0, max_depth=4, min_child_weight=7, missing=nan,\n",
       "             monotone_constraints='()', n_estimators=265, n_jobs=4,\n",
       "             num_parallel_tree=1, random_state=1992, reg_alpha=0.02,\n",
       "             reg_lambda=1, scale_pos_weight=1, subsample=1, tree_method='exact',\n",
       "             validate_parameters=1, verbosity=None)"
      ]
     },
     "execution_count": 14,
     "metadata": {},
     "output_type": "execute_result"
    }
   ],
   "source": [
    "model5.best_estimator_"
   ]
  },
  {
   "cell_type": "code",
   "execution_count": 10,
   "id": "planned-workplace",
   "metadata": {},
   "outputs": [],
   "source": [
    "xgb_reg_best = xgb.XGBRegressor(base_score=0.5, booster='gbtree', colsample_bylevel=1,\n",
    "             colsample_bynode=1, colsample_bytree=1, gamma=9.949280455601023,\n",
    "             gpu_id=-1, importance_type='total_gain',\n",
    "             interaction_constraints='', learning_rate=0.05324742011661422,\n",
    "             max_delta_step=0, max_depth=4, min_child_weight=7, missing=np.nan,\n",
    "             monotone_constraints='()', n_estimators=265, n_jobs=4,\n",
    "             num_parallel_tree=1, random_state=1992, reg_alpha=0.02,\n",
    "             reg_lambda=1, scale_pos_weight=1, subsample=1, tree_method='exact',\n",
    "             validate_parameters=1, verbosity=None)"
   ]
  },
  {
   "cell_type": "code",
   "execution_count": 11,
   "id": "stupid-tuition",
   "metadata": {},
   "outputs": [],
   "source": [
    "model_best = xgb_reg_best.fit(train_features,train_labels)"
   ]
  },
  {
   "cell_type": "code",
   "execution_count": 13,
   "id": "sophisticated-approach",
   "metadata": {},
   "outputs": [
    {
     "name": "stdout",
     "output_type": "stream",
     "text": [
      "Train R-square= 0.5040813058522196\n",
      "Test R-square= 0.33068337959536553\n"
     ]
    },
    {
     "name": "stderr",
     "output_type": "stream",
     "text": [
      "/home/ec2-user/anaconda3/envs/python3/lib/python3.6/site-packages/xgboost/data.py:115: UserWarning: Use subset (sliced data) of np.ndarray is not recommended because it will generate extra copies and increase memory consumption\n",
      "  \"memory consumption\")\n"
     ]
    }
   ],
   "source": [
    "predictions_train =model_best.predict(train_features)\n",
    "predictions_test =model_best.predict(test_features)\n",
    "print('Train R-square=',r2_score(train_labels,predictions_train))\n",
    "print('Test R-square=',r2_score(test_labels,predictions_test))"
   ]
  },
  {
   "cell_type": "code",
   "execution_count": 74,
   "id": "indian-queensland",
   "metadata": {},
   "outputs": [],
   "source": [
    "model_best1 = xgb_reg_best.fit(train_features1,train_labels1)"
   ]
  },
  {
   "cell_type": "code",
   "execution_count": 75,
   "id": "related-seattle",
   "metadata": {},
   "outputs": [
    {
     "name": "stdout",
     "output_type": "stream",
     "text": [
      "Train R-square= 0.5115610670516759\n",
      "Test R-square= 0.34310506770857296\n"
     ]
    },
    {
     "name": "stderr",
     "output_type": "stream",
     "text": [
      "Use subset (sliced data) of np.ndarray is not recommended because it will generate extra copies and increase memory consumption\n"
     ]
    }
   ],
   "source": [
    "predictions_train1 =model_best1.predict(train_features1)\n",
    "predictions_test1 =model_best1.predict(test_features1)\n",
    "print('Train R-square=',r2_score(train_labels1,predictions_train1))\n",
    "print('Test R-square=',r2_score(test_labels1,predictions_test1))"
   ]
  },
  {
   "cell_type": "code",
   "execution_count": 63,
   "id": "incorporate-guess",
   "metadata": {},
   "outputs": [
    {
     "data": {
      "text/plain": [
       "(19859, 122)"
      ]
     },
     "execution_count": 63,
     "metadata": {},
     "output_type": "execute_result"
    }
   ],
   "source": [
    "train_features.shape"
   ]
  },
  {
   "cell_type": "code",
   "execution_count": 67,
   "id": "reasonable-skirt",
   "metadata": {},
   "outputs": [
    {
     "data": {
      "text/plain": [
       "1.1256"
      ]
     },
     "execution_count": 67,
     "metadata": {},
     "output_type": "execute_result"
    }
   ],
   "source": [
    "min(train_labels*24)"
   ]
  },
  {
   "cell_type": "code",
   "execution_count": 58,
   "id": "major-monaco",
   "metadata": {},
   "outputs": [],
   "source": [
    "features = train_features.columns"
   ]
  },
  {
   "cell_type": "code",
   "execution_count": 59,
   "id": "injured-accessory",
   "metadata": {},
   "outputs": [],
   "source": [
    "x=model_best.get_booster().get_score(importance_type='total_gain')\n",
    "impt=pd.DataFrame(data={'Feature_total_gain':list(x.keys()),'imp_metrics_total_gain':list(x.values())})\n",
    "Importances=pd.DataFrame(data={'Feature_total_gain':features})\n",
    "Importances=Importances.merge(impt,on='Feature_total_gain')    \n",
    "Imp_top50=Importances.sort_values(by='imp_metrics_total_gain',ascending=False).reset_index(drop=True)"
   ]
  },
  {
   "cell_type": "code",
   "execution_count": 61,
   "id": "studied-matrix",
   "metadata": {},
   "outputs": [],
   "source": [
    "features_totalgain=Imp_top50[['Feature_total_gain','imp_metrics_total_gain']]\n",
    "features_totalgain['cum_sum'] = features_totalgain['imp_metrics_total_gain'].cumsum()\n",
    "features_totalgain['cum_perc'] = (100*features_totalgain['cum_sum']/features_totalgain['imp_metrics_total_gain'].sum()).apply(lambda s: round(s,2))"
   ]
  },
  {
   "cell_type": "code",
   "execution_count": 62,
   "id": "casual-history",
   "metadata": {},
   "outputs": [
    {
     "name": "stdout",
     "output_type": "stream",
     "text": [
      "70 features required for 99.00 of cumulative importance\n"
     ]
    },
    {
     "data": {
      "image/png": "[encoded data removed]",
      "text/plain": [
       "<Figure size 2000x500 with 1 Axes>"
      ]
     },
     "metadata": {},
     "output_type": "display_data"
    }
   ],
   "source": [
    "threshold=99\n",
    "plt.rcParams = plt.rcParamsDefault\n",
    "plt.figure(figsize = (20, 5))\n",
    "index = np.arange(len(features_totalgain['Feature_total_gain']))\n",
    "plt.bar(features_totalgain['Feature_total_gain'], features_totalgain.cum_perc, align='center', alpha=0.8,width=1)\n",
    "plt.grid()\n",
    "plt.title('Total gain importance by feature')\n",
    "plt.xlabel('Feature', fontsize=7,fontweight='bold', va='top')\n",
    "plt.ylabel('Cumulative Percent gain importance', fontsize=7, fontweight='bold', va='top')\n",
    "plt.xticks(index,features_totalgain['Feature_total_gain'], fontsize=7,fontweight='bold', rotation=90, va='top')\n",
    "importance_index = np.min(np.where(features_totalgain.cum_perc > threshold))\n",
    "plt.vlines(x = list(features_totalgain['Feature_total_gain'])[importance_index], ymin = 0, ymax = 100, linestyles='--', colors = 'red')\n",
    "print('%d features required for %0.2f of cumulative importance' % (importance_index + 1, threshold))\n"
   ]
  },
  {
   "cell_type": "code",
   "execution_count": null,
   "id": "polish-flexibility",
   "metadata": {},
   "outputs": [],
   "source": []
  },
  {
   "cell_type": "code",
   "execution_count": 76,
   "id": "architectural-competition",
   "metadata": {},
   "outputs": [
    {
     "name": "stdout",
     "output_type": "stream",
     "text": [
      "Train MAE= 1.9571518298294743\n",
      "Test MAE= 2.190038029296032\n"
     ]
    }
   ],
   "source": [
    "print('Train MAE=',mean_absolute_error(train_labels1,predictions_train1))\n",
    "print('Test MAE=',mean_absolute_error(test_labels1,predictions_test1))"
   ]
  },
  {
   "cell_type": "code",
   "execution_count": 36,
   "id": "neutral-olympus",
   "metadata": {},
   "outputs": [
    {
     "name": "stdout",
     "output_type": "stream",
     "text": [
      "Train MSE= 13.448997557105866\n",
      "Test MSE= 16.013943117260055\n"
     ]
    }
   ],
   "source": [
    "print('Train MSE=',mean_squared_error(train_labels,predictions_train))\n",
    "print('Test MSE=',mean_squared_error(test_labels,predictions_test))"
   ]
  },
  {
   "cell_type": "code",
   "execution_count": 77,
   "id": "removed-runner",
   "metadata": {},
   "outputs": [
    {
     "data": {
      "text/plain": [
       "Text(0.5, 1.0, 'Actual vs Predicted LOS- Train Data')"
      ]
     },
     "execution_count": 77,
     "metadata": {},
     "output_type": "execute_result"
    },
    {
     "data": {
      "image/png": "[encoded data removed]",
      "text/plain": [
       "<Figure size 640x480 with 1 Axes>"
      ]
     },
     "metadata": {},
     "output_type": "display_data"
    }
   ],
   "source": [
    "\n",
    "plt.scatter(train_labels1, predictions_train1, c=\"blue\", alpha=0.3)\n",
    "plt.xlabel(\"Actual LOS\")\n",
    "plt.ylabel(\"Predicted LOS\")\n",
    "plt.plot(np.unique(train_labels1), np.poly1d(np.polyfit(train_labels1, predictions_train1, 1))(np.unique(train_labels1)), c='orange')\n",
    "text = f\"$R^2 = {r2_score(train_labels1,predictions_train1):0.3f}$\"\n",
    "plt.gca().text(0.05, 0.95, text,transform=plt.gca().transAxes,\n",
    "     fontsize=14, verticalalignment='top')\n",
    "plt.title(\"Actual vs Predicted LOS- Train Data\")"
   ]
  },
  {
   "cell_type": "code",
   "execution_count": 19,
   "id": "weighted-siemens",
   "metadata": {},
   "outputs": [
    {
     "name": "stdout",
     "output_type": "stream",
     "text": [
      " \n",
      "0.4256 x + 2.092\n"
     ]
    }
   ],
   "source": [
    "print(p)"
   ]
  },
  {
   "cell_type": "code",
   "execution_count": 17,
   "id": "optional-juvenile",
   "metadata": {},
   "outputs": [],
   "source": []
  },
  {
   "cell_type": "code",
   "execution_count": 18,
   "id": "light-offense",
   "metadata": {},
   "outputs": [],
   "source": [
    "\n"
   ]
  },
  {
   "cell_type": "code",
   "execution_count": 22,
   "id": "legendary-quarterly",
   "metadata": {},
   "outputs": [
    {
     "data": {
      "text/html": [
       "<div>\n",
       "<style scoped>\n",
       "    .dataframe tbody tr th:only-of-type {\n",
       "        vertical-align: middle;\n",
       "    }\n",
       "\n",
       "    .dataframe tbody tr th {\n",
       "        vertical-align: top;\n",
       "    }\n",
       "\n",
       "    .dataframe thead th {\n",
       "        text-align: right;\n",
       "    }\n",
       "</style>\n",
       "<table border=\"1\" class=\"dataframe\">\n",
       "  <thead>\n",
       "    <tr style=\"text-align: right;\">\n",
       "      <th></th>\n",
       "      <th>Feature_total_gain</th>\n",
       "      <th>imp_metrics_total_gain</th>\n",
       "    </tr>\n",
       "  </thead>\n",
       "  <tbody>\n",
       "    <tr>\n",
       "      <th>0</th>\n",
       "      <td>ICD9_CODE3_518</td>\n",
       "      <td>889537.982891</td>\n",
       "    </tr>\n",
       "    <tr>\n",
       "      <th>1</th>\n",
       "      <td>SEQ_NUM</td>\n",
       "      <td>274396.503602</td>\n",
       "    </tr>\n",
       "    <tr>\n",
       "      <th>2</th>\n",
       "      <td>Glascow_coma_scale_total__VALUENUM_min</td>\n",
       "      <td>134285.668126</td>\n",
       "    </tr>\n",
       "    <tr>\n",
       "      <th>3</th>\n",
       "      <td>ICD9_CODE3_997</td>\n",
       "      <td>126294.618658</td>\n",
       "    </tr>\n",
       "    <tr>\n",
       "      <th>4</th>\n",
       "      <td>ICD9_CODE3_996</td>\n",
       "      <td>102691.367864</td>\n",
       "    </tr>\n",
       "    <tr>\n",
       "      <th>5</th>\n",
       "      <td>pH__VALUENUM_min</td>\n",
       "      <td>76383.271591</td>\n",
       "    </tr>\n",
       "    <tr>\n",
       "      <th>6</th>\n",
       "      <td>pH__percent_change</td>\n",
       "      <td>60490.013515</td>\n",
       "    </tr>\n",
       "    <tr>\n",
       "      <th>7</th>\n",
       "      <td>ICD9_CODE3_038</td>\n",
       "      <td>52275.576063</td>\n",
       "    </tr>\n",
       "    <tr>\n",
       "      <th>8</th>\n",
       "      <td>AGE</td>\n",
       "      <td>45640.971131</td>\n",
       "    </tr>\n",
       "    <tr>\n",
       "      <th>9</th>\n",
       "      <td>Temperature__percent_change</td>\n",
       "      <td>43219.447723</td>\n",
       "    </tr>\n",
       "    <tr>\n",
       "      <th>10</th>\n",
       "      <td>Temperature__VALUENUM_min</td>\n",
       "      <td>37159.761175</td>\n",
       "    </tr>\n",
       "    <tr>\n",
       "      <th>11</th>\n",
       "      <td>Glascow_coma_scale_eye_opening__VALUENUM_min</td>\n",
       "      <td>32873.906714</td>\n",
       "    </tr>\n",
       "    <tr>\n",
       "      <th>12</th>\n",
       "      <td>ICD9_CODE3_511</td>\n",
       "      <td>32147.858862</td>\n",
       "    </tr>\n",
       "    <tr>\n",
       "      <th>13</th>\n",
       "      <td>Respiratory_rate__percent_change</td>\n",
       "      <td>30790.043718</td>\n",
       "    </tr>\n",
       "    <tr>\n",
       "      <th>14</th>\n",
       "      <td>Weight__VALUENUM_min</td>\n",
       "      <td>29911.099768</td>\n",
       "    </tr>\n",
       "    <tr>\n",
       "      <th>15</th>\n",
       "      <td>Glascow_coma_scale_verbal_response__VALUENUM_min</td>\n",
       "      <td>28589.121010</td>\n",
       "    </tr>\n",
       "    <tr>\n",
       "      <th>16</th>\n",
       "      <td>Heart_Rate__VALUENUM_min</td>\n",
       "      <td>28177.567171</td>\n",
       "    </tr>\n",
       "    <tr>\n",
       "      <th>17</th>\n",
       "      <td>ICD9_CODE3_998</td>\n",
       "      <td>27327.143247</td>\n",
       "    </tr>\n",
       "    <tr>\n",
       "      <th>18</th>\n",
       "      <td>ICD9_CODE3_V45</td>\n",
       "      <td>26011.177817</td>\n",
       "    </tr>\n",
       "    <tr>\n",
       "      <th>19</th>\n",
       "      <td>Systolic_blood_pressure__percent_change</td>\n",
       "      <td>25963.150170</td>\n",
       "    </tr>\n",
       "    <tr>\n",
       "      <th>20</th>\n",
       "      <td>Diastolic_blood_pressure__percent_change</td>\n",
       "      <td>24578.221971</td>\n",
       "    </tr>\n",
       "    <tr>\n",
       "      <th>21</th>\n",
       "      <td>Glascow_coma_scale_total__percent_change</td>\n",
       "      <td>23763.948555</td>\n",
       "    </tr>\n",
       "    <tr>\n",
       "      <th>22</th>\n",
       "      <td>Respiratory_rate__VALUENUM_min</td>\n",
       "      <td>21766.090112</td>\n",
       "    </tr>\n",
       "    <tr>\n",
       "      <th>23</th>\n",
       "      <td>ICD9_CODE3_348</td>\n",
       "      <td>21469.959752</td>\n",
       "    </tr>\n",
       "    <tr>\n",
       "      <th>24</th>\n",
       "      <td>Systolic_blood_pressure__VALUENUM_min</td>\n",
       "      <td>20636.963602</td>\n",
       "    </tr>\n",
       "    <tr>\n",
       "      <th>25</th>\n",
       "      <td>Heart_Rate__percent_change</td>\n",
       "      <td>20252.734002</td>\n",
       "    </tr>\n",
       "    <tr>\n",
       "      <th>26</th>\n",
       "      <td>ICD9_CODE3_041</td>\n",
       "      <td>20217.425060</td>\n",
       "    </tr>\n",
       "    <tr>\n",
       "      <th>27</th>\n",
       "      <td>Glucose__VALUENUM_min</td>\n",
       "      <td>20206.223806</td>\n",
       "    </tr>\n",
       "    <tr>\n",
       "      <th>28</th>\n",
       "      <td>ICD9_CODE3_707</td>\n",
       "      <td>19658.593947</td>\n",
       "    </tr>\n",
       "    <tr>\n",
       "      <th>29</th>\n",
       "      <td>Mean_blood_pressure__percent_change</td>\n",
       "      <td>17755.792422</td>\n",
       "    </tr>\n",
       "    <tr>\n",
       "      <th>30</th>\n",
       "      <td>Oxygen_saturation__VALUENUM_min</td>\n",
       "      <td>16881.632770</td>\n",
       "    </tr>\n",
       "    <tr>\n",
       "      <th>31</th>\n",
       "      <td>Oxygen_saturation__percent_change</td>\n",
       "      <td>16545.628875</td>\n",
       "    </tr>\n",
       "    <tr>\n",
       "      <th>32</th>\n",
       "      <td>ICD9_CODE3_272</td>\n",
       "      <td>14987.547451</td>\n",
       "    </tr>\n",
       "    <tr>\n",
       "      <th>33</th>\n",
       "      <td>Glucose__percent_change</td>\n",
       "      <td>13945.265057</td>\n",
       "    </tr>\n",
       "    <tr>\n",
       "      <th>34</th>\n",
       "      <td>ICD9_CODE3_V15</td>\n",
       "      <td>13532.211264</td>\n",
       "    </tr>\n",
       "    <tr>\n",
       "      <th>35</th>\n",
       "      <td>Private</td>\n",
       "      <td>11209.650029</td>\n",
       "    </tr>\n",
       "    <tr>\n",
       "      <th>36</th>\n",
       "      <td>Diastolic_blood_pressure__VALUENUM_min</td>\n",
       "      <td>10934.379465</td>\n",
       "    </tr>\n",
       "    <tr>\n",
       "      <th>37</th>\n",
       "      <td>ICD9_CODE3_584</td>\n",
       "      <td>10149.145936</td>\n",
       "    </tr>\n",
       "    <tr>\n",
       "      <th>38</th>\n",
       "      <td>ICD9_CODE3_530</td>\n",
       "      <td>10041.526008</td>\n",
       "    </tr>\n",
       "    <tr>\n",
       "      <th>39</th>\n",
       "      <td>ICD9_CODE3_E87</td>\n",
       "      <td>9863.342503</td>\n",
       "    </tr>\n",
       "    <tr>\n",
       "      <th>40</th>\n",
       "      <td>Mean_blood_pressure__VALUENUM_min</td>\n",
       "      <td>9672.107463</td>\n",
       "    </tr>\n",
       "    <tr>\n",
       "      <th>41</th>\n",
       "      <td>Glascow_coma_scale_motor_response__VALUENUM_min</td>\n",
       "      <td>9495.017431</td>\n",
       "    </tr>\n",
       "    <tr>\n",
       "      <th>42</th>\n",
       "      <td>ICD9_CODE3_507</td>\n",
       "      <td>9404.503759</td>\n",
       "    </tr>\n",
       "    <tr>\n",
       "      <th>43</th>\n",
       "      <td>ICD9_CODE3_995</td>\n",
       "      <td>9256.188601</td>\n",
       "    </tr>\n",
       "    <tr>\n",
       "      <th>44</th>\n",
       "      <td>Glascow_coma_scale_motor_response__percent_change</td>\n",
       "      <td>9002.247361</td>\n",
       "    </tr>\n",
       "    <tr>\n",
       "      <th>45</th>\n",
       "      <td>ICD9_CODE3_585</td>\n",
       "      <td>7516.122918</td>\n",
       "    </tr>\n",
       "    <tr>\n",
       "      <th>46</th>\n",
       "      <td>ICD9_CODE3_427</td>\n",
       "      <td>6645.786027</td>\n",
       "    </tr>\n",
       "    <tr>\n",
       "      <th>47</th>\n",
       "      <td>ICD9_CODE3_287</td>\n",
       "      <td>6310.765857</td>\n",
       "    </tr>\n",
       "    <tr>\n",
       "      <th>48</th>\n",
       "      <td>ICD9_CODE3_578</td>\n",
       "      <td>6001.739543</td>\n",
       "    </tr>\n",
       "    <tr>\n",
       "      <th>49</th>\n",
       "      <td>Glascow_coma_scale_eye_opening__percent_change</td>\n",
       "      <td>5638.816139</td>\n",
       "    </tr>\n",
       "  </tbody>\n",
       "</table>\n",
       "</div>"
      ],
      "text/plain": [
       "                                   Feature_total_gain  imp_metrics_total_gain\n",
       "0                                      ICD9_CODE3_518           889537.982891\n",
       "1                                             SEQ_NUM           274396.503602\n",
       "2              Glascow_coma_scale_total__VALUENUM_min           134285.668126\n",
       "3                                      ICD9_CODE3_997           126294.618658\n",
       "4                                      ICD9_CODE3_996           102691.367864\n",
       "5                                    pH__VALUENUM_min            76383.271591\n",
       "6                                  pH__percent_change            60490.013515\n",
       "7                                      ICD9_CODE3_038            52275.576063\n",
       "8                                                 AGE            45640.971131\n",
       "9                         Temperature__percent_change            43219.447723\n",
       "10                          Temperature__VALUENUM_min            37159.761175\n",
       "11       Glascow_coma_scale_eye_opening__VALUENUM_min            32873.906714\n",
       "12                                     ICD9_CODE3_511            32147.858862\n",
       "13                   Respiratory_rate__percent_change            30790.043718\n",
       "14                               Weight__VALUENUM_min            29911.099768\n",
       "15   Glascow_coma_scale_verbal_response__VALUENUM_min            28589.121010\n",
       "16                           Heart_Rate__VALUENUM_min            28177.567171\n",
       "17                                     ICD9_CODE3_998            27327.143247\n",
       "18                                     ICD9_CODE3_V45            26011.177817\n",
       "19            Systolic_blood_pressure__percent_change            25963.150170\n",
       "20           Diastolic_blood_pressure__percent_change            24578.221971\n",
       "21           Glascow_coma_scale_total__percent_change            23763.948555\n",
       "22                     Respiratory_rate__VALUENUM_min            21766.090112\n",
       "23                                     ICD9_CODE3_348            21469.959752\n",
       "24              Systolic_blood_pressure__VALUENUM_min            20636.963602\n",
       "25                         Heart_Rate__percent_change            20252.734002\n",
       "26                                     ICD9_CODE3_041            20217.425060\n",
       "27                              Glucose__VALUENUM_min            20206.223806\n",
       "28                                     ICD9_CODE3_707            19658.593947\n",
       "29                Mean_blood_pressure__percent_change            17755.792422\n",
       "30                    Oxygen_saturation__VALUENUM_min            16881.632770\n",
       "31                  Oxygen_saturation__percent_change            16545.628875\n",
       "32                                     ICD9_CODE3_272            14987.547451\n",
       "33                            Glucose__percent_change            13945.265057\n",
       "34                                     ICD9_CODE3_V15            13532.211264\n",
       "35                                            Private            11209.650029\n",
       "36             Diastolic_blood_pressure__VALUENUM_min            10934.379465\n",
       "37                                     ICD9_CODE3_584            10149.145936\n",
       "38                                     ICD9_CODE3_530            10041.526008\n",
       "39                                     ICD9_CODE3_E87             9863.342503\n",
       "40                  Mean_blood_pressure__VALUENUM_min             9672.107463\n",
       "41    Glascow_coma_scale_motor_response__VALUENUM_min             9495.017431\n",
       "42                                     ICD9_CODE3_507             9404.503759\n",
       "43                                     ICD9_CODE3_995             9256.188601\n",
       "44  Glascow_coma_scale_motor_response__percent_change             9002.247361\n",
       "45                                     ICD9_CODE3_585             7516.122918\n",
       "46                                     ICD9_CODE3_427             6645.786027\n",
       "47                                     ICD9_CODE3_287             6310.765857\n",
       "48                                     ICD9_CODE3_578             6001.739543\n",
       "49     Glascow_coma_scale_eye_opening__percent_change             5638.816139"
      ]
     },
     "execution_count": 22,
     "metadata": {},
     "output_type": "execute_result"
    }
   ],
   "source": [
    "Imp_top50[:50]"
   ]
  },
  {
   "cell_type": "code",
   "execution_count": 55,
   "id": "single-difference",
   "metadata": {},
   "outputs": [],
   "source": [
    "def dist(yt,yhat,model):\n",
    "    num_bins =300\n",
    "    fig = plt.figure(figsize=(15,3))\n",
    "    x1=yt\n",
    "    x2=yhat\n",
    "    n, bins, patches = plt.hist(x1, num_bins, range=[x1.min(), x1.max()], color='Green', edgecolor='Green' , alpha=0.5, label='Actual_'+model)\n",
    "    n, bins, patches = plt.hist(x2, num_bins, range=[x1.min(), x1.max()], color='Blue', edgecolor='Blue', fc='None', alpha=0.5, label='Predict_'+model)\n",
    "    plt.ylabel('ICU Stay Counts')\n",
    "    plt.xlabel(\"ICU Length of Stay (Days)\")\n",
    "    plt.title(\"Distribution of Actual vs Predicted LOS Estimates: \"+ model)\n",
    "    plt.xlim((0, 20))\n",
    "    plt.legend(loc='upper right')\n",
    "    plt.show()\n",
    "    return plt.show()\n"
   ]
  },
  {
   "cell_type": "code",
   "execution_count": 78,
   "id": "electric-dominant",
   "metadata": {},
   "outputs": [
    {
     "data": {
      "image/png": "[encoded data removed]",
      "text/plain": [
       "<Figure size 1500x300 with 1 Axes>"
      ]
     },
     "metadata": {},
     "output_type": "display_data"
    },
    {
     "data": {
      "image/png": "[encoded data removed]",
      "text/plain": [
       "<Figure size 1500x300 with 1 Axes>"
      ]
     },
     "metadata": {},
     "output_type": "display_data"
    }
   ],
   "source": [
    "dist(train_labels1,predictions_train1 , model = 'Train')\n",
    "dist(test_labels1,predictions_test1 , model = 'Test')"
   ]
  },
  {
   "cell_type": "code",
   "execution_count": 38,
   "id": "wrong-midnight",
   "metadata": {},
   "outputs": [],
   "source": [
    "import shap"
   ]
  },
  {
   "cell_type": "code",
   "execution_count": 57,
   "id": "adult-relationship",
   "metadata": {},
   "outputs": [
    {
     "data": {
      "image/png": "[encoded data removed]",
      "text/plain": [
       "<Figure size 576x972 with 2 Axes>"
      ]
     },
     "metadata": {
      "needs_background": "light"
     },
     "output_type": "display_data"
    }
   ],
   "source": [
    "# Compute the SHAP values for every prediction in the test dataset\n",
    "explainer = shap.TreeExplainer(model_best)\n",
    "shap_values = explainer.shap_values(train_features)\n",
    "plot = shap.summary_plot(shap_values,train_features, max_display=30, plot_type='dot')\n"
   ]
  },
  {
   "cell_type": "code",
   "execution_count": 37,
   "id": "romantic-hawaiian",
   "metadata": {},
   "outputs": [],
   "source": [
    "query_icd = '''\n",
    "SELECT * FROM mimiciii.D_ICD_DIAGNOSES\n",
    "'''"
   ]
  },
  {
   "cell_type": "code",
   "execution_count": 38,
   "id": "joint-grace",
   "metadata": {},
   "outputs": [],
   "source": [
    "icd = pd.read_sql(query_icd,conn)\n",
    "icd.to_pickle('icd.pkl')"
   ]
  },
  {
   "cell_type": "code",
   "execution_count": 39,
   "id": "widespread-weekend",
   "metadata": {},
   "outputs": [
    {
     "data": {
      "text/html": [
       "<div>\n",
       "<style scoped>\n",
       "    .dataframe tbody tr th:only-of-type {\n",
       "        vertical-align: middle;\n",
       "    }\n",
       "\n",
       "    .dataframe tbody tr th {\n",
       "        vertical-align: top;\n",
       "    }\n",
       "\n",
       "    .dataframe thead th {\n",
       "        text-align: right;\n",
       "    }\n",
       "</style>\n",
       "<table border=\"1\" class=\"dataframe\">\n",
       "  <thead>\n",
       "    <tr style=\"text-align: right;\">\n",
       "      <th></th>\n",
       "      <th>row_id</th>\n",
       "      <th>icd9_code</th>\n",
       "      <th>short_title</th>\n",
       "      <th>long_title</th>\n",
       "    </tr>\n",
       "  </thead>\n",
       "  <tbody>\n",
       "    <tr>\n",
       "      <th>0</th>\n",
       "      <td>174</td>\n",
       "      <td>01166</td>\n",
       "      <td>TB pneumonia-oth test</td>\n",
       "      <td>Tuberculous pneumonia [any form], tubercle bac...</td>\n",
       "    </tr>\n",
       "    <tr>\n",
       "      <th>1</th>\n",
       "      <td>175</td>\n",
       "      <td>01170</td>\n",
       "      <td>TB pneumothorax-unspec</td>\n",
       "      <td>Tuberculous pneumothorax, unspecified</td>\n",
       "    </tr>\n",
       "    <tr>\n",
       "      <th>2</th>\n",
       "      <td>176</td>\n",
       "      <td>01171</td>\n",
       "      <td>TB pneumothorax-no exam</td>\n",
       "      <td>Tuberculous pneumothorax, bacteriological or h...</td>\n",
       "    </tr>\n",
       "    <tr>\n",
       "      <th>3</th>\n",
       "      <td>177</td>\n",
       "      <td>01172</td>\n",
       "      <td>TB pneumothorx-exam unkn</td>\n",
       "      <td>Tuberculous pneumothorax, bacteriological or h...</td>\n",
       "    </tr>\n",
       "    <tr>\n",
       "      <th>4</th>\n",
       "      <td>178</td>\n",
       "      <td>01173</td>\n",
       "      <td>TB pneumothorax-micro dx</td>\n",
       "      <td>Tuberculous pneumothorax, tubercle bacilli fou...</td>\n",
       "    </tr>\n",
       "  </tbody>\n",
       "</table>\n",
       "</div>"
      ],
      "text/plain": [
       "   row_id icd9_code               short_title  \\\n",
       "0     174     01166     TB pneumonia-oth test   \n",
       "1     175     01170    TB pneumothorax-unspec   \n",
       "2     176     01171   TB pneumothorax-no exam   \n",
       "3     177     01172  TB pneumothorx-exam unkn   \n",
       "4     178     01173  TB pneumothorax-micro dx   \n",
       "\n",
       "                                          long_title  \n",
       "0  Tuberculous pneumonia [any form], tubercle bac...  \n",
       "1              Tuberculous pneumothorax, unspecified  \n",
       "2  Tuberculous pneumothorax, bacteriological or h...  \n",
       "3  Tuberculous pneumothorax, bacteriological or h...  \n",
       "4  Tuberculous pneumothorax, tubercle bacilli fou...  "
      ]
     },
     "execution_count": 39,
     "metadata": {},
     "output_type": "execute_result"
    }
   ],
   "source": [
    "icd.head()"
   ]
  },
  {
   "cell_type": "code",
   "execution_count": null,
   "id": "thorough-diary",
   "metadata": {},
   "outputs": [],
   "source": []
  },
  {
   "cell_type": "code",
   "execution_count": 34,
   "id": "brutal-lightweight",
   "metadata": {},
   "outputs": [],
   "source": [
    "import pickle"
   ]
  },
  {
   "cell_type": "code",
   "execution_count": null,
   "id": "discrete-undergraduate",
   "metadata": {},
   "outputs": [],
   "source": []
  }
 ],
 "metadata": {
  "kernelspec": {
   "display_name": "conda_python3",
   "language": "python",
   "name": "conda_python3"
  },
  "language_info": {
   "codemirror_mode": {
    "name": "ipython",
    "version": 3
   },
   "file_extension": ".py",
   "mimetype": "text/x-python",
   "name": "python",
   "nbconvert_exporter": "python",
   "pygments_lexer": "ipython3",
   "version": "3.6.13"
  }
 },
 "nbformat": 4,
 "nbformat_minor": 5
}
